{
 "cells": [
  {
   "cell_type": "code",
   "execution_count": 149,
   "id": "f1ed6bfc-c222-4898-a7aa-9974769fb48b",
   "metadata": {},
   "outputs": [],
   "source": [
    "import pandas as pd\n",
    "from datetime import datetime\n",
    "import json"
   ]
  },
  {
   "cell_type": "code",
   "execution_count": 150,
   "id": "e3f39c1f-dde0-464f-95af-fe344f3b1318",
   "metadata": {},
   "outputs": [],
   "source": [
    "df = pd.read_csv('../data/raw/2020/dados/microdados_ed_basica_2020.csv', delimiter=\";\", encoding=\"latin1\", low_memory=False)"
   ]
  },
  {
   "cell_type": "code",
   "execution_count": 151,
   "id": "342e0b29-ebca-4216-b012-b517ccfc7352",
   "metadata": {},
   "outputs": [
    {
     "data": {
      "text/plain": "{'CO_', 'DS_', 'DT_', 'IN_', 'NO_', 'NU_', 'QT_', 'SG_', 'TP_'}"
     },
     "execution_count": 151,
     "metadata": {},
     "output_type": "execute_result"
    }
   ],
   "source": [
    "{column[:3] for column in df.columns}"
   ]
  },
  {
   "cell_type": "code",
   "execution_count": 152,
   "id": "355edb18-2d1e-40ca-a251-0470eb137be9",
   "metadata": {},
   "outputs": [],
   "source": [
    "columns_to_drop = [\"CO_REGIAO\", \"CO_UF\", 'CO_MUNICIPIO', 'CO_MESORREGIAO', 'CO_MICRORREGIAO']"
   ]
  },
  {
   "cell_type": "code",
   "execution_count": 153,
   "id": "9b59aa3e-96e7-486f-8b41-1daf78ab31f2",
   "metadata": {},
   "outputs": [],
   "source": [
    "df.drop(columns=columns_to_drop, inplace=True)"
   ]
  },
  {
   "cell_type": "code",
   "execution_count": 154,
   "id": "467bc44c-5000-44af-980b-de49009e0c48",
   "metadata": {},
   "outputs": [],
   "source": [
    "boolean_columns = [column for column in df.columns if column.startswith(\"IN\")]\n",
    "integer_columns = [column for column in df.columns\n",
    "                       if column.startswith(\"QT\")]\n",
    "date_columns = [column for column in df.columns if column.startswith(\"DT\")]\n",
    "categorical_columns = [column for column in df.columns if column.startswith(\"TP\")] + [\n",
    "    'CO_LINGUA_INDIGENA_1', 'CO_LINGUA_INDIGENA_2', 'CO_LINGUA_INDIGENA_3'\n",
    "]\n",
    "identifier_columns = ['NU_DDD', 'NU_TELEFONE', 'NU_CNPJ_ESCOLA_PRIVADA',\n",
    "       'NU_CNPJ_MANTENEDORA', 'CO_ESCOLA_SEDE_VINCULADA', 'CO_IES_OFERTANTE', \n",
    "                      'CO_DISTRITO', 'CO_ENTIDADE', 'CO_CEP']"
   ]
  },
  {
   "cell_type": "code",
   "execution_count": 155,
   "id": "258b21ac-0181-41da-9260-27d97024dc10",
   "metadata": {},
   "outputs": [],
   "source": [
    "df[boolean_columns] = df[boolean_columns].replace(to_replace=9.0, value=None).astype(\"bool\")"
   ]
  },
  {
   "cell_type": "code",
   "execution_count": 156,
   "id": "08f6c5d7-1629-4b2c-84eb-38e0fa2c5e7d",
   "metadata": {},
   "outputs": [],
   "source": [
    "df[integer_columns] = df[integer_columns].astype(\"Int32\")"
   ]
  },
  {
   "cell_type": "code",
   "execution_count": 157,
   "id": "7a508dd0-a7f4-4285-9a1a-d7a1e136af97",
   "metadata": {},
   "outputs": [],
   "source": [
    "for column in date_columns:\n",
    "    df[column] = df[column].apply(\n",
    "        lambda date: \n",
    "            datetime.strptime(date, \"%d%b%Y:%H:%M:%S\") \n",
    "               if isinstance(date, str) \n",
    "            else None\n",
    "    )"
   ]
  },
  {
   "cell_type": "code",
   "execution_count": 158,
   "id": "8f2151b0-828d-484e-b31f-eab81db25d3b",
   "metadata": {},
   "outputs": [],
   "source": [
    "for value in df[\"DT_ANO_LETIVO_INICIO\"].values:\n",
    "    try:\n",
    "        if isinstance(value, str):\n",
    "            datetime.strptime(value, \"%d%b%Y:%H:%M:%S\")\n",
    "    except Exception as e:\n",
    "        print(value)\n",
    "        raise e"
   ]
  },
  {
   "cell_type": "code",
   "execution_count": 159,
   "id": "1b00287c-3dc5-45a3-b946-b258038a708b",
   "metadata": {},
   "outputs": [],
   "source": [
    "with open(\"map_categorical_columns.json\") as file:\n",
    "    map_categorical_columns = json.load(file)"
   ]
  },
  {
   "cell_type": "code",
   "execution_count": 177,
   "id": "ef4a649a-994f-41ee-8115-0c42358410d3",
   "metadata": {},
   "outputs": [],
   "source": [
    "if columns_not_mapped := set(categorical_columns).difference(\n",
    "        map_categorical_columns.keys()):\n",
    "    raise Exception()"
   ]
  },
  {
   "cell_type": "code",
   "execution_count": 161,
   "id": "ffb8a70c-8143-4973-9ffc-ccc2a1d1c976",
   "metadata": {},
   "outputs": [],
   "source": [
    "df[categorical_columns] = df[categorical_columns].astype(\"float\").fillna(-1).astype(\"int\").astype(\"str\")\n",
    "for column in categorical_columns:\n",
    "    if column in map_categorical_columns.keys():\n",
    "        df[column] = df[column].replace(map_categorical_columns[column])\n",
    "    else:\n",
    "        print(f\"{column} not mapped\")\n",
    "df[categorical_columns] = df[categorical_columns].replace([\"-1\", \"9\"], None)"
   ]
  },
  {
   "cell_type": "code",
   "execution_count": 162,
   "outputs": [
    {
     "name": "stdout",
     "output_type": "stream",
     "text": [
      "TP_DEPENDENCIA: ['Estadual' 'Municipal' 'Privada' 'Federal']\n",
      "\n",
      "TP_CATEGORIA_ESCOLA_PRIVADA: [None 'Filantrópica' 'Particular' 'Confessional' 'Comunitária']\n",
      "\n",
      "TP_LOCALIZACAO: ['Rural' 'Urbana']\n",
      "\n",
      "TP_LOCALIZACAO_DIFERENCIADA: ['Terra indígena' 'A escola não está em área de localização diferenciada'\n",
      " None 'Área de assentamento'\n",
      " 'Área onde se localiza comunidade remanescente de quilombos']\n",
      "\n",
      "TP_SITUACAO_FUNCIONAMENTO: ['Em Atividade' 'Extinta (ano do censo)' 'Paralisada']\n",
      "\n",
      "TP_CONVENIO_PODER_PUBLICO: [None 'Estadual' 'Estadual e Municipal' 'Municipal']\n",
      "\n",
      "TP_REGULAMENTACAO: ['Em tramitação' 'Sim' None 'Não']\n",
      "\n",
      "TP_RESPONSAVEL_REGULAMENTACAO: ['Estadual' 'Municipal' None 'Federal' 'Estadual e Municipal'\n",
      " 'Federal e Estadual']\n",
      "\n",
      "TP_OCUPACAO_PREDIO_ESCOLAR: ['Próprio' None 'Alugado' 'Cedido']\n",
      "\n",
      "TP_OCUPACAO_GALPAO: [None 'Próprio' 'Cedido' 'Alugado']\n",
      "\n",
      "TP_REDE_LOCAL: [None 'A cabo' 'Não há rede local interligando computadores'\n",
      " 'A cabo e Wireless' 'Wireless']\n",
      "\n",
      "TP_INDIGENA_LINGUA: ['Em Língua Indígena e em Língua Portuguesa' None\n",
      " 'Somente em Língua Indígena' 'Somente em Língua Portuguesa']\n",
      "\n",
      "TP_PROPOSTA_PEDAGOGICA: ['Não' 'Sim' None\n",
      " 'A escola não possui projeto político pedagógico/proposta pedagógica']\n",
      "\n",
      "TP_AEE: ['Não oferece' None 'Não exclusivamente' 'Exclusivamente']\n",
      "\n",
      "TP_ATIVIDADE_COMPLEMENTAR: ['Não oferece' None 'Não exclusivamente' 'Exclusivamente']\n",
      "\n",
      "CO_LINGUA_INDIGENA_1: ['Tuparí' None 'Suruí de Rondônia' 'Cinta Larga/ Cinta-Larga'\n",
      " 'Suruí do Pará/ Suruí do Tocantins/ Aikewara' 'Txapakúra'\n",
      " 'Djeoromitxí/ Jabotí/ Jabutí' 'Aruá' 'Makuráp'\n",
      " 'Pakaá Nóva/Migueleno, Miguelenho' 'Uru-Eu-Wau-Wau/ Uruewawau'\n",
      " 'Gavião (Ikõro, Digüt), Gavião de Rondônia/ Ikolen'\n",
      " 'Outras Linguas Indigenas' 'Mondé, Tupí-Mondé' 'Kaxararí' 'Kawahíb'\n",
      " 'Arikén' 'Sabanê' 'Mamaindê' 'Aikaná/ Aikanã'\n",
      " 'Miguelénho/ Migueleno, Miguelenho' 'Machinéri' 'Kaxinawá' 'Aruák' 'Pano'\n",
      " 'Amanayé' 'Katukína do Acre' 'Katukína' 'Ashanínka/ Axanínka'\n",
      " 'Shanenáwa/ Xanenáwa, Xawanawa'\n",
      " 'Kulína Madijá/ Kulina, Kulína Madihá (Madija)' 'Poyanáwa' 'Nukiní'\n",
      " 'Nawa/ Náwa' 'Arara do Acre, Shawãdawa' 'Yamináwa' 'Yawanawá' 'Matsés'\n",
      " 'Tikúna' 'Marúbo' 'Kanamarí' 'Matís' 'Yanomámi' 'Yanomám/ Yanonmán'\n",
      " 'Mawé' 'Kokáma' 'Apurinã' 'Lingua Geral Amazônica, Nheengatu' 'Mundurukú'\n",
      " 'Múra' 'Banawá' 'Júma/ Juma' 'Parintintín' 'Tenharím/ Tenharim' 'Araweté'\n",
      " 'Dení' 'Nadëb' 'Tukáno / Miriti-Tapuia' 'Kambéba' 'Hixkaryána'\n",
      " 'Hup, Húpda, Maku, Yuhupde, Yuhúp' \"Zo'é\" 'Kuripáko' 'Wanána/ Guanána'\n",
      " 'Desána' 'Baníwa/ Tapiira Tapuya, Kawa Tapuya' 'Tuyúca / Tuyuca' 'Baré'\n",
      " 'Tariána' 'Kubéo, Kubewa' 'Dâw' 'Paumarí' 'Wapixána' 'Makuxí'\n",
      " 'Yekuána, Mayongong, Makiritáre,' 'Taulipáng' 'Ninám' 'Sanumá'\n",
      " 'Wái Wái/ Waiwái' 'Ingarikó' 'Xikrin (Kayapó)' 'Parakanã'\n",
      " 'Arara do Pará, Arara do Xingu' 'Kuruáya' 'Xipáya' 'Kararaô (Kayapó)'\n",
      " 'Kayapó' 'Gavião Parkatêjê/ Guató Parakatejé/ Gavião do Pará' 'Timbira'\n",
      " 'Gavião Krikatêjê/ Gavião Krinkatejé' 'Tupí-Guaraní' 'Tembé' 'Guajajára'\n",
      " 'Guaraní Mbyá' 'Menkrangnoti (Kayapó)' 'Kubenkrngkegn (Kayapó)'\n",
      " 'Mebengokré (Kayapó)' 'Karajá' 'Tupinambá' 'Tupí, Tupi Antigo'\n",
      " 'Asuriní do Tocantins' 'Jurúna/ Yudjá' 'Wayampí/ Oyampi' 'Apalaí'\n",
      " 'Tiriyó/ Tarona' 'Galibí do Oiapoque, Galibí (Ka’ríña)' 'Palikúr'\n",
      " 'Karipúna do Amapá' 'Apiaká' 'Galibí Marwórno/ Galibi Marworno'\n",
      " 'Patxôhã/ Patxoha' 'Javaé' 'Krahô/ Crao, Kraô' 'Krao Kanela' 'Apinayé'\n",
      " 'Xambioá' 'Xerénte' 'Gavião Pukobiyé/ Gavião Pukobié' 'Krikatí/ Krinkatí'\n",
      " \"Ka'apor/ Urubu, Ka’apór\" 'Guajá' 'Arikapú/ Jabutí' 'Guaraní' 'Canela'\n",
      " 'Guaraní Kaiowá/ Guarani Kayová' 'Potiguara/ Potiguára' 'Fulni-ô/ Yathê'\n",
      " 'Pankararú/ Pankarú' 'Coiupanka' 'Jeripancó/ Jeripankó' 'Awetí' 'Pataxó'\n",
      " 'Maxakalí' 'Xucuru - Kariri/ Xukurú-Karirí' 'Xacriabá/ Xakriabá' 'Krenák'\n",
      " 'Teréna' 'Guaraní Nhandéva' 'Matipú' 'Kaingáng' 'Xokléng' 'Guató'\n",
      " 'Kadiwéu' 'Xavánte/ Xavante' 'Kayabí'\n",
      " 'Arara do Aripuana/ Arara do Aripuanã' 'Boróro' 'Umutína' 'Irántxe'\n",
      " 'Mynky/ Mynký, Meky, Menky, Menki' 'Canoeiros/ Rikbaktsá' 'Paresí'\n",
      " 'Nambikwára' 'Negarotê/ Negarote' 'Tapirapé' 'Ikpeng/ Ikpéng' 'Karib'\n",
      " 'Kamayurá' 'Trumái' 'Wauja/ Waurá' 'Panará, Krenakarôre/ Kren-akarôre'\n",
      " 'Jê (não específico)' 'Bakairí' 'Chiquitáno/ Chiquito'\n",
      " 'Suyá, Kisêdjê/ Kisedjê' 'Zoró']\n",
      "\n",
      "CO_LINGUA_INDIGENA_2: [None 'Suruí de Rondônia' 'Txapakúra' 'Outras Linguas Indigenas' 'Kwazá'\n",
      " 'Pano' 'Yamináwa' 'Katukína' 'Katukína do Acre'\n",
      " 'Kulína Madijá/ Kulina, Kulína Madihá (Madija)' 'Ashanínka/ Axanínka'\n",
      " 'Nukiní' 'Kulína Páno' 'Tikúna' 'Kaxinawá' 'Araweté' 'Dení' 'Kanamarí'\n",
      " 'Waiána-Apalaí' 'Aikaná/ Aikanã' 'Apurinã' 'Aruá' 'Yanomámi'\n",
      " 'Catokin (Katukína)' 'Makuxí' 'Wapixána' 'Taulipáng' 'Ingarikó' 'Timbira'\n",
      " 'Tupí, Tupi Antigo' 'Kokraimoro (Kayapó)' 'Kayapó' 'Tembé' 'Guaraní'\n",
      " 'Lingua Geral Amazônica, Nheengatu' 'Tupí-Guaraní' 'Wayána' 'Palikúr'\n",
      " 'Aruák' 'Karipúna do Amapá' 'Krahô/ Crao, Kraô' 'Jê (não específico)'\n",
      " 'Krao Kanela' 'Karajá' 'Javaé' 'Guajajára' 'Arikapú/ Jabutí' 'Guajá'\n",
      " 'Guara' 'Guató' 'Potiguara/ Potiguára' 'Pankaru' 'Kiriri' 'Pataxó'\n",
      " 'Patxôhã/ Patxoha' 'Zuruwahá, Suruahá (Zuruahá)' 'Tupiniquim'\n",
      " 'Guaraní Mbyá' 'Kaingáng' 'Guaraní Nhandéva' 'Teréna'\n",
      " 'Kinikináu, Kinikinawa' 'Awetí' 'Karib' 'Bakairí' 'Mebengokré (Kayapó)'\n",
      " 'Tapirapé' 'Ava-Canoeiro/ Avá-Canoeiro, Avá, Canoeiro']\n",
      "\n",
      "CO_LINGUA_INDIGENA_3: [None 'Outras Linguas Indigenas' 'Kaxinawá' 'Machinéri' 'Dení' 'Banawá'\n",
      " 'Araweté' 'Baré' 'Apurinã' 'Aruá' 'Aikaná/ Aikanã' 'Wapixána'\n",
      " 'Gavião Parkatêjê/ Guató Parakatejé/ Gavião do Pará' 'Tupí-Guaraní'\n",
      " 'Menkrangnoti (Kayapó)' 'Mebengokré (Kayapó)' 'Kubenkrngkegn (Kayapó)'\n",
      " 'Guaraní' 'Tembé' 'Jê (não específico)' 'Krahô/ Crao, Kraô' 'Timbira'\n",
      " 'Guara' 'Tupí, Tupi Antigo' 'Guajajára' 'Turiwára' 'Tuparí' 'Pataxó'\n",
      " 'Patxôhã/ Patxoha' 'Tupiniquim' 'Guaraní Nhandéva' 'Teréna' 'Javaé']\n",
      "\n"
     ]
    }
   ],
   "source": [
    "for column in categorical_columns:\n",
    "    print(f\"{column}: {df[column].unique()}\\n\")"
   ],
   "metadata": {
    "collapsed": false,
    "pycharm": {
     "name": "#%%\n"
    }
   }
  },
  {
   "cell_type": "code",
   "execution_count": 163,
   "id": "87b015ec-4c6f-4d09-9ab5-bf00b32978eb",
   "metadata": {},
   "outputs": [],
   "source": [
    "df[\"NU_ANO_CENSO\"] = df[\"NU_ANO_CENSO\"].astype(\"int16\")"
   ]
  },
  {
   "cell_type": "code",
   "execution_count": 164,
   "outputs": [],
   "source": [
    "df[identifier_columns] = df[identifier_columns].astype(\"str\")"
   ],
   "metadata": {
    "collapsed": false,
    "pycharm": {
     "name": "#%%\n"
    }
   }
  },
  {
   "cell_type": "code",
   "execution_count": 165,
   "id": "e74bb772-fed2-476c-b631-36e1c96225d5",
   "metadata": {},
   "outputs": [
    {
     "name": "stdout",
     "output_type": "stream",
     "text": [
      "<class 'pandas.core.frame.DataFrame'>\n",
      "RangeIndex: 224229 entries, 0 to 224228\n",
      "Columns: 365 entries, NU_ANO_CENSO to QT_TUR_ESP_CE\n",
      "dtypes: Int32(113), bool(210), datetime64[ns](2), int16(1), object(39)\n",
      "memory usage: 236.3+ MB\n"
     ]
    }
   ],
   "source": [
    "df.info()"
   ]
  },
  {
   "cell_type": "code",
   "execution_count": 166,
   "id": "9531d62a-ea85-44f0-8457-279671831277",
   "metadata": {},
   "outputs": [
    {
     "data": {
      "text/plain": "Index(['QT_SALAS_EXISTENTES', 'QT_SALAS_UTILIZADAS_DENTRO',\n       'QT_SALAS_UTILIZADAS_FORA', 'QT_SALAS_UTILIZADAS',\n       'QT_SALAS_UTILIZA_CLIMATIZADAS', 'QT_SALAS_UTILIZADAS_ACESSIVEIS',\n       'QT_EQUIP_DVD', 'QT_EQUIP_SOM', 'QT_EQUIP_TV', 'QT_EQUIP_LOUSA_DIGITAL',\n       ...\n       'QT_TUR_FUND_AF', 'QT_TUR_MED', 'QT_TUR_PROF', 'QT_TUR_PROF_TEC',\n       'QT_TUR_EJA', 'QT_TUR_EJA_FUND', 'QT_TUR_EJA_MED', 'QT_TUR_ESP',\n       'QT_TUR_ESP_CC', 'QT_TUR_ESP_CE'],\n      dtype='object', length=113)"
     },
     "execution_count": 166,
     "metadata": {},
     "output_type": "execute_result"
    }
   ],
   "source": [
    "df.select_dtypes(\"int32\").columns"
   ]
  },
  {
   "cell_type": "code",
   "execution_count": 167,
   "id": "b949c2b9-654b-465d-8bc8-c4e6060302b4",
   "metadata": {},
   "outputs": [
    {
     "data": {
      "text/plain": "Index(['IN_VINCULO_SECRETARIA_EDUCACAO', 'IN_VINCULO_SEGURANCA_PUBLICA',\n       'IN_VINCULO_SECRETARIA_SAUDE', 'IN_VINCULO_OUTRO_ORGAO',\n       'IN_CONVENIADA_PP', 'IN_MANT_ESCOLA_PRIVADA_EMP',\n       'IN_MANT_ESCOLA_PRIVADA_ONG', 'IN_MANT_ESCOLA_PRIVADA_OSCIP',\n       'IN_MANT_ESCOLA_PRIV_ONG_OSCIP', 'IN_MANT_ESCOLA_PRIVADA_SIND',\n       ...\n       'IN_FUND_AF', 'IN_MED', 'IN_PROF', 'IN_PROF_TEC', 'IN_EJA',\n       'IN_EJA_FUND', 'IN_EJA_MED', 'IN_ESP', 'IN_ESP_CC', 'IN_ESP_CE'],\n      dtype='object', length=210)"
     },
     "execution_count": 167,
     "metadata": {},
     "output_type": "execute_result"
    }
   ],
   "source": [
    "df.select_dtypes(\"bool\").columns"
   ]
  },
  {
   "cell_type": "code",
   "execution_count": 168,
   "id": "e2d99639-d0eb-4f37-8b25-36fc90c91590",
   "metadata": {},
   "outputs": [
    {
     "data": {
      "text/plain": "Index(['NO_REGIAO', 'NO_UF', 'SG_UF', 'NO_MUNICIPIO', 'NO_MESORREGIAO',\n       'NO_MICRORREGIAO', 'CO_DISTRITO', 'CO_ENTIDADE', 'NO_ENTIDADE',\n       'TP_DEPENDENCIA', 'TP_CATEGORIA_ESCOLA_PRIVADA', 'TP_LOCALIZACAO',\n       'TP_LOCALIZACAO_DIFERENCIADA', 'DS_ENDERECO', 'NU_ENDERECO',\n       'DS_COMPLEMENTO', 'NO_BAIRRO', 'CO_CEP', 'NU_DDD', 'NU_TELEFONE',\n       'TP_SITUACAO_FUNCIONAMENTO', 'CO_ORGAO_REGIONAL',\n       'TP_CONVENIO_PODER_PUBLICO', 'NU_CNPJ_ESCOLA_PRIVADA',\n       'NU_CNPJ_MANTENEDORA', 'TP_REGULAMENTACAO',\n       'TP_RESPONSAVEL_REGULAMENTACAO', 'CO_ESCOLA_SEDE_VINCULADA',\n       'CO_IES_OFERTANTE', 'TP_OCUPACAO_PREDIO_ESCOLAR', 'TP_OCUPACAO_GALPAO',\n       'TP_REDE_LOCAL', 'TP_INDIGENA_LINGUA', 'CO_LINGUA_INDIGENA_1',\n       'CO_LINGUA_INDIGENA_2', 'CO_LINGUA_INDIGENA_3',\n       'TP_PROPOSTA_PEDAGOGICA', 'TP_AEE', 'TP_ATIVIDADE_COMPLEMENTAR'],\n      dtype='object')"
     },
     "execution_count": 168,
     "metadata": {},
     "output_type": "execute_result"
    }
   ],
   "source": [
    "df.select_dtypes(\"object\").columns"
   ]
  },
  {
   "cell_type": "markdown",
   "source": [],
   "metadata": {
    "collapsed": false
   }
  },
  {
   "cell_type": "code",
   "execution_count": 169,
   "id": "5be1ae26-ae21-4dbf-84d4-92f8e38ac71f",
   "metadata": {},
   "outputs": [],
   "source": [
    "df.to_parquet(\"../data/transformed\", engine='pyarrow', compression='snappy', index=None, partition_cols=[\"NU_ANO_CENSO\"])"
   ]
  },
  {
   "cell_type": "code",
   "execution_count": null,
   "outputs": [],
   "source": [],
   "metadata": {
    "collapsed": false,
    "pycharm": {
     "name": "#%%\n"
    }
   }
  }
 ],
 "metadata": {
  "kernelspec": {
   "display_name": "Python 3 (ipykernel)",
   "language": "python",
   "name": "python3"
  },
  "language_info": {
   "codemirror_mode": {
    "name": "ipython",
    "version": 3
   },
   "file_extension": ".py",
   "mimetype": "text/x-python",
   "name": "python",
   "nbconvert_exporter": "python",
   "pygments_lexer": "ipython3",
   "version": "3.10.7"
  }
 },
 "nbformat": 4,
 "nbformat_minor": 5
}