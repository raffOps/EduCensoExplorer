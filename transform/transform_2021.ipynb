{
 "cells": [
  {
   "cell_type": "code",
   "execution_count": 109,
   "id": "f1ed6bfc-c222-4898-a7aa-9974769fb48b",
   "metadata": {},
   "outputs": [],
   "source": [
    "import pandas as pd\n",
    "from datetime import datetime\n",
    "import json"
   ]
  },
  {
   "cell_type": "code",
   "execution_count": 131,
   "id": "e3f39c1f-dde0-464f-95af-fe344f3b1318",
   "metadata": {},
   "outputs": [],
   "source": [
    "df = pd.read_csv('../data/2021/dados/microdados_ed_basica_2021.csv', delimiter=\";\", encoding=\"latin1\", low_memory=False)"
   ]
  },
  {
   "cell_type": "code",
   "execution_count": 132,
   "id": "342e0b29-ebca-4216-b012-b517ccfc7352",
   "metadata": {},
   "outputs": [
    {
     "data": {
      "text/plain": [
       "{'CO_', 'DS_', 'DT_', 'IN_', 'NO_', 'NU_', 'QT_', 'SG_', 'TP_'}"
      ]
     },
     "execution_count": 132,
     "metadata": {},
     "output_type": "execute_result"
    }
   ],
   "source": [
    "{column[:3] for column in df.columns}"
   ]
  },
  {
   "cell_type": "code",
   "execution_count": 173,
   "id": "355edb18-2d1e-40ca-a251-0470eb137be9",
   "metadata": {},
   "outputs": [],
   "source": [
    "columns_to_drop = [\"CO_REGIAO\", \"CO_UF\", 'CO_MUNICIPIO', 'CO_MESORREGIAO', 'CO_MICRORREGIAO']"
   ]
  },
  {
   "cell_type": "code",
   "execution_count": 175,
   "id": "9b59aa3e-96e7-486f-8b41-1daf78ab31f2",
   "metadata": {},
   "outputs": [],
   "source": [
    "df.drop(columns=columns_to_drop, inplace=True)"
   ]
  },
  {
   "cell_type": "code",
   "execution_count": 186,
   "id": "467bc44c-5000-44af-980b-de49009e0c48",
   "metadata": {},
   "outputs": [],
   "source": [
    "boolean_columns = [column for column in df.columns if column.startswith(\"IN\")]\n",
    "integer_columns = [column for column in df.columns\n",
    "                       if column.startswith(\"QT\")]\n",
    "date_columns = [column for column in df.columns if column.startswith(\"DT\")]\n",
    "categorical_columns = [column for column in df.columns if column.startswith(\"TP\")]\n",
    "identifier_columns = ['NU_DDD', 'NU_TELEFONE', 'NU_CNPJ_ESCOLA_PRIVADA',\n",
    "       'NU_CNPJ_MANTENEDORA', 'CO_ESCOLA_SEDE_VINCULADA', 'CO_IES_OFERTANTE', \n",
    "                      'CO_DISTRITO', 'CO_ENTIDADE', 'CO_CEP']"
   ]
  },
  {
   "cell_type": "code",
   "execution_count": 134,
   "id": "258b21ac-0181-41da-9260-27d97024dc10",
   "metadata": {},
   "outputs": [],
   "source": [
    "df[boolean_columns] = df[boolean_columns].replace(to_replace=9.0, value=None).astype(\"bool\")"
   ]
  },
  {
   "cell_type": "code",
   "execution_count": 135,
   "id": "08f6c5d7-1629-4b2c-84eb-38e0fa2c5e7d",
   "metadata": {},
   "outputs": [],
   "source": [
    "df[integer_columns] = df[integer_columns].astype(\"Int32\")"
   ]
  },
  {
   "cell_type": "code",
   "execution_count": 136,
   "id": "7a508dd0-a7f4-4285-9a1a-d7a1e136af97",
   "metadata": {},
   "outputs": [],
   "source": [
    "for column in date_columns:\n",
    "    df[column] = df[column].apply(\n",
    "        lambda date: \n",
    "            datetime.strptime(date, \"%d%b%Y:%H:%M:%S\") \n",
    "               if isinstance(date, str) \n",
    "            else None\n",
    "    )"
   ]
  },
  {
   "cell_type": "code",
   "execution_count": 137,
   "id": "8f2151b0-828d-484e-b31f-eab81db25d3b",
   "metadata": {},
   "outputs": [],
   "source": [
    "for value in df[\"DT_ANO_LETIVO_INICIO\"].values:\n",
    "    try:\n",
    "        if isinstance(value, str):\n",
    "            datetime.strptime(value, \"%d%b%Y:%H:%M:%S\")\n",
    "    except Exception as e:\n",
    "        print(value)\n",
    "        raise e"
   ]
  },
  {
   "cell_type": "code",
   "execution_count": 166,
   "id": "1b00287c-3dc5-45a3-b946-b258038a708b",
   "metadata": {},
   "outputs": [],
   "source": [
    "with open(\"map_categorical_columns.json\") as file:\n",
    "    map_categorical_columns = json.load(file)"
   ]
  },
  {
   "cell_type": "code",
   "execution_count": 167,
   "id": "ef4a649a-994f-41ee-8115-0c42358410d3",
   "metadata": {},
   "outputs": [
    {
     "data": {
      "text/plain": [
       "{'CO_AREA_COMPL_PEDAGOGICA_1',\n",
       " 'CO_AREA_COMPL_PEDAGOGICA_2',\n",
       " 'CO_AREA_COMPL_PEDAGOGICA_3',\n",
       " 'CO_AREA_CURSO_1',\n",
       " 'CO_AREA_CURSO_2',\n",
       " 'CO_AREA_CURSO_3',\n",
       " 'CO_CURSO_1',\n",
       " 'CO_CURSO_2',\n",
       " 'CO_CURSO_3',\n",
       " 'CO_CURSO_EDUC_PROFISSIONAL',\n",
       " 'CO_IES_1',\n",
       " 'CO_IES_2',\n",
       " 'CO_IES_3',\n",
       " 'CO_IES_OFERTANTE',\n",
       " 'CO_LINGUA_INDIGENA_1',\n",
       " 'CO_LINGUA_INDIGENA_2',\n",
       " 'CO_LINGUA_INDIGENA_3',\n",
       " 'CO_MESORREGIAO',\n",
       " 'CO_MICRORREGIAO',\n",
       " 'CO_MUNICIPIO',\n",
       " 'CO_MUNICIPIO_END',\n",
       " 'CO_MUNICIPIO_NASC',\n",
       " 'CO_ORGAO_REGIONAL',\n",
       " 'CO_PAIS_ORIGEM',\n",
       " 'CO_PAIS_RESIDENCIA',\n",
       " 'CO_REGIAO',\n",
       " 'CO_TIPO_ATIVIDADE_1',\n",
       " 'CO_TIPO_ATIVIDADE_2',\n",
       " 'CO_TIPO_ATIVIDADE_3',\n",
       " 'CO_TIPO_ATIVIDADE_4',\n",
       " 'CO_TIPO_ATIVIDADE_5',\n",
       " 'CO_TIPO_ATIVIDADE_6',\n",
       " 'CO_TIPO_ATIVIDADE_7',\n",
       " 'CO_UF',\n",
       " 'CO_UF_END',\n",
       " 'CO_UF_NASC',\n",
       " 'TP_CARGO_GESTOR',\n",
       " 'TP_COR_RACA',\n",
       " 'TP_ENSINO_MEDIO',\n",
       " 'TP_ESCOLARIDADE',\n",
       " 'TP_ETAPA_ENSINO',\n",
       " 'TP_LOCAL_RESID_DIFERENCIADA',\n",
       " 'TP_MEDIACAO_DIDATICO_PEDAGO',\n",
       " 'TP_NACIONALIDADE',\n",
       " 'TP_OUTRO_LOCAL_AULA',\n",
       " 'TP_RESPONSAVEL_TRANSPORTE',\n",
       " 'TP_SEXO',\n",
       " 'TP_SITUACAO_CURSO_1',\n",
       " 'TP_SITUACAO_CURSO_2',\n",
       " 'TP_SITUACAO_CURSO_3',\n",
       " 'TP_TIPO_ACESSO_CARGO',\n",
       " 'TP_TIPO_ATENDIMENTO_TURMA',\n",
       " 'TP_TIPO_CONTRATACAO',\n",
       " 'TP_TIPO_IES_1',\n",
       " 'TP_TIPO_IES_2',\n",
       " 'TP_TIPO_IES_3',\n",
       " 'TP_TIPO_LOCAL_TURMA',\n",
       " 'TP_UNIFICADA',\n",
       " 'TP_ZONA_RESIDENCIAL'}"
      ]
     },
     "execution_count": 167,
     "metadata": {},
     "output_type": "execute_result"
    }
   ],
   "source": [
    "set(map_categorical_columns.keys()).difference(categorical_columns)"
   ]
  },
  {
   "cell_type": "code",
   "execution_count": 168,
   "id": "ffb8a70c-8143-4973-9ffc-ccc2a1d1c976",
   "metadata": {},
   "outputs": [
    {
     "name": "stdout",
     "output_type": "stream",
     "text": [
      "TP_MEDIACAO_DIDATICO_PEDAGO not in df\n",
      "TP_TIPO_ATENDIMENTO_TURMA not in df\n",
      "TP_TIPO_LOCAL_TURMA not in df\n",
      "TP_UNIFICADA not in df\n",
      "TP_ETAPA_ENSINO not in df\n",
      "TP_SEXO not in df\n",
      "TP_COR_RACA not in df\n",
      "TP_NACIONALIDADE not in df\n",
      "TP_ZONA_RESIDENCIAL not in df\n",
      "TP_LOCAL_RESID_DIFERENCIADA not in df\n",
      "TP_OUTRO_LOCAL_AULA not in df\n",
      "TP_RESPONSAVEL_TRANSPORTE not in df\n",
      "TP_SITUACAO_CURSO_1 not in df\n",
      "TP_SITUACAO_CURSO_3 not in df\n",
      "TP_SITUACAO_CURSO_2 not in df\n",
      "TP_TIPO_IES_1 not in df\n",
      "TP_TIPO_IES_3 not in df\n",
      "TP_TIPO_IES_2 not in df\n",
      "TP_ENSINO_MEDIO not in df\n",
      "TP_ESCOLARIDADE not in df\n",
      "TP_CARGO_GESTOR not in df\n",
      "TP_TIPO_ACESSO_CARGO not in df\n",
      "TP_TIPO_CONTRATACAO not in df\n",
      "CO_UF_NASC not in df\n",
      "CO_MUNICIPIO_NASC not in df\n",
      "CO_UF_END not in df\n",
      "CO_MUNICIPIO_END not in df\n",
      "CO_AREA_COMPL_PEDAGOGICA_2 not in df\n",
      "CO_AREA_COMPL_PEDAGOGICA_3 not in df\n",
      "CO_AREA_COMPL_PEDAGOGICA_1 not in df\n",
      "CO_AREA_CURSO_2 not in df\n",
      "CO_AREA_CURSO_3 not in df\n",
      "CO_AREA_CURSO_1 not in df\n",
      "CO_CURSO_2 not in df\n",
      "CO_CURSO_3 not in df\n",
      "CO_CURSO_1 not in df\n",
      "CO_PAIS_ORIGEM not in df\n",
      "CO_CURSO_EDUC_PROFISSIONAL not in df\n",
      "CO_TIPO_ATIVIDADE_1 not in df\n",
      "CO_TIPO_ATIVIDADE_2 not in df\n",
      "CO_TIPO_ATIVIDADE_3 not in df\n",
      "CO_TIPO_ATIVIDADE_4 not in df\n",
      "CO_TIPO_ATIVIDADE_5 not in df\n",
      "CO_TIPO_ATIVIDADE_6 not in df\n",
      "CO_TIPO_ATIVIDADE_7 not in df\n",
      "CO_IES_2 not in df\n",
      "CO_IES_3 not in df\n",
      "CO_IES_1 not in df\n",
      "CO_PAIS_RESIDENCIA not in df\n"
     ]
    }
   ],
   "source": [
    "df[categorical_columns] = df[categorical_columns].astype(\"str\")\n",
    "for column in map_categorical_columns:\n",
    "    if column in df.columns:\n",
    "        df[column] = df[column].replace(map_categorical_columns[column])\n",
    "    else:\n",
    "        print(f\"{column} not in df\")"
   ]
  },
  {
   "cell_type": "code",
   "execution_count": 187,
   "id": "71d300b6-8bd9-4158-a9c0-5a1c5bc35bee",
   "metadata": {},
   "outputs": [],
   "source": [
    "df[identifier_columns] = df[identifier_columns].astype(\"str\")"
   ]
  },
  {
   "cell_type": "code",
   "execution_count": 191,
   "id": "87b015ec-4c6f-4d09-9ab5-bf00b32978eb",
   "metadata": {},
   "outputs": [],
   "source": [
    "df[\"NU_ANO_CENSO\"] = df[\"NU_ANO_CENSO\"].astype(\"int16\")"
   ]
  },
  {
   "cell_type": "code",
   "execution_count": 193,
   "id": "e74bb772-fed2-476c-b631-36e1c96225d5",
   "metadata": {},
   "outputs": [
    {
     "name": "stdout",
     "output_type": "stream",
     "text": [
      "<class 'pandas.core.frame.DataFrame'>\n",
      "RangeIndex: 221140 entries, 0 to 221139\n",
      "Columns: 365 entries, NU_ANO_CENSO to QT_TUR_ESP_CE\n",
      "dtypes: Int32(113), bool(210), datetime64[ns](2), int16(1), object(39)\n",
      "memory usage: 233.0+ MB\n"
     ]
    }
   ],
   "source": [
    "df.info()"
   ]
  },
  {
   "cell_type": "code",
   "execution_count": 194,
   "id": "9531d62a-ea85-44f0-8457-279671831277",
   "metadata": {},
   "outputs": [
    {
     "data": {
      "text/plain": [
       "Index(['QT_SALAS_EXISTENTES', 'QT_SALAS_UTILIZADAS_DENTRO',\n",
       "       'QT_SALAS_UTILIZADAS_FORA', 'QT_SALAS_UTILIZADAS',\n",
       "       'QT_SALAS_UTILIZA_CLIMATIZADAS', 'QT_SALAS_UTILIZADAS_ACESSIVEIS',\n",
       "       'QT_EQUIP_DVD', 'QT_EQUIP_SOM', 'QT_EQUIP_TV', 'QT_EQUIP_LOUSA_DIGITAL',\n",
       "       ...\n",
       "       'QT_TUR_FUND_AF', 'QT_TUR_MED', 'QT_TUR_PROF', 'QT_TUR_PROF_TEC',\n",
       "       'QT_TUR_EJA', 'QT_TUR_EJA_FUND', 'QT_TUR_EJA_MED', 'QT_TUR_ESP',\n",
       "       'QT_TUR_ESP_CC', 'QT_TUR_ESP_CE'],\n",
       "      dtype='object', length=113)"
      ]
     },
     "execution_count": 194,
     "metadata": {},
     "output_type": "execute_result"
    }
   ],
   "source": [
    "df.select_dtypes(\"int32\").columns"
   ]
  },
  {
   "cell_type": "code",
   "execution_count": 195,
   "id": "b949c2b9-654b-465d-8bc8-c4e6060302b4",
   "metadata": {},
   "outputs": [
    {
     "data": {
      "text/plain": [
       "Index(['IN_VINCULO_SECRETARIA_EDUCACAO', 'IN_VINCULO_SEGURANCA_PUBLICA',\n",
       "       'IN_VINCULO_SECRETARIA_SAUDE', 'IN_VINCULO_OUTRO_ORGAO',\n",
       "       'IN_CONVENIADA_PP', 'IN_MANT_ESCOLA_PRIVADA_EMP',\n",
       "       'IN_MANT_ESCOLA_PRIVADA_ONG', 'IN_MANT_ESCOLA_PRIVADA_OSCIP',\n",
       "       'IN_MANT_ESCOLA_PRIV_ONG_OSCIP', 'IN_MANT_ESCOLA_PRIVADA_SIND',\n",
       "       ...\n",
       "       'IN_FUND_AF', 'IN_MED', 'IN_PROF', 'IN_PROF_TEC', 'IN_EJA',\n",
       "       'IN_EJA_FUND', 'IN_EJA_MED', 'IN_ESP', 'IN_ESP_CC', 'IN_ESP_CE'],\n",
       "      dtype='object', length=210)"
      ]
     },
     "execution_count": 195,
     "metadata": {},
     "output_type": "execute_result"
    }
   ],
   "source": [
    "df.select_dtypes(\"bool\").columns"
   ]
  },
  {
   "cell_type": "code",
   "execution_count": 197,
   "id": "e2d99639-d0eb-4f37-8b25-36fc90c91590",
   "metadata": {},
   "outputs": [
    {
     "data": {
      "text/plain": [
       "Index(['NO_REGIAO', 'NO_UF', 'SG_UF', 'NO_MUNICIPIO', 'NO_MESORREGIAO',\n",
       "       'NO_MICRORREGIAO', 'CO_DISTRITO', 'CO_ENTIDADE', 'NO_ENTIDADE',\n",
       "       'TP_DEPENDENCIA', 'TP_CATEGORIA_ESCOLA_PRIVADA', 'TP_LOCALIZACAO',\n",
       "       'TP_LOCALIZACAO_DIFERENCIADA', 'DS_ENDERECO', 'NU_ENDERECO',\n",
       "       'DS_COMPLEMENTO', 'NO_BAIRRO', 'CO_CEP', 'NU_DDD', 'NU_TELEFONE',\n",
       "       'TP_SITUACAO_FUNCIONAMENTO', 'CO_ORGAO_REGIONAL',\n",
       "       'TP_CONVENIO_PODER_PUBLICO', 'NU_CNPJ_ESCOLA_PRIVADA',\n",
       "       'NU_CNPJ_MANTENEDORA', 'TP_REGULAMENTACAO',\n",
       "       'TP_RESPONSAVEL_REGULAMENTACAO', 'CO_ESCOLA_SEDE_VINCULADA',\n",
       "       'CO_IES_OFERTANTE', 'TP_OCUPACAO_PREDIO_ESCOLAR', 'TP_OCUPACAO_GALPAO',\n",
       "       'TP_REDE_LOCAL', 'TP_INDIGENA_LINGUA', 'CO_LINGUA_INDIGENA_1',\n",
       "       'CO_LINGUA_INDIGENA_2', 'CO_LINGUA_INDIGENA_3',\n",
       "       'TP_PROPOSTA_PEDAGOGICA', 'TP_AEE', 'TP_ATIVIDADE_COMPLEMENTAR'],\n",
       "      dtype='object')"
      ]
     },
     "execution_count": 197,
     "metadata": {},
     "output_type": "execute_result"
    }
   ],
   "source": [
    "df.select_dtypes(\"object\").columns"
   ]
  },
  {
   "cell_type": "code",
   "execution_count": 198,
   "id": "5be1ae26-ae21-4dbf-84d4-92f8e38ac71f",
   "metadata": {},
   "outputs": [],
   "source": [
    "df.to_parquet(\"../data/transformed\", engine='auto', compression='snappy', index=None, partition_cols=[\"NU_ANO_CENSO\"])"
   ]
  },
  {
   "cell_type": "code",
   "execution_count": null,
   "id": "456636e9-cbbf-4c05-bafb-5384004cdee3",
   "metadata": {},
   "outputs": [],
   "source": []
  }
 ],
 "metadata": {
  "kernelspec": {
   "display_name": "Python 3 (ipykernel)",
   "language": "python",
   "name": "python3"
  },
  "language_info": {
   "codemirror_mode": {
    "name": "ipython",
    "version": 3
   },
   "file_extension": ".py",
   "mimetype": "text/x-python",
   "name": "python",
   "nbconvert_exporter": "python",
   "pygments_lexer": "ipython3",
   "version": "3.10.7"
  }
 },
 "nbformat": 4,
 "nbformat_minor": 5
}
