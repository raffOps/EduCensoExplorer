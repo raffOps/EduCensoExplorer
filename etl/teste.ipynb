{
 "cells": [
  {
   "cell_type": "code",
   "execution_count": 1,
   "outputs": [],
   "source": [
    "\n",
    "import pandas as pd"
   ],
   "metadata": {
    "collapsed": false
   }
  },
  {
   "cell_type": "code",
   "execution_count": null,
   "outputs": [],
   "source": [
    "df = pd.read_excel(\n",
    "    \"../data/raw/AFD/AFD_2017_ESCOLAS/AFD_ESCOLAS_2017.xlsx\",\n",
    "    skiprows=10,\n",
    "    skipfooter=6,\n",
    "    na_values=[\"--\"]\n",
    ")\n"
   ],
   "metadata": {
    "collapsed": false
   }
  },
  {
   "cell_type": "code",
   "execution_count": 137,
   "outputs": [],
   "source": [
    "indicador = \"DSU\"\n",
    "year = 2016\n",
    "df = pd.read_excel(\n",
    "    f\"../data/raw/{indicador}/{indicador}_{year}_ESCOLAS/{indicador}_ESCOLAS_{year}.xlsx\",\n",
    "    na_values=[\"--\"],\n",
    "    #skiprows=8,\n",
    "    skipfooter=6\n",
    ")\n"
   ],
   "metadata": {
    "collapsed": false
   }
  },
  {
   "cell_type": "code",
   "execution_count": 139,
   "outputs": [
    {
     "data": {
      "text/plain": "                                               Unnamed: 0  \\\n0                                                     NaN   \n1                                                     NaN   \n2                                                     ...   \n3       Percentual de Docentes com Curso Superior na E...   \n4                                                     NaN   \n...                                                   ...   \n185529                                               2016   \n185530                                               2016   \n185531                                               2016   \n185532                                               2016   \n185533                                               2016   \n\n                                   Ministério da Educação Unnamed: 2  \\\n0                        Instituto Nacional de Estudos...        NaN   \n1                                                     NaN        NaN   \n2                                                     NaN        NaN   \n3                                                     NaN        NaN   \n4                                                     NaN        NaN   \n...                                                   ...        ...   \n185529                                       Centro-Oeste         DF   \n185530                                       Centro-Oeste         DF   \n185531                                       Centro-Oeste         DF   \n185532                                       Centro-Oeste         DF   \n185533                                       Centro-Oeste         DF   \n\n       Unnamed: 3 Unnamed: 4 Unnamed: 5                    Unnamed: 6  \\\n0             NaN        NaN        NaN                           NaN   \n1             NaN        NaN        NaN                           NaN   \n2             NaN        NaN        NaN                           NaN   \n3             NaN        NaN        NaN                           NaN   \n4             NaN        NaN        NaN                           NaN   \n...           ...        ...        ...                           ...   \n185529    5300108   Brasília   53083008  TIO PATINHAS ESC DE EDUC INF   \n185530    5300108   Brasília   53084012            CE SITIO ENCANTADO   \n185531    5300108   Brasília   53084020           ESC PEQUENO ENCANTO   \n185532    5300108   Brasília   53084039                  COL ANCHIETA   \n185533    5300108   Brasília   53084055                      COL MAPA   \n\n       Unnamed: 7 Unnamed: 8 Unnamed: 9 Unnamed: 10 Unnamed: 11 Unnamed: 12  \\\n0             NaN        NaN        NaN         NaN         NaN         NaN   \n1             NaN        NaN        NaN         NaN         NaN         NaN   \n2             NaN        NaN        NaN         NaN         NaN         NaN   \n3             NaN        NaN        NaN         NaN         NaN         NaN   \n4             NaN        NaN        NaN         NaN         NaN         NaN   \n...           ...        ...        ...         ...         ...         ...   \n185529     Urbana    Privada         80         100        66.7         NaN   \n185530     Urbana    Privada       66.7         100          50          50   \n185531     Urbana    Privada        100         100         100         100   \n185532     Urbana    Privada         50          50          50          75   \n185533     Urbana    Privada        NaN         NaN         NaN         100   \n\n       Unnamed: 13 Unnamed: 14 Unnamed: 15 Unnamed: 16 Unnamed: 17 Unnamed: 18  \n0              NaN         NaN         NaN         NaN         NaN         NaN  \n1              NaN         NaN         NaN         NaN         NaN         NaN  \n2              NaN         NaN         NaN         NaN         NaN         NaN  \n3              NaN         NaN         NaN         NaN         NaN         NaN  \n4              NaN         NaN         NaN         NaN         NaN         NaN  \n...            ...         ...         ...         ...         ...         ...  \n185529         NaN         NaN         NaN         NaN         NaN         NaN  \n185530          50         NaN         NaN         NaN         NaN         NaN  \n185531         100         NaN         NaN         NaN         NaN         NaN  \n185532          70        66.7         NaN         NaN         NaN         NaN  \n185533         100         100         100         NaN         NaN         NaN  \n\n[185534 rows x 19 columns]",
      "text/html": "<div>\n<style scoped>\n    .dataframe tbody tr th:only-of-type {\n        vertical-align: middle;\n    }\n\n    .dataframe tbody tr th {\n        vertical-align: top;\n    }\n\n    .dataframe thead th {\n        text-align: right;\n    }\n</style>\n<table border=\"1\" class=\"dataframe\">\n  <thead>\n    <tr style=\"text-align: right;\">\n      <th></th>\n      <th>Unnamed: 0</th>\n      <th>Ministério da Educação</th>\n      <th>Unnamed: 2</th>\n      <th>Unnamed: 3</th>\n      <th>Unnamed: 4</th>\n      <th>Unnamed: 5</th>\n      <th>Unnamed: 6</th>\n      <th>Unnamed: 7</th>\n      <th>Unnamed: 8</th>\n      <th>Unnamed: 9</th>\n      <th>Unnamed: 10</th>\n      <th>Unnamed: 11</th>\n      <th>Unnamed: 12</th>\n      <th>Unnamed: 13</th>\n      <th>Unnamed: 14</th>\n      <th>Unnamed: 15</th>\n      <th>Unnamed: 16</th>\n      <th>Unnamed: 17</th>\n      <th>Unnamed: 18</th>\n    </tr>\n  </thead>\n  <tbody>\n    <tr>\n      <th>0</th>\n      <td>NaN</td>\n      <td>Instituto Nacional de Estudos...</td>\n      <td>NaN</td>\n      <td>NaN</td>\n      <td>NaN</td>\n      <td>NaN</td>\n      <td>NaN</td>\n      <td>NaN</td>\n      <td>NaN</td>\n      <td>NaN</td>\n      <td>NaN</td>\n      <td>NaN</td>\n      <td>NaN</td>\n      <td>NaN</td>\n      <td>NaN</td>\n      <td>NaN</td>\n      <td>NaN</td>\n      <td>NaN</td>\n      <td>NaN</td>\n    </tr>\n    <tr>\n      <th>1</th>\n      <td>NaN</td>\n      <td>NaN</td>\n      <td>NaN</td>\n      <td>NaN</td>\n      <td>NaN</td>\n      <td>NaN</td>\n      <td>NaN</td>\n      <td>NaN</td>\n      <td>NaN</td>\n      <td>NaN</td>\n      <td>NaN</td>\n      <td>NaN</td>\n      <td>NaN</td>\n      <td>NaN</td>\n      <td>NaN</td>\n      <td>NaN</td>\n      <td>NaN</td>\n      <td>NaN</td>\n      <td>NaN</td>\n    </tr>\n    <tr>\n      <th>2</th>\n      <td>...</td>\n      <td>NaN</td>\n      <td>NaN</td>\n      <td>NaN</td>\n      <td>NaN</td>\n      <td>NaN</td>\n      <td>NaN</td>\n      <td>NaN</td>\n      <td>NaN</td>\n      <td>NaN</td>\n      <td>NaN</td>\n      <td>NaN</td>\n      <td>NaN</td>\n      <td>NaN</td>\n      <td>NaN</td>\n      <td>NaN</td>\n      <td>NaN</td>\n      <td>NaN</td>\n      <td>NaN</td>\n    </tr>\n    <tr>\n      <th>3</th>\n      <td>Percentual de Docentes com Curso Superior na E...</td>\n      <td>NaN</td>\n      <td>NaN</td>\n      <td>NaN</td>\n      <td>NaN</td>\n      <td>NaN</td>\n      <td>NaN</td>\n      <td>NaN</td>\n      <td>NaN</td>\n      <td>NaN</td>\n      <td>NaN</td>\n      <td>NaN</td>\n      <td>NaN</td>\n      <td>NaN</td>\n      <td>NaN</td>\n      <td>NaN</td>\n      <td>NaN</td>\n      <td>NaN</td>\n      <td>NaN</td>\n    </tr>\n    <tr>\n      <th>4</th>\n      <td>NaN</td>\n      <td>NaN</td>\n      <td>NaN</td>\n      <td>NaN</td>\n      <td>NaN</td>\n      <td>NaN</td>\n      <td>NaN</td>\n      <td>NaN</td>\n      <td>NaN</td>\n      <td>NaN</td>\n      <td>NaN</td>\n      <td>NaN</td>\n      <td>NaN</td>\n      <td>NaN</td>\n      <td>NaN</td>\n      <td>NaN</td>\n      <td>NaN</td>\n      <td>NaN</td>\n      <td>NaN</td>\n    </tr>\n    <tr>\n      <th>...</th>\n      <td>...</td>\n      <td>...</td>\n      <td>...</td>\n      <td>...</td>\n      <td>...</td>\n      <td>...</td>\n      <td>...</td>\n      <td>...</td>\n      <td>...</td>\n      <td>...</td>\n      <td>...</td>\n      <td>...</td>\n      <td>...</td>\n      <td>...</td>\n      <td>...</td>\n      <td>...</td>\n      <td>...</td>\n      <td>...</td>\n      <td>...</td>\n    </tr>\n    <tr>\n      <th>185529</th>\n      <td>2016</td>\n      <td>Centro-Oeste</td>\n      <td>DF</td>\n      <td>5300108</td>\n      <td>Brasília</td>\n      <td>53083008</td>\n      <td>TIO PATINHAS ESC DE EDUC INF</td>\n      <td>Urbana</td>\n      <td>Privada</td>\n      <td>80</td>\n      <td>100</td>\n      <td>66.7</td>\n      <td>NaN</td>\n      <td>NaN</td>\n      <td>NaN</td>\n      <td>NaN</td>\n      <td>NaN</td>\n      <td>NaN</td>\n      <td>NaN</td>\n    </tr>\n    <tr>\n      <th>185530</th>\n      <td>2016</td>\n      <td>Centro-Oeste</td>\n      <td>DF</td>\n      <td>5300108</td>\n      <td>Brasília</td>\n      <td>53084012</td>\n      <td>CE SITIO ENCANTADO</td>\n      <td>Urbana</td>\n      <td>Privada</td>\n      <td>66.7</td>\n      <td>100</td>\n      <td>50</td>\n      <td>50</td>\n      <td>50</td>\n      <td>NaN</td>\n      <td>NaN</td>\n      <td>NaN</td>\n      <td>NaN</td>\n      <td>NaN</td>\n    </tr>\n    <tr>\n      <th>185531</th>\n      <td>2016</td>\n      <td>Centro-Oeste</td>\n      <td>DF</td>\n      <td>5300108</td>\n      <td>Brasília</td>\n      <td>53084020</td>\n      <td>ESC PEQUENO ENCANTO</td>\n      <td>Urbana</td>\n      <td>Privada</td>\n      <td>100</td>\n      <td>100</td>\n      <td>100</td>\n      <td>100</td>\n      <td>100</td>\n      <td>NaN</td>\n      <td>NaN</td>\n      <td>NaN</td>\n      <td>NaN</td>\n      <td>NaN</td>\n    </tr>\n    <tr>\n      <th>185532</th>\n      <td>2016</td>\n      <td>Centro-Oeste</td>\n      <td>DF</td>\n      <td>5300108</td>\n      <td>Brasília</td>\n      <td>53084039</td>\n      <td>COL ANCHIETA</td>\n      <td>Urbana</td>\n      <td>Privada</td>\n      <td>50</td>\n      <td>50</td>\n      <td>50</td>\n      <td>75</td>\n      <td>70</td>\n      <td>66.7</td>\n      <td>NaN</td>\n      <td>NaN</td>\n      <td>NaN</td>\n      <td>NaN</td>\n    </tr>\n    <tr>\n      <th>185533</th>\n      <td>2016</td>\n      <td>Centro-Oeste</td>\n      <td>DF</td>\n      <td>5300108</td>\n      <td>Brasília</td>\n      <td>53084055</td>\n      <td>COL MAPA</td>\n      <td>Urbana</td>\n      <td>Privada</td>\n      <td>NaN</td>\n      <td>NaN</td>\n      <td>NaN</td>\n      <td>100</td>\n      <td>100</td>\n      <td>100</td>\n      <td>100</td>\n      <td>NaN</td>\n      <td>NaN</td>\n      <td>NaN</td>\n    </tr>\n  </tbody>\n</table>\n<p>185534 rows × 19 columns</p>\n</div>"
     },
     "execution_count": 139,
     "metadata": {},
     "output_type": "execute_result"
    }
   ],
   "source": [
    "df"
   ],
   "metadata": {
    "collapsed": false
   }
  },
  {
   "cell_type": "code",
   "execution_count": 132,
   "outputs": [],
   "source": [
    "df[\"CO_ENTIDADE\"], df[\"NO_ENTIDADE\"] = df[\"NO_ENTIDADE\"], df[\"CO_ENTIDADE\"]"
   ],
   "metadata": {
    "collapsed": false
   }
  },
  {
   "cell_type": "code",
   "execution_count": 133,
   "outputs": [],
   "source": [
    "df[\"CO_ENTIDADE\"] = df[\"CO_ENTIDADE\"].astype(\"int64\")"
   ],
   "metadata": {
    "collapsed": false
   }
  },
  {
   "cell_type": "code",
   "execution_count": 134,
   "outputs": [
    {
     "data": {
      "text/plain": "        NU_ANO_CENSO     NO_REGIAO SG_UF  NO_MUNICIPIO           CO_MUNICIPIO  \\\n0               2016         Norte    RO       1100015  Alta Floresta D'Oeste   \n1               2016         Norte    RO       1100015  Alta Floresta D'Oeste   \n2               2016         Norte    RO       1100015  Alta Floresta D'Oeste   \n3               2016         Norte    RO       1100015  Alta Floresta D'Oeste   \n4               2016         Norte    RO       1100015  Alta Floresta D'Oeste   \n...              ...           ...   ...           ...                    ...   \n179307          2016  Centro-Oeste    DF       5300108               Brasília   \n179308          2016  Centro-Oeste    DF       5300108               Brasília   \n179309          2016  Centro-Oeste    DF       5300108               Brasília   \n179310          2016  Centro-Oeste    DF       5300108               Brasília   \n179311          2016  Centro-Oeste    DF       5300108               Brasília   \n\n                         NO_ENTIDADE  CO_ENTIDADE TIPOLOCA   DEPENDAD  \\\n0              EIEEF HAP BITT TUPARI     11022558    Rural   Estadual   \n1                EMMEF 7 DE SETEMBRO     11024291    Rural  Municipal   \n2                    EMEIEF ANA NERY     11024372   Urbana  Municipal   \n3              EMEIEF DARCY PENTEADO     11024593    Rural  Municipal   \n4               EMEIEF BOA ESPERANCA     11024666    Rural  Municipal   \n...                              ...          ...      ...        ...   \n179307  TIO PATINHAS ESC DE EDUC INF     53083008   Urbana    Privada   \n179308            CE SITIO ENCANTADO     53084012   Urbana    Privada   \n179309           ESC PEQUENO ENCANTO     53084020   Urbana    Privada   \n179310                  COL ANCHIETA     53084039   Urbana    Privada   \n179311                      COL MAPA     53084055   Urbana    Privada   \n\n        ATU_INF  ...  ATU_F06  ATU_F07  ATU_F08  ATU_UNIFICADA  ATU_MED  \\\n0           NaN  ...      NaN      NaN      NaN           12.0      NaN   \n1           NaN  ...      NaN      NaN      NaN           19.0      NaN   \n2          11.0  ...     10.0     10.0      6.0           15.0      NaN   \n3           NaN  ...      NaN      NaN      NaN            8.5      NaN   \n4          19.0  ...     21.0     21.0     26.0            NaN      NaN   \n...         ...  ...      ...      ...      ...            ...      ...   \n179307     12.8  ...      NaN      NaN      NaN            NaN      NaN   \n179308     11.4  ...      NaN      NaN      NaN            NaN      NaN   \n179309     15.9  ...      NaN      NaN      NaN            NaN      NaN   \n179310     10.6  ...     11.0     14.0      8.0            NaN      NaN   \n179311      NaN  ...     34.5     41.5     35.0            NaN     30.5   \n\n        ATU_M01  ATU_M02  ATU_M03  ATU_M04  ATU_MNS  \n0           NaN      NaN      NaN      NaN      NaN  \n1           NaN      NaN      NaN      NaN      NaN  \n2           NaN      NaN      NaN      NaN      NaN  \n3           NaN      NaN      NaN      NaN      NaN  \n4           NaN      NaN      NaN      NaN      NaN  \n...         ...      ...      ...      ...      ...  \n179307      NaN      NaN      NaN      NaN      NaN  \n179308      NaN      NaN      NaN      NaN      NaN  \n179309      NaN      NaN      NaN      NaN      NaN  \n179310      NaN      NaN      NaN      NaN      NaN  \n179311     36.0     25.0      NaN      NaN      NaN  \n\n[179312 rows x 31 columns]",
      "text/html": "<div>\n<style scoped>\n    .dataframe tbody tr th:only-of-type {\n        vertical-align: middle;\n    }\n\n    .dataframe tbody tr th {\n        vertical-align: top;\n    }\n\n    .dataframe thead th {\n        text-align: right;\n    }\n</style>\n<table border=\"1\" class=\"dataframe\">\n  <thead>\n    <tr style=\"text-align: right;\">\n      <th></th>\n      <th>NU_ANO_CENSO</th>\n      <th>NO_REGIAO</th>\n      <th>SG_UF</th>\n      <th>NO_MUNICIPIO</th>\n      <th>CO_MUNICIPIO</th>\n      <th>NO_ENTIDADE</th>\n      <th>CO_ENTIDADE</th>\n      <th>TIPOLOCA</th>\n      <th>DEPENDAD</th>\n      <th>ATU_INF</th>\n      <th>...</th>\n      <th>ATU_F06</th>\n      <th>ATU_F07</th>\n      <th>ATU_F08</th>\n      <th>ATU_UNIFICADA</th>\n      <th>ATU_MED</th>\n      <th>ATU_M01</th>\n      <th>ATU_M02</th>\n      <th>ATU_M03</th>\n      <th>ATU_M04</th>\n      <th>ATU_MNS</th>\n    </tr>\n  </thead>\n  <tbody>\n    <tr>\n      <th>0</th>\n      <td>2016</td>\n      <td>Norte</td>\n      <td>RO</td>\n      <td>1100015</td>\n      <td>Alta Floresta D'Oeste</td>\n      <td>EIEEF HAP BITT TUPARI</td>\n      <td>11022558</td>\n      <td>Rural</td>\n      <td>Estadual</td>\n      <td>NaN</td>\n      <td>...</td>\n      <td>NaN</td>\n      <td>NaN</td>\n      <td>NaN</td>\n      <td>12.0</td>\n      <td>NaN</td>\n      <td>NaN</td>\n      <td>NaN</td>\n      <td>NaN</td>\n      <td>NaN</td>\n      <td>NaN</td>\n    </tr>\n    <tr>\n      <th>1</th>\n      <td>2016</td>\n      <td>Norte</td>\n      <td>RO</td>\n      <td>1100015</td>\n      <td>Alta Floresta D'Oeste</td>\n      <td>EMMEF 7 DE SETEMBRO</td>\n      <td>11024291</td>\n      <td>Rural</td>\n      <td>Municipal</td>\n      <td>NaN</td>\n      <td>...</td>\n      <td>NaN</td>\n      <td>NaN</td>\n      <td>NaN</td>\n      <td>19.0</td>\n      <td>NaN</td>\n      <td>NaN</td>\n      <td>NaN</td>\n      <td>NaN</td>\n      <td>NaN</td>\n      <td>NaN</td>\n    </tr>\n    <tr>\n      <th>2</th>\n      <td>2016</td>\n      <td>Norte</td>\n      <td>RO</td>\n      <td>1100015</td>\n      <td>Alta Floresta D'Oeste</td>\n      <td>EMEIEF ANA NERY</td>\n      <td>11024372</td>\n      <td>Urbana</td>\n      <td>Municipal</td>\n      <td>11.0</td>\n      <td>...</td>\n      <td>10.0</td>\n      <td>10.0</td>\n      <td>6.0</td>\n      <td>15.0</td>\n      <td>NaN</td>\n      <td>NaN</td>\n      <td>NaN</td>\n      <td>NaN</td>\n      <td>NaN</td>\n      <td>NaN</td>\n    </tr>\n    <tr>\n      <th>3</th>\n      <td>2016</td>\n      <td>Norte</td>\n      <td>RO</td>\n      <td>1100015</td>\n      <td>Alta Floresta D'Oeste</td>\n      <td>EMEIEF DARCY PENTEADO</td>\n      <td>11024593</td>\n      <td>Rural</td>\n      <td>Municipal</td>\n      <td>NaN</td>\n      <td>...</td>\n      <td>NaN</td>\n      <td>NaN</td>\n      <td>NaN</td>\n      <td>8.5</td>\n      <td>NaN</td>\n      <td>NaN</td>\n      <td>NaN</td>\n      <td>NaN</td>\n      <td>NaN</td>\n      <td>NaN</td>\n    </tr>\n    <tr>\n      <th>4</th>\n      <td>2016</td>\n      <td>Norte</td>\n      <td>RO</td>\n      <td>1100015</td>\n      <td>Alta Floresta D'Oeste</td>\n      <td>EMEIEF BOA ESPERANCA</td>\n      <td>11024666</td>\n      <td>Rural</td>\n      <td>Municipal</td>\n      <td>19.0</td>\n      <td>...</td>\n      <td>21.0</td>\n      <td>21.0</td>\n      <td>26.0</td>\n      <td>NaN</td>\n      <td>NaN</td>\n      <td>NaN</td>\n      <td>NaN</td>\n      <td>NaN</td>\n      <td>NaN</td>\n      <td>NaN</td>\n    </tr>\n    <tr>\n      <th>...</th>\n      <td>...</td>\n      <td>...</td>\n      <td>...</td>\n      <td>...</td>\n      <td>...</td>\n      <td>...</td>\n      <td>...</td>\n      <td>...</td>\n      <td>...</td>\n      <td>...</td>\n      <td>...</td>\n      <td>...</td>\n      <td>...</td>\n      <td>...</td>\n      <td>...</td>\n      <td>...</td>\n      <td>...</td>\n      <td>...</td>\n      <td>...</td>\n      <td>...</td>\n      <td>...</td>\n    </tr>\n    <tr>\n      <th>179307</th>\n      <td>2016</td>\n      <td>Centro-Oeste</td>\n      <td>DF</td>\n      <td>5300108</td>\n      <td>Brasília</td>\n      <td>TIO PATINHAS ESC DE EDUC INF</td>\n      <td>53083008</td>\n      <td>Urbana</td>\n      <td>Privada</td>\n      <td>12.8</td>\n      <td>...</td>\n      <td>NaN</td>\n      <td>NaN</td>\n      <td>NaN</td>\n      <td>NaN</td>\n      <td>NaN</td>\n      <td>NaN</td>\n      <td>NaN</td>\n      <td>NaN</td>\n      <td>NaN</td>\n      <td>NaN</td>\n    </tr>\n    <tr>\n      <th>179308</th>\n      <td>2016</td>\n      <td>Centro-Oeste</td>\n      <td>DF</td>\n      <td>5300108</td>\n      <td>Brasília</td>\n      <td>CE SITIO ENCANTADO</td>\n      <td>53084012</td>\n      <td>Urbana</td>\n      <td>Privada</td>\n      <td>11.4</td>\n      <td>...</td>\n      <td>NaN</td>\n      <td>NaN</td>\n      <td>NaN</td>\n      <td>NaN</td>\n      <td>NaN</td>\n      <td>NaN</td>\n      <td>NaN</td>\n      <td>NaN</td>\n      <td>NaN</td>\n      <td>NaN</td>\n    </tr>\n    <tr>\n      <th>179309</th>\n      <td>2016</td>\n      <td>Centro-Oeste</td>\n      <td>DF</td>\n      <td>5300108</td>\n      <td>Brasília</td>\n      <td>ESC PEQUENO ENCANTO</td>\n      <td>53084020</td>\n      <td>Urbana</td>\n      <td>Privada</td>\n      <td>15.9</td>\n      <td>...</td>\n      <td>NaN</td>\n      <td>NaN</td>\n      <td>NaN</td>\n      <td>NaN</td>\n      <td>NaN</td>\n      <td>NaN</td>\n      <td>NaN</td>\n      <td>NaN</td>\n      <td>NaN</td>\n      <td>NaN</td>\n    </tr>\n    <tr>\n      <th>179310</th>\n      <td>2016</td>\n      <td>Centro-Oeste</td>\n      <td>DF</td>\n      <td>5300108</td>\n      <td>Brasília</td>\n      <td>COL ANCHIETA</td>\n      <td>53084039</td>\n      <td>Urbana</td>\n      <td>Privada</td>\n      <td>10.6</td>\n      <td>...</td>\n      <td>11.0</td>\n      <td>14.0</td>\n      <td>8.0</td>\n      <td>NaN</td>\n      <td>NaN</td>\n      <td>NaN</td>\n      <td>NaN</td>\n      <td>NaN</td>\n      <td>NaN</td>\n      <td>NaN</td>\n    </tr>\n    <tr>\n      <th>179311</th>\n      <td>2016</td>\n      <td>Centro-Oeste</td>\n      <td>DF</td>\n      <td>5300108</td>\n      <td>Brasília</td>\n      <td>COL MAPA</td>\n      <td>53084055</td>\n      <td>Urbana</td>\n      <td>Privada</td>\n      <td>NaN</td>\n      <td>...</td>\n      <td>34.5</td>\n      <td>41.5</td>\n      <td>35.0</td>\n      <td>NaN</td>\n      <td>30.5</td>\n      <td>36.0</td>\n      <td>25.0</td>\n      <td>NaN</td>\n      <td>NaN</td>\n      <td>NaN</td>\n    </tr>\n  </tbody>\n</table>\n<p>179312 rows × 31 columns</p>\n</div>"
     },
     "execution_count": 134,
     "metadata": {},
     "output_type": "execute_result"
    }
   ],
   "source": [
    "df"
   ],
   "metadata": {
    "collapsed": false
   }
  },
  {
   "cell_type": "code",
   "execution_count": 112,
   "outputs": [
    {
     "ename": "KeyError",
     "evalue": "'NU_ANO_CENSO'",
     "output_type": "error",
     "traceback": [
      "\u001B[0;31m---------------------------------------------------------------------------\u001B[0m",
      "\u001B[0;31mKeyError\u001B[0m                                  Traceback (most recent call last)",
      "File \u001B[0;32m~/Documentos/tcc_censo_escolar/venv/lib/python3.10/site-packages/pandas/core/indexes/base.py:3802\u001B[0m, in \u001B[0;36mIndex.get_loc\u001B[0;34m(self, key, method, tolerance)\u001B[0m\n\u001B[1;32m   3801\u001B[0m \u001B[38;5;28;01mtry\u001B[39;00m:\n\u001B[0;32m-> 3802\u001B[0m     \u001B[38;5;28;01mreturn\u001B[39;00m \u001B[38;5;28;43mself\u001B[39;49m\u001B[38;5;241;43m.\u001B[39;49m\u001B[43m_engine\u001B[49m\u001B[38;5;241;43m.\u001B[39;49m\u001B[43mget_loc\u001B[49m\u001B[43m(\u001B[49m\u001B[43mcasted_key\u001B[49m\u001B[43m)\u001B[49m\n\u001B[1;32m   3803\u001B[0m \u001B[38;5;28;01mexcept\u001B[39;00m \u001B[38;5;167;01mKeyError\u001B[39;00m \u001B[38;5;28;01mas\u001B[39;00m err:\n",
      "File \u001B[0;32m~/Documentos/tcc_censo_escolar/venv/lib/python3.10/site-packages/pandas/_libs/index.pyx:138\u001B[0m, in \u001B[0;36mpandas._libs.index.IndexEngine.get_loc\u001B[0;34m()\u001B[0m\n",
      "File \u001B[0;32m~/Documentos/tcc_censo_escolar/venv/lib/python3.10/site-packages/pandas/_libs/index.pyx:165\u001B[0m, in \u001B[0;36mpandas._libs.index.IndexEngine.get_loc\u001B[0;34m()\u001B[0m\n",
      "File \u001B[0;32mpandas/_libs/hashtable_class_helper.pxi:5745\u001B[0m, in \u001B[0;36mpandas._libs.hashtable.PyObjectHashTable.get_item\u001B[0;34m()\u001B[0m\n",
      "File \u001B[0;32mpandas/_libs/hashtable_class_helper.pxi:5753\u001B[0m, in \u001B[0;36mpandas._libs.hashtable.PyObjectHashTable.get_item\u001B[0;34m()\u001B[0m\n",
      "\u001B[0;31mKeyError\u001B[0m: 'NU_ANO_CENSO'",
      "\nThe above exception was the direct cause of the following exception:\n",
      "\u001B[0;31mKeyError\u001B[0m                                  Traceback (most recent call last)",
      "Cell \u001B[0;32mIn[112], line 26\u001B[0m\n\u001B[1;32m     23\u001B[0m value_vars \u001B[38;5;241m=\u001B[39m df\u001B[38;5;241m.\u001B[39mcolumns[\u001B[38;5;241m9\u001B[39m:]\n\u001B[1;32m     24\u001B[0m df \u001B[38;5;241m=\u001B[39m df\u001B[38;5;241m.\u001B[39mmelt(id_vars\u001B[38;5;241m=\u001B[39mid_vars, value_vars\u001B[38;5;241m=\u001B[39mvalue_vars, var_name\u001B[38;5;241m=\u001B[39m\u001B[38;5;124m\"\u001B[39m\u001B[38;5;124mGRUPO\u001B[39m\u001B[38;5;124m\"\u001B[39m, value_name\u001B[38;5;241m=\u001B[39m\u001B[38;5;124m\"\u001B[39m\u001B[38;5;124mMETRICA\u001B[39m\u001B[38;5;124m\"\u001B[39m)\n\u001B[0;32m---> 26\u001B[0m df[\u001B[38;5;124m\"\u001B[39m\u001B[38;5;124mNU_ANO_CENSO\u001B[39m\u001B[38;5;124m\"\u001B[39m] \u001B[38;5;241m=\u001B[39m \u001B[43mdf\u001B[49m\u001B[43m[\u001B[49m\u001B[38;5;124;43m\"\u001B[39;49m\u001B[38;5;124;43mNU_ANO_CENSO\u001B[39;49m\u001B[38;5;124;43m\"\u001B[39;49m\u001B[43m]\u001B[49m\u001B[38;5;241m.\u001B[39mastype(\u001B[38;5;124m\"\u001B[39m\u001B[38;5;124mInt32\u001B[39m\u001B[38;5;124m\"\u001B[39m)\n\u001B[1;32m     27\u001B[0m df[[\u001B[38;5;124m\"\u001B[39m\u001B[38;5;124mCO_MUNICIPIO\u001B[39m\u001B[38;5;124m\"\u001B[39m, \u001B[38;5;124m\"\u001B[39m\u001B[38;5;124mCO_ENTIDADE\u001B[39m\u001B[38;5;124m\"\u001B[39m]] \u001B[38;5;241m=\u001B[39m df[[\u001B[38;5;124m\"\u001B[39m\u001B[38;5;124mCO_MUNICIPIO\u001B[39m\u001B[38;5;124m\"\u001B[39m, \u001B[38;5;124m\"\u001B[39m\u001B[38;5;124mCO_ENTIDADE\u001B[39m\u001B[38;5;124m\"\u001B[39m]]\u001B[38;5;241m.\u001B[39mastype(\u001B[38;5;124m\"\u001B[39m\u001B[38;5;124mInt64\u001B[39m\u001B[38;5;124m\"\u001B[39m)\n\u001B[1;32m     28\u001B[0m df\n",
      "File \u001B[0;32m~/Documentos/tcc_censo_escolar/venv/lib/python3.10/site-packages/pandas/core/frame.py:3807\u001B[0m, in \u001B[0;36mDataFrame.__getitem__\u001B[0;34m(self, key)\u001B[0m\n\u001B[1;32m   3805\u001B[0m \u001B[38;5;28;01mif\u001B[39;00m \u001B[38;5;28mself\u001B[39m\u001B[38;5;241m.\u001B[39mcolumns\u001B[38;5;241m.\u001B[39mnlevels \u001B[38;5;241m>\u001B[39m \u001B[38;5;241m1\u001B[39m:\n\u001B[1;32m   3806\u001B[0m     \u001B[38;5;28;01mreturn\u001B[39;00m \u001B[38;5;28mself\u001B[39m\u001B[38;5;241m.\u001B[39m_getitem_multilevel(key)\n\u001B[0;32m-> 3807\u001B[0m indexer \u001B[38;5;241m=\u001B[39m \u001B[38;5;28;43mself\u001B[39;49m\u001B[38;5;241;43m.\u001B[39;49m\u001B[43mcolumns\u001B[49m\u001B[38;5;241;43m.\u001B[39;49m\u001B[43mget_loc\u001B[49m\u001B[43m(\u001B[49m\u001B[43mkey\u001B[49m\u001B[43m)\u001B[49m\n\u001B[1;32m   3808\u001B[0m \u001B[38;5;28;01mif\u001B[39;00m is_integer(indexer):\n\u001B[1;32m   3809\u001B[0m     indexer \u001B[38;5;241m=\u001B[39m [indexer]\n",
      "File \u001B[0;32m~/Documentos/tcc_censo_escolar/venv/lib/python3.10/site-packages/pandas/core/indexes/base.py:3804\u001B[0m, in \u001B[0;36mIndex.get_loc\u001B[0;34m(self, key, method, tolerance)\u001B[0m\n\u001B[1;32m   3802\u001B[0m     \u001B[38;5;28;01mreturn\u001B[39;00m \u001B[38;5;28mself\u001B[39m\u001B[38;5;241m.\u001B[39m_engine\u001B[38;5;241m.\u001B[39mget_loc(casted_key)\n\u001B[1;32m   3803\u001B[0m \u001B[38;5;28;01mexcept\u001B[39;00m \u001B[38;5;167;01mKeyError\u001B[39;00m \u001B[38;5;28;01mas\u001B[39;00m err:\n\u001B[0;32m-> 3804\u001B[0m     \u001B[38;5;28;01mraise\u001B[39;00m \u001B[38;5;167;01mKeyError\u001B[39;00m(key) \u001B[38;5;28;01mfrom\u001B[39;00m \u001B[38;5;21;01merr\u001B[39;00m\n\u001B[1;32m   3805\u001B[0m \u001B[38;5;28;01mexcept\u001B[39;00m \u001B[38;5;167;01mTypeError\u001B[39;00m:\n\u001B[1;32m   3806\u001B[0m     \u001B[38;5;66;03m# If we have a listlike key, _check_indexing_error will raise\u001B[39;00m\n\u001B[1;32m   3807\u001B[0m     \u001B[38;5;66;03m#  InvalidIndexError. Otherwise we fall through and re-raise\u001B[39;00m\n\u001B[1;32m   3808\u001B[0m     \u001B[38;5;66;03m#  the TypeError.\u001B[39;00m\n\u001B[1;32m   3809\u001B[0m     \u001B[38;5;28mself\u001B[39m\u001B[38;5;241m.\u001B[39m_check_indexing_error(key)\n",
      "\u001B[0;31mKeyError\u001B[0m: 'NU_ANO_CENSO'"
     ]
    }
   ],
   "source": [
    "indicador = \"ATU\"\n",
    "year = 2016\n",
    "df = pd.read_excel(\n",
    "    f\"../data/raw/{indicador}/{indicador}_{year}_ESCOLAS/{indicador}_ESCOLAS_{year}.xlsx\",\n",
    "    skiprows=10,\n",
    "    skipfooter=6,\n",
    "    na_values=[\"--\"]\n",
    ")\n",
    "\n",
    "df.rename(\n",
    "    columns={\n",
    "        \"Ano\": \"NU_ANO_CENSO\",\n",
    "        \"SIGLA\": \"SG_UF\",\n",
    "        \"PK_COD_MUNICIPIO\": \"CO_MUNICIPIO\",\n",
    "        \"PK_COD_ENTIDADE\": \"CO_ENTIDADE\",\n",
    "        \"TIPOLOCA\": \"NO_CATEGORIA\",\n",
    "        \"Dependad\": \"NO_DEPENDENCIA\"\n",
    "    },\n",
    "    inplace=True\n",
    ")\n",
    "# melt\n",
    "id_vars = df.columns[:9]\n",
    "value_vars = df.columns[9:]\n",
    "df = df.melt(id_vars=id_vars, value_vars=value_vars, var_name=\"GRUPO\", value_name=\"METRICA\")\n",
    "\n",
    "df[\"NU_ANO_CENSO\"] = df[\"NU_ANO_CENSO\"].astype(\"Int32\")\n",
    "df[[\"CO_MUNICIPIO\", \"CO_ENTIDADE\"]] = df[[\"CO_MUNICIPIO\", \"CO_ENTIDADE\"]].astype(\"Int64\")\n",
    "df"
   ],
   "metadata": {
    "collapsed": false
   }
  },
  {
   "cell_type": "code",
   "execution_count": 113,
   "outputs": [
    {
     "name": "stdout",
     "output_type": "stream",
     "text": [
      "<class 'pandas.core.frame.DataFrame'>\n",
      "RangeIndex: 3944820 entries, 0 to 3944819\n",
      "Data columns (total 11 columns):\n",
      " #   Column                 Dtype  \n",
      "---  ------                 -----  \n",
      " 0   2016                   int64  \n",
      " 1   Norte                  object \n",
      " 2   RO                     object \n",
      " 3   1100015                int64  \n",
      " 4   Alta Floresta D'Oeste  object \n",
      " 5   11024291               int64  \n",
      " 6   EMMEF 7 DE SETEMBRO    object \n",
      " 7   Rural                  object \n",
      " 8   Municipal              object \n",
      " 9   GRUPO                  object \n",
      " 10  METRICA                float64\n",
      "dtypes: float64(1), int64(3), object(7)\n",
      "memory usage: 331.1+ MB\n"
     ]
    }
   ],
   "source": [
    "df.info()"
   ],
   "metadata": {
    "collapsed": false
   }
  },
  {
   "cell_type": "code",
   "execution_count": null,
   "outputs": [],
   "source": [],
   "metadata": {
    "collapsed": false
   }
  }
 ],
 "metadata": {
  "kernelspec": {
   "display_name": "Python 3",
   "language": "python",
   "name": "python3"
  },
  "language_info": {
   "codemirror_mode": {
    "name": "ipython",
    "version": 2
   },
   "file_extension": ".py",
   "mimetype": "text/x-python",
   "name": "python",
   "nbconvert_exporter": "python",
   "pygments_lexer": "ipython2",
   "version": "2.7.6"
  }
 },
 "nbformat": 4,
 "nbformat_minor": 0
}
