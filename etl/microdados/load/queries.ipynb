{
 "cells": [
  {
   "cell_type": "code",
   "execution_count": 1,
   "id": "024d0237",
   "metadata": {
    "collapsed": false,
    "jupyter": {
     "outputs_hidden": false
    }
   },
   "outputs": [
    {
     "data": {
      "text/plain": "<duckdb.DuckDBPyConnection at 0x7fb2e70b2af0>"
     },
     "execution_count": 1,
     "metadata": {},
     "output_type": "execute_result"
    }
   ],
   "source": [
    "from collections import Counter\n",
    "import random\n",
    "\n",
    "import pyarrow.dataset as ds\n",
    "import duckdb\n",
    "import pandas as pd\n",
    "\n",
    "\n",
    "con = duckdb.connect()\n",
    "\n",
    "dataset = ds.dataset(\"../../data/transformed.parquet\", format=\"parquet\", partitioning=\"hive\")\n",
    "con.register(\"censo\", dataset)"
   ]
  },
  {
   "cell_type": "code",
   "execution_count": 3,
   "id": "7e15f4b7-5e9a-48f7-b987-74f8d2703160",
   "metadata": {},
   "outputs": [
    {
     "data": {
      "text/plain": "   NU_ANO_CENSO  count_star()\n0          2016        237506\n1          2017        236481\n2          2018        236460\n3          2019        228521\n4          2020        224229\n5          2021        221140",
      "text/html": "<div>\n<style scoped>\n    .dataframe tbody tr th:only-of-type {\n        vertical-align: middle;\n    }\n\n    .dataframe tbody tr th {\n        vertical-align: top;\n    }\n\n    .dataframe thead th {\n        text-align: right;\n    }\n</style>\n<table border=\"1\" class=\"dataframe\">\n  <thead>\n    <tr style=\"text-align: right;\">\n      <th></th>\n      <th>NU_ANO_CENSO</th>\n      <th>count_star()</th>\n    </tr>\n  </thead>\n  <tbody>\n    <tr>\n      <th>0</th>\n      <td>2016</td>\n      <td>237506</td>\n    </tr>\n    <tr>\n      <th>1</th>\n      <td>2017</td>\n      <td>236481</td>\n    </tr>\n    <tr>\n      <th>2</th>\n      <td>2018</td>\n      <td>236460</td>\n    </tr>\n    <tr>\n      <th>3</th>\n      <td>2019</td>\n      <td>228521</td>\n    </tr>\n    <tr>\n      <th>4</th>\n      <td>2020</td>\n      <td>224229</td>\n    </tr>\n    <tr>\n      <th>5</th>\n      <td>2021</td>\n      <td>221140</td>\n    </tr>\n  </tbody>\n</table>\n</div>"
     },
     "execution_count": 3,
     "metadata": {},
     "output_type": "execute_result"
    }
   ],
   "source": [
    "# quantidade de matriculas\n",
    "dimension = \"NU_ANO_CENSO\"\n",
    "con.execute(f\"\"\"\n",
    "    select\n",
    "        {dimension},\n",
    "        count(*)\n",
    "    from censo\n",
    "    group by {dimension}\n",
    "    order by 1\n",
    "    \"\"\"\n",
    ").df()"
   ]
  },
  {
   "cell_type": "code",
   "execution_count": 7,
   "id": "2c6f6fb6",
   "metadata": {
    "collapsed": false,
    "jupyter": {
     "outputs_hidden": false
    }
   },
   "outputs": [
    {
     "data": {
      "text/plain": "   NU_ANO_CENSO  quantidade de escolas\n0          2016                 237506\n1          2017                 236481\n2          2018                 236460\n3          2019                 228521\n4          2020                 224229\n5          2021                 221140",
      "text/html": "<div>\n<style scoped>\n    .dataframe tbody tr th:only-of-type {\n        vertical-align: middle;\n    }\n\n    .dataframe tbody tr th {\n        vertical-align: top;\n    }\n\n    .dataframe thead th {\n        text-align: right;\n    }\n</style>\n<table border=\"1\" class=\"dataframe\">\n  <thead>\n    <tr style=\"text-align: right;\">\n      <th></th>\n      <th>NU_ANO_CENSO</th>\n      <th>quantidade de escolas</th>\n    </tr>\n  </thead>\n  <tbody>\n    <tr>\n      <th>0</th>\n      <td>2016</td>\n      <td>237506</td>\n    </tr>\n    <tr>\n      <th>1</th>\n      <td>2017</td>\n      <td>236481</td>\n    </tr>\n    <tr>\n      <th>2</th>\n      <td>2018</td>\n      <td>236460</td>\n    </tr>\n    <tr>\n      <th>3</th>\n      <td>2019</td>\n      <td>228521</td>\n    </tr>\n    <tr>\n      <th>4</th>\n      <td>2020</td>\n      <td>224229</td>\n    </tr>\n    <tr>\n      <th>5</th>\n      <td>2021</td>\n      <td>221140</td>\n    </tr>\n  </tbody>\n</table>\n</div>"
     },
     "execution_count": 7,
     "metadata": {},
     "output_type": "execute_result"
    }
   ],
   "source": [
    "# quantidade de escolas\n",
    "dimension = \"NU_ANO_CENSO\"\n",
    "con.execute(f\"\"\"\n",
    "    select\n",
    "        {dimension},\n",
    "        count(distinct(CO_ENTIDADE)) as 'quantidade de escolas'\n",
    "    from censo\n",
    "    group by {dimension}\n",
    "    order by 2 desc\n",
    "    \"\"\"\n",
    ").df()"
   ]
  },
  {
   "cell_type": "code",
   "execution_count": null,
   "outputs": [],
   "source": [],
   "metadata": {
    "collapsed": false
   }
  }
 ],
 "metadata": {
  "kernelspec": {
   "display_name": "Python 3 (ipykernel)",
   "language": "python",
   "name": "python3"
  },
  "language_info": {
   "codemirror_mode": {
    "name": "ipython",
    "version": 3
   },
   "file_extension": ".py",
   "mimetype": "text/x-python",
   "name": "python",
   "nbconvert_exporter": "python",
   "pygments_lexer": "ipython3",
   "version": "3.10.7"
  }
 },
 "nbformat": 4,
 "nbformat_minor": 5
}
