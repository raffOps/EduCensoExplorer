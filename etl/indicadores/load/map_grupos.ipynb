{
 "cells": [
  {
   "cell_type": "code",
   "execution_count": 2,
   "id": "024d0237",
   "metadata": {
    "collapsed": false,
    "jupyter": {
     "outputs_hidden": false
    }
   },
   "outputs": [],
   "source": [
    "from collections import Counter\n",
    "import random\n",
    "\n",
    "import numpy as np\n",
    "import pyarrow.dataset as ds\n",
    "import duckdb\n",
    "import pandas as pd\n",
    "import numpy as np\n",
    "import seaborn as sns\n",
    "import plotly as pl\n",
    "import plotly.express as px\n",
    "import json\n",
    "\n",
    "\n",
    "INDICADORES = {\n",
    "    \"AFD\": \"Adequação da Formação Docente\",\n",
    "    \"ICG\": \"Complexidade de Gestão da Escola\",\n",
    "    \"IED\": \"Esforço Docente\",\n",
    "    \"ATU\": \"Média de Alunos por Turma\",\n",
    "    \"HAD\": \"Média de Horas-aula diária\",\n",
    "    \"DSU\": \"Percentual de Docentes com Curso Superior\",\n",
    "    \"TDI\": \"Taxas de Distorção Idade-série\",\n",
    "            \"TRE\": \"Taxa de Rendimento Escolar\",\n",
    "\n",
    "}\n",
    "\n",
    "DIMENSIONS = {\n",
    "    \"Ano\": \"NU_ANO_CENSO\",\n",
    "    \"Nome da região geográfica\": \"NO_REGIAO\",\n",
    "    \"Nome da Unidade da Federação\": \"NO_UF\",\n",
    "    \"Nome da Mesorregião\": \"NO_MESORREGIAO\",\n",
    "    \"Nome da Microrregião\": \"NO_MICRORREGIAO\"\n",
    "}\n",
    "\n",
    "with open(\"../map_indicadores.json\") as f:\n",
    "    MAP_INDICADORES = json.load(f)"
   ]
  },
  {
   "cell_type": "code",
   "execution_count": 64,
   "outputs": [],
   "source": [
    "year = 2019\n",
    "indicador = \"TRE\"\n",
    "file = f\"../../../data/raw/{indicador}/MUNICIPIOS/{year}.xlsx\"\n",
    "df_municipios = pd.read_excel(file, skiprows=8, skipfooter=6, na_values=[\"--\"])\n",
    "df_municipios = df_municipios.drop(df_municipios.columns[[1, 2, 3]], axis=1)\n",
    "columns = ['NU_ANO_CENSO', 'NO_LOCALIDADE_GEOGRAFICA', 'NO_CATEGORIA', 'NO_DEPENDENCIA']\n",
    "# df_municipios = df_municipios.rename(\n",
    "#     columns=dict(zip(df_municipios.columns[:4], columns))\n",
    "# )\n",
    "\n",
    "#df_municipios.insert(2, \"TP_LOCALIDADE_GEOGRAFICA\", \"Município\")\n",
    "\n",
    "\n",
    "#id_vars = df_municipios.columns[:5]\n",
    "#value_vars = df_municipios.columns[5:]\n",
    "#df_municipios = df_municipios.melt(id_vars=id_vars, value_vars=value_vars, var_name=\"TP_GRUPO\", value_name=\"METRICA\")"
   ],
   "metadata": {
    "collapsed": false
   }
  },
  {
   "cell_type": "code",
   "execution_count": 88,
   "outputs": [],
   "source": [
    "year = 2019\n",
    "indicador = \"TRE\"\n",
    "file = f\"../../../data/raw/{indicador}/MUNICIPIOS/{year}.xlsx\"\n",
    "df_municipios = pd.read_excel(file, skiprows=8, skipfooter=6, na_values=[\"--\"])"
   ],
   "metadata": {
    "collapsed": false
   }
  },
  {
   "cell_type": "code",
   "execution_count": 90,
   "outputs": [
    {
     "data": {
      "text/plain": "54"
     },
     "execution_count": 90,
     "metadata": {},
     "output_type": "execute_result"
    }
   ],
   "source": [
    "18*3"
   ],
   "metadata": {
    "collapsed": false
   }
  },
  {
   "cell_type": "code",
   "execution_count": 87,
   "outputs": [
    {
     "data": {
      "text/plain": "      ano        Unnamed: 1 TIPOLOCA  DEPENDAD  tap_FUN  tap_F14  tap_F04  \\\n0    2019            Brasil    Total     Total     92.8     95.1     89.9   \n1    2019            Brasil   Urbana     Total     93.4     95.9     90.4   \n2    2019            Brasil    Rural     Total     89.1     91.0     86.1   \n3    2019            Brasil    Total   Federal     95.2     96.9     94.5   \n4    2019            Brasil   Urbana   Federal     95.2     96.9     94.5   \n..    ...               ...      ...       ...      ...      ...      ...   \n577  2019  Distrito Federal    Total  Estadual     92.2     94.8     89.1   \n578  2019  Distrito Federal   Urbana  Estadual     92.2     94.8     89.1   \n579  2019  Distrito Federal    Rural  Estadual     92.8     94.4     90.4   \n580  2019  Distrito Federal    Total   Privada     98.8     99.7     97.7   \n581  2019  Distrito Federal   Urbana   Privada     98.8     99.7     97.7   \n\n     tap_F58  tap_F00  tap_F01  ...  tab_F05  tab_F06  tab_F07  tab_F08  \\\n0       98.5     97.5     91.4  ...      1.9      1.8      1.8      1.9   \n1       98.6     97.7     92.4  ...      1.6      1.5      1.5      1.6   \n2       97.8     96.4     85.9  ...      4.0      3.9      4.1      3.7   \n3       97.6     96.8     96.3  ...      0.4      0.2      0.1      0.3   \n4       97.6     96.7     96.3  ...      0.4      0.1      0.2      0.3   \n..       ...      ...      ...  ...      ...      ...      ...      ...   \n577     98.7     99.2     85.6  ...      1.6      2.4      1.7      2.4   \n578     98.8     99.2     85.7  ...      1.7      2.4      1.8      2.4   \n579     98.4     99.4     84.0  ...      0.7      1.7      1.1      1.6   \n580     99.9     99.7     99.6  ...      0.0      0.0      0.0      0.0   \n581     99.9     99.7     99.6  ...      0.0      0.0      0.0      0.0   \n\n     tab_MED  tab_M01  tab_M02  tab_M03  tab_M04  tab_MNS  \n0        4.8      6.1      4.6      3.0      3.9      4.6  \n1        4.7      5.9      4.5      3.0      3.9      4.0  \n2        6.7      8.3      6.5      4.3      4.5      7.8  \n3        1.7      1.8      1.5      1.3      2.1      2.5  \n4        1.7      1.8      1.6      1.3      2.0      2.5  \n..       ...      ...      ...      ...      ...      ...  \n577      4.9      6.2      4.8      3.2      NaN      NaN  \n578      5.0      6.2      4.9      3.2      NaN      NaN  \n579      3.2      4.1      3.5      1.2      NaN      NaN  \n580      0.0      0.1      0.1      0.0      NaN      0.0  \n581      0.1      0.1      0.1      0.0      NaN      0.0  \n\n[582 rows x 58 columns]",
      "text/html": "<div>\n<style scoped>\n    .dataframe tbody tr th:only-of-type {\n        vertical-align: middle;\n    }\n\n    .dataframe tbody tr th {\n        vertical-align: top;\n    }\n\n    .dataframe thead th {\n        text-align: right;\n    }\n</style>\n<table border=\"1\" class=\"dataframe\">\n  <thead>\n    <tr style=\"text-align: right;\">\n      <th></th>\n      <th>ano</th>\n      <th>Unnamed: 1</th>\n      <th>TIPOLOCA</th>\n      <th>DEPENDAD</th>\n      <th>tap_FUN</th>\n      <th>tap_F14</th>\n      <th>tap_F04</th>\n      <th>tap_F58</th>\n      <th>tap_F00</th>\n      <th>tap_F01</th>\n      <th>...</th>\n      <th>tab_F05</th>\n      <th>tab_F06</th>\n      <th>tab_F07</th>\n      <th>tab_F08</th>\n      <th>tab_MED</th>\n      <th>tab_M01</th>\n      <th>tab_M02</th>\n      <th>tab_M03</th>\n      <th>tab_M04</th>\n      <th>tab_MNS</th>\n    </tr>\n  </thead>\n  <tbody>\n    <tr>\n      <th>0</th>\n      <td>2019</td>\n      <td>Brasil</td>\n      <td>Total</td>\n      <td>Total</td>\n      <td>92.8</td>\n      <td>95.1</td>\n      <td>89.9</td>\n      <td>98.5</td>\n      <td>97.5</td>\n      <td>91.4</td>\n      <td>...</td>\n      <td>1.9</td>\n      <td>1.8</td>\n      <td>1.8</td>\n      <td>1.9</td>\n      <td>4.8</td>\n      <td>6.1</td>\n      <td>4.6</td>\n      <td>3.0</td>\n      <td>3.9</td>\n      <td>4.6</td>\n    </tr>\n    <tr>\n      <th>1</th>\n      <td>2019</td>\n      <td>Brasil</td>\n      <td>Urbana</td>\n      <td>Total</td>\n      <td>93.4</td>\n      <td>95.9</td>\n      <td>90.4</td>\n      <td>98.6</td>\n      <td>97.7</td>\n      <td>92.4</td>\n      <td>...</td>\n      <td>1.6</td>\n      <td>1.5</td>\n      <td>1.5</td>\n      <td>1.6</td>\n      <td>4.7</td>\n      <td>5.9</td>\n      <td>4.5</td>\n      <td>3.0</td>\n      <td>3.9</td>\n      <td>4.0</td>\n    </tr>\n    <tr>\n      <th>2</th>\n      <td>2019</td>\n      <td>Brasil</td>\n      <td>Rural</td>\n      <td>Total</td>\n      <td>89.1</td>\n      <td>91.0</td>\n      <td>86.1</td>\n      <td>97.8</td>\n      <td>96.4</td>\n      <td>85.9</td>\n      <td>...</td>\n      <td>4.0</td>\n      <td>3.9</td>\n      <td>4.1</td>\n      <td>3.7</td>\n      <td>6.7</td>\n      <td>8.3</td>\n      <td>6.5</td>\n      <td>4.3</td>\n      <td>4.5</td>\n      <td>7.8</td>\n    </tr>\n    <tr>\n      <th>3</th>\n      <td>2019</td>\n      <td>Brasil</td>\n      <td>Total</td>\n      <td>Federal</td>\n      <td>95.2</td>\n      <td>96.9</td>\n      <td>94.5</td>\n      <td>97.6</td>\n      <td>96.8</td>\n      <td>96.3</td>\n      <td>...</td>\n      <td>0.4</td>\n      <td>0.2</td>\n      <td>0.1</td>\n      <td>0.3</td>\n      <td>1.7</td>\n      <td>1.8</td>\n      <td>1.5</td>\n      <td>1.3</td>\n      <td>2.1</td>\n      <td>2.5</td>\n    </tr>\n    <tr>\n      <th>4</th>\n      <td>2019</td>\n      <td>Brasil</td>\n      <td>Urbana</td>\n      <td>Federal</td>\n      <td>95.2</td>\n      <td>96.9</td>\n      <td>94.5</td>\n      <td>97.6</td>\n      <td>96.7</td>\n      <td>96.3</td>\n      <td>...</td>\n      <td>0.4</td>\n      <td>0.1</td>\n      <td>0.2</td>\n      <td>0.3</td>\n      <td>1.7</td>\n      <td>1.8</td>\n      <td>1.6</td>\n      <td>1.3</td>\n      <td>2.0</td>\n      <td>2.5</td>\n    </tr>\n    <tr>\n      <th>...</th>\n      <td>...</td>\n      <td>...</td>\n      <td>...</td>\n      <td>...</td>\n      <td>...</td>\n      <td>...</td>\n      <td>...</td>\n      <td>...</td>\n      <td>...</td>\n      <td>...</td>\n      <td>...</td>\n      <td>...</td>\n      <td>...</td>\n      <td>...</td>\n      <td>...</td>\n      <td>...</td>\n      <td>...</td>\n      <td>...</td>\n      <td>...</td>\n      <td>...</td>\n      <td>...</td>\n    </tr>\n    <tr>\n      <th>577</th>\n      <td>2019</td>\n      <td>Distrito Federal</td>\n      <td>Total</td>\n      <td>Estadual</td>\n      <td>92.2</td>\n      <td>94.8</td>\n      <td>89.1</td>\n      <td>98.7</td>\n      <td>99.2</td>\n      <td>85.6</td>\n      <td>...</td>\n      <td>1.6</td>\n      <td>2.4</td>\n      <td>1.7</td>\n      <td>2.4</td>\n      <td>4.9</td>\n      <td>6.2</td>\n      <td>4.8</td>\n      <td>3.2</td>\n      <td>NaN</td>\n      <td>NaN</td>\n    </tr>\n    <tr>\n      <th>578</th>\n      <td>2019</td>\n      <td>Distrito Federal</td>\n      <td>Urbana</td>\n      <td>Estadual</td>\n      <td>92.2</td>\n      <td>94.8</td>\n      <td>89.1</td>\n      <td>98.8</td>\n      <td>99.2</td>\n      <td>85.7</td>\n      <td>...</td>\n      <td>1.7</td>\n      <td>2.4</td>\n      <td>1.8</td>\n      <td>2.4</td>\n      <td>5.0</td>\n      <td>6.2</td>\n      <td>4.9</td>\n      <td>3.2</td>\n      <td>NaN</td>\n      <td>NaN</td>\n    </tr>\n    <tr>\n      <th>579</th>\n      <td>2019</td>\n      <td>Distrito Federal</td>\n      <td>Rural</td>\n      <td>Estadual</td>\n      <td>92.8</td>\n      <td>94.4</td>\n      <td>90.4</td>\n      <td>98.4</td>\n      <td>99.4</td>\n      <td>84.0</td>\n      <td>...</td>\n      <td>0.7</td>\n      <td>1.7</td>\n      <td>1.1</td>\n      <td>1.6</td>\n      <td>3.2</td>\n      <td>4.1</td>\n      <td>3.5</td>\n      <td>1.2</td>\n      <td>NaN</td>\n      <td>NaN</td>\n    </tr>\n    <tr>\n      <th>580</th>\n      <td>2019</td>\n      <td>Distrito Federal</td>\n      <td>Total</td>\n      <td>Privada</td>\n      <td>98.8</td>\n      <td>99.7</td>\n      <td>97.7</td>\n      <td>99.9</td>\n      <td>99.7</td>\n      <td>99.6</td>\n      <td>...</td>\n      <td>0.0</td>\n      <td>0.0</td>\n      <td>0.0</td>\n      <td>0.0</td>\n      <td>0.0</td>\n      <td>0.1</td>\n      <td>0.1</td>\n      <td>0.0</td>\n      <td>NaN</td>\n      <td>0.0</td>\n    </tr>\n    <tr>\n      <th>581</th>\n      <td>2019</td>\n      <td>Distrito Federal</td>\n      <td>Urbana</td>\n      <td>Privada</td>\n      <td>98.8</td>\n      <td>99.7</td>\n      <td>97.7</td>\n      <td>99.9</td>\n      <td>99.7</td>\n      <td>99.6</td>\n      <td>...</td>\n      <td>0.0</td>\n      <td>0.0</td>\n      <td>0.0</td>\n      <td>0.0</td>\n      <td>0.1</td>\n      <td>0.1</td>\n      <td>0.1</td>\n      <td>0.0</td>\n      <td>NaN</td>\n      <td>0.0</td>\n    </tr>\n  </tbody>\n</table>\n<p>582 rows × 58 columns</p>\n</div>"
     },
     "execution_count": 87,
     "metadata": {},
     "output_type": "execute_result"
    }
   ],
   "source": [
    "year = 2019\n",
    "indicador = \"TRE\"\n",
    "file = f\"../../../data/raw/{indicador}/BRASIL_REGIOES_UFS/{year}.xlsx\"\n",
    "df_brasil = pd.read_excel(file, skiprows=8, skipfooter=6, na_values=[\"--\"])\n",
    "df_brasil"
   ],
   "metadata": {
    "collapsed": false
   }
  },
  {
   "cell_type": "code",
   "execution_count": 78,
   "outputs": [],
   "source": [
    "df_municipios.columns = map(str, range(df_municipios.columns.size))"
   ],
   "metadata": {
    "collapsed": false
   }
  },
  {
   "cell_type": "code",
   "execution_count": 84,
   "outputs": [
    {
     "data": {
      "text/plain": "18"
     },
     "execution_count": 84,
     "metadata": {},
     "output_type": "execute_result"
    }
   ],
   "source": [],
   "metadata": {
    "collapsed": false
   }
  },
  {
   "cell_type": "code",
   "execution_count": 79,
   "outputs": [
    {
     "data": {
      "text/plain": "Index(['4', '5', '6', '7', '8', '9', '10', '11', '12', '13', '14', '15', '16',\n       '17', '18', '19', '20', '21'],\n      dtype='object')"
     },
     "execution_count": 79,
     "metadata": {},
     "output_type": "execute_result"
    }
   ],
   "source": [
    "df_municipios.columns[4:63-45+4]"
   ],
   "metadata": {
    "collapsed": false
   }
  },
  {
   "cell_type": "code",
   "execution_count": 62,
   "outputs": [],
   "source": [
    "df_brasil = pd.read_excel(file, skiprows=8, skipfooter=6, na_values=[\"--\"])"
   ],
   "metadata": {
    "collapsed": false
   }
  },
  {
   "cell_type": "code",
   "execution_count": 83,
   "outputs": [
    {
     "data": {
      "text/plain": "{'Rural', 'Total', 'Urbana'}"
     },
     "execution_count": 83,
     "metadata": {},
     "output_type": "execute_result"
    }
   ],
   "source": [
    "set(df_brasil[\"TIPOLOCA\"].unique())"
   ],
   "metadata": {
    "collapsed": false
   }
  },
  {
   "cell_type": "code",
   "execution_count": 57,
   "outputs": [],
   "source": [
    "def get_tipo_localidade_geografica(localidade_geografica: str) -> str:\n",
    "    if localidade_geografica.lower() == \"brasil\":\n",
    "        return \"País\"\n",
    "    elif localidade_geografica.lower() in {\"norte\", \"centro-oeste\", \"nordeste\", \"sul\", \"sudeste\"}:\n",
    "        return \"Região Geográfica\"\n",
    "    else:\n",
    "        return \"Unidade Federativa\""
   ],
   "metadata": {
    "collapsed": false
   }
  },
  {
   "cell_type": "code",
   "execution_count": 49,
   "outputs": [],
   "source": [
    "a"
   ],
   "metadata": {
    "collapsed": false
   }
  },
  {
   "cell_type": "code",
   "execution_count": null,
   "outputs": [],
   "source": [
    "df_brasil."
   ],
   "metadata": {
    "collapsed": false
   }
  },
  {
   "cell_type": "code",
   "execution_count": 52,
   "outputs": [
    {
     "data": {
      "text/plain": "       Unnamed: 5   Unnamed: 6 Unnamed: 7 Unnamed: 8 Unnamed: 9 Unnamed: 10  \\\n0             NaN          NaN        NaN        NaN        NaN         NaN   \n1             NaN          NaN        NaN        NaN        NaN         NaN   \n2             NaN          NaN        NaN        NaN        NaN         NaN   \n3             NaN          NaN        NaN        NaN        NaN         NaN   \n4             NaN          NaN        NaN        NaN        NaN         NaN   \n5             NaN          NaN        NaN        NaN        NaN         NaN   \n6   Anos Iniciais  Anos Finais    1º Ano      2º Ano     3º Ano      4º Ano   \n7         tap_F14      tap_F04    tap_F58    tap_F00    tap_F01     tap_F02   \n8            95.1         89.9       98.5       97.5       91.4        94.1   \n9            95.9         90.4       98.6       97.7       92.4        95.3   \n10             91         86.1       97.8       96.4       85.9        87.9   \n11           96.9         94.5       97.6       96.8       96.3        97.8   \n12           96.9         94.5       97.6       96.7       96.3        97.8   \n13            100         94.6        100        100        100         100   \n14           96.3           90         99       98.7       92.5        96.7   \n15           96.6           90       99.1         99       92.8        97.1   \n16           91.6         88.6       96.5       94.6       88.1        90.8   \n17           93.9         87.3       98.3       96.9       89.3        92.4   \n18           94.7         87.9       98.4         97       90.3        93.7   \n19           90.8         85.4       97.8       96.5       85.6        87.6   \n\n   Unnamed: 11 Unnamed: 12 Unnamed: 13 Unnamed: 14  ... Unnamed: 48  \\\n0          NaN         NaN         NaN         NaN  ...         NaN   \n1          NaN         NaN         NaN         NaN  ...         NaN   \n2          NaN         NaN         NaN         NaN  ...         NaN   \n3          NaN         NaN         NaN         NaN  ...         NaN   \n4          NaN         NaN         NaN         NaN  ...         NaN   \n5          NaN         NaN         NaN         NaN  ...         NaN   \n6       5º Ano      6º Ano      7º Ano      8º Ano  ...      6º Ano   \n7      tap_F03     tap_F05     tap_F06     tap_F07  ...     tab_F05   \n8         94.7        87.9        89.1          91  ...         1.9   \n9         95.7        88.8        89.6        91.4  ...         1.6   \n10        88.8        81.4        85.4        88.1  ...           4   \n11        96.2        95.1        94.9        93.6  ...         0.4   \n12        96.2        95.1          95        93.5  ...         0.4   \n13         100        93.3        84.6         100  ...           0   \n14        95.4        89.2        89.6        90.8  ...         1.4   \n15        95.8        89.3        89.6        90.9  ...         1.4   \n16        89.7        86.7        88.3        89.6  ...         2.9   \n17        93.5        83.7        85.9        88.9  ...         2.8   \n18        94.7        84.6        86.3        89.3  ...         2.5   \n19        88.7        80.2        84.7        87.6  ...         4.3   \n\n   Unnamed: 49 Unnamed: 50 Unnamed: 51    Unnamed: 52 Unnamed: 53 Unnamed: 54  \\\n0          NaN         NaN         NaN            NaN         NaN         NaN   \n1          NaN         NaN         NaN            NaN         NaN         NaN   \n2          NaN         NaN         NaN            NaN         NaN         NaN   \n3          NaN         NaN         NaN            NaN         NaN         NaN   \n4          NaN         NaN         NaN            NaN         NaN         NaN   \n5          NaN         NaN         NaN   Ensino Médio         NaN         NaN   \n6       7º Ano      8º Ano      9º Ano        Total      1ª série    2ª série   \n7      tab_F06     tab_F07     tab_F08        tab_MED     tab_M01     tab_M02   \n8          1.8         1.8         1.9            4.8         6.1         4.6   \n9          1.5         1.5         1.6            4.7         5.9         4.5   \n10         3.9         4.1         3.7            6.7         8.3         6.5   \n11         0.2         0.1         0.3            1.7         1.8         1.5   \n12         0.1         0.2         0.3            1.7         1.8         1.6   \n13           0           0           0            1.3         1.6         0.8   \n14         1.5         1.7           2            5.5           7         5.4   \n15         1.5         1.6           2            5.4         6.9         5.3   \n16         2.9         3.2         3.4            7.3         9.1         7.2   \n17         2.7         2.7         2.4            3.9         4.4         4.2   \n18         2.3         2.1         1.9            3.5         3.9         3.7   \n19         4.1         4.4         3.9            8.1         9.1         8.3   \n\n   Unnamed: 55 Unnamed: 56  Unnamed: 57  \n0          NaN         NaN          NaN  \n1          NaN         NaN          NaN  \n2          NaN         NaN          NaN  \n3          NaN         NaN          NaN  \n4          NaN         NaN          NaN  \n5          NaN         NaN          NaN  \n6     3ª série    4ª série  Não-Seriado  \n7      tab_M03     tab_M04      tab_MNS  \n8            3         3.9          4.6  \n9            3         3.9            4  \n10         4.3         4.5          7.8  \n11         1.3         2.1          2.5  \n12         1.3           2          2.5  \n13         1.1         5.7          2.2  \n14         3.5         5.1          6.1  \n15         3.5           5          5.3  \n16         4.8         5.2          8.3  \n17         2.6         3.7         35.7  \n18         2.2         2.9         35.7  \n19         6.5         7.4          NaN  \n\n[20 rows x 53 columns]",
      "text/html": "<div>\n<style scoped>\n    .dataframe tbody tr th:only-of-type {\n        vertical-align: middle;\n    }\n\n    .dataframe tbody tr th {\n        vertical-align: top;\n    }\n\n    .dataframe thead th {\n        text-align: right;\n    }\n</style>\n<table border=\"1\" class=\"dataframe\">\n  <thead>\n    <tr style=\"text-align: right;\">\n      <th></th>\n      <th>Unnamed: 5</th>\n      <th>Unnamed: 6</th>\n      <th>Unnamed: 7</th>\n      <th>Unnamed: 8</th>\n      <th>Unnamed: 9</th>\n      <th>Unnamed: 10</th>\n      <th>Unnamed: 11</th>\n      <th>Unnamed: 12</th>\n      <th>Unnamed: 13</th>\n      <th>Unnamed: 14</th>\n      <th>...</th>\n      <th>Unnamed: 48</th>\n      <th>Unnamed: 49</th>\n      <th>Unnamed: 50</th>\n      <th>Unnamed: 51</th>\n      <th>Unnamed: 52</th>\n      <th>Unnamed: 53</th>\n      <th>Unnamed: 54</th>\n      <th>Unnamed: 55</th>\n      <th>Unnamed: 56</th>\n      <th>Unnamed: 57</th>\n    </tr>\n  </thead>\n  <tbody>\n    <tr>\n      <th>0</th>\n      <td>NaN</td>\n      <td>NaN</td>\n      <td>NaN</td>\n      <td>NaN</td>\n      <td>NaN</td>\n      <td>NaN</td>\n      <td>NaN</td>\n      <td>NaN</td>\n      <td>NaN</td>\n      <td>NaN</td>\n      <td>...</td>\n      <td>NaN</td>\n      <td>NaN</td>\n      <td>NaN</td>\n      <td>NaN</td>\n      <td>NaN</td>\n      <td>NaN</td>\n      <td>NaN</td>\n      <td>NaN</td>\n      <td>NaN</td>\n      <td>NaN</td>\n    </tr>\n    <tr>\n      <th>1</th>\n      <td>NaN</td>\n      <td>NaN</td>\n      <td>NaN</td>\n      <td>NaN</td>\n      <td>NaN</td>\n      <td>NaN</td>\n      <td>NaN</td>\n      <td>NaN</td>\n      <td>NaN</td>\n      <td>NaN</td>\n      <td>...</td>\n      <td>NaN</td>\n      <td>NaN</td>\n      <td>NaN</td>\n      <td>NaN</td>\n      <td>NaN</td>\n      <td>NaN</td>\n      <td>NaN</td>\n      <td>NaN</td>\n      <td>NaN</td>\n      <td>NaN</td>\n    </tr>\n    <tr>\n      <th>2</th>\n      <td>NaN</td>\n      <td>NaN</td>\n      <td>NaN</td>\n      <td>NaN</td>\n      <td>NaN</td>\n      <td>NaN</td>\n      <td>NaN</td>\n      <td>NaN</td>\n      <td>NaN</td>\n      <td>NaN</td>\n      <td>...</td>\n      <td>NaN</td>\n      <td>NaN</td>\n      <td>NaN</td>\n      <td>NaN</td>\n      <td>NaN</td>\n      <td>NaN</td>\n      <td>NaN</td>\n      <td>NaN</td>\n      <td>NaN</td>\n      <td>NaN</td>\n    </tr>\n    <tr>\n      <th>3</th>\n      <td>NaN</td>\n      <td>NaN</td>\n      <td>NaN</td>\n      <td>NaN</td>\n      <td>NaN</td>\n      <td>NaN</td>\n      <td>NaN</td>\n      <td>NaN</td>\n      <td>NaN</td>\n      <td>NaN</td>\n      <td>...</td>\n      <td>NaN</td>\n      <td>NaN</td>\n      <td>NaN</td>\n      <td>NaN</td>\n      <td>NaN</td>\n      <td>NaN</td>\n      <td>NaN</td>\n      <td>NaN</td>\n      <td>NaN</td>\n      <td>NaN</td>\n    </tr>\n    <tr>\n      <th>4</th>\n      <td>NaN</td>\n      <td>NaN</td>\n      <td>NaN</td>\n      <td>NaN</td>\n      <td>NaN</td>\n      <td>NaN</td>\n      <td>NaN</td>\n      <td>NaN</td>\n      <td>NaN</td>\n      <td>NaN</td>\n      <td>...</td>\n      <td>NaN</td>\n      <td>NaN</td>\n      <td>NaN</td>\n      <td>NaN</td>\n      <td>NaN</td>\n      <td>NaN</td>\n      <td>NaN</td>\n      <td>NaN</td>\n      <td>NaN</td>\n      <td>NaN</td>\n    </tr>\n    <tr>\n      <th>5</th>\n      <td>NaN</td>\n      <td>NaN</td>\n      <td>NaN</td>\n      <td>NaN</td>\n      <td>NaN</td>\n      <td>NaN</td>\n      <td>NaN</td>\n      <td>NaN</td>\n      <td>NaN</td>\n      <td>NaN</td>\n      <td>...</td>\n      <td>NaN</td>\n      <td>NaN</td>\n      <td>NaN</td>\n      <td>NaN</td>\n      <td>Ensino Médio</td>\n      <td>NaN</td>\n      <td>NaN</td>\n      <td>NaN</td>\n      <td>NaN</td>\n      <td>NaN</td>\n    </tr>\n    <tr>\n      <th>6</th>\n      <td>Anos Iniciais</td>\n      <td>Anos Finais</td>\n      <td>1º Ano</td>\n      <td>2º Ano</td>\n      <td>3º Ano</td>\n      <td>4º Ano</td>\n      <td>5º Ano</td>\n      <td>6º Ano</td>\n      <td>7º Ano</td>\n      <td>8º Ano</td>\n      <td>...</td>\n      <td>6º Ano</td>\n      <td>7º Ano</td>\n      <td>8º Ano</td>\n      <td>9º Ano</td>\n      <td>Total</td>\n      <td>1ª série</td>\n      <td>2ª série</td>\n      <td>3ª série</td>\n      <td>4ª série</td>\n      <td>Não-Seriado</td>\n    </tr>\n    <tr>\n      <th>7</th>\n      <td>tap_F14</td>\n      <td>tap_F04</td>\n      <td>tap_F58</td>\n      <td>tap_F00</td>\n      <td>tap_F01</td>\n      <td>tap_F02</td>\n      <td>tap_F03</td>\n      <td>tap_F05</td>\n      <td>tap_F06</td>\n      <td>tap_F07</td>\n      <td>...</td>\n      <td>tab_F05</td>\n      <td>tab_F06</td>\n      <td>tab_F07</td>\n      <td>tab_F08</td>\n      <td>tab_MED</td>\n      <td>tab_M01</td>\n      <td>tab_M02</td>\n      <td>tab_M03</td>\n      <td>tab_M04</td>\n      <td>tab_MNS</td>\n    </tr>\n    <tr>\n      <th>8</th>\n      <td>95.1</td>\n      <td>89.9</td>\n      <td>98.5</td>\n      <td>97.5</td>\n      <td>91.4</td>\n      <td>94.1</td>\n      <td>94.7</td>\n      <td>87.9</td>\n      <td>89.1</td>\n      <td>91</td>\n      <td>...</td>\n      <td>1.9</td>\n      <td>1.8</td>\n      <td>1.8</td>\n      <td>1.9</td>\n      <td>4.8</td>\n      <td>6.1</td>\n      <td>4.6</td>\n      <td>3</td>\n      <td>3.9</td>\n      <td>4.6</td>\n    </tr>\n    <tr>\n      <th>9</th>\n      <td>95.9</td>\n      <td>90.4</td>\n      <td>98.6</td>\n      <td>97.7</td>\n      <td>92.4</td>\n      <td>95.3</td>\n      <td>95.7</td>\n      <td>88.8</td>\n      <td>89.6</td>\n      <td>91.4</td>\n      <td>...</td>\n      <td>1.6</td>\n      <td>1.5</td>\n      <td>1.5</td>\n      <td>1.6</td>\n      <td>4.7</td>\n      <td>5.9</td>\n      <td>4.5</td>\n      <td>3</td>\n      <td>3.9</td>\n      <td>4</td>\n    </tr>\n    <tr>\n      <th>10</th>\n      <td>91</td>\n      <td>86.1</td>\n      <td>97.8</td>\n      <td>96.4</td>\n      <td>85.9</td>\n      <td>87.9</td>\n      <td>88.8</td>\n      <td>81.4</td>\n      <td>85.4</td>\n      <td>88.1</td>\n      <td>...</td>\n      <td>4</td>\n      <td>3.9</td>\n      <td>4.1</td>\n      <td>3.7</td>\n      <td>6.7</td>\n      <td>8.3</td>\n      <td>6.5</td>\n      <td>4.3</td>\n      <td>4.5</td>\n      <td>7.8</td>\n    </tr>\n    <tr>\n      <th>11</th>\n      <td>96.9</td>\n      <td>94.5</td>\n      <td>97.6</td>\n      <td>96.8</td>\n      <td>96.3</td>\n      <td>97.8</td>\n      <td>96.2</td>\n      <td>95.1</td>\n      <td>94.9</td>\n      <td>93.6</td>\n      <td>...</td>\n      <td>0.4</td>\n      <td>0.2</td>\n      <td>0.1</td>\n      <td>0.3</td>\n      <td>1.7</td>\n      <td>1.8</td>\n      <td>1.5</td>\n      <td>1.3</td>\n      <td>2.1</td>\n      <td>2.5</td>\n    </tr>\n    <tr>\n      <th>12</th>\n      <td>96.9</td>\n      <td>94.5</td>\n      <td>97.6</td>\n      <td>96.7</td>\n      <td>96.3</td>\n      <td>97.8</td>\n      <td>96.2</td>\n      <td>95.1</td>\n      <td>95</td>\n      <td>93.5</td>\n      <td>...</td>\n      <td>0.4</td>\n      <td>0.1</td>\n      <td>0.2</td>\n      <td>0.3</td>\n      <td>1.7</td>\n      <td>1.8</td>\n      <td>1.6</td>\n      <td>1.3</td>\n      <td>2</td>\n      <td>2.5</td>\n    </tr>\n    <tr>\n      <th>13</th>\n      <td>100</td>\n      <td>94.6</td>\n      <td>100</td>\n      <td>100</td>\n      <td>100</td>\n      <td>100</td>\n      <td>100</td>\n      <td>93.3</td>\n      <td>84.6</td>\n      <td>100</td>\n      <td>...</td>\n      <td>0</td>\n      <td>0</td>\n      <td>0</td>\n      <td>0</td>\n      <td>1.3</td>\n      <td>1.6</td>\n      <td>0.8</td>\n      <td>1.1</td>\n      <td>5.7</td>\n      <td>2.2</td>\n    </tr>\n    <tr>\n      <th>14</th>\n      <td>96.3</td>\n      <td>90</td>\n      <td>99</td>\n      <td>98.7</td>\n      <td>92.5</td>\n      <td>96.7</td>\n      <td>95.4</td>\n      <td>89.2</td>\n      <td>89.6</td>\n      <td>90.8</td>\n      <td>...</td>\n      <td>1.4</td>\n      <td>1.5</td>\n      <td>1.7</td>\n      <td>2</td>\n      <td>5.5</td>\n      <td>7</td>\n      <td>5.4</td>\n      <td>3.5</td>\n      <td>5.1</td>\n      <td>6.1</td>\n    </tr>\n    <tr>\n      <th>15</th>\n      <td>96.6</td>\n      <td>90</td>\n      <td>99.1</td>\n      <td>99</td>\n      <td>92.8</td>\n      <td>97.1</td>\n      <td>95.8</td>\n      <td>89.3</td>\n      <td>89.6</td>\n      <td>90.9</td>\n      <td>...</td>\n      <td>1.4</td>\n      <td>1.5</td>\n      <td>1.6</td>\n      <td>2</td>\n      <td>5.4</td>\n      <td>6.9</td>\n      <td>5.3</td>\n      <td>3.5</td>\n      <td>5</td>\n      <td>5.3</td>\n    </tr>\n    <tr>\n      <th>16</th>\n      <td>91.6</td>\n      <td>88.6</td>\n      <td>96.5</td>\n      <td>94.6</td>\n      <td>88.1</td>\n      <td>90.8</td>\n      <td>89.7</td>\n      <td>86.7</td>\n      <td>88.3</td>\n      <td>89.6</td>\n      <td>...</td>\n      <td>2.9</td>\n      <td>2.9</td>\n      <td>3.2</td>\n      <td>3.4</td>\n      <td>7.3</td>\n      <td>9.1</td>\n      <td>7.2</td>\n      <td>4.8</td>\n      <td>5.2</td>\n      <td>8.3</td>\n    </tr>\n    <tr>\n      <th>17</th>\n      <td>93.9</td>\n      <td>87.3</td>\n      <td>98.3</td>\n      <td>96.9</td>\n      <td>89.3</td>\n      <td>92.4</td>\n      <td>93.5</td>\n      <td>83.7</td>\n      <td>85.9</td>\n      <td>88.9</td>\n      <td>...</td>\n      <td>2.8</td>\n      <td>2.7</td>\n      <td>2.7</td>\n      <td>2.4</td>\n      <td>3.9</td>\n      <td>4.4</td>\n      <td>4.2</td>\n      <td>2.6</td>\n      <td>3.7</td>\n      <td>35.7</td>\n    </tr>\n    <tr>\n      <th>18</th>\n      <td>94.7</td>\n      <td>87.9</td>\n      <td>98.4</td>\n      <td>97</td>\n      <td>90.3</td>\n      <td>93.7</td>\n      <td>94.7</td>\n      <td>84.6</td>\n      <td>86.3</td>\n      <td>89.3</td>\n      <td>...</td>\n      <td>2.5</td>\n      <td>2.3</td>\n      <td>2.1</td>\n      <td>1.9</td>\n      <td>3.5</td>\n      <td>3.9</td>\n      <td>3.7</td>\n      <td>2.2</td>\n      <td>2.9</td>\n      <td>35.7</td>\n    </tr>\n    <tr>\n      <th>19</th>\n      <td>90.8</td>\n      <td>85.4</td>\n      <td>97.8</td>\n      <td>96.5</td>\n      <td>85.6</td>\n      <td>87.6</td>\n      <td>88.7</td>\n      <td>80.2</td>\n      <td>84.7</td>\n      <td>87.6</td>\n      <td>...</td>\n      <td>4.3</td>\n      <td>4.1</td>\n      <td>4.4</td>\n      <td>3.9</td>\n      <td>8.1</td>\n      <td>9.1</td>\n      <td>8.3</td>\n      <td>6.5</td>\n      <td>7.4</td>\n      <td>NaN</td>\n    </tr>\n  </tbody>\n</table>\n<p>20 rows × 53 columns</p>\n</div>"
     },
     "execution_count": 52,
     "metadata": {},
     "output_type": "execute_result"
    }
   ],
   "source": [
    "df_brasil.iloc[:,5:]"
   ],
   "metadata": {
    "collapsed": false
   }
  },
  {
   "cell_type": "code",
   "execution_count": 76,
   "outputs": [
    {
     "data": {
      "text/plain": "    NU_ANO_CENSO NO_CODIGO TIPOLOCA   Dependad  HAD_INF  HAD_CRE  HAD_PRE  \\\n0           2016    Brasil    Total      Total      6.0      7.7      4.9   \n1           2016    Brasil   Urbana      Total      6.1      7.8      4.9   \n2           2016    Brasil    Rural      Total      4.7      5.9      4.3   \n3           2016    Brasil    Total    Federal      7.0      7.7      6.2   \n4           2016    Brasil   Urbana    Federal      7.1      7.9      6.3   \n5           2016    Brasil    Rural    Federal      4.0      4.0      4.0   \n6           2016    Brasil    Total   Estadual      5.2      7.7      5.0   \n7           2016    Brasil   Urbana   Estadual      5.3      8.4      5.1   \n8           2016    Brasil    Rural   Estadual      4.4      4.7      4.4   \n9           2016    Brasil    Total  Municipal      5.9      7.9      4.8   \n10          2016    Brasil   Urbana  Municipal      6.1      8.1      4.9   \n11          2016    Brasil    Rural  Municipal      4.6      5.8      4.3   \n12          2016    Brasil    Total    Privada      6.1      7.3      5.0   \n13          2016    Brasil   Urbana    Privada      6.1      7.3      5.0   \n14          2016    Brasil    Rural    Privada      6.2      7.4      5.3   \n\n    HAD_FUN  HAD_F14  HAD_F58  ...  HAD_F05  HAD_F06  HAD_F07  HAD_F08  \\\n0       4.6      4.5      4.7  ...      4.7      4.7      4.7      4.7   \n1       4.6      4.5      4.7  ...      4.7      4.7      4.7      4.7   \n2       4.4      4.4      4.5  ...      4.5      4.5      4.5      4.5   \n3       5.0      4.9      5.1  ...      5.1      5.1      5.1      5.1   \n4       5.1      4.9      5.1  ...      5.1      5.1      5.1      5.1   \n5       4.4      4.5      4.4  ...      4.0      4.5      NaN      4.5   \n6       4.7      4.6      4.8  ...      4.8      4.8      4.8      4.8   \n7       4.8      4.6      4.8  ...      4.8      4.8      4.8      4.8   \n8       4.5      4.4      4.5  ...      4.5      4.5      4.5      4.5   \n9       4.5      4.5      4.5  ...      4.5      4.5      4.5      4.5   \n10      4.5      4.5      4.6  ...      4.5      4.6      4.5      4.6   \n11      4.4      4.4      4.4  ...      4.5      4.5      4.4      4.4   \n12      4.6      4.4      4.8  ...      4.8      4.8      4.9      4.9   \n13      4.6      4.4      4.8  ...      4.8      4.8      4.9      4.9   \n14      5.1      4.5      6.1  ...      6.0      6.1      6.2      6.1   \n\n    HAD_MED  HAD_M01  HAD_M02  HAD_M03  HAD_M04  HAD_MNS  \n0       4.9      5.0      4.9      4.8      4.4      4.6  \n1       4.9      5.0      4.9      4.8      4.3      4.5  \n2       4.9      4.9      4.9      4.8      6.9      4.9  \n3       6.7      7.0      6.9      6.8      5.1      5.3  \n4       6.4      6.8      6.6      6.4      5.1      5.2  \n5       8.4      8.7      8.5      8.4      5.5      6.6  \n6       4.8      4.9      4.8      4.7      4.1      4.0  \n7       4.8      4.9      4.8      4.7      4.1      3.9  \n8       4.5      4.6      4.5      4.4      6.0      4.3  \n9       4.7      4.8      4.7      4.7      4.3      4.0  \n10      4.7      4.8      4.7      4.7      4.3      4.1  \n11      4.5      4.5      4.4      4.6      4.4      3.1  \n12      5.4      5.4      5.4      5.4      6.5      5.0  \n13      5.4      5.4      5.4      5.4      4.9      5.0  \n14      7.9      7.9      7.8      7.8     10.1      5.0  \n\n[15 rows x 25 columns]",
      "text/html": "<div>\n<style scoped>\n    .dataframe tbody tr th:only-of-type {\n        vertical-align: middle;\n    }\n\n    .dataframe tbody tr th {\n        vertical-align: top;\n    }\n\n    .dataframe thead th {\n        text-align: right;\n    }\n</style>\n<table border=\"1\" class=\"dataframe\">\n  <thead>\n    <tr style=\"text-align: right;\">\n      <th></th>\n      <th>NU_ANO_CENSO</th>\n      <th>NO_CODIGO</th>\n      <th>TIPOLOCA</th>\n      <th>Dependad</th>\n      <th>HAD_INF</th>\n      <th>HAD_CRE</th>\n      <th>HAD_PRE</th>\n      <th>HAD_FUN</th>\n      <th>HAD_F14</th>\n      <th>HAD_F58</th>\n      <th>...</th>\n      <th>HAD_F05</th>\n      <th>HAD_F06</th>\n      <th>HAD_F07</th>\n      <th>HAD_F08</th>\n      <th>HAD_MED</th>\n      <th>HAD_M01</th>\n      <th>HAD_M02</th>\n      <th>HAD_M03</th>\n      <th>HAD_M04</th>\n      <th>HAD_MNS</th>\n    </tr>\n  </thead>\n  <tbody>\n    <tr>\n      <th>0</th>\n      <td>2016</td>\n      <td>Brasil</td>\n      <td>Total</td>\n      <td>Total</td>\n      <td>6.0</td>\n      <td>7.7</td>\n      <td>4.9</td>\n      <td>4.6</td>\n      <td>4.5</td>\n      <td>4.7</td>\n      <td>...</td>\n      <td>4.7</td>\n      <td>4.7</td>\n      <td>4.7</td>\n      <td>4.7</td>\n      <td>4.9</td>\n      <td>5.0</td>\n      <td>4.9</td>\n      <td>4.8</td>\n      <td>4.4</td>\n      <td>4.6</td>\n    </tr>\n    <tr>\n      <th>1</th>\n      <td>2016</td>\n      <td>Brasil</td>\n      <td>Urbana</td>\n      <td>Total</td>\n      <td>6.1</td>\n      <td>7.8</td>\n      <td>4.9</td>\n      <td>4.6</td>\n      <td>4.5</td>\n      <td>4.7</td>\n      <td>...</td>\n      <td>4.7</td>\n      <td>4.7</td>\n      <td>4.7</td>\n      <td>4.7</td>\n      <td>4.9</td>\n      <td>5.0</td>\n      <td>4.9</td>\n      <td>4.8</td>\n      <td>4.3</td>\n      <td>4.5</td>\n    </tr>\n    <tr>\n      <th>2</th>\n      <td>2016</td>\n      <td>Brasil</td>\n      <td>Rural</td>\n      <td>Total</td>\n      <td>4.7</td>\n      <td>5.9</td>\n      <td>4.3</td>\n      <td>4.4</td>\n      <td>4.4</td>\n      <td>4.5</td>\n      <td>...</td>\n      <td>4.5</td>\n      <td>4.5</td>\n      <td>4.5</td>\n      <td>4.5</td>\n      <td>4.9</td>\n      <td>4.9</td>\n      <td>4.9</td>\n      <td>4.8</td>\n      <td>6.9</td>\n      <td>4.9</td>\n    </tr>\n    <tr>\n      <th>3</th>\n      <td>2016</td>\n      <td>Brasil</td>\n      <td>Total</td>\n      <td>Federal</td>\n      <td>7.0</td>\n      <td>7.7</td>\n      <td>6.2</td>\n      <td>5.0</td>\n      <td>4.9</td>\n      <td>5.1</td>\n      <td>...</td>\n      <td>5.1</td>\n      <td>5.1</td>\n      <td>5.1</td>\n      <td>5.1</td>\n      <td>6.7</td>\n      <td>7.0</td>\n      <td>6.9</td>\n      <td>6.8</td>\n      <td>5.1</td>\n      <td>5.3</td>\n    </tr>\n    <tr>\n      <th>4</th>\n      <td>2016</td>\n      <td>Brasil</td>\n      <td>Urbana</td>\n      <td>Federal</td>\n      <td>7.1</td>\n      <td>7.9</td>\n      <td>6.3</td>\n      <td>5.1</td>\n      <td>4.9</td>\n      <td>5.1</td>\n      <td>...</td>\n      <td>5.1</td>\n      <td>5.1</td>\n      <td>5.1</td>\n      <td>5.1</td>\n      <td>6.4</td>\n      <td>6.8</td>\n      <td>6.6</td>\n      <td>6.4</td>\n      <td>5.1</td>\n      <td>5.2</td>\n    </tr>\n    <tr>\n      <th>5</th>\n      <td>2016</td>\n      <td>Brasil</td>\n      <td>Rural</td>\n      <td>Federal</td>\n      <td>4.0</td>\n      <td>4.0</td>\n      <td>4.0</td>\n      <td>4.4</td>\n      <td>4.5</td>\n      <td>4.4</td>\n      <td>...</td>\n      <td>4.0</td>\n      <td>4.5</td>\n      <td>NaN</td>\n      <td>4.5</td>\n      <td>8.4</td>\n      <td>8.7</td>\n      <td>8.5</td>\n      <td>8.4</td>\n      <td>5.5</td>\n      <td>6.6</td>\n    </tr>\n    <tr>\n      <th>6</th>\n      <td>2016</td>\n      <td>Brasil</td>\n      <td>Total</td>\n      <td>Estadual</td>\n      <td>5.2</td>\n      <td>7.7</td>\n      <td>5.0</td>\n      <td>4.7</td>\n      <td>4.6</td>\n      <td>4.8</td>\n      <td>...</td>\n      <td>4.8</td>\n      <td>4.8</td>\n      <td>4.8</td>\n      <td>4.8</td>\n      <td>4.8</td>\n      <td>4.9</td>\n      <td>4.8</td>\n      <td>4.7</td>\n      <td>4.1</td>\n      <td>4.0</td>\n    </tr>\n    <tr>\n      <th>7</th>\n      <td>2016</td>\n      <td>Brasil</td>\n      <td>Urbana</td>\n      <td>Estadual</td>\n      <td>5.3</td>\n      <td>8.4</td>\n      <td>5.1</td>\n      <td>4.8</td>\n      <td>4.6</td>\n      <td>4.8</td>\n      <td>...</td>\n      <td>4.8</td>\n      <td>4.8</td>\n      <td>4.8</td>\n      <td>4.8</td>\n      <td>4.8</td>\n      <td>4.9</td>\n      <td>4.8</td>\n      <td>4.7</td>\n      <td>4.1</td>\n      <td>3.9</td>\n    </tr>\n    <tr>\n      <th>8</th>\n      <td>2016</td>\n      <td>Brasil</td>\n      <td>Rural</td>\n      <td>Estadual</td>\n      <td>4.4</td>\n      <td>4.7</td>\n      <td>4.4</td>\n      <td>4.5</td>\n      <td>4.4</td>\n      <td>4.5</td>\n      <td>...</td>\n      <td>4.5</td>\n      <td>4.5</td>\n      <td>4.5</td>\n      <td>4.5</td>\n      <td>4.5</td>\n      <td>4.6</td>\n      <td>4.5</td>\n      <td>4.4</td>\n      <td>6.0</td>\n      <td>4.3</td>\n    </tr>\n    <tr>\n      <th>9</th>\n      <td>2016</td>\n      <td>Brasil</td>\n      <td>Total</td>\n      <td>Municipal</td>\n      <td>5.9</td>\n      <td>7.9</td>\n      <td>4.8</td>\n      <td>4.5</td>\n      <td>4.5</td>\n      <td>4.5</td>\n      <td>...</td>\n      <td>4.5</td>\n      <td>4.5</td>\n      <td>4.5</td>\n      <td>4.5</td>\n      <td>4.7</td>\n      <td>4.8</td>\n      <td>4.7</td>\n      <td>4.7</td>\n      <td>4.3</td>\n      <td>4.0</td>\n    </tr>\n    <tr>\n      <th>10</th>\n      <td>2016</td>\n      <td>Brasil</td>\n      <td>Urbana</td>\n      <td>Municipal</td>\n      <td>6.1</td>\n      <td>8.1</td>\n      <td>4.9</td>\n      <td>4.5</td>\n      <td>4.5</td>\n      <td>4.6</td>\n      <td>...</td>\n      <td>4.5</td>\n      <td>4.6</td>\n      <td>4.5</td>\n      <td>4.6</td>\n      <td>4.7</td>\n      <td>4.8</td>\n      <td>4.7</td>\n      <td>4.7</td>\n      <td>4.3</td>\n      <td>4.1</td>\n    </tr>\n    <tr>\n      <th>11</th>\n      <td>2016</td>\n      <td>Brasil</td>\n      <td>Rural</td>\n      <td>Municipal</td>\n      <td>4.6</td>\n      <td>5.8</td>\n      <td>4.3</td>\n      <td>4.4</td>\n      <td>4.4</td>\n      <td>4.4</td>\n      <td>...</td>\n      <td>4.5</td>\n      <td>4.5</td>\n      <td>4.4</td>\n      <td>4.4</td>\n      <td>4.5</td>\n      <td>4.5</td>\n      <td>4.4</td>\n      <td>4.6</td>\n      <td>4.4</td>\n      <td>3.1</td>\n    </tr>\n    <tr>\n      <th>12</th>\n      <td>2016</td>\n      <td>Brasil</td>\n      <td>Total</td>\n      <td>Privada</td>\n      <td>6.1</td>\n      <td>7.3</td>\n      <td>5.0</td>\n      <td>4.6</td>\n      <td>4.4</td>\n      <td>4.8</td>\n      <td>...</td>\n      <td>4.8</td>\n      <td>4.8</td>\n      <td>4.9</td>\n      <td>4.9</td>\n      <td>5.4</td>\n      <td>5.4</td>\n      <td>5.4</td>\n      <td>5.4</td>\n      <td>6.5</td>\n      <td>5.0</td>\n    </tr>\n    <tr>\n      <th>13</th>\n      <td>2016</td>\n      <td>Brasil</td>\n      <td>Urbana</td>\n      <td>Privada</td>\n      <td>6.1</td>\n      <td>7.3</td>\n      <td>5.0</td>\n      <td>4.6</td>\n      <td>4.4</td>\n      <td>4.8</td>\n      <td>...</td>\n      <td>4.8</td>\n      <td>4.8</td>\n      <td>4.9</td>\n      <td>4.9</td>\n      <td>5.4</td>\n      <td>5.4</td>\n      <td>5.4</td>\n      <td>5.4</td>\n      <td>4.9</td>\n      <td>5.0</td>\n    </tr>\n    <tr>\n      <th>14</th>\n      <td>2016</td>\n      <td>Brasil</td>\n      <td>Rural</td>\n      <td>Privada</td>\n      <td>6.2</td>\n      <td>7.4</td>\n      <td>5.3</td>\n      <td>5.1</td>\n      <td>4.5</td>\n      <td>6.1</td>\n      <td>...</td>\n      <td>6.0</td>\n      <td>6.1</td>\n      <td>6.2</td>\n      <td>6.1</td>\n      <td>7.9</td>\n      <td>7.9</td>\n      <td>7.8</td>\n      <td>7.8</td>\n      <td>10.1</td>\n      <td>5.0</td>\n    </tr>\n  </tbody>\n</table>\n<p>15 rows × 25 columns</p>\n</div>"
     },
     "execution_count": 76,
     "metadata": {},
     "output_type": "execute_result"
    }
   ],
   "source": [
    "df_brasil"
   ],
   "metadata": {
    "collapsed": false
   }
  },
  {
   "cell_type": "code",
   "execution_count": 59,
   "outputs": [],
   "source": [
    "df_brasil = df_brasil.rename(\n",
    "    columns=dict(zip(df_brasil.columns[:4], columns))\n",
    ")\n",
    "\n",
    "df_brasil.insert(\n",
    "    2,\n",
    "    \"TP_LOCALIDADE_GEOGRAFICA\",\n",
    "    df_brasil[\"NO_LOCALIDADE_GEOGRAFICA\"].apply(set_tipo_localidade_geografica)\n",
    ")\n",
    "id_vars = df_brasil.columns[:5]\n",
    "value_vars = df_brasil.columns[5:]\n",
    "df_brasil = df_brasil.melt(id_vars=id_vars, value_vars=value_vars, var_name=\"TP_GRUPO\", value_name=\"METRICA\")"
   ],
   "metadata": {
    "collapsed": false
   }
  },
  {
   "cell_type": "code",
   "execution_count": 62,
   "outputs": [],
   "source": [
    "df = pd.concat([df_municipios, df_brasil], axis=0)"
   ],
   "metadata": {
    "collapsed": false
   }
  },
  {
   "cell_type": "code",
   "execution_count": 63,
   "outputs": [
    {
     "data": {
      "text/plain": "array(['Município', 'País', 'Região Geográfica', 'Unidade Federativa'],\n      dtype=object)"
     },
     "execution_count": 63,
     "metadata": {},
     "output_type": "execute_result"
    }
   ],
   "source": [
    "df.TP_LOCALIDADE_GEOGRAFICA.unique()"
   ],
   "metadata": {
    "collapsed": false
   }
  },
  {
   "cell_type": "code",
   "execution_count": null,
   "outputs": [],
   "source": [],
   "metadata": {
    "collapsed": false
   }
  }
 ],
 "metadata": {
  "kernelspec": {
   "display_name": "Python 3 (ipykernel)",
   "language": "python",
   "name": "python3"
  },
  "language_info": {
   "codemirror_mode": {
    "name": "ipython",
    "version": 3
   },
   "file_extension": ".py",
   "mimetype": "text/x-python",
   "name": "python",
   "nbconvert_exporter": "python",
   "pygments_lexer": "ipython3",
   "version": "3.10.7"
  }
 },
 "nbformat": 4,
 "nbformat_minor": 5
}
