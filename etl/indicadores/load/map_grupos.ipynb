{
 "cells": [
  {
   "cell_type": "code",
   "execution_count": 1,
   "id": "024d0237",
   "metadata": {
    "collapsed": false,
    "jupyter": {
     "outputs_hidden": false
    }
   },
   "outputs": [],
   "source": [
    "from collections import Counter\n",
    "import random\n",
    "\n",
    "import numpy as np\n",
    "import pyarrow.dataset as ds\n",
    "import duckdb\n",
    "import pandas as pd\n",
    "import numpy as np\n",
    "import seaborn as sns\n",
    "import plotly as pl\n",
    "import plotly.express as px\n",
    "import json\n",
    "\n",
    "\n",
    "INDICADORES = {\n",
    "    \"AFD\": \"Adequação da Formação Docente\",\n",
    "    \"ICG\": \"Complexidade de Gestão da Escola\",\n",
    "    \"IED\": \"Esforço Docente\",\n",
    "    \"ATU\": \"Média de Alunos por Turma\",\n",
    "    \"HAD\": \"Média de Horas-aula diária\",\n",
    "    \"DSU\": \"Percentual de Docentes com Curso Superior\",\n",
    "    \"TDI\": \"Taxas de Distorção Idade-série\",\n",
    "            \"TRE\": \"Taxa de Rendimento Escolar\",\n",
    "\n",
    "}\n",
    "\n",
    "DIMENSIONS = {\n",
    "    \"Ano\": \"NU_ANO_CENSO\",\n",
    "    \"Nome da região geográfica\": \"NO_REGIAO\",\n",
    "    \"Nome da Unidade da Federação\": \"NO_UF\",\n",
    "    \"Nome da Mesorregião\": \"NO_MESORREGIAO\",\n",
    "    \"Nome da Microrregião\": \"NO_MICRORREGIAO\"\n",
    "}\n",
    "\n",
    "with open(\"../map_indicadores.json\") as f:\n",
    "    MAP_INDICADORES = json.load(f)"
   ]
  },
  {
   "cell_type": "code",
   "execution_count": 68,
   "outputs": [],
   "source": [
    "year = 2016\n",
    "indicador = \"TRE\"\n",
    "file = f\"../../../data/raw/{indicador}/{year}.xlsx\"\n",
    "df = pd.read_excel(file, skiprows=8, skipfooter=6, na_values=[\"--\"])"
   ],
   "metadata": {
    "collapsed": false
   }
  },
  {
   "cell_type": "code",
   "execution_count": 60,
   "outputs": [],
   "source": [
    "a = df.iloc[:,:9]"
   ],
   "metadata": {
    "collapsed": false
   }
  },
  {
   "cell_type": "code",
   "execution_count": 69,
   "outputs": [],
   "source": [
    "b = df.iloc[:,9:27]"
   ],
   "metadata": {
    "collapsed": false
   }
  },
  {
   "cell_type": "code",
   "execution_count": 70,
   "outputs": [],
   "source": [
    "c = pd.concat([a,b], axis=1)"
   ],
   "metadata": {
    "collapsed": false
   }
  },
  {
   "cell_type": "code",
   "execution_count": 72,
   "outputs": [
    {
     "data": {
      "text/plain": "Index(['Ano', 'NO_REGIAO', 'SG_UF', 'CO_MUNICIPIO', 'NO_MUNICIPIO',\n       'CO_ENTIDADE', 'NO_ENTIDADE', 'TIPOLOCA', 'Dependad'],\n      dtype='object')"
     },
     "execution_count": 72,
     "metadata": {},
     "output_type": "execute_result"
    }
   ],
   "source": [
    "c.columns[:9]"
   ],
   "metadata": {
    "collapsed": false
   }
  },
  {
   "cell_type": "code",
   "execution_count": null,
   "outputs": [],
   "source": [
    "columns = ['NU_ANO_CENSO', 'NO_REGIAO', 'SG_UF', 'CO_MUNICIPIO', 'NO_MUNICIPIO',\n",
    "           'CO_ENTIDADE', 'NO_ENTIDADE', 'NO_CATEGORIA', 'NO_DEPENDENCIA']\n",
    "df = df.rename(\n",
    "    columns=dict(zip(df.columns[:9], columns))\n",
    ")"
   ],
   "metadata": {
    "collapsed": false
   }
  },
  {
   "cell_type": "code",
   "execution_count": 23,
   "outputs": [],
   "source": [
    "\n",
    "# renamed columns\n",
    "columns = ['NU_ANO_CENSO', 'NO_REGIAO', 'SG_UF', 'CO_MUNICIPIO', 'NO_MUNICIPIO',\n",
    "           'CO_ENTIDADE', 'NO_ENTIDADE', 'NO_CATEGORIA', 'NO_DEPENDENCIA']\n",
    "df2 = df.rename(\n",
    "    columns=dict(zip(df.columns[:9], columns))\n",
    ")\n",
    "\n",
    "# deleted columns\n",
    "df2 = df.drop(columns=[\"NO_ENTIDADE\"])\n",
    "\n",
    "df2.insert(8, \"NO_INDICADOR\", INDICADORES[indicador])\n",
    "df2.insert(9, \"SG_INDICADOR\", indicador)\n"
   ],
   "metadata": {
    "collapsed": false
   }
  },
  {
   "cell_type": "code",
   "execution_count": 24,
   "outputs": [
    {
     "data": {
      "text/plain": "[(0, 'Ano'),\n (1, 'NO_REGIAO'),\n (2, 'SIGLA'),\n (3, 'PK_COD_MUNICIPIO'),\n (4, 'NO_MUNICIPIO'),\n (5, 'PK_COD_ENTIDADE'),\n (6, 'TIPOLOCA'),\n (7, 'Dependad'),\n (8, 'NO_INDICADOR'),\n (9, 'SG_INDICADOR'),\n (10, 'AFD_INF1'),\n (11, 'AFD_INF2'),\n (12, 'AFD_INF3'),\n (13, 'AFD_INF4'),\n (14, 'AFD_INF5'),\n (15, 'AFD_FUN1'),\n (16, 'AFD_FUN2'),\n (17, 'AFD_FUN3'),\n (18, 'AFD_FUN4'),\n (19, 'AFD_FUN5'),\n (20, 'AFD_F141'),\n (21, 'AFD_F142'),\n (22, 'AFD_F143'),\n (23, 'AFD_F144'),\n (24, 'AFD_F145'),\n (25, 'AFD_F581'),\n (26, 'AFD_F582'),\n (27, 'AFD_F583'),\n (28, 'AFD_F584'),\n (29, 'AFD_F585'),\n (30, 'AFD_MED1'),\n (31, 'AFD_MED2'),\n (32, 'AFD_MED3'),\n (33, 'AFD_MED4'),\n (34, 'AFD_MED5'),\n (35, 'AFD_EJAF1'),\n (36, 'AFD_EJAF2'),\n (37, 'AFD_EJAF3'),\n (38, 'AFD_EJAF4'),\n (39, 'AFD_EJAF5'),\n (40, 'AFD_EJAM1'),\n (41, 'AFD_EJAM2'),\n (42, 'AFD_EJAM3'),\n (43, 'AFD_EJAM4'),\n (44, 'AFD_EJAM5')]"
     },
     "execution_count": 24,
     "metadata": {},
     "output_type": "execute_result"
    }
   ],
   "source": [
    "list(enumerate(df2.columns))"
   ],
   "metadata": {
    "collapsed": false
   }
  },
  {
   "cell_type": "code",
   "execution_count": 28,
   "outputs": [],
   "source": [
    "id_vars = df2.columns[:10]\n",
    "value_vars = df2.columns[10:]\n",
    "df3 = df2.melt(id_vars=id_vars, value_vars=value_vars, var_name=\"TP_GRUPO\", value_name=\"METRICA\")"
   ],
   "metadata": {
    "collapsed": false
   }
  },
  {
   "cell_type": "code",
   "execution_count": 29,
   "outputs": [
    {
     "data": {
      "text/plain": "0           NaN\n1           NaN\n2           NaN\n3          50.0\n4           NaN\n           ... \n6392115     NaN\n6392116     NaN\n6392117     NaN\n6392118     NaN\n6392119     NaN\nName: METRICA, Length: 6392120, dtype: float64"
     },
     "execution_count": 29,
     "metadata": {},
     "output_type": "execute_result"
    }
   ],
   "source": [
    "df3[\"METRICA\"].astype(\"float\")"
   ],
   "metadata": {
    "collapsed": false
   }
  },
  {
   "cell_type": "code",
   "execution_count": null,
   "outputs": [],
   "source": [],
   "metadata": {
    "collapsed": false
   }
  }
 ],
 "metadata": {
  "kernelspec": {
   "display_name": "Python 3 (ipykernel)",
   "language": "python",
   "name": "python3"
  },
  "language_info": {
   "codemirror_mode": {
    "name": "ipython",
    "version": 3
   },
   "file_extension": ".py",
   "mimetype": "text/x-python",
   "name": "python",
   "nbconvert_exporter": "python",
   "pygments_lexer": "ipython3",
   "version": "3.10.7"
  }
 },
 "nbformat": 4,
 "nbformat_minor": 5
}
