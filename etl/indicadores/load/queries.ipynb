{
 "cells": [
  {
   "cell_type": "code",
   "execution_count": 1,
   "id": "024d0237",
   "metadata": {
    "collapsed": false,
    "jupyter": {
     "outputs_hidden": false
    }
   },
   "outputs": [
    {
     "ename": "FileNotFoundError",
     "evalue": "../../data/transformed/microdados.parquet",
     "output_type": "error",
     "traceback": [
      "\u001B[0;31m---------------------------------------------------------------------------\u001B[0m",
      "\u001B[0;31mFileNotFoundError\u001B[0m                         Traceback (most recent call last)",
      "Cell \u001B[0;32mIn[1], line 34\u001B[0m\n\u001B[1;32m     24\u001B[0m DIMENSIONS \u001B[38;5;241m=\u001B[39m {\n\u001B[1;32m     25\u001B[0m     \u001B[38;5;124m\"\u001B[39m\u001B[38;5;124mAno\u001B[39m\u001B[38;5;124m\"\u001B[39m: \u001B[38;5;124m\"\u001B[39m\u001B[38;5;124mNU_ANO_CENSO\u001B[39m\u001B[38;5;124m\"\u001B[39m,\n\u001B[1;32m     26\u001B[0m     \u001B[38;5;124m\"\u001B[39m\u001B[38;5;124mNome da região geográfica\u001B[39m\u001B[38;5;124m\"\u001B[39m: \u001B[38;5;124m\"\u001B[39m\u001B[38;5;124mNO_REGIAO\u001B[39m\u001B[38;5;124m\"\u001B[39m,\n\u001B[0;32m   (...)\u001B[0m\n\u001B[1;32m     29\u001B[0m     \u001B[38;5;124m\"\u001B[39m\u001B[38;5;124mNome da Microrregião\u001B[39m\u001B[38;5;124m\"\u001B[39m: \u001B[38;5;124m\"\u001B[39m\u001B[38;5;124mNO_MICRORREGIAO\u001B[39m\u001B[38;5;124m\"\u001B[39m\n\u001B[1;32m     30\u001B[0m }\n\u001B[1;32m     32\u001B[0m con \u001B[38;5;241m=\u001B[39m duckdb\u001B[38;5;241m.\u001B[39mconnect(\u001B[38;5;124m'\u001B[39m\u001B[38;5;124m../../file.db\u001B[39m\u001B[38;5;124m'\u001B[39m)\n\u001B[0;32m---> 34\u001B[0m microdados \u001B[38;5;241m=\u001B[39m \u001B[43mds\u001B[49m\u001B[38;5;241;43m.\u001B[39;49m\u001B[43mdataset\u001B[49m\u001B[43m(\u001B[49m\u001B[38;5;124;43m\"\u001B[39;49m\u001B[38;5;124;43m../../data/transformed/microdados.parquet\u001B[39;49m\u001B[38;5;124;43m\"\u001B[39;49m\u001B[43m,\u001B[49m\u001B[43m \u001B[49m\u001B[38;5;28;43mformat\u001B[39;49m\u001B[38;5;241;43m=\u001B[39;49m\u001B[38;5;124;43m\"\u001B[39;49m\u001B[38;5;124;43mparquet\u001B[39;49m\u001B[38;5;124;43m\"\u001B[39;49m\u001B[43m,\u001B[49m\u001B[43m \u001B[49m\u001B[43mpartitioning\u001B[49m\u001B[38;5;241;43m=\u001B[39;49m\u001B[38;5;124;43m\"\u001B[39;49m\u001B[38;5;124;43mhive\u001B[39;49m\u001B[38;5;124;43m\"\u001B[39;49m\u001B[43m)\u001B[49m\n\u001B[1;32m     35\u001B[0m con\u001B[38;5;241m.\u001B[39mregister(\u001B[38;5;124m\"\u001B[39m\u001B[38;5;124mmicrodados\u001B[39m\u001B[38;5;124m\"\u001B[39m, microdados)\n\u001B[1;32m     37\u001B[0m indicadores \u001B[38;5;241m=\u001B[39m {}\n",
      "File \u001B[0;32m~/Documents/tcc_censo_escolar/venv/lib/python3.10/site-packages/pyarrow/dataset.py:762\u001B[0m, in \u001B[0;36mdataset\u001B[0;34m(source, schema, format, filesystem, partitioning, partition_base_dir, exclude_invalid_files, ignore_prefixes)\u001B[0m\n\u001B[1;32m    751\u001B[0m kwargs \u001B[38;5;241m=\u001B[39m \u001B[38;5;28mdict\u001B[39m(\n\u001B[1;32m    752\u001B[0m     schema\u001B[38;5;241m=\u001B[39mschema,\n\u001B[1;32m    753\u001B[0m     filesystem\u001B[38;5;241m=\u001B[39mfilesystem,\n\u001B[0;32m   (...)\u001B[0m\n\u001B[1;32m    758\u001B[0m     selector_ignore_prefixes\u001B[38;5;241m=\u001B[39mignore_prefixes\n\u001B[1;32m    759\u001B[0m )\n\u001B[1;32m    761\u001B[0m \u001B[38;5;28;01mif\u001B[39;00m _is_path_like(source):\n\u001B[0;32m--> 762\u001B[0m     \u001B[38;5;28;01mreturn\u001B[39;00m \u001B[43m_filesystem_dataset\u001B[49m\u001B[43m(\u001B[49m\u001B[43msource\u001B[49m\u001B[43m,\u001B[49m\u001B[43m \u001B[49m\u001B[38;5;241;43m*\u001B[39;49m\u001B[38;5;241;43m*\u001B[39;49m\u001B[43mkwargs\u001B[49m\u001B[43m)\u001B[49m\n\u001B[1;32m    763\u001B[0m \u001B[38;5;28;01melif\u001B[39;00m \u001B[38;5;28misinstance\u001B[39m(source, (\u001B[38;5;28mtuple\u001B[39m, \u001B[38;5;28mlist\u001B[39m)):\n\u001B[1;32m    764\u001B[0m     \u001B[38;5;28;01mif\u001B[39;00m \u001B[38;5;28mall\u001B[39m(_is_path_like(elem) \u001B[38;5;28;01mfor\u001B[39;00m elem \u001B[38;5;129;01min\u001B[39;00m source):\n",
      "File \u001B[0;32m~/Documents/tcc_censo_escolar/venv/lib/python3.10/site-packages/pyarrow/dataset.py:445\u001B[0m, in \u001B[0;36m_filesystem_dataset\u001B[0;34m(source, schema, filesystem, partitioning, format, partition_base_dir, exclude_invalid_files, selector_ignore_prefixes)\u001B[0m\n\u001B[1;32m    443\u001B[0m     fs, paths_or_selector \u001B[38;5;241m=\u001B[39m _ensure_multiple_sources(source, filesystem)\n\u001B[1;32m    444\u001B[0m \u001B[38;5;28;01melse\u001B[39;00m:\n\u001B[0;32m--> 445\u001B[0m     fs, paths_or_selector \u001B[38;5;241m=\u001B[39m \u001B[43m_ensure_single_source\u001B[49m\u001B[43m(\u001B[49m\u001B[43msource\u001B[49m\u001B[43m,\u001B[49m\u001B[43m \u001B[49m\u001B[43mfilesystem\u001B[49m\u001B[43m)\u001B[49m\n\u001B[1;32m    447\u001B[0m options \u001B[38;5;241m=\u001B[39m FileSystemFactoryOptions(\n\u001B[1;32m    448\u001B[0m     partitioning\u001B[38;5;241m=\u001B[39mpartitioning,\n\u001B[1;32m    449\u001B[0m     partition_base_dir\u001B[38;5;241m=\u001B[39mpartition_base_dir,\n\u001B[1;32m    450\u001B[0m     exclude_invalid_files\u001B[38;5;241m=\u001B[39mexclude_invalid_files,\n\u001B[1;32m    451\u001B[0m     selector_ignore_prefixes\u001B[38;5;241m=\u001B[39mselector_ignore_prefixes\n\u001B[1;32m    452\u001B[0m )\n\u001B[1;32m    453\u001B[0m factory \u001B[38;5;241m=\u001B[39m FileSystemDatasetFactory(fs, paths_or_selector, \u001B[38;5;28mformat\u001B[39m, options)\n",
      "File \u001B[0;32m~/Documents/tcc_censo_escolar/venv/lib/python3.10/site-packages/pyarrow/dataset.py:421\u001B[0m, in \u001B[0;36m_ensure_single_source\u001B[0;34m(path, filesystem)\u001B[0m\n\u001B[1;32m    419\u001B[0m     paths_or_selector \u001B[38;5;241m=\u001B[39m [path]\n\u001B[1;32m    420\u001B[0m \u001B[38;5;28;01melse\u001B[39;00m:\n\u001B[0;32m--> 421\u001B[0m     \u001B[38;5;28;01mraise\u001B[39;00m \u001B[38;5;167;01mFileNotFoundError\u001B[39;00m(path)\n\u001B[1;32m    423\u001B[0m \u001B[38;5;28;01mreturn\u001B[39;00m filesystem, paths_or_selector\n",
      "\u001B[0;31mFileNotFoundError\u001B[0m: ../../data/transformed/microdados.parquet"
     ]
    }
   ],
   "source": [
    "from collections import Counter\n",
    "import random\n",
    "\n",
    "import numpy as np\n",
    "import pyarrow.dataset as ds\n",
    "import duckdb\n",
    "import pandas as pd\n",
    "import numpy as np\n",
    "import seaborn as sns\n",
    "import plotly as pl\n",
    "import plotly.express as px\n",
    "import json\n",
    "\n",
    "INDICADORES = {\n",
    "    \"AFD\": \"Adequação da Formação Docente\",\n",
    "    \"ICG\": \"Complexidade de Gestão da Escola\",\n",
    "    \"IED\": \"Esforço Docente\",\n",
    "    \"ATU\": \"Média de Alunos por Turma\",\n",
    "    \"HAD\": \"Média de Horas-aula diária\",\n",
    "    \"DSU\": \"Percentual de Docentes com Curso Superior\",\n",
    "    \"TDI\": \"Taxas de Distorção Idade-série\"\n",
    "}\n",
    "\n",
    "DIMENSIONS = {\n",
    "    \"Ano\": \"NU_ANO_CENSO\",\n",
    "    \"Nome da região geográfica\": \"NO_REGIAO\",\n",
    "    \"Nome da Unidade da Federação\": \"NO_UF\",\n",
    "    \"Nome da Mesorregião\": \"NO_MESORREGIAO\",\n",
    "    \"Nome da Microrregião\": \"NO_MICRORREGIAO\"\n",
    "}\n",
    "\n",
    "con = duckdb.connect('../../file.db')\n",
    "\n",
    "microdados = ds.dataset(\"../../data/transformed/microdados.parquet\", format=\"parquet\", partitioning=\"hive\")\n",
    "con.register(\"microdados\", microdados)\n",
    "\n",
    "indicadores = {}\n",
    "for indicador in INDICADORES:\n",
    "    indicadores[indicador] = ds.dataset(f\"../../data/transformed/indicadores/{indicador}.parquet\", format=\"parquet\", partitioning=\"hive\")\n",
    "    con.register(indicador, indicadores[indicador])"
   ]
  },
  {
   "cell_type": "code",
   "execution_count": 15,
   "outputs": [
    {
     "data": {
      "text/plain": "0                    Educação Infantil\n1             Educação Infantil Creche\n2         Educação Infantil Pré-Escola\n3                   Ensino Fundamental\n4          Ensino Fundamental - 1º Ano\n5          Ensino Fundamental - 2º Ano\n6          Ensino Fundamental - 3º Ano\n7          Ensino Fundamental - 4º Ano\n8          Ensino Fundamental - 5º Ano\n9          Ensino Fundamental - 6º Ano\n10         Ensino Fundamental - 7º Ano\n11         Ensino Fundamental - 8º Ano\n12         Ensino Fundamental - 9º Ano\n13      Ensino Fundamental Anos finais\n14    Ensino Fundamental Anos iniciais\n15                        Ensino Médio\n16               Ensino Médio - 1º Ano\n17               Ensino Médio - 2º Ano\n18               Ensino Médio - 3º Ano\n19               Ensino Médio - 4º Ano\n20          Ensino Médio - Não-Seriado\nName: TP_GRUPO, dtype: object"
     },
     "execution_count": 15,
     "metadata": {},
     "output_type": "execute_result"
    }
   ],
   "source": [
    "con.execute(f\"\"\"\n",
    "    select\n",
    "        distinct(TP_GRUPO)\n",
    "        from HAD\n",
    "        order by 1\n",
    "    \"\"\"\n",
    ").df().TP_GRUPO"
   ],
   "metadata": {
    "collapsed": false,
    "pycharm": {
     "name": "#%%\n"
    }
   }
  },
  {
   "cell_type": "code",
   "execution_count": 16,
   "outputs": [
    {
     "ename": "InvalidInputException",
     "evalue": "Invalid Input Error: arrow_scan: get_next failed(): IOError: Failed to open local file '../../data/transformed/indicadores/DSU.parquet/NU_ANO_CENSO=2016/b6a16c38e2034ad6b73186164d96a60b-0.parquet'. Detail: [errno 2] No such file or directory",
     "output_type": "error",
     "traceback": [
      "\u001B[0;31m---------------------------------------------------------------------------\u001B[0m",
      "\u001B[0;31mInvalidInputException\u001B[0m                     Traceback (most recent call last)",
      "Cell \u001B[0;32mIn[16], line 1\u001B[0m\n\u001B[0;32m----> 1\u001B[0m \u001B[43mcon\u001B[49m\u001B[38;5;241;43m.\u001B[39;49m\u001B[43mexecute\u001B[49m\u001B[43m(\u001B[49m\u001B[38;5;124;43mf\u001B[39;49m\u001B[38;5;124;43m\"\"\"\u001B[39;49m\n\u001B[1;32m      2\u001B[0m \u001B[38;5;124;43m    select\u001B[39;49m\n\u001B[1;32m      3\u001B[0m \u001B[38;5;124;43m        *\u001B[39;49m\n\u001B[1;32m      4\u001B[0m \u001B[38;5;124;43m        from DSU\u001B[39;49m\n\u001B[1;32m      5\u001B[0m \u001B[38;5;124;43m        limit 1\u001B[39;49m\n\u001B[1;32m      6\u001B[0m \u001B[38;5;124;43m    \u001B[39;49m\u001B[38;5;124;43m\"\"\"\u001B[39;49m\n\u001B[1;32m      7\u001B[0m \u001B[43m)\u001B[49m\u001B[38;5;241m.\u001B[39mdf()\n",
      "\u001B[0;31mInvalidInputException\u001B[0m: Invalid Input Error: arrow_scan: get_next failed(): IOError: Failed to open local file '../../data/transformed/indicadores/DSU.parquet/NU_ANO_CENSO=2016/b6a16c38e2034ad6b73186164d96a60b-0.parquet'. Detail: [errno 2] No such file or directory"
     ]
    }
   ],
   "source": [
    "con.execute(f\"\"\"\n",
    "    select\n",
    "        *\n",
    "        from DSU\n",
    "        limit 1\n",
    "    \"\"\"\n",
    ").df()"
   ],
   "metadata": {
    "collapsed": false,
    "pycharm": {
     "name": "#%%\n"
    }
   }
  },
  {
   "cell_type": "code",
   "execution_count": null,
   "outputs": [],
   "source": [],
   "metadata": {
    "collapsed": false,
    "pycharm": {
     "name": "#%%\n"
    }
   }
  }
 ],
 "metadata": {
  "kernelspec": {
   "display_name": "Python 3 (ipykernel)",
   "language": "python",
   "name": "python3"
  },
  "language_info": {
   "codemirror_mode": {
    "name": "ipython",
    "version": 3
   },
   "file_extension": ".py",
   "mimetype": "text/x-python",
   "name": "python",
   "nbconvert_exporter": "python",
   "pygments_lexer": "ipython3",
   "version": "3.10.7"
  }
 },
 "nbformat": 4,
 "nbformat_minor": 5
}
