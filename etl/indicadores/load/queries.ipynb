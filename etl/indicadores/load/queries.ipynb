{
 "cells": [
  {
   "cell_type": "code",
   "execution_count": 17,
   "id": "024d0237",
   "metadata": {
    "collapsed": false,
    "jupyter": {
     "outputs_hidden": false
    }
   },
   "outputs": [],
   "source": [
    "from collections import Counter\n",
    "import random\n",
    "\n",
    "import numpy as np\n",
    "import pyarrow.dataset as ds\n",
    "import duckdb\n",
    "import pandas as pd\n",
    "import numpy as np\n",
    "import seaborn as sns\n",
    "import plotly as pl\n",
    "import plotly.express as px\n",
    "import json\n",
    "\n",
    "INDICADORES = {\n",
    "    \"AFD\": \"Adequação da Formação Docente\",\n",
    "    \"ICG\": \"Complexidade de Gestão da Escola\",\n",
    "    \"IED\": \"Esforço Docente\",\n",
    "    \"ATU\": \"Média de Alunos por Turma\",\n",
    "    \"HAD\": \"Média de Horas-aula diária\",\n",
    "    \"DSU\": \"Percentual de Docentes com Curso Superior\",\n",
    "    \"TDI\": \"Taxas de Distorção Idade-série\"\n",
    "}\n",
    "\n",
    "DIMENSIONS = {\n",
    "    \"Ano\": \"NU_ANO_CENSO\",\n",
    "    \"Nome da região geográfica\": \"NO_REGIAO\",\n",
    "    \"Nome da Unidade da Federação\": \"NO_UF\",\n",
    "    \"Nome da Mesorregião\": \"NO_MESORREGIAO\",\n",
    "    \"Nome da Microrregião\": \"NO_MICRORREGIAO\"\n",
    "}\n",
    "\n",
    "con = duckdb.connect('../../file.db')\n",
    "\n",
    "microdados = ds.dataset(\"../../data/transformed/microdados.parquet\", format=\"parquet\", partitioning=\"hive\")\n",
    "con.register(\"microdados\", microdados)\n",
    "\n",
    "indicadores = {}\n",
    "for indicador in INDICADORES:\n",
    "    indicadores[indicador] = ds.dataset(f\"../../data/transformed/indicadores/{indicador}.parquet\", format=\"parquet\", partitioning=\"hive\")\n",
    "    con.register(indicador, indicadores[indicador])"
   ]
  },
  {
   "cell_type": "code",
   "execution_count": 15,
   "outputs": [
    {
     "data": {
      "text/plain": "0                    Educação Infantil\n1             Educação Infantil Creche\n2         Educação Infantil Pré-Escola\n3                   Ensino Fundamental\n4          Ensino Fundamental - 1º Ano\n5          Ensino Fundamental - 2º Ano\n6          Ensino Fundamental - 3º Ano\n7          Ensino Fundamental - 4º Ano\n8          Ensino Fundamental - 5º Ano\n9          Ensino Fundamental - 6º Ano\n10         Ensino Fundamental - 7º Ano\n11         Ensino Fundamental - 8º Ano\n12         Ensino Fundamental - 9º Ano\n13      Ensino Fundamental Anos finais\n14    Ensino Fundamental Anos iniciais\n15                        Ensino Médio\n16               Ensino Médio - 1º Ano\n17               Ensino Médio - 2º Ano\n18               Ensino Médio - 3º Ano\n19               Ensino Médio - 4º Ano\n20          Ensino Médio - Não-Seriado\nName: TP_GRUPO, dtype: object"
     },
     "execution_count": 15,
     "metadata": {},
     "output_type": "execute_result"
    }
   ],
   "source": [
    "con.execute(f\"\"\"\n",
    "    select\n",
    "        distinct(TP_GRUPO)\n",
    "        from HAD\n",
    "        order by 1\n",
    "    \"\"\"\n",
    ").df().TP_GRUPO"
   ],
   "metadata": {
    "collapsed": false,
    "pycharm": {
     "name": "#%%\n"
    }
   }
  },
  {
   "cell_type": "code",
   "execution_count": 16,
   "outputs": [
    {
     "ename": "InvalidInputException",
     "evalue": "Invalid Input Error: arrow_scan: get_next failed(): IOError: Failed to open local file '../../data/transformed/indicadores/DSU.parquet/NU_ANO_CENSO=2016/b6a16c38e2034ad6b73186164d96a60b-0.parquet'. Detail: [errno 2] No such file or directory",
     "output_type": "error",
     "traceback": [
      "\u001B[0;31m---------------------------------------------------------------------------\u001B[0m",
      "\u001B[0;31mInvalidInputException\u001B[0m                     Traceback (most recent call last)",
      "Cell \u001B[0;32mIn[16], line 1\u001B[0m\n\u001B[0;32m----> 1\u001B[0m \u001B[43mcon\u001B[49m\u001B[38;5;241;43m.\u001B[39;49m\u001B[43mexecute\u001B[49m\u001B[43m(\u001B[49m\u001B[38;5;124;43mf\u001B[39;49m\u001B[38;5;124;43m\"\"\"\u001B[39;49m\n\u001B[1;32m      2\u001B[0m \u001B[38;5;124;43m    select\u001B[39;49m\n\u001B[1;32m      3\u001B[0m \u001B[38;5;124;43m        *\u001B[39;49m\n\u001B[1;32m      4\u001B[0m \u001B[38;5;124;43m        from DSU\u001B[39;49m\n\u001B[1;32m      5\u001B[0m \u001B[38;5;124;43m        limit 1\u001B[39;49m\n\u001B[1;32m      6\u001B[0m \u001B[38;5;124;43m    \u001B[39;49m\u001B[38;5;124;43m\"\"\"\u001B[39;49m\n\u001B[1;32m      7\u001B[0m \u001B[43m)\u001B[49m\u001B[38;5;241m.\u001B[39mdf()\n",
      "\u001B[0;31mInvalidInputException\u001B[0m: Invalid Input Error: arrow_scan: get_next failed(): IOError: Failed to open local file '../../data/transformed/indicadores/DSU.parquet/NU_ANO_CENSO=2016/b6a16c38e2034ad6b73186164d96a60b-0.parquet'. Detail: [errno 2] No such file or directory"
     ]
    }
   ],
   "source": [
    "con.execute(f\"\"\"\n",
    "    select\n",
    "        *\n",
    "        from DSU\n",
    "        limit 1\n",
    "    \"\"\"\n",
    ").df()"
   ],
   "metadata": {
    "collapsed": false,
    "pycharm": {
     "name": "#%%\n"
    }
   }
  },
  {
   "cell_type": "code",
   "execution_count": null,
   "outputs": [],
   "source": [],
   "metadata": {
    "collapsed": false,
    "pycharm": {
     "name": "#%%\n"
    }
   }
  }
 ],
 "metadata": {
  "kernelspec": {
   "display_name": "Python 3 (ipykernel)",
   "language": "python",
   "name": "python3"
  },
  "language_info": {
   "codemirror_mode": {
    "name": "ipython",
    "version": 3
   },
   "file_extension": ".py",
   "mimetype": "text/x-python",
   "name": "python",
   "nbconvert_exporter": "python",
   "pygments_lexer": "ipython3",
   "version": "3.10.7"
  }
 },
 "nbformat": 4,
 "nbformat_minor": 5
}