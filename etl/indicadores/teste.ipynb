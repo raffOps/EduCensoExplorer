{
 "cells": [
  {
   "cell_type": "code",
   "execution_count": 1,
   "outputs": [],
   "source": [
    "\n",
    "import pandas as pd\n",
    "import os"
   ],
   "metadata": {
    "collapsed": false
   }
  },
  {
   "cell_type": "code",
   "execution_count": 3,
   "outputs": [],
   "source": [
    "indicador = \"AFD\"\n",
    "year = 2017\n",
    "file = f\"../../data/raw/{indicador}/{indicador}_{year}_ESCOLAS/{indicador}_ESCOLAS_{year}.xlsx\"\n",
    "df = pd.read_excel(\n",
    "    file,\n",
    "    na_values=[\"--\"],\n",
    "    #skiprows=10,\n",
    "    #skipfooter=6\n",
    ")"
   ],
   "metadata": {
    "collapsed": false
   }
  },
  {
   "cell_type": "code",
   "execution_count": 7,
   "outputs": [
    {
     "data": {
      "text/plain": "True"
     },
     "execution_count": 7,
     "metadata": {},
     "output_type": "execute_result"
    }
   ],
   "source": [
    "os.path.isfile(file)"
   ],
   "metadata": {
    "collapsed": false,
    "pycharm": {
     "name": "#%%\n"
    }
   }
  },
  {
   "cell_type": "code",
   "execution_count": 6,
   "outputs": [],
   "source": [
    "import os"
   ],
   "metadata": {
    "collapsed": false,
    "pycharm": {
     "name": "#%%\n"
    }
   }
  },
  {
   "cell_type": "code",
   "execution_count": 69,
   "outputs": [
    {
     "data": {
      "text/plain": "False"
     },
     "execution_count": 69,
     "metadata": {},
     "output_type": "execute_result"
    }
   ],
   "source": [
    "os.path.isfile(\"../../data/raw/DSU/DSU_2018_ESCOLAS/DSU_ESCOLAS_2018_ATUALZADO.xlsx\")"
   ],
   "metadata": {
    "collapsed": false,
    "pycharm": {
     "name": "#%%\n"
    }
   }
  },
  {
   "cell_type": "code",
   "execution_count": 62,
   "outputs": [
    {
     "data": {
      "text/plain": "        NU_ANO_CENSO     NO_REGIAO SG_UF  NO_MUNICIPIO           CO_MUNICIPIO  \\\n0               2016         Norte    RO       1100015  Alta Floresta D'Oeste   \n1               2016         Norte    RO       1100015  Alta Floresta D'Oeste   \n2               2016         Norte    RO       1100015  Alta Floresta D'Oeste   \n3               2016         Norte    RO       1100015  Alta Floresta D'Oeste   \n4               2016         Norte    RO       1100015  Alta Floresta D'Oeste   \n...              ...           ...   ...           ...                    ...   \n185520          2016  Centro-Oeste    DF       5300108               Brasília   \n185521          2016  Centro-Oeste    DF       5300108               Brasília   \n185522          2016  Centro-Oeste    DF       5300108               Brasília   \n185523          2016  Centro-Oeste    DF       5300108               Brasília   \n185524          2016  Centro-Oeste    DF       5300108               Brasília   \n\n        TIPOLOCA                      DEPENDAD NO_ENTIDADE CO_ENTIDADE  \\\n0       11022558         EIEEF HAP BITT TUPARI       Rural    Estadual   \n1       11024275      CEEJA LUIZ VAZ DE CAMOES      Urbana    Estadual   \n2       11024291           EMMEF 7 DE SETEMBRO       Rural   Municipal   \n3       11024372               EMEIEF ANA NERY      Urbana   Municipal   \n4       11024593         EMEIEF DARCY PENTEADO       Rural   Municipal   \n...          ...                           ...         ...         ...   \n185520  53083008  TIO PATINHAS ESC DE EDUC INF      Urbana     Privada   \n185521  53084012            CE SITIO ENCANTADO      Urbana     Privada   \n185522  53084020           ESC PEQUENO ENCANTO      Urbana     Privada   \n185523  53084039                  COL ANCHIETA      Urbana     Privada   \n185524  53084055                      COL MAPA      Urbana     Privada   \n\n        DSU_INF  DSU_CRE  DSU_PRE  DSU_FUN  DSU_F14  DSU_F58  DSU_MED  \\\n0           NaN      NaN      NaN      0.0      NaN      0.0      NaN   \n1           NaN      NaN      NaN      NaN      NaN      NaN      NaN   \n2           NaN      NaN      NaN    100.0      NaN    100.0      NaN   \n3          50.0      NaN     50.0     87.5     75.0    100.0      NaN   \n4           NaN      NaN      NaN    100.0      NaN    100.0      NaN   \n...         ...      ...      ...      ...      ...      ...      ...   \n185520     80.0    100.0     66.7      NaN      NaN      NaN      NaN   \n185521     66.7    100.0     50.0     50.0     50.0      NaN      NaN   \n185522    100.0    100.0    100.0    100.0    100.0      NaN      NaN   \n185523     50.0     50.0     50.0     75.0     70.0     66.7      NaN   \n185524      NaN      NaN      NaN    100.0    100.0    100.0    100.0   \n\n        DSU_PROF  DSU_EJA  DSU_ESP  \n0            NaN      NaN      NaN  \n1            NaN     91.2      NaN  \n2            NaN      NaN      NaN  \n3            NaN      NaN      NaN  \n4            NaN      NaN      NaN  \n...          ...      ...      ...  \n185520       NaN      NaN      NaN  \n185521       NaN      NaN      NaN  \n185522       NaN      NaN      NaN  \n185523       NaN      NaN      NaN  \n185524       NaN      NaN      NaN  \n\n[185525 rows x 19 columns]",
      "text/html": "<div>\n<style scoped>\n    .dataframe tbody tr th:only-of-type {\n        vertical-align: middle;\n    }\n\n    .dataframe tbody tr th {\n        vertical-align: top;\n    }\n\n    .dataframe thead th {\n        text-align: right;\n    }\n</style>\n<table border=\"1\" class=\"dataframe\">\n  <thead>\n    <tr style=\"text-align: right;\">\n      <th></th>\n      <th>NU_ANO_CENSO</th>\n      <th>NO_REGIAO</th>\n      <th>SG_UF</th>\n      <th>NO_MUNICIPIO</th>\n      <th>CO_MUNICIPIO</th>\n      <th>TIPOLOCA</th>\n      <th>DEPENDAD</th>\n      <th>NO_ENTIDADE</th>\n      <th>CO_ENTIDADE</th>\n      <th>DSU_INF</th>\n      <th>DSU_CRE</th>\n      <th>DSU_PRE</th>\n      <th>DSU_FUN</th>\n      <th>DSU_F14</th>\n      <th>DSU_F58</th>\n      <th>DSU_MED</th>\n      <th>DSU_PROF</th>\n      <th>DSU_EJA</th>\n      <th>DSU_ESP</th>\n    </tr>\n  </thead>\n  <tbody>\n    <tr>\n      <th>0</th>\n      <td>2016</td>\n      <td>Norte</td>\n      <td>RO</td>\n      <td>1100015</td>\n      <td>Alta Floresta D'Oeste</td>\n      <td>11022558</td>\n      <td>EIEEF HAP BITT TUPARI</td>\n      <td>Rural</td>\n      <td>Estadual</td>\n      <td>NaN</td>\n      <td>NaN</td>\n      <td>NaN</td>\n      <td>0.0</td>\n      <td>NaN</td>\n      <td>0.0</td>\n      <td>NaN</td>\n      <td>NaN</td>\n      <td>NaN</td>\n      <td>NaN</td>\n    </tr>\n    <tr>\n      <th>1</th>\n      <td>2016</td>\n      <td>Norte</td>\n      <td>RO</td>\n      <td>1100015</td>\n      <td>Alta Floresta D'Oeste</td>\n      <td>11024275</td>\n      <td>CEEJA LUIZ VAZ DE CAMOES</td>\n      <td>Urbana</td>\n      <td>Estadual</td>\n      <td>NaN</td>\n      <td>NaN</td>\n      <td>NaN</td>\n      <td>NaN</td>\n      <td>NaN</td>\n      <td>NaN</td>\n      <td>NaN</td>\n      <td>NaN</td>\n      <td>91.2</td>\n      <td>NaN</td>\n    </tr>\n    <tr>\n      <th>2</th>\n      <td>2016</td>\n      <td>Norte</td>\n      <td>RO</td>\n      <td>1100015</td>\n      <td>Alta Floresta D'Oeste</td>\n      <td>11024291</td>\n      <td>EMMEF 7 DE SETEMBRO</td>\n      <td>Rural</td>\n      <td>Municipal</td>\n      <td>NaN</td>\n      <td>NaN</td>\n      <td>NaN</td>\n      <td>100.0</td>\n      <td>NaN</td>\n      <td>100.0</td>\n      <td>NaN</td>\n      <td>NaN</td>\n      <td>NaN</td>\n      <td>NaN</td>\n    </tr>\n    <tr>\n      <th>3</th>\n      <td>2016</td>\n      <td>Norte</td>\n      <td>RO</td>\n      <td>1100015</td>\n      <td>Alta Floresta D'Oeste</td>\n      <td>11024372</td>\n      <td>EMEIEF ANA NERY</td>\n      <td>Urbana</td>\n      <td>Municipal</td>\n      <td>50.0</td>\n      <td>NaN</td>\n      <td>50.0</td>\n      <td>87.5</td>\n      <td>75.0</td>\n      <td>100.0</td>\n      <td>NaN</td>\n      <td>NaN</td>\n      <td>NaN</td>\n      <td>NaN</td>\n    </tr>\n    <tr>\n      <th>4</th>\n      <td>2016</td>\n      <td>Norte</td>\n      <td>RO</td>\n      <td>1100015</td>\n      <td>Alta Floresta D'Oeste</td>\n      <td>11024593</td>\n      <td>EMEIEF DARCY PENTEADO</td>\n      <td>Rural</td>\n      <td>Municipal</td>\n      <td>NaN</td>\n      <td>NaN</td>\n      <td>NaN</td>\n      <td>100.0</td>\n      <td>NaN</td>\n      <td>100.0</td>\n      <td>NaN</td>\n      <td>NaN</td>\n      <td>NaN</td>\n      <td>NaN</td>\n    </tr>\n    <tr>\n      <th>...</th>\n      <td>...</td>\n      <td>...</td>\n      <td>...</td>\n      <td>...</td>\n      <td>...</td>\n      <td>...</td>\n      <td>...</td>\n      <td>...</td>\n      <td>...</td>\n      <td>...</td>\n      <td>...</td>\n      <td>...</td>\n      <td>...</td>\n      <td>...</td>\n      <td>...</td>\n      <td>...</td>\n      <td>...</td>\n      <td>...</td>\n      <td>...</td>\n    </tr>\n    <tr>\n      <th>185520</th>\n      <td>2016</td>\n      <td>Centro-Oeste</td>\n      <td>DF</td>\n      <td>5300108</td>\n      <td>Brasília</td>\n      <td>53083008</td>\n      <td>TIO PATINHAS ESC DE EDUC INF</td>\n      <td>Urbana</td>\n      <td>Privada</td>\n      <td>80.0</td>\n      <td>100.0</td>\n      <td>66.7</td>\n      <td>NaN</td>\n      <td>NaN</td>\n      <td>NaN</td>\n      <td>NaN</td>\n      <td>NaN</td>\n      <td>NaN</td>\n      <td>NaN</td>\n    </tr>\n    <tr>\n      <th>185521</th>\n      <td>2016</td>\n      <td>Centro-Oeste</td>\n      <td>DF</td>\n      <td>5300108</td>\n      <td>Brasília</td>\n      <td>53084012</td>\n      <td>CE SITIO ENCANTADO</td>\n      <td>Urbana</td>\n      <td>Privada</td>\n      <td>66.7</td>\n      <td>100.0</td>\n      <td>50.0</td>\n      <td>50.0</td>\n      <td>50.0</td>\n      <td>NaN</td>\n      <td>NaN</td>\n      <td>NaN</td>\n      <td>NaN</td>\n      <td>NaN</td>\n    </tr>\n    <tr>\n      <th>185522</th>\n      <td>2016</td>\n      <td>Centro-Oeste</td>\n      <td>DF</td>\n      <td>5300108</td>\n      <td>Brasília</td>\n      <td>53084020</td>\n      <td>ESC PEQUENO ENCANTO</td>\n      <td>Urbana</td>\n      <td>Privada</td>\n      <td>100.0</td>\n      <td>100.0</td>\n      <td>100.0</td>\n      <td>100.0</td>\n      <td>100.0</td>\n      <td>NaN</td>\n      <td>NaN</td>\n      <td>NaN</td>\n      <td>NaN</td>\n      <td>NaN</td>\n    </tr>\n    <tr>\n      <th>185523</th>\n      <td>2016</td>\n      <td>Centro-Oeste</td>\n      <td>DF</td>\n      <td>5300108</td>\n      <td>Brasília</td>\n      <td>53084039</td>\n      <td>COL ANCHIETA</td>\n      <td>Urbana</td>\n      <td>Privada</td>\n      <td>50.0</td>\n      <td>50.0</td>\n      <td>50.0</td>\n      <td>75.0</td>\n      <td>70.0</td>\n      <td>66.7</td>\n      <td>NaN</td>\n      <td>NaN</td>\n      <td>NaN</td>\n      <td>NaN</td>\n    </tr>\n    <tr>\n      <th>185524</th>\n      <td>2016</td>\n      <td>Centro-Oeste</td>\n      <td>DF</td>\n      <td>5300108</td>\n      <td>Brasília</td>\n      <td>53084055</td>\n      <td>COL MAPA</td>\n      <td>Urbana</td>\n      <td>Privada</td>\n      <td>NaN</td>\n      <td>NaN</td>\n      <td>NaN</td>\n      <td>100.0</td>\n      <td>100.0</td>\n      <td>100.0</td>\n      <td>100.0</td>\n      <td>NaN</td>\n      <td>NaN</td>\n      <td>NaN</td>\n    </tr>\n  </tbody>\n</table>\n<p>185525 rows × 19 columns</p>\n</div>"
     },
     "execution_count": 62,
     "metadata": {},
     "output_type": "execute_result"
    }
   ],
   "source": [
    "df"
   ],
   "metadata": {
    "collapsed": false,
    "pycharm": {
     "name": "#%%\n"
    }
   }
  },
  {
   "cell_type": "code",
   "execution_count": null,
   "outputs": [],
   "source": [
    "df[\"CO_ENTIDADE\"], df[\"NO_ENTIDADE\"] = df[\"NO_ENTIDADE\"], df[\"CO_ENTIDADE\"]\n",
    "df[\"CO_MUNICIPIO\"], df[\"NO_MUNICIPIO\"] = df[\"NO_MUNICIPIO\"], df[\"CO_MUNICIPIO\"]"
   ],
   "metadata": {
    "collapsed": false,
    "pycharm": {
     "name": "#%%\n"
    }
   }
  },
  {
   "cell_type": "code",
   "execution_count": null,
   "outputs": [],
   "source": [],
   "metadata": {
    "collapsed": false,
    "pycharm": {
     "name": "#%%\n"
    }
   }
  },
  {
   "cell_type": "code",
   "execution_count": 40,
   "outputs": [
    {
     "data": {
      "text/plain": "        NU_ANO_CENSO     NO_REGIAO SG_UF  NO_MUNICIPIO           CO_MUNICIPIO  \\\n0               2016         Norte    RO       1100015  Alta Floresta D'Oeste   \n1               2016         Norte    RO       1100015  Alta Floresta D'Oeste   \n2               2016         Norte    RO       1100015  Alta Floresta D'Oeste   \n3               2016         Norte    RO       1100015  Alta Floresta D'Oeste   \n4               2016         Norte    RO       1100015  Alta Floresta D'Oeste   \n...              ...           ...   ...           ...                    ...   \n185520          2016  Centro-Oeste    DF       5300108               Brasília   \n185521          2016  Centro-Oeste    DF       5300108               Brasília   \n185522          2016  Centro-Oeste    DF       5300108               Brasília   \n185523          2016  Centro-Oeste    DF       5300108               Brasília   \n185524          2016  Centro-Oeste    DF       5300108               Brasília   \n\n        TIPOLOCA                      DEPENDAD NO_ENTIDADE CO_ENTIDADE  \n0       11022558         EIEEF HAP BITT TUPARI       Rural    Estadual  \n1       11024275      CEEJA LUIZ VAZ DE CAMOES      Urbana    Estadual  \n2       11024291           EMMEF 7 DE SETEMBRO       Rural   Municipal  \n3       11024372               EMEIEF ANA NERY      Urbana   Municipal  \n4       11024593         EMEIEF DARCY PENTEADO       Rural   Municipal  \n...          ...                           ...         ...         ...  \n185520  53083008  TIO PATINHAS ESC DE EDUC INF      Urbana     Privada  \n185521  53084012            CE SITIO ENCANTADO      Urbana     Privada  \n185522  53084020           ESC PEQUENO ENCANTO      Urbana     Privada  \n185523  53084039                  COL ANCHIETA      Urbana     Privada  \n185524  53084055                      COL MAPA      Urbana     Privada  \n\n[185525 rows x 9 columns]",
      "text/html": "<div>\n<style scoped>\n    .dataframe tbody tr th:only-of-type {\n        vertical-align: middle;\n    }\n\n    .dataframe tbody tr th {\n        vertical-align: top;\n    }\n\n    .dataframe thead th {\n        text-align: right;\n    }\n</style>\n<table border=\"1\" class=\"dataframe\">\n  <thead>\n    <tr style=\"text-align: right;\">\n      <th></th>\n      <th>NU_ANO_CENSO</th>\n      <th>NO_REGIAO</th>\n      <th>SG_UF</th>\n      <th>NO_MUNICIPIO</th>\n      <th>CO_MUNICIPIO</th>\n      <th>TIPOLOCA</th>\n      <th>DEPENDAD</th>\n      <th>NO_ENTIDADE</th>\n      <th>CO_ENTIDADE</th>\n    </tr>\n  </thead>\n  <tbody>\n    <tr>\n      <th>0</th>\n      <td>2016</td>\n      <td>Norte</td>\n      <td>RO</td>\n      <td>1100015</td>\n      <td>Alta Floresta D'Oeste</td>\n      <td>11022558</td>\n      <td>EIEEF HAP BITT TUPARI</td>\n      <td>Rural</td>\n      <td>Estadual</td>\n    </tr>\n    <tr>\n      <th>1</th>\n      <td>2016</td>\n      <td>Norte</td>\n      <td>RO</td>\n      <td>1100015</td>\n      <td>Alta Floresta D'Oeste</td>\n      <td>11024275</td>\n      <td>CEEJA LUIZ VAZ DE CAMOES</td>\n      <td>Urbana</td>\n      <td>Estadual</td>\n    </tr>\n    <tr>\n      <th>2</th>\n      <td>2016</td>\n      <td>Norte</td>\n      <td>RO</td>\n      <td>1100015</td>\n      <td>Alta Floresta D'Oeste</td>\n      <td>11024291</td>\n      <td>EMMEF 7 DE SETEMBRO</td>\n      <td>Rural</td>\n      <td>Municipal</td>\n    </tr>\n    <tr>\n      <th>3</th>\n      <td>2016</td>\n      <td>Norte</td>\n      <td>RO</td>\n      <td>1100015</td>\n      <td>Alta Floresta D'Oeste</td>\n      <td>11024372</td>\n      <td>EMEIEF ANA NERY</td>\n      <td>Urbana</td>\n      <td>Municipal</td>\n    </tr>\n    <tr>\n      <th>4</th>\n      <td>2016</td>\n      <td>Norte</td>\n      <td>RO</td>\n      <td>1100015</td>\n      <td>Alta Floresta D'Oeste</td>\n      <td>11024593</td>\n      <td>EMEIEF DARCY PENTEADO</td>\n      <td>Rural</td>\n      <td>Municipal</td>\n    </tr>\n    <tr>\n      <th>...</th>\n      <td>...</td>\n      <td>...</td>\n      <td>...</td>\n      <td>...</td>\n      <td>...</td>\n      <td>...</td>\n      <td>...</td>\n      <td>...</td>\n      <td>...</td>\n    </tr>\n    <tr>\n      <th>185520</th>\n      <td>2016</td>\n      <td>Centro-Oeste</td>\n      <td>DF</td>\n      <td>5300108</td>\n      <td>Brasília</td>\n      <td>53083008</td>\n      <td>TIO PATINHAS ESC DE EDUC INF</td>\n      <td>Urbana</td>\n      <td>Privada</td>\n    </tr>\n    <tr>\n      <th>185521</th>\n      <td>2016</td>\n      <td>Centro-Oeste</td>\n      <td>DF</td>\n      <td>5300108</td>\n      <td>Brasília</td>\n      <td>53084012</td>\n      <td>CE SITIO ENCANTADO</td>\n      <td>Urbana</td>\n      <td>Privada</td>\n    </tr>\n    <tr>\n      <th>185522</th>\n      <td>2016</td>\n      <td>Centro-Oeste</td>\n      <td>DF</td>\n      <td>5300108</td>\n      <td>Brasília</td>\n      <td>53084020</td>\n      <td>ESC PEQUENO ENCANTO</td>\n      <td>Urbana</td>\n      <td>Privada</td>\n    </tr>\n    <tr>\n      <th>185523</th>\n      <td>2016</td>\n      <td>Centro-Oeste</td>\n      <td>DF</td>\n      <td>5300108</td>\n      <td>Brasília</td>\n      <td>53084039</td>\n      <td>COL ANCHIETA</td>\n      <td>Urbana</td>\n      <td>Privada</td>\n    </tr>\n    <tr>\n      <th>185524</th>\n      <td>2016</td>\n      <td>Centro-Oeste</td>\n      <td>DF</td>\n      <td>5300108</td>\n      <td>Brasília</td>\n      <td>53084055</td>\n      <td>COL MAPA</td>\n      <td>Urbana</td>\n      <td>Privada</td>\n    </tr>\n  </tbody>\n</table>\n<p>185525 rows × 9 columns</p>\n</div>"
     },
     "execution_count": 40,
     "metadata": {},
     "output_type": "execute_result"
    }
   ],
   "source": [
    "df.iloc[:,:9]"
   ],
   "metadata": {
    "collapsed": false
   }
  },
  {
   "cell_type": "code",
   "execution_count": 132,
   "outputs": [],
   "source": [
    "df[\"CO_ENTIDADE\"], df[\"NO_ENTIDADE\"] = df[\"NO_ENTIDADE\"], df[\"CO_ENTIDADE\"]\n",
    "df[\"CO_MUNICIPIO\"], df[\"NO_MUNICIPIO\"] = df[\"NO_MUNICIPIO\"], df[\"CO_MUNICIPIO\"]"
   ],
   "metadata": {
    "collapsed": false
   }
  },
  {
   "cell_type": "code",
   "execution_count": 9,
   "outputs": [
    {
     "ename": "ValueError",
     "evalue": "invalid literal for int() with base 10: 'EIEEF HAP BITT TUPARI'",
     "output_type": "error",
     "traceback": [
      "\u001B[0;31m---------------------------------------------------------------------------\u001B[0m",
      "\u001B[0;31mValueError\u001B[0m                                Traceback (most recent call last)",
      "Cell \u001B[0;32mIn[9], line 1\u001B[0m\n\u001B[0;32m----> 1\u001B[0m \u001B[43mdf\u001B[49m\u001B[43m[\u001B[49m\u001B[38;5;124;43m\"\u001B[39;49m\u001B[38;5;124;43mNO_ENTIDADE\u001B[39;49m\u001B[38;5;124;43m\"\u001B[39;49m\u001B[43m]\u001B[49m\u001B[38;5;241;43m.\u001B[39;49m\u001B[43mastype\u001B[49m\u001B[43m(\u001B[49m\u001B[38;5;124;43m\"\u001B[39;49m\u001B[38;5;124;43mint64\u001B[39;49m\u001B[38;5;124;43m\"\u001B[39;49m\u001B[43m)\u001B[49m\n",
      "File \u001B[0;32m~/Documents/tcc_censo_escolar/venv/lib/python3.10/site-packages/pandas/core/generic.py:6240\u001B[0m, in \u001B[0;36mNDFrame.astype\u001B[0;34m(self, dtype, copy, errors)\u001B[0m\n\u001B[1;32m   6233\u001B[0m     results \u001B[38;5;241m=\u001B[39m [\n\u001B[1;32m   6234\u001B[0m         \u001B[38;5;28mself\u001B[39m\u001B[38;5;241m.\u001B[39miloc[:, i]\u001B[38;5;241m.\u001B[39mastype(dtype, copy\u001B[38;5;241m=\u001B[39mcopy)\n\u001B[1;32m   6235\u001B[0m         \u001B[38;5;28;01mfor\u001B[39;00m i \u001B[38;5;129;01min\u001B[39;00m \u001B[38;5;28mrange\u001B[39m(\u001B[38;5;28mlen\u001B[39m(\u001B[38;5;28mself\u001B[39m\u001B[38;5;241m.\u001B[39mcolumns))\n\u001B[1;32m   6236\u001B[0m     ]\n\u001B[1;32m   6238\u001B[0m \u001B[38;5;28;01melse\u001B[39;00m:\n\u001B[1;32m   6239\u001B[0m     \u001B[38;5;66;03m# else, only a single dtype is given\u001B[39;00m\n\u001B[0;32m-> 6240\u001B[0m     new_data \u001B[38;5;241m=\u001B[39m \u001B[38;5;28;43mself\u001B[39;49m\u001B[38;5;241;43m.\u001B[39;49m\u001B[43m_mgr\u001B[49m\u001B[38;5;241;43m.\u001B[39;49m\u001B[43mastype\u001B[49m\u001B[43m(\u001B[49m\u001B[43mdtype\u001B[49m\u001B[38;5;241;43m=\u001B[39;49m\u001B[43mdtype\u001B[49m\u001B[43m,\u001B[49m\u001B[43m \u001B[49m\u001B[43mcopy\u001B[49m\u001B[38;5;241;43m=\u001B[39;49m\u001B[43mcopy\u001B[49m\u001B[43m,\u001B[49m\u001B[43m \u001B[49m\u001B[43merrors\u001B[49m\u001B[38;5;241;43m=\u001B[39;49m\u001B[43merrors\u001B[49m\u001B[43m)\u001B[49m\n\u001B[1;32m   6241\u001B[0m     \u001B[38;5;28;01mreturn\u001B[39;00m \u001B[38;5;28mself\u001B[39m\u001B[38;5;241m.\u001B[39m_constructor(new_data)\u001B[38;5;241m.\u001B[39m__finalize__(\u001B[38;5;28mself\u001B[39m, method\u001B[38;5;241m=\u001B[39m\u001B[38;5;124m\"\u001B[39m\u001B[38;5;124mastype\u001B[39m\u001B[38;5;124m\"\u001B[39m)\n\u001B[1;32m   6243\u001B[0m \u001B[38;5;66;03m# GH 33113: handle empty frame or series\u001B[39;00m\n",
      "File \u001B[0;32m~/Documents/tcc_censo_escolar/venv/lib/python3.10/site-packages/pandas/core/internals/managers.py:448\u001B[0m, in \u001B[0;36mBaseBlockManager.astype\u001B[0;34m(self, dtype, copy, errors)\u001B[0m\n\u001B[1;32m    447\u001B[0m \u001B[38;5;28;01mdef\u001B[39;00m \u001B[38;5;21mastype\u001B[39m(\u001B[38;5;28mself\u001B[39m: T, dtype, copy: \u001B[38;5;28mbool\u001B[39m \u001B[38;5;241m=\u001B[39m \u001B[38;5;28;01mFalse\u001B[39;00m, errors: \u001B[38;5;28mstr\u001B[39m \u001B[38;5;241m=\u001B[39m \u001B[38;5;124m\"\u001B[39m\u001B[38;5;124mraise\u001B[39m\u001B[38;5;124m\"\u001B[39m) \u001B[38;5;241m-\u001B[39m\u001B[38;5;241m>\u001B[39m T:\n\u001B[0;32m--> 448\u001B[0m     \u001B[38;5;28;01mreturn\u001B[39;00m \u001B[38;5;28;43mself\u001B[39;49m\u001B[38;5;241;43m.\u001B[39;49m\u001B[43mapply\u001B[49m\u001B[43m(\u001B[49m\u001B[38;5;124;43m\"\u001B[39;49m\u001B[38;5;124;43mastype\u001B[39;49m\u001B[38;5;124;43m\"\u001B[39;49m\u001B[43m,\u001B[49m\u001B[43m \u001B[49m\u001B[43mdtype\u001B[49m\u001B[38;5;241;43m=\u001B[39;49m\u001B[43mdtype\u001B[49m\u001B[43m,\u001B[49m\u001B[43m \u001B[49m\u001B[43mcopy\u001B[49m\u001B[38;5;241;43m=\u001B[39;49m\u001B[43mcopy\u001B[49m\u001B[43m,\u001B[49m\u001B[43m \u001B[49m\u001B[43merrors\u001B[49m\u001B[38;5;241;43m=\u001B[39;49m\u001B[43merrors\u001B[49m\u001B[43m)\u001B[49m\n",
      "File \u001B[0;32m~/Documents/tcc_censo_escolar/venv/lib/python3.10/site-packages/pandas/core/internals/managers.py:352\u001B[0m, in \u001B[0;36mBaseBlockManager.apply\u001B[0;34m(self, f, align_keys, ignore_failures, **kwargs)\u001B[0m\n\u001B[1;32m    350\u001B[0m         applied \u001B[38;5;241m=\u001B[39m b\u001B[38;5;241m.\u001B[39mapply(f, \u001B[38;5;241m*\u001B[39m\u001B[38;5;241m*\u001B[39mkwargs)\n\u001B[1;32m    351\u001B[0m     \u001B[38;5;28;01melse\u001B[39;00m:\n\u001B[0;32m--> 352\u001B[0m         applied \u001B[38;5;241m=\u001B[39m \u001B[38;5;28;43mgetattr\u001B[39;49m\u001B[43m(\u001B[49m\u001B[43mb\u001B[49m\u001B[43m,\u001B[49m\u001B[43m \u001B[49m\u001B[43mf\u001B[49m\u001B[43m)\u001B[49m\u001B[43m(\u001B[49m\u001B[38;5;241;43m*\u001B[39;49m\u001B[38;5;241;43m*\u001B[39;49m\u001B[43mkwargs\u001B[49m\u001B[43m)\u001B[49m\n\u001B[1;32m    353\u001B[0m \u001B[38;5;28;01mexcept\u001B[39;00m (\u001B[38;5;167;01mTypeError\u001B[39;00m, \u001B[38;5;167;01mNotImplementedError\u001B[39;00m):\n\u001B[1;32m    354\u001B[0m     \u001B[38;5;28;01mif\u001B[39;00m \u001B[38;5;129;01mnot\u001B[39;00m ignore_failures:\n",
      "File \u001B[0;32m~/Documents/tcc_censo_escolar/venv/lib/python3.10/site-packages/pandas/core/internals/blocks.py:526\u001B[0m, in \u001B[0;36mBlock.astype\u001B[0;34m(self, dtype, copy, errors)\u001B[0m\n\u001B[1;32m    508\u001B[0m \u001B[38;5;250m\u001B[39m\u001B[38;5;124;03m\"\"\"\u001B[39;00m\n\u001B[1;32m    509\u001B[0m \u001B[38;5;124;03mCoerce to the new dtype.\u001B[39;00m\n\u001B[1;32m    510\u001B[0m \n\u001B[0;32m   (...)\u001B[0m\n\u001B[1;32m    522\u001B[0m \u001B[38;5;124;03mBlock\u001B[39;00m\n\u001B[1;32m    523\u001B[0m \u001B[38;5;124;03m\"\"\"\u001B[39;00m\n\u001B[1;32m    524\u001B[0m values \u001B[38;5;241m=\u001B[39m \u001B[38;5;28mself\u001B[39m\u001B[38;5;241m.\u001B[39mvalues\n\u001B[0;32m--> 526\u001B[0m new_values \u001B[38;5;241m=\u001B[39m \u001B[43mastype_array_safe\u001B[49m\u001B[43m(\u001B[49m\u001B[43mvalues\u001B[49m\u001B[43m,\u001B[49m\u001B[43m \u001B[49m\u001B[43mdtype\u001B[49m\u001B[43m,\u001B[49m\u001B[43m \u001B[49m\u001B[43mcopy\u001B[49m\u001B[38;5;241;43m=\u001B[39;49m\u001B[43mcopy\u001B[49m\u001B[43m,\u001B[49m\u001B[43m \u001B[49m\u001B[43merrors\u001B[49m\u001B[38;5;241;43m=\u001B[39;49m\u001B[43merrors\u001B[49m\u001B[43m)\u001B[49m\n\u001B[1;32m    528\u001B[0m new_values \u001B[38;5;241m=\u001B[39m maybe_coerce_values(new_values)\n\u001B[1;32m    529\u001B[0m newb \u001B[38;5;241m=\u001B[39m \u001B[38;5;28mself\u001B[39m\u001B[38;5;241m.\u001B[39mmake_block(new_values)\n",
      "File \u001B[0;32m~/Documents/tcc_censo_escolar/venv/lib/python3.10/site-packages/pandas/core/dtypes/astype.py:299\u001B[0m, in \u001B[0;36mastype_array_safe\u001B[0;34m(values, dtype, copy, errors)\u001B[0m\n\u001B[1;32m    296\u001B[0m     \u001B[38;5;28;01mreturn\u001B[39;00m values\u001B[38;5;241m.\u001B[39mcopy()\n\u001B[1;32m    298\u001B[0m \u001B[38;5;28;01mtry\u001B[39;00m:\n\u001B[0;32m--> 299\u001B[0m     new_values \u001B[38;5;241m=\u001B[39m \u001B[43mastype_array\u001B[49m\u001B[43m(\u001B[49m\u001B[43mvalues\u001B[49m\u001B[43m,\u001B[49m\u001B[43m \u001B[49m\u001B[43mdtype\u001B[49m\u001B[43m,\u001B[49m\u001B[43m \u001B[49m\u001B[43mcopy\u001B[49m\u001B[38;5;241;43m=\u001B[39;49m\u001B[43mcopy\u001B[49m\u001B[43m)\u001B[49m\n\u001B[1;32m    300\u001B[0m \u001B[38;5;28;01mexcept\u001B[39;00m (\u001B[38;5;167;01mValueError\u001B[39;00m, \u001B[38;5;167;01mTypeError\u001B[39;00m):\n\u001B[1;32m    301\u001B[0m     \u001B[38;5;66;03m# e.g. astype_nansafe can fail on object-dtype of strings\u001B[39;00m\n\u001B[1;32m    302\u001B[0m     \u001B[38;5;66;03m#  trying to convert to float\u001B[39;00m\n\u001B[1;32m    303\u001B[0m     \u001B[38;5;28;01mif\u001B[39;00m errors \u001B[38;5;241m==\u001B[39m \u001B[38;5;124m\"\u001B[39m\u001B[38;5;124mignore\u001B[39m\u001B[38;5;124m\"\u001B[39m:\n",
      "File \u001B[0;32m~/Documents/tcc_censo_escolar/venv/lib/python3.10/site-packages/pandas/core/dtypes/astype.py:230\u001B[0m, in \u001B[0;36mastype_array\u001B[0;34m(values, dtype, copy)\u001B[0m\n\u001B[1;32m    227\u001B[0m     values \u001B[38;5;241m=\u001B[39m values\u001B[38;5;241m.\u001B[39mastype(dtype, copy\u001B[38;5;241m=\u001B[39mcopy)\n\u001B[1;32m    229\u001B[0m \u001B[38;5;28;01melse\u001B[39;00m:\n\u001B[0;32m--> 230\u001B[0m     values \u001B[38;5;241m=\u001B[39m \u001B[43mastype_nansafe\u001B[49m\u001B[43m(\u001B[49m\u001B[43mvalues\u001B[49m\u001B[43m,\u001B[49m\u001B[43m \u001B[49m\u001B[43mdtype\u001B[49m\u001B[43m,\u001B[49m\u001B[43m \u001B[49m\u001B[43mcopy\u001B[49m\u001B[38;5;241;43m=\u001B[39;49m\u001B[43mcopy\u001B[49m\u001B[43m)\u001B[49m\n\u001B[1;32m    232\u001B[0m \u001B[38;5;66;03m# in pandas we don't store numpy str dtypes, so convert to object\u001B[39;00m\n\u001B[1;32m    233\u001B[0m \u001B[38;5;28;01mif\u001B[39;00m \u001B[38;5;28misinstance\u001B[39m(dtype, np\u001B[38;5;241m.\u001B[39mdtype) \u001B[38;5;129;01mand\u001B[39;00m \u001B[38;5;28missubclass\u001B[39m(values\u001B[38;5;241m.\u001B[39mdtype\u001B[38;5;241m.\u001B[39mtype, \u001B[38;5;28mstr\u001B[39m):\n",
      "File \u001B[0;32m~/Documents/tcc_censo_escolar/venv/lib/python3.10/site-packages/pandas/core/dtypes/astype.py:170\u001B[0m, in \u001B[0;36mastype_nansafe\u001B[0;34m(arr, dtype, copy, skipna)\u001B[0m\n\u001B[1;32m    166\u001B[0m     \u001B[38;5;28;01mraise\u001B[39;00m \u001B[38;5;167;01mValueError\u001B[39;00m(msg)\n\u001B[1;32m    168\u001B[0m \u001B[38;5;28;01mif\u001B[39;00m copy \u001B[38;5;129;01mor\u001B[39;00m is_object_dtype(arr\u001B[38;5;241m.\u001B[39mdtype) \u001B[38;5;129;01mor\u001B[39;00m is_object_dtype(dtype):\n\u001B[1;32m    169\u001B[0m     \u001B[38;5;66;03m# Explicit copy, or required since NumPy can't view from / to object.\u001B[39;00m\n\u001B[0;32m--> 170\u001B[0m     \u001B[38;5;28;01mreturn\u001B[39;00m \u001B[43marr\u001B[49m\u001B[38;5;241;43m.\u001B[39;49m\u001B[43mastype\u001B[49m\u001B[43m(\u001B[49m\u001B[43mdtype\u001B[49m\u001B[43m,\u001B[49m\u001B[43m \u001B[49m\u001B[43mcopy\u001B[49m\u001B[38;5;241;43m=\u001B[39;49m\u001B[38;5;28;43;01mTrue\u001B[39;49;00m\u001B[43m)\u001B[49m\n\u001B[1;32m    172\u001B[0m \u001B[38;5;28;01mreturn\u001B[39;00m arr\u001B[38;5;241m.\u001B[39mastype(dtype, copy\u001B[38;5;241m=\u001B[39mcopy)\n",
      "\u001B[0;31mValueError\u001B[0m: invalid literal for int() with base 10: 'EIEEF HAP BITT TUPARI'"
     ]
    }
   ],
   "source": [
    "df[\"NO_ENTIDADE\"].astype(\"int64\")"
   ],
   "metadata": {
    "collapsed": false
   }
  },
  {
   "cell_type": "code",
   "execution_count": 17,
   "outputs": [],
   "source": [
    "assert set(df.columns[:9]) == {'CO_ENTIDADE',\n",
    " 'CO_MUNICIPIO',\n",
    " 'NO_CATEGORIA',\n",
    " 'NO_DEPENDENCIA',\n",
    " 'NO_ENTIDADE',\n",
    " 'NO_MUNICIPIO',\n",
    " 'NO_REGIAO',\n",
    " 'NU_ANO_CENSO',\n",
    " 'SG_UF'}\n"
   ],
   "metadata": {
    "collapsed": false
   }
  },
  {
   "cell_type": "code",
   "execution_count": 46,
   "outputs": [
    {
     "data": {
      "text/plain": "         NU_ANO_CENSO     NO_REGIAO SG_UF  CO_MUNICIPIO  \\\n0                2016         Norte    RO       1100015   \n1                2016         Norte    RO       1100015   \n2                2016         Norte    RO       1100015   \n3                2016         Norte    RO       1100015   \n4                2016         Norte    RO       1100015   \n...               ...           ...   ...           ...   \n2376051          2016  Centro-Oeste    DF       5300108   \n2376052          2016  Centro-Oeste    DF       5300108   \n2376053          2016  Centro-Oeste    DF       5300108   \n2376054          2016  Centro-Oeste    DF       5300108   \n2376055          2016  Centro-Oeste    DF       5300108   \n\n                  NO_MUNICIPIO  CO_ENTIDADE                      NO_ENTIDADE  \\\n0        Alta Floresta D'Oeste     11022558            EIEEF HAP BITT TUPARI   \n1        Alta Floresta D'Oeste     11024291              EMMEF 7 DE SETEMBRO   \n2        Alta Floresta D'Oeste     11024372                  EMEIEF ANA NERY   \n3        Alta Floresta D'Oeste     11024593            EMEIEF DARCY PENTEADO   \n4        Alta Floresta D'Oeste     11024666             EMEIEF BOA ESPERANCA   \n...                        ...          ...                              ...   \n2376051               Brasília     53082001                      COL IMPACTO   \n2376052               Brasília     53082028  ESC DO ENS BASICO PINGUE PONGUE   \n2376053               Brasília     53084012               CE SITIO ENCANTADO   \n2376054               Brasília     53084020              ESC PEQUENO ENCANTO   \n2376055               Brasília     53084039                     COL ANCHIETA   \n\n        NO_CATEGORIA NO_DEPENDENCIA    GRUPO  METRICA  \n0              Rural       Estadual  TDI_FUN     16.7  \n1              Rural      Municipal  TDI_FUN     10.5  \n2             Urbana      Municipal  TDI_FUN     24.5  \n3              Rural      Municipal  TDI_FUN      5.9  \n4              Rural      Municipal  TDI_FUN     17.3  \n...              ...            ...      ...      ...  \n2376051       Urbana        Privada  TDI_M04      NaN  \n2376052       Urbana        Privada  TDI_M04      NaN  \n2376053       Urbana        Privada  TDI_M04      NaN  \n2376054       Urbana        Privada  TDI_M04      NaN  \n2376055       Urbana        Privada  TDI_M04      NaN  \n\n[2376056 rows x 11 columns]",
      "text/html": "<div>\n<style scoped>\n    .dataframe tbody tr th:only-of-type {\n        vertical-align: middle;\n    }\n\n    .dataframe tbody tr th {\n        vertical-align: top;\n    }\n\n    .dataframe thead th {\n        text-align: right;\n    }\n</style>\n<table border=\"1\" class=\"dataframe\">\n  <thead>\n    <tr style=\"text-align: right;\">\n      <th></th>\n      <th>NU_ANO_CENSO</th>\n      <th>NO_REGIAO</th>\n      <th>SG_UF</th>\n      <th>CO_MUNICIPIO</th>\n      <th>NO_MUNICIPIO</th>\n      <th>CO_ENTIDADE</th>\n      <th>NO_ENTIDADE</th>\n      <th>NO_CATEGORIA</th>\n      <th>NO_DEPENDENCIA</th>\n      <th>GRUPO</th>\n      <th>METRICA</th>\n    </tr>\n  </thead>\n  <tbody>\n    <tr>\n      <th>0</th>\n      <td>2016</td>\n      <td>Norte</td>\n      <td>RO</td>\n      <td>1100015</td>\n      <td>Alta Floresta D'Oeste</td>\n      <td>11022558</td>\n      <td>EIEEF HAP BITT TUPARI</td>\n      <td>Rural</td>\n      <td>Estadual</td>\n      <td>TDI_FUN</td>\n      <td>16.7</td>\n    </tr>\n    <tr>\n      <th>1</th>\n      <td>2016</td>\n      <td>Norte</td>\n      <td>RO</td>\n      <td>1100015</td>\n      <td>Alta Floresta D'Oeste</td>\n      <td>11024291</td>\n      <td>EMMEF 7 DE SETEMBRO</td>\n      <td>Rural</td>\n      <td>Municipal</td>\n      <td>TDI_FUN</td>\n      <td>10.5</td>\n    </tr>\n    <tr>\n      <th>2</th>\n      <td>2016</td>\n      <td>Norte</td>\n      <td>RO</td>\n      <td>1100015</td>\n      <td>Alta Floresta D'Oeste</td>\n      <td>11024372</td>\n      <td>EMEIEF ANA NERY</td>\n      <td>Urbana</td>\n      <td>Municipal</td>\n      <td>TDI_FUN</td>\n      <td>24.5</td>\n    </tr>\n    <tr>\n      <th>3</th>\n      <td>2016</td>\n      <td>Norte</td>\n      <td>RO</td>\n      <td>1100015</td>\n      <td>Alta Floresta D'Oeste</td>\n      <td>11024593</td>\n      <td>EMEIEF DARCY PENTEADO</td>\n      <td>Rural</td>\n      <td>Municipal</td>\n      <td>TDI_FUN</td>\n      <td>5.9</td>\n    </tr>\n    <tr>\n      <th>4</th>\n      <td>2016</td>\n      <td>Norte</td>\n      <td>RO</td>\n      <td>1100015</td>\n      <td>Alta Floresta D'Oeste</td>\n      <td>11024666</td>\n      <td>EMEIEF BOA ESPERANCA</td>\n      <td>Rural</td>\n      <td>Municipal</td>\n      <td>TDI_FUN</td>\n      <td>17.3</td>\n    </tr>\n    <tr>\n      <th>...</th>\n      <td>...</td>\n      <td>...</td>\n      <td>...</td>\n      <td>...</td>\n      <td>...</td>\n      <td>...</td>\n      <td>...</td>\n      <td>...</td>\n      <td>...</td>\n      <td>...</td>\n      <td>...</td>\n    </tr>\n    <tr>\n      <th>2376051</th>\n      <td>2016</td>\n      <td>Centro-Oeste</td>\n      <td>DF</td>\n      <td>5300108</td>\n      <td>Brasília</td>\n      <td>53082001</td>\n      <td>COL IMPACTO</td>\n      <td>Urbana</td>\n      <td>Privada</td>\n      <td>TDI_M04</td>\n      <td>NaN</td>\n    </tr>\n    <tr>\n      <th>2376052</th>\n      <td>2016</td>\n      <td>Centro-Oeste</td>\n      <td>DF</td>\n      <td>5300108</td>\n      <td>Brasília</td>\n      <td>53082028</td>\n      <td>ESC DO ENS BASICO PINGUE PONGUE</td>\n      <td>Urbana</td>\n      <td>Privada</td>\n      <td>TDI_M04</td>\n      <td>NaN</td>\n    </tr>\n    <tr>\n      <th>2376053</th>\n      <td>2016</td>\n      <td>Centro-Oeste</td>\n      <td>DF</td>\n      <td>5300108</td>\n      <td>Brasília</td>\n      <td>53084012</td>\n      <td>CE SITIO ENCANTADO</td>\n      <td>Urbana</td>\n      <td>Privada</td>\n      <td>TDI_M04</td>\n      <td>NaN</td>\n    </tr>\n    <tr>\n      <th>2376054</th>\n      <td>2016</td>\n      <td>Centro-Oeste</td>\n      <td>DF</td>\n      <td>5300108</td>\n      <td>Brasília</td>\n      <td>53084020</td>\n      <td>ESC PEQUENO ENCANTO</td>\n      <td>Urbana</td>\n      <td>Privada</td>\n      <td>TDI_M04</td>\n      <td>NaN</td>\n    </tr>\n    <tr>\n      <th>2376055</th>\n      <td>2016</td>\n      <td>Centro-Oeste</td>\n      <td>DF</td>\n      <td>5300108</td>\n      <td>Brasília</td>\n      <td>53084039</td>\n      <td>COL ANCHIETA</td>\n      <td>Urbana</td>\n      <td>Privada</td>\n      <td>TDI_M04</td>\n      <td>NaN</td>\n    </tr>\n  </tbody>\n</table>\n<p>2376056 rows × 11 columns</p>\n</div>"
     },
     "execution_count": 46,
     "metadata": {},
     "output_type": "execute_result"
    }
   ],
   "source": [
    "indicador = \"TDI\"\n",
    "year = 2016\n",
    "df = pd.read_excel(\n",
    "    f\"../../data/raw/{indicador}/{indicador}_{year}_ESCOLAS/{indicador}_ESCOLAS_{year}.xlsx\",\n",
    "    skiprows=8,\n",
    "    skipfooter=6,\n",
    "    na_values=[\"--\"]\n",
    ")\n",
    "\n",
    "df.rename(\n",
    "    columns={\n",
    "        \"Ano\": \"NU_ANO_CENSO\",\n",
    "        \"SIGLA\": \"SG_UF\",\n",
    "        \"PK_COD_MUNICIPIO\": \"CO_MUNICIPIO\",\n",
    "        \"PK_COD_ENTIDADE\": \"CO_ENTIDADE\",\n",
    "        \"TIPOLOCA\": \"NO_CATEGORIA\",\n",
    "        \"Dependad\": \"NO_DEPENDENCIA\",\n",
    "        \"DEPENDAD\": \"NO_DEPENDENCIA\"\n",
    "    },\n",
    "    inplace=True\n",
    ")\n",
    "# melt\n",
    "id_vars = df.columns[:9]\n",
    "value_vars = df.columns[9:]\n",
    "df = df.melt(id_vars=id_vars, value_vars=value_vars, var_name=\"GRUPO\", value_name=\"METRICA\")\n",
    "\n",
    "df[\"NU_ANO_CENSO\"] = df[\"NU_ANO_CENSO\"].astype(\"Int32\")\n",
    "#df[[\"CO_MUNICIPIO\", \"CO_ENTIDADE\"]] = df[[\"CO_MUNICIPIO\", \"CO_ENTIDADE\"]].astype(\"Int64\")\n",
    "df"
   ],
   "metadata": {
    "collapsed": false
   }
  },
  {
   "cell_type": "code",
   "execution_count": 57,
   "outputs": [],
   "source": [
    "a = ['NU_ANO_CENSO', 'NO_REGIAO', 'SG_UF', 'CO_MUNICIPIO', 'NO_MUNICIPIO',\n",
    "       'CO_ENTIDADE', 'NO_ENTIDADE', 'NO_CATEGORIA', 'NO_DEPENDENCIA']"
   ],
   "metadata": {
    "collapsed": false
   }
  },
  {
   "cell_type": "code",
   "execution_count": 55,
   "outputs": [
    {
     "ename": "TypeError",
     "evalue": "Index does not support mutable operations",
     "output_type": "error",
     "traceback": [
      "\u001B[0;31m---------------------------------------------------------------------------\u001B[0m",
      "\u001B[0;31mTypeError\u001B[0m                                 Traceback (most recent call last)",
      "Cell \u001B[0;32mIn[55], line 1\u001B[0m\n\u001B[0;32m----> 1\u001B[0m \u001B[43mdf\u001B[49m\u001B[38;5;241;43m.\u001B[39;49m\u001B[43mcolumns\u001B[49m\u001B[43m[\u001B[49m\u001B[43m:\u001B[49m\u001B[38;5;241;43m9\u001B[39;49m\u001B[43m]\u001B[49m \u001B[38;5;241m=\u001B[39m \u001B[38;5;28mrange\u001B[39m(\u001B[38;5;241m10\u001B[39m, \u001B[38;5;241m19\u001B[39m)\n",
      "File \u001B[0;32m~/Documents/tcc_censo_escolar/venv/lib/python3.10/site-packages/pandas/core/indexes/base.py:5302\u001B[0m, in \u001B[0;36mIndex.__setitem__\u001B[0;34m(self, key, value)\u001B[0m\n\u001B[1;32m   5300\u001B[0m \u001B[38;5;129m@final\u001B[39m\n\u001B[1;32m   5301\u001B[0m \u001B[38;5;28;01mdef\u001B[39;00m \u001B[38;5;21m__setitem__\u001B[39m(\u001B[38;5;28mself\u001B[39m, key, value):\n\u001B[0;32m-> 5302\u001B[0m     \u001B[38;5;28;01mraise\u001B[39;00m \u001B[38;5;167;01mTypeError\u001B[39;00m(\u001B[38;5;124m\"\u001B[39m\u001B[38;5;124mIndex does not support mutable operations\u001B[39m\u001B[38;5;124m\"\u001B[39m)\n",
      "\u001B[0;31mTypeError\u001B[0m: Index does not support mutable operations"
     ]
    }
   ],
   "source": [
    "df.columns[:9] = range(10, 19)"
   ],
   "metadata": {
    "collapsed": false
   }
  },
  {
   "cell_type": "code",
   "execution_count": 59,
   "outputs": [
    {
     "data": {
      "text/plain": "{0: 'NU_ANO_CENSO',\n 1: 'NO_REGIAO',\n 2: 'SG_UF',\n 3: 'CO_MUNICIPIO',\n 4: 'NO_MUNICIPIO',\n 5: 'CO_ENTIDADE',\n 6: 'NO_ENTIDADE',\n 7: 'NO_CATEGORIA',\n 8: 'NO_DEPENDENCIA'}"
     },
     "execution_count": 59,
     "metadata": {},
     "output_type": "execute_result"
    }
   ],
   "source": [
    "dict(zip(df.columns[:9], a))"
   ],
   "metadata": {
    "collapsed": false,
    "pycharm": {
     "name": "#%%\n"
    }
   }
  },
  {
   "cell_type": "code",
   "execution_count": 56,
   "outputs": [
    {
     "data": {
      "text/plain": "RangeIndex(start=0, stop=11, step=1)"
     },
     "execution_count": 56,
     "metadata": {},
     "output_type": "execute_result"
    }
   ],
   "source": [
    "df.rename()"
   ],
   "metadata": {
    "collapsed": false,
    "pycharm": {
     "name": "#%%\n"
    }
   }
  },
  {
   "cell_type": "code",
   "execution_count": null,
   "outputs": [],
   "source": [],
   "metadata": {
    "collapsed": false,
    "pycharm": {
     "name": "#%%\n"
    }
   }
  }
 ],
 "metadata": {
  "kernelspec": {
   "display_name": "Python 3",
   "language": "python",
   "name": "python3"
  },
  "language_info": {
   "codemirror_mode": {
    "name": "ipython",
    "version": 2
   },
   "file_extension": ".py",
   "mimetype": "text/x-python",
   "name": "python",
   "nbconvert_exporter": "python",
   "pygments_lexer": "ipython2",
   "version": "2.7.6"
  }
 },
 "nbformat": 4,
 "nbformat_minor": 0
}