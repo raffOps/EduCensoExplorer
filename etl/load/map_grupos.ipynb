{
 "cells": [
  {
   "cell_type": "code",
   "execution_count": 5,
   "id": "024d0237",
   "metadata": {
    "collapsed": false,
    "jupyter": {
     "outputs_hidden": false
    }
   },
   "outputs": [],
   "source": [
    "from collections import Counter\n",
    "import random\n",
    "\n",
    "import numpy as np\n",
    "import pyarrow.dataset as ds\n",
    "import duckdb\n",
    "import pandas as pd\n",
    "import numpy as np\n",
    "import seaborn as sns\n",
    "import plotly as pl\n",
    "import plotly.express as px\n",
    "\n",
    "\n",
    "INDICADORES = {\n",
    "    \"AFD\": \"Adequação da Formação Docente\",\n",
    "    \"ICG\": \"Complexidade de Gestão da Escola\",\n",
    "    \"IED\": \"Esforço Docente\",\n",
    "    \"ATU\": \"Média de Alunos por Turma\",\n",
    "    \"HAD\": \"Média de Horas-aula diária\",\n",
    "    \"DSU\": \"Percentual de Docentes com Curso Superior\",\n",
    "    \"TDI\": \"Taxas de Distorção Idade-série\"\n",
    "}\n",
    "\n",
    "DIMENSIONS = {\n",
    "    \"Ano\": \"NU_ANO_CENSO\",\n",
    "    \"Nome da região geográfica\": \"NO_REGIAO\",\n",
    "    \"Nome da Unidade da Federação\": \"NO_UF\",\n",
    "    \"Nome da Mesorregião\": \"NO_MESORREGIAO\",\n",
    "    \"Nome da Microrregião\": \"NO_MICRORREGIAO\"\n",
    "}\n",
    "\n"
   ]
  },
  {
   "cell_type": "code",
   "execution_count": 6,
   "outputs": [],
   "source": [
    "year = 2016\n",
    "indicador = \"AFD\"\n",
    "file = f\"../../data/raw/{indicador}/{indicador}_{year}_ESCOLAS/{indicador}_ESCOLAS_{year}.xlsx\"\n",
    "df = pd.read_excel(file, nrows=15)"
   ],
   "metadata": {
    "collapsed": false,
    "pycharm": {
     "name": "#%%\n"
    }
   }
  },
  {
   "cell_type": "code",
   "execution_count": 13,
   "outputs": [
    {
     "data": {
      "text/plain": "  Unnamed: 0                 Ministério da Educação Unnamed: 2  \\\n6        NaN                                    NaN        NaN   \n7        NaN                                    NaN        NaN   \n8        NaN                                    NaN        NaN   \n9        Ano                              NO_REGIAO      SIGLA   \n\n         Unnamed: 3    Unnamed: 4       Unnamed: 5   Unnamed: 6 Unnamed: 7  \\\n6               NaN           NaN              NaN          NaN        NaN   \n7               NaN           NaN              NaN          NaN        NaN   \n8               NaN           NaN              NaN          NaN        NaN   \n9  PK_COD_MUNICIPIO  NO_MUNICIPIO  PK_COD_ENTIDADE  NO_ENTIDADE   TIPOLOCA   \n\n  Unnamed: 8         Unnamed: 9  ...  Unnamed: 34 Unnamed: 35 Unnamed: 36  \\\n6        NaN  Educação Infantil  ...          EJA         NaN         NaN   \n7        NaN                NaN  ...  Fundamental         NaN         NaN   \n8        NaN            Grupo 1  ...      Grupo 1     Grupo 2     Grupo 3   \n9   Dependad           AFD_INF1  ...    AFD_EJAF1   AFD_EJAF2   AFD_EJAF3   \n\n  Unnamed: 37 Unnamed: 38 Unnamed: 39 Unnamed: 40 Unnamed: 41 Unnamed: 42  \\\n6         NaN         NaN         NaN         NaN         NaN         NaN   \n7         NaN         NaN       Médio         NaN         NaN         NaN   \n8     Grupo 4     Grupo 5     Grupo 1     Grupo 2     Grupo 3     Grupo 4   \n9   AFD_EJAF4   AFD_EJAF5   AFD_EJAM1   AFD_EJAM2   AFD_EJAM3   AFD_EJAM4   \n\n  Unnamed: 43  \n6         NaN  \n7         NaN  \n8     Grupo 5  \n9   AFD_EJAM5  \n\n[4 rows x 44 columns]",
      "text/html": "<div>\n<style scoped>\n    .dataframe tbody tr th:only-of-type {\n        vertical-align: middle;\n    }\n\n    .dataframe tbody tr th {\n        vertical-align: top;\n    }\n\n    .dataframe thead th {\n        text-align: right;\n    }\n</style>\n<table border=\"1\" class=\"dataframe\">\n  <thead>\n    <tr style=\"text-align: right;\">\n      <th></th>\n      <th>Unnamed: 0</th>\n      <th>Ministério da Educação</th>\n      <th>Unnamed: 2</th>\n      <th>Unnamed: 3</th>\n      <th>Unnamed: 4</th>\n      <th>Unnamed: 5</th>\n      <th>Unnamed: 6</th>\n      <th>Unnamed: 7</th>\n      <th>Unnamed: 8</th>\n      <th>Unnamed: 9</th>\n      <th>...</th>\n      <th>Unnamed: 34</th>\n      <th>Unnamed: 35</th>\n      <th>Unnamed: 36</th>\n      <th>Unnamed: 37</th>\n      <th>Unnamed: 38</th>\n      <th>Unnamed: 39</th>\n      <th>Unnamed: 40</th>\n      <th>Unnamed: 41</th>\n      <th>Unnamed: 42</th>\n      <th>Unnamed: 43</th>\n    </tr>\n  </thead>\n  <tbody>\n    <tr>\n      <th>6</th>\n      <td>NaN</td>\n      <td>NaN</td>\n      <td>NaN</td>\n      <td>NaN</td>\n      <td>NaN</td>\n      <td>NaN</td>\n      <td>NaN</td>\n      <td>NaN</td>\n      <td>NaN</td>\n      <td>Educação Infantil</td>\n      <td>...</td>\n      <td>EJA</td>\n      <td>NaN</td>\n      <td>NaN</td>\n      <td>NaN</td>\n      <td>NaN</td>\n      <td>NaN</td>\n      <td>NaN</td>\n      <td>NaN</td>\n      <td>NaN</td>\n      <td>NaN</td>\n    </tr>\n    <tr>\n      <th>7</th>\n      <td>NaN</td>\n      <td>NaN</td>\n      <td>NaN</td>\n      <td>NaN</td>\n      <td>NaN</td>\n      <td>NaN</td>\n      <td>NaN</td>\n      <td>NaN</td>\n      <td>NaN</td>\n      <td>NaN</td>\n      <td>...</td>\n      <td>Fundamental</td>\n      <td>NaN</td>\n      <td>NaN</td>\n      <td>NaN</td>\n      <td>NaN</td>\n      <td>Médio</td>\n      <td>NaN</td>\n      <td>NaN</td>\n      <td>NaN</td>\n      <td>NaN</td>\n    </tr>\n    <tr>\n      <th>8</th>\n      <td>NaN</td>\n      <td>NaN</td>\n      <td>NaN</td>\n      <td>NaN</td>\n      <td>NaN</td>\n      <td>NaN</td>\n      <td>NaN</td>\n      <td>NaN</td>\n      <td>NaN</td>\n      <td>Grupo 1</td>\n      <td>...</td>\n      <td>Grupo 1</td>\n      <td>Grupo 2</td>\n      <td>Grupo 3</td>\n      <td>Grupo 4</td>\n      <td>Grupo 5</td>\n      <td>Grupo 1</td>\n      <td>Grupo 2</td>\n      <td>Grupo 3</td>\n      <td>Grupo 4</td>\n      <td>Grupo 5</td>\n    </tr>\n    <tr>\n      <th>9</th>\n      <td>Ano</td>\n      <td>NO_REGIAO</td>\n      <td>SIGLA</td>\n      <td>PK_COD_MUNICIPIO</td>\n      <td>NO_MUNICIPIO</td>\n      <td>PK_COD_ENTIDADE</td>\n      <td>NO_ENTIDADE</td>\n      <td>TIPOLOCA</td>\n      <td>Dependad</td>\n      <td>AFD_INF1</td>\n      <td>...</td>\n      <td>AFD_EJAF1</td>\n      <td>AFD_EJAF2</td>\n      <td>AFD_EJAF3</td>\n      <td>AFD_EJAF4</td>\n      <td>AFD_EJAF5</td>\n      <td>AFD_EJAM1</td>\n      <td>AFD_EJAM2</td>\n      <td>AFD_EJAM3</td>\n      <td>AFD_EJAM4</td>\n      <td>AFD_EJAM5</td>\n    </tr>\n  </tbody>\n</table>\n<p>4 rows × 44 columns</p>\n</div>"
     },
     "execution_count": 13,
     "metadata": {},
     "output_type": "execute_result"
    }
   ],
   "source": [
    "df.iloc[6:10, :]"
   ],
   "metadata": {
    "collapsed": false,
    "pycharm": {
     "name": "#%%\n"
    }
   }
  },
  {
   "cell_type": "code",
   "execution_count": null,
   "outputs": [],
   "source": [],
   "metadata": {
    "collapsed": false,
    "pycharm": {
     "name": "#%%\n"
    }
   }
  }
 ],
 "metadata": {
  "kernelspec": {
   "display_name": "Python 3 (ipykernel)",
   "language": "python",
   "name": "python3"
  },
  "language_info": {
   "codemirror_mode": {
    "name": "ipython",
    "version": 3
   },
   "file_extension": ".py",
   "mimetype": "text/x-python",
   "name": "python",
   "nbconvert_exporter": "python",
   "pygments_lexer": "ipython3",
   "version": "3.10.7"
  }
 },
 "nbformat": 4,
 "nbformat_minor": 5
}