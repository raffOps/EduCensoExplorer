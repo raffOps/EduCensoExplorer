{
 "cells": [
  {
   "cell_type": "code",
   "execution_count": 2,
   "id": "024d0237",
   "metadata": {
    "collapsed": false,
    "jupyter": {
     "outputs_hidden": false
    }
   },
   "outputs": [
    {
     "data": {
      "text/plain": "NO_REGIAO: string\nCO_REGIAO: string\nNO_UF: string\nSG_UF: string\nCO_UF: string\nNO_MUNICIPIO: string\nCO_MUNICIPIO: string\nNO_MESORREGIAO: string\nCO_MESORREGIAO: string\nNO_MICRORREGIAO: string\nCO_MICRORREGIAO: string\nCO_DISTRITO: string\nCO_ENTIDADE: string\nNO_ENTIDADE: string\nTP_DEPENDENCIA: string\nTP_CATEGORIA_ESCOLA_PRIVADA: string\nTP_LOCALIZACAO: string\nTP_LOCALIZACAO_DIFERENCIADA: string\nDS_ENDERECO: string\nNU_ENDERECO: string\nDS_COMPLEMENTO: string\nNO_BAIRRO: string\nCO_CEP: string\nNU_DDD: string\nNU_TELEFONE: string\nTP_SITUACAO_FUNCIONAMENTO: string\nCO_ORGAO_REGIONAL: string\nDT_ANO_LETIVO_INICIO: timestamp[us]\nDT_ANO_LETIVO_TERMINO: timestamp[us]\nIN_VINCULO_SECRETARIA_EDUCACAO: bool\nIN_VINCULO_SEGURANCA_PUBLICA: bool\nIN_VINCULO_SECRETARIA_SAUDE: bool\nIN_VINCULO_OUTRO_ORGAO: bool\nIN_CONVENIADA_PP: bool\nTP_CONVENIO_PODER_PUBLICO: string\nIN_MANT_ESCOLA_PRIVADA_EMP: bool\nIN_MANT_ESCOLA_PRIVADA_ONG: bool\nIN_MANT_ESCOLA_PRIVADA_OSCIP: bool\nIN_MANT_ESCOLA_PRIV_ONG_OSCIP: bool\nIN_MANT_ESCOLA_PRIVADA_SIND: bool\nIN_MANT_ESCOLA_PRIVADA_SIST_S: bool\nIN_MANT_ESCOLA_PRIVADA_S_FINS: bool\nNU_CNPJ_ESCOLA_PRIVADA: string\nNU_CNPJ_MANTENEDORA: string\nTP_REGULAMENTACAO: string\nTP_RESPONSAVEL_REGULAMENTACAO: string\nCO_ESCOLA_SEDE_VINCULADA: string\nCO_IES_OFERTANTE: string\nIN_LOCAL_FUNC_PREDIO_ESCOLAR: bool\nTP_OCUPACAO_PREDIO_ESCOLAR: string\nIN_LOCAL_FUNC_SALAS_EMPRESA: bool\nIN_LOCAL_FUNC_SOCIOEDUCATIVO: bool\nIN_LOCAL_FUNC_UNID_PRISIONAL: bool\nIN_LOCAL_FUNC_PRISIONAL_SOCIO: bool\nIN_LOCAL_FUNC_TEMPLO_IGREJA: bool\nIN_LOCAL_FUNC_CASA_PROFESSOR: bool\nIN_LOCAL_FUNC_GALPAO: bool\nTP_OCUPACAO_GALPAO: string\nIN_LOCAL_FUNC_SALAS_OUTRA_ESC: bool\nIN_LOCAL_FUNC_OUTROS: bool\nIN_PREDIO_COMPARTILHADO: bool\nIN_AGUA_FILTRADA: bool\nIN_AGUA_POTAVEL: bool\nIN_AGUA_REDE_PUBLICA: bool\nIN_AGUA_POCO_ARTESIANO: bool\nIN_AGUA_CACIMBA: bool\nIN_AGUA_FONTE_RIO: bool\nIN_AGUA_INEXISTENTE: bool\nIN_ENERGIA_REDE_PUBLICA: bool\nIN_ENERGIA_GERADOR: bool\nIN_ENERGIA_GERADOR_FOSSIL: bool\nIN_ENERGIA_OUTROS: bool\nIN_ENERGIA_RENOVAVEL: bool\nIN_ENERGIA_INEXISTENTE: bool\nIN_ESGOTO_REDE_PUBLICA: bool\nIN_ESGOTO_FOSSA_SEPTICA: bool\nIN_ESGOTO_FOSSA_COMUM: bool\nIN_ESGOTO_FOSSA: bool\nIN_ESGOTO_INEXISTENTE: bool\nIN_LIXO_SERVICO_COLETA: bool\nIN_LIXO_QUEIMA: bool\nIN_LIXO_ENTERRA: bool\nIN_LIXO_DESTINO_FINAL_PUBLICO: bool\nIN_LIXO_DESCARTA_OUTRA_AREA: bool\nIN_LIXO_JOGA_OUTRA_AREA: bool\nIN_LIXO_OUTROS: bool\nIN_LIXO_RECICLA: bool\nIN_TRATAMENTO_LIXO_SEPARACAO: bool\nIN_TRATAMENTO_LIXO_REUTILIZA: bool\nIN_TRATAMENTO_LIXO_RECICLAGEM: bool\nIN_TRATAMENTO_LIXO_INEXISTENTE: bool\nIN_ALMOXARIFADO: bool\nIN_AREA_VERDE: bool\nIN_AUDITORIO: bool\nIN_BANHEIRO_FORA_PREDIO: bool\nIN_BANHEIRO_DENTRO_PREDIO: bool\nIN_BANHEIRO: bool\nIN_BANHEIRO_EI: bool\nIN_BANHEIRO_PNE: bool\nIN_BANHEIRO_FUNCIONARIOS: bool\nIN_BANHEIRO_CHUVEIRO: bool\nIN_BERCARIO: bool\nIN_BIBLIOTECA: bool\nIN_BIBLIOTECA_SALA_LEITURA: bool\nIN_COZINHA: bool\nIN_DESPENSA: bool\nIN_DORMITORIO_ALUNO: bool\nIN_DORMITORIO_PROFESSOR: bool\nIN_LABORATORIO_CIENCIAS: bool\nIN_LABORATORIO_INFORMATICA: bool\nIN_PATIO_COBERTO: bool\nIN_PATIO_DESCOBERTO: bool\nIN_PARQUE_INFANTIL: bool\nIN_PISCINA: bool\nIN_QUADRA_ESPORTES: bool\nIN_QUADRA_ESPORTES_COBERTA: bool\nIN_QUADRA_ESPORTES_DESCOBERTA: bool\nIN_REFEITORIO: bool\nIN_SALA_ATELIE_ARTES: bool\nIN_SALA_MUSICA_CORAL: bool\nIN_SALA_ESTUDIO_DANCA: bool\nIN_SALA_MULTIUSO: bool\nIN_SALA_DIRETORIA: bool\nIN_SALA_LEITURA: bool\nIN_SALA_PROFESSOR: bool\nIN_SALA_REPOUSO_ALUNO: bool\nIN_SECRETARIA: bool\nIN_SALA_ATENDIMENTO_ESPECIAL: bool\nIN_TERREIRAO: bool\nIN_VIVEIRO: bool\nIN_DEPENDENCIAS_PNE: bool\nIN_LAVANDERIA: bool\nIN_DEPENDENCIAS_OUTRAS: bool\nIN_ACESSIBILIDADE_CORRIMAO: bool\nIN_ACESSIBILIDADE_ELEVADOR: bool\nIN_ACESSIBILIDADE_PISOS_TATEIS: bool\nIN_ACESSIBILIDADE_VAO_LIVRE: bool\nIN_ACESSIBILIDADE_RAMPAS: bool\nIN_ACESSIBILIDADE_SINAL_SONORO: bool\nIN_ACESSIBILIDADE_SINAL_TATIL: bool\nIN_ACESSIBILIDADE_SINAL_VISUAL: bool\nIN_ACESSIBILIDADE_INEXISTENTE: bool\nQT_SALAS_EXISTENTES: int16\nQT_SALAS_UTILIZADAS_DENTRO: int16\nQT_SALAS_UTILIZADAS_FORA: int16\nQT_SALAS_UTILIZADAS: int16\nQT_SALAS_UTILIZA_CLIMATIZADAS: int16\nQT_SALAS_UTILIZADAS_ACESSIVEIS: int16\nIN_EQUIP_PARABOLICA: bool\nIN_COMPUTADOR: bool\nIN_EQUIP_COPIADORA: bool\nIN_EQUIP_IMPRESSORA: bool\nIN_EQUIP_IMPRESSORA_MULT: bool\nIN_EQUIP_SCANNER: bool\nIN_EQUIP_NENHUM: bool\nIN_EQUIP_DVD: bool\nQT_EQUIP_DVD: int16\nIN_EQUIP_SOM: bool\nQT_EQUIP_SOM: int16\nIN_EQUIP_TV: bool\nQT_EQUIP_TV: int16\nIN_EQUIP_LOUSA_DIGITAL: bool\nQT_EQUIP_LOUSA_DIGITAL: int16\nIN_EQUIP_MULTIMIDIA: bool\nQT_EQUIP_MULTIMIDIA: int16\nIN_EQUIP_VIDEOCASSETE: bool\nIN_EQUIP_RETROPROJETOR: bool\nIN_EQUIP_FAX: bool\nIN_EQUIP_FOTO: bool\nQT_EQUIP_VIDEOCASSETE: int16\nQT_EQUIP_PARABOLICA: int16\nQT_EQUIP_COPIADORA: int16\nQT_EQUIP_RETROPROJETOR: int16\nQT_EQUIP_IMPRESSORA: int16\nQT_EQUIP_IMPRESSORA_MULT: int16\nQT_EQUIP_FAX: int16\nQT_EQUIP_FOTO: int16\nQT_COMP_ALUNO: int16\nIN_DESKTOP_ALUNO: bool\nQT_DESKTOP_ALUNO: int16\nIN_COMP_PORTATIL_ALUNO: bool\nQT_COMP_PORTATIL_ALUNO: int16\nIN_TABLET_ALUNO: bool\nQT_TABLET_ALUNO: int16\nQT_COMPUTADOR: int16\nQT_COMP_ADMINISTRATIVO: int16\nIN_INTERNET: bool\nIN_INTERNET_ALUNOS: bool\nIN_INTERNET_ADMINISTRATIVO: bool\nIN_INTERNET_APRENDIZAGEM: bool\nIN_INTERNET_COMUNIDADE: bool\nIN_ACESSO_INTERNET_COMPUTADOR: bool\nIN_ACES_INTERNET_DISP_PESSOAIS: bool\nTP_REDE_LOCAL: string\nIN_BANDA_LARGA: bool\nQT_FUNCIONARIOS: int16\nIN_PROF_ADMINISTRATIVOS: bool\nQT_PROF_ADMINISTRATIVOS: int16\nIN_PROF_SERVICOS_GERAIS: bool\nQT_PROF_SERVICOS_GERAIS: int16\nIN_PROF_BIBLIOTECARIO: bool\nQT_PROF_BIBLIOTECARIO: int16\nIN_PROF_SAUDE: bool\nQT_PROF_SAUDE: int16\nIN_PROF_COORDENADOR: bool\nQT_PROF_COORDENADOR: int16\nIN_PROF_FONAUDIOLOGO: bool\nQT_PROF_FONAUDIOLOGO: int16\nIN_PROF_NUTRICIONISTA: bool\nQT_PROF_NUTRICIONISTA: int16\nIN_PROF_PSICOLOGO: bool\nQT_PROF_PSICOLOGO: int16\nIN_PROF_ALIMENTACAO: bool\nQT_PROF_ALIMENTACAO: int16\nIN_PROF_PEDAGOGIA: bool\nQT_PROF_PEDAGOGIA: int16\nIN_PROF_SECRETARIO: bool\nQT_PROF_SECRETARIO: int16\nIN_PROF_SEGURANCA: bool\nQT_PROF_SEGURANCA: int16\nIN_PROF_MONITORES: bool\nQT_PROF_MONITORES: int16\nIN_PROF_GESTAO: bool\nQT_PROF_GESTAO: int16\nIN_PROF_ASSIST_SOCIAL: bool\nQT_PROF_ASSIST_SOCIAL: int16\nIN_ALIMENTACAO: bool\nIN_SERIE_ANO: bool\nIN_PERIODOS_SEMESTRAIS: bool\nIN_FUNDAMENTAL_CICLOS: bool\nIN_GRUPOS_NAO_SERIADOS: bool\nIN_MODULOS: bool\nIN_FORMACAO_ALTERNANCIA: bool\nIN_MATERIAL_PED_MULTIMIDIA: bool\nIN_MATERIAL_PED_INFANTIL: bool\nIN_MATERIAL_PED_CIENTIFICO: bool\nIN_MATERIAL_PED_DIFUSAO: bool\nIN_MATERIAL_PED_MUSICAL: bool\nIN_MATERIAL_PED_JOGOS: bool\nIN_MATERIAL_PED_ARTISTICAS: bool\nIN_MATERIAL_PED_DESPORTIVA: bool\nIN_MATERIAL_PED_INDIGENA: bool\nIN_MATERIAL_PED_ETNICO: bool\nIN_MATERIAL_PED_CAMPO: bool\nIN_MATERIAL_PED_NENHUM: bool\nIN_MATERIAL_ESP_QUILOMBOLA: bool\nIN_MATERIAL_ESP_INDIGENA: bool\nIN_MATERIAL_ESP_NAO_UTILIZA: bool\nIN_EDUCACAO_INDIGENA: bool\nTP_INDIGENA_LINGUA: string\nCO_LINGUA_INDIGENA_1: string\nCO_LINGUA_INDIGENA_2: string\nCO_LINGUA_INDIGENA_3: string\nIN_BRASIL_ALFABETIZADO: bool\nIN_FINAL_SEMANA: bool\nIN_EXAME_SELECAO: bool\nIN_RESERVA_PPI: bool\nIN_RESERVA_RENDA: bool\nIN_RESERVA_PUBLICA: bool\nIN_RESERVA_PCD: bool\nIN_RESERVA_OUTROS: bool\nIN_RESERVA_NENHUMA: bool\nIN_REDES_SOCIAIS: bool\nIN_ESPACO_ATIVIDADE: bool\nIN_ESPACO_EQUIPAMENTO: bool\nIN_ORGAO_ASS_PAIS: bool\nIN_ORGAO_ASS_PAIS_MESTRES: bool\nIN_ORGAO_CONSELHO_ESCOLAR: bool\nIN_ORGAO_GREMIO_ESTUDANTIL: bool\nIN_ORGAO_OUTROS: bool\nIN_ORGAO_NENHUM: bool\nTP_PROPOSTA_PEDAGOGICA: string\nTP_AEE: string\nTP_ATIVIDADE_COMPLEMENTAR: string\nIN_MEDIACAO_PRESENCIAL: bool\nIN_MEDIACAO_SEMIPRESENCIAL: bool\nIN_MEDIACAO_EAD: bool\nIN_REGULAR: bool\nIN_DIURNO: bool\nIN_NOTURNO: bool\nIN_EAD: bool\nIN_BAS: bool\nIN_INF: bool\nIN_INF_CRE: bool\nIN_INF_PRE: bool\nIN_FUND: bool\nIN_FUND_AI: bool\nIN_FUND_AF: bool\nIN_MED: bool\nIN_PROF: bool\nIN_PROF_TEC: bool\nIN_EJA: bool\nIN_EJA_FUND: bool\nIN_EJA_MED: bool\nIN_ESP: bool\nIN_ESP_CC: bool\nIN_ESP_CE: bool\nQT_MAT_BAS: int16\nQT_MAT_INF: int16\nQT_MAT_INF_CRE: int16\nQT_MAT_INF_PRE: int16\nQT_MAT_FUND: int16\nQT_MAT_FUND_AI: int16\nQT_MAT_FUND_AF: int16\nQT_MAT_MED: int16\nQT_MAT_PROF: int16\nQT_MAT_PROF_TEC: int16\nQT_MAT_EJA: int16\nQT_MAT_EJA_FUND: int16\nQT_MAT_EJA_MED: int16\nQT_MAT_ESP: int16\nQT_MAT_ESP_CC: int16\nQT_MAT_ESP_CE: int16\nQT_MAT_BAS_FEM: int16\nQT_MAT_BAS_MASC: int16\nQT_MAT_BAS_ND: int16\nQT_MAT_BAS_BRANCA: int16\nQT_MAT_BAS_PRETA: int16\nQT_MAT_BAS_PARDA: int16\nQT_MAT_BAS_AMARELA: int16\nQT_MAT_BAS_INDIGENA: int16\nQT_MAT_BAS_0_3: int16\nQT_MAT_BAS_4_5: int16\nQT_MAT_BAS_6_10: int16\nQT_MAT_BAS_11_14: int16\nQT_MAT_BAS_15_17: int16\nQT_MAT_BAS_18_MAIS: int16\nQT_MAT_BAS_D: int16\nQT_MAT_BAS_N: int16\nQT_MAT_BAS_EAD: int16\nQT_MAT_INF_INT: int16\nQT_MAT_INF_CRE_INT: int16\nQT_MAT_INF_PRE_INT: int16\nQT_MAT_FUND_INT: int16\nQT_MAT_FUND_AI_INT: int16\nQT_MAT_FUND_AF_INT: int16\nQT_MAT_MED_INT: int16\nQT_DOC_BAS: int16\nQT_DOC_INF: int16\nQT_DOC_INF_CRE: int16\nQT_DOC_INF_PRE: int16\nQT_DOC_FUND: int16\nQT_DOC_FUND_AI: int16\nQT_DOC_FUND_AF: int16\nQT_DOC_MED: int16\nQT_DOC_PROF: int16\nQT_DOC_PROF_TEC: int16\nQT_DOC_EJA: int16\nQT_DOC_EJA_FUND: int16\nQT_DOC_EJA_MED: int16\nQT_DOC_ESP: int16\nQT_DOC_ESP_CC: int16\nQT_DOC_ESP_CE: int16\nQT_TUR_BAS: int16\nQT_TUR_INF: int16\nQT_TUR_INF_CRE: int16\nQT_TUR_INF_PRE: int16\nQT_TUR_FUND: int16\nQT_TUR_FUND_AI: int16\nQT_TUR_FUND_AF: int16\nQT_TUR_MED: int16\nQT_TUR_PROF: int16\nQT_TUR_PROF_TEC: int16\nQT_TUR_EJA: int16\nQT_TUR_EJA_FUND: int16\nQT_TUR_EJA_MED: int16\nQT_TUR_ESP: int16\nQT_TUR_ESP_CC: int16\nQT_TUR_ESP_CE: int16\nNU_ANO_CENSO: int32\n-- schema metadata --\npandas: '{\"index_columns\": [{\"kind\": \"range\", \"name\": null, \"start\": 0, \"' + 48962"
     },
     "execution_count": 2,
     "metadata": {},
     "output_type": "execute_result"
    }
   ],
   "source": [
    "from collections import Counter\n",
    "import random\n",
    "\n",
    "import pyarrow.dataset as ds\n",
    "import duckdb\n",
    "import pandas as pd\n",
    "\n",
    "\n",
    "con = duckdb.connect()\n",
    "\n",
    "dataset = ds.dataset(\"../../data/transformed.parquet\", format=\"parquet\", partitioning=\"hive\")\n",
    "dataset.schema"
   ]
  },
  {
   "cell_type": "code",
   "execution_count": 4,
   "outputs": [
    {
     "data": {
      "text/plain": "<duckdb.DuckDBPyConnection at 0x7f0d4773de70>"
     },
     "execution_count": 4,
     "metadata": {},
     "output_type": "execute_result"
    }
   ],
   "source": [
    "con.register(\"censo\", dataset)"
   ],
   "metadata": {
    "collapsed": false
   }
  },
  {
   "cell_type": "code",
   "execution_count": null,
   "id": "26aae5df",
   "metadata": {
    "collapsed": false,
    "jupyter": {
     "outputs_hidden": false
    }
   },
   "outputs": [],
   "source": [
    "examples = random.choices(range(0, dataset.count_rows() - 1), k=5)\n",
    "df_example = dataset.take(examples).to_pandas()\n",
    "df_example"
   ]
  },
  {
   "cell_type": "code",
   "execution_count": 29,
   "id": "3e3ff6b5",
   "metadata": {
    "collapsed": false,
    "jupyter": {
     "outputs_hidden": false
    }
   },
   "outputs": [],
   "source": [
    "df_example.to_csv(\"../data/examples.csv\")"
   ]
  },
  {
   "cell_type": "code",
   "execution_count": 181,
   "id": "72d76343",
   "metadata": {
    "collapsed": false,
    "jupyter": {
     "outputs_hidden": false
    }
   },
   "outputs": [
    {
     "data": {
      "text/plain": "Counter({'NO': 7,\n         'CO': 14,\n         'SG': 1,\n         'TP': 15,\n         'DS': 2,\n         'NU': 6,\n         'DT': 2,\n         'IN': 210,\n         'QT': 113})"
     },
     "execution_count": 181,
     "metadata": {},
     "output_type": "execute_result"
    }
   ],
   "source": [
    "Counter(column[:2] for column in df_example.columns)"
   ]
  },
  {
   "cell_type": "code",
   "execution_count": 182,
   "id": "a5150583",
   "metadata": {
    "collapsed": false,
    "jupyter": {
     "outputs_hidden": false
    }
   },
   "outputs": [
    {
     "data": {
      "text/plain": "(1384337, 370)"
     },
     "execution_count": 182,
     "metadata": {},
     "output_type": "execute_result"
    }
   ],
   "source": [
    "dataset.to_table().shape"
   ]
  },
  {
   "cell_type": "code",
   "execution_count": 10,
   "id": "7e15f4b7-5e9a-48f7-b987-74f8d2703160",
   "metadata": {},
   "outputs": [
    {
     "data": {
      "text/plain": "   NU_ANO_CENSO  count_star()\n0          2016        237506\n1          2017        236481\n2          2018        236460\n3          2019        228521\n4          2020        224229\n5          2021        221140",
      "text/html": "<div>\n<style scoped>\n    .dataframe tbody tr th:only-of-type {\n        vertical-align: middle;\n    }\n\n    .dataframe tbody tr th {\n        vertical-align: top;\n    }\n\n    .dataframe thead th {\n        text-align: right;\n    }\n</style>\n<table border=\"1\" class=\"dataframe\">\n  <thead>\n    <tr style=\"text-align: right;\">\n      <th></th>\n      <th>NU_ANO_CENSO</th>\n      <th>count_star()</th>\n    </tr>\n  </thead>\n  <tbody>\n    <tr>\n      <th>0</th>\n      <td>2016</td>\n      <td>237506</td>\n    </tr>\n    <tr>\n      <th>1</th>\n      <td>2017</td>\n      <td>236481</td>\n    </tr>\n    <tr>\n      <th>2</th>\n      <td>2018</td>\n      <td>236460</td>\n    </tr>\n    <tr>\n      <th>3</th>\n      <td>2019</td>\n      <td>228521</td>\n    </tr>\n    <tr>\n      <th>4</th>\n      <td>2020</td>\n      <td>224229</td>\n    </tr>\n    <tr>\n      <th>5</th>\n      <td>2021</td>\n      <td>221140</td>\n    </tr>\n  </tbody>\n</table>\n</div>"
     },
     "execution_count": 10,
     "metadata": {},
     "output_type": "execute_result"
    }
   ],
   "source": [
    "con.execute(\"\"\"\n",
    "    select\n",
    "        NU_ANO_CENSO,\n",
    "        count(*)\n",
    "    from censo\n",
    "    group by NU_ANO_CENSO\n",
    "    order by 1\n",
    "    \"\"\"\n",
    ").df()"
   ]
  },
  {
   "cell_type": "code",
   "execution_count": 11,
   "id": "39aeb2e4",
   "metadata": {
    "collapsed": false,
    "jupyter": {
     "outputs_hidden": false
    }
   },
   "outputs": [
    {
     "data": {
      "text/plain": "[('São Paulo', 199289),\n ('Minas Gerais', 147816),\n ('Bahia', 141767),\n ('Maranhão', 87997),\n ('Rio de Janeiro', 81093),\n ('Pará', 77892),\n ('Rio Grande do Sul', 70782),\n ('Pernambuco', 69621),\n ('Ceará', 69204),\n ('Paraná', 60889),\n ('Santa Catarina', 45147),\n ('Piauí', 43875),\n ('Paraíba', 38514),\n ('Amazonas', 37727),\n ('Rio Grande do Norte', 32774),\n ('Goiás', 31599),\n ('Espírito Santo', 24993),\n ('Alagoas', 21788),\n ('Mato Grosso', 19183),\n ('Tocantins', 16175),\n ('Sergipe', 15938),\n ('Mato Grosso do Sul', 11193),\n ('Acre', 10825),\n ('Rondônia', 9223),\n ('Distrito Federal', 8157),\n ('Amapá', 5493),\n ('Roraima', 5383)]"
     },
     "execution_count": 11,
     "metadata": {},
     "output_type": "execute_result"
    }
   ],
   "source": [
    "con.execute(\"\"\"\n",
    "    select\n",
    "        NO_UF,\n",
    "        count(*)\n",
    "    from censo\n",
    "    group by NO_UF\n",
    "    order by 2 desc\n",
    "    \"\"\"\n",
    ").fetchall()"
   ]
  },
  {
   "cell_type": "code",
   "execution_count": 7,
   "id": "2c6f6fb6",
   "metadata": {
    "collapsed": false,
    "jupyter": {
     "outputs_hidden": false
    }
   },
   "outputs": [
    {
     "data": {
      "text/plain": "[('São Paulo', 36225),\n ('Bahia', 27457),\n ('Minas Gerais', 26752),\n ('Maranhão', 15517),\n ('Rio de Janeiro', 14869),\n ('Pará', 14129),\n ('Pernambuco', 12982),\n ('Ceará', 12889),\n ('Rio Grande do Sul', 12680),\n ('Paraná', 10770),\n ('Santa Catarina', 8378),\n ('Piauí', 8285),\n ('Paraíba', 7483),\n ('Amazonas', 6698),\n ('Goiás', 5918),\n ('Rio Grande do Norte', 5792),\n ('Espírito Santo', 4416),\n ('Alagoas', 4180),\n ('Mato Grosso', 3478),\n ('Tocantins', 2946),\n ('Sergipe', 2943),\n ('Mato Grosso do Sul', 1983),\n ('Acre', 1934),\n ('Rondônia', 1684),\n ('Distrito Federal', 1519),\n ('Amapá', 984),\n ('Roraima', 964)]"
     },
     "execution_count": 7,
     "metadata": {},
     "output_type": "execute_result"
    }
   ],
   "source": [
    "con.execute(\"\"\"\n",
    "    select\n",
    "        NO_UF,\n",
    "        count(distinct(CO_ENTIDADE))\n",
    "    from censo\n",
    "    group by NO_UF\n",
    "    order by 2 desc\n",
    "    \"\"\"\n",
    ").fetchall()"
   ]
  },
  {
   "cell_type": "code",
   "execution_count": null,
   "outputs": [],
   "source": [],
   "metadata": {
    "collapsed": false
   }
  }
 ],
 "metadata": {
  "kernelspec": {
   "display_name": "Python 3 (ipykernel)",
   "language": "python",
   "name": "python3"
  },
  "language_info": {
   "codemirror_mode": {
    "name": "ipython",
    "version": 3
   },
   "file_extension": ".py",
   "mimetype": "text/x-python",
   "name": "python",
   "nbconvert_exporter": "python",
   "pygments_lexer": "ipython3",
   "version": "3.10.7"
  }
 },
 "nbformat": 4,
 "nbformat_minor": 5
}
