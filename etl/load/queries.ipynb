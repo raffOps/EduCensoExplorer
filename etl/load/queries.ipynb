{
 "cells": [
  {
   "cell_type": "code",
   "execution_count": 75,
   "id": "024d0237",
   "metadata": {
    "collapsed": false,
    "jupyter": {
     "outputs_hidden": false
    }
   },
   "outputs": [],
   "source": [
    "from collections import Counter\n",
    "import random\n",
    "\n",
    "import numpy as np\n",
    "import pyarrow.dataset as ds\n",
    "import duckdb\n",
    "import pandas as pd\n",
    "import numpy as np\n",
    "import seaborn as sns\n",
    "\n",
    "INDICADORES = {\n",
    "    \"AFD\": \"Adequação da Formação Docente\",\n",
    "    \"ICG\": \"Complexidade de Gestão da Escola\",\n",
    "    \"IED\": \"Esforço Docente\",\n",
    "    \"ATU\": \"Média de Alunos por Turma\",\n",
    "    \"HAD\": \"Média de Horas-aula diária\",\n",
    "    \"DSU\": \"Percentual de Docentes com Curso Superior\",\n",
    "    \"TDI\": \"Taxas de Distorção Idade-série\"\n",
    "}\n",
    "\n",
    "DIMENSIONS = {\n",
    "    \"Ano\": \"NU_ANO_CENSO\",\n",
    "    \"Nome da região geográfica\": \"NO_REGIAO\",\n",
    "    \"Nome da Unidade da Federação\": \"NO_UF\",\n",
    "    \"Nome da Mesorregião\": \"NO_MESORREGIAO\",\n",
    "    \"Nome da Microrregião\": \"NO_MICRORREGIAO\"\n",
    "}\n",
    "\n",
    "con = duckdb.connect('../../file.db')\n",
    "\n",
    "microdados = ds.dataset(\"../../data/transformed/microdados.parquet\", format=\"parquet\", partitioning=\"hive\")\n",
    "con.register(\"microdados\", microdados)\n",
    "\n",
    "indicadores = {}\n",
    "for indicador in INDICADORES:\n",
    "    indicadores[indicador] = ds.dataset(f\"../../data/transformed/indicadores/{indicador}.parquet\", format=\"parquet\", partitioning=\"hive\")\n",
    "    con.register(indicador, indicadores[indicador])"
   ]
  },
  {
   "cell_type": "code",
   "execution_count": 6,
   "id": "7e15f4b7-5e9a-48f7-b987-74f8d2703160",
   "metadata": {},
   "outputs": [
    {
     "data": {
      "text/plain": "    NU_ANO_CENSO                     Nível de ensino  Número de matriculas\n0           2017                     Educação Básica               8508731\n1           2018                     Educação Básica               8745184\n2           2019                     Educação Básica               8972778\n3           2021                     Educação Básica               8319399\n4           2016                     Educação Básica               8279104\n5           2020                     Educação Básica               8829795\n6           2017                   Educação Infantil              27348080\n7           2018                   Educação Infantil              27183970\n8           2019                   Educação Infantil              26923730\n9           2021                   Educação Infantil              26515601\n10          2016                   Educação Infantil              27691478\n11          2020                   Educação Infantil              26718830\n12          2017                  Ensino Fundamental               7930384\n13          2018                  Ensino Fundamental               7709929\n14          2019                  Ensino Fundamental               7465891\n15          2021                  Ensino Fundamental               7770557\n16          2016                  Ensino Fundamental               8133040\n17          2020                  Ensino Fundamental               7550753\n18          2017                        Ensino Médio               1831003\n19          2018                        Ensino Médio               1903230\n20          2019                        Ensino Médio               1914749\n21          2021                        Ensino Médio               1892458\n22          2016                        Ensino Médio               1859940\n23          2020                        Ensino Médio               1936094\n24          2017               Educação Profissional               1791806\n25          2018               Educação Profissional               1868917\n26          2019               Educação Profissional               1874974\n27          2021               Educação Profissional               1851541\n28          2016               Educação Profissional               1775324\n29          2020               Educação Profissional               1901477\n30          2017  Educação de Jovens e Adultos (EJA)               3598716\n31          2018  Educação de Jovens e Adultos (EJA)               3545988\n32          2019  Educação de Jovens e Adultos (EJA)               3273668\n33          2021  Educação de Jovens e Adultos (EJA)               2962322\n34          2016  Educação de Jovens e Adultos (EJA)               3482174\n35          2020  Educação de Jovens e Adultos (EJA)               3002749\n36          2017                   Educação Especial               1066446\n37          2018                   Educação Especial               1181276\n38          2019                   Educação Especial               1250967\n39          2021                   Educação Especial               1350921\n40          2016                   Educação Especial                971372\n41          2020                   Educação Especial               1308900",
      "text/html": "<div>\n<style scoped>\n    .dataframe tbody tr th:only-of-type {\n        vertical-align: middle;\n    }\n\n    .dataframe tbody tr th {\n        vertical-align: top;\n    }\n\n    .dataframe thead th {\n        text-align: right;\n    }\n</style>\n<table border=\"1\" class=\"dataframe\">\n  <thead>\n    <tr style=\"text-align: right;\">\n      <th></th>\n      <th>NU_ANO_CENSO</th>\n      <th>Nível de ensino</th>\n      <th>Número de matriculas</th>\n    </tr>\n  </thead>\n  <tbody>\n    <tr>\n      <th>0</th>\n      <td>2017</td>\n      <td>Educação Básica</td>\n      <td>8508731</td>\n    </tr>\n    <tr>\n      <th>1</th>\n      <td>2018</td>\n      <td>Educação Básica</td>\n      <td>8745184</td>\n    </tr>\n    <tr>\n      <th>2</th>\n      <td>2019</td>\n      <td>Educação Básica</td>\n      <td>8972778</td>\n    </tr>\n    <tr>\n      <th>3</th>\n      <td>2021</td>\n      <td>Educação Básica</td>\n      <td>8319399</td>\n    </tr>\n    <tr>\n      <th>4</th>\n      <td>2016</td>\n      <td>Educação Básica</td>\n      <td>8279104</td>\n    </tr>\n    <tr>\n      <th>5</th>\n      <td>2020</td>\n      <td>Educação Básica</td>\n      <td>8829795</td>\n    </tr>\n    <tr>\n      <th>6</th>\n      <td>2017</td>\n      <td>Educação Infantil</td>\n      <td>27348080</td>\n    </tr>\n    <tr>\n      <th>7</th>\n      <td>2018</td>\n      <td>Educação Infantil</td>\n      <td>27183970</td>\n    </tr>\n    <tr>\n      <th>8</th>\n      <td>2019</td>\n      <td>Educação Infantil</td>\n      <td>26923730</td>\n    </tr>\n    <tr>\n      <th>9</th>\n      <td>2021</td>\n      <td>Educação Infantil</td>\n      <td>26515601</td>\n    </tr>\n    <tr>\n      <th>10</th>\n      <td>2016</td>\n      <td>Educação Infantil</td>\n      <td>27691478</td>\n    </tr>\n    <tr>\n      <th>11</th>\n      <td>2020</td>\n      <td>Educação Infantil</td>\n      <td>26718830</td>\n    </tr>\n    <tr>\n      <th>12</th>\n      <td>2017</td>\n      <td>Ensino Fundamental</td>\n      <td>7930384</td>\n    </tr>\n    <tr>\n      <th>13</th>\n      <td>2018</td>\n      <td>Ensino Fundamental</td>\n      <td>7709929</td>\n    </tr>\n    <tr>\n      <th>14</th>\n      <td>2019</td>\n      <td>Ensino Fundamental</td>\n      <td>7465891</td>\n    </tr>\n    <tr>\n      <th>15</th>\n      <td>2021</td>\n      <td>Ensino Fundamental</td>\n      <td>7770557</td>\n    </tr>\n    <tr>\n      <th>16</th>\n      <td>2016</td>\n      <td>Ensino Fundamental</td>\n      <td>8133040</td>\n    </tr>\n    <tr>\n      <th>17</th>\n      <td>2020</td>\n      <td>Ensino Fundamental</td>\n      <td>7550753</td>\n    </tr>\n    <tr>\n      <th>18</th>\n      <td>2017</td>\n      <td>Ensino Médio</td>\n      <td>1831003</td>\n    </tr>\n    <tr>\n      <th>19</th>\n      <td>2018</td>\n      <td>Ensino Médio</td>\n      <td>1903230</td>\n    </tr>\n    <tr>\n      <th>20</th>\n      <td>2019</td>\n      <td>Ensino Médio</td>\n      <td>1914749</td>\n    </tr>\n    <tr>\n      <th>21</th>\n      <td>2021</td>\n      <td>Ensino Médio</td>\n      <td>1892458</td>\n    </tr>\n    <tr>\n      <th>22</th>\n      <td>2016</td>\n      <td>Ensino Médio</td>\n      <td>1859940</td>\n    </tr>\n    <tr>\n      <th>23</th>\n      <td>2020</td>\n      <td>Ensino Médio</td>\n      <td>1936094</td>\n    </tr>\n    <tr>\n      <th>24</th>\n      <td>2017</td>\n      <td>Educação Profissional</td>\n      <td>1791806</td>\n    </tr>\n    <tr>\n      <th>25</th>\n      <td>2018</td>\n      <td>Educação Profissional</td>\n      <td>1868917</td>\n    </tr>\n    <tr>\n      <th>26</th>\n      <td>2019</td>\n      <td>Educação Profissional</td>\n      <td>1874974</td>\n    </tr>\n    <tr>\n      <th>27</th>\n      <td>2021</td>\n      <td>Educação Profissional</td>\n      <td>1851541</td>\n    </tr>\n    <tr>\n      <th>28</th>\n      <td>2016</td>\n      <td>Educação Profissional</td>\n      <td>1775324</td>\n    </tr>\n    <tr>\n      <th>29</th>\n      <td>2020</td>\n      <td>Educação Profissional</td>\n      <td>1901477</td>\n    </tr>\n    <tr>\n      <th>30</th>\n      <td>2017</td>\n      <td>Educação de Jovens e Adultos (EJA)</td>\n      <td>3598716</td>\n    </tr>\n    <tr>\n      <th>31</th>\n      <td>2018</td>\n      <td>Educação de Jovens e Adultos (EJA)</td>\n      <td>3545988</td>\n    </tr>\n    <tr>\n      <th>32</th>\n      <td>2019</td>\n      <td>Educação de Jovens e Adultos (EJA)</td>\n      <td>3273668</td>\n    </tr>\n    <tr>\n      <th>33</th>\n      <td>2021</td>\n      <td>Educação de Jovens e Adultos (EJA)</td>\n      <td>2962322</td>\n    </tr>\n    <tr>\n      <th>34</th>\n      <td>2016</td>\n      <td>Educação de Jovens e Adultos (EJA)</td>\n      <td>3482174</td>\n    </tr>\n    <tr>\n      <th>35</th>\n      <td>2020</td>\n      <td>Educação de Jovens e Adultos (EJA)</td>\n      <td>3002749</td>\n    </tr>\n    <tr>\n      <th>36</th>\n      <td>2017</td>\n      <td>Educação Especial</td>\n      <td>1066446</td>\n    </tr>\n    <tr>\n      <th>37</th>\n      <td>2018</td>\n      <td>Educação Especial</td>\n      <td>1181276</td>\n    </tr>\n    <tr>\n      <th>38</th>\n      <td>2019</td>\n      <td>Educação Especial</td>\n      <td>1250967</td>\n    </tr>\n    <tr>\n      <th>39</th>\n      <td>2021</td>\n      <td>Educação Especial</td>\n      <td>1350921</td>\n    </tr>\n    <tr>\n      <th>40</th>\n      <td>2016</td>\n      <td>Educação Especial</td>\n      <td>971372</td>\n    </tr>\n    <tr>\n      <th>41</th>\n      <td>2020</td>\n      <td>Educação Especial</td>\n      <td>1308900</td>\n    </tr>\n  </tbody>\n</table>\n</div>"
     },
     "execution_count": 6,
     "metadata": {},
     "output_type": "execute_result"
    }
   ],
   "source": [
    "# quantidade de matriculas\n",
    "dimension = \"NU_ANO_CENSO\"\n",
    "quantidade_matriculas = con.execute(f\"\"\"\n",
    "    select\n",
    "        {dimension},\n",
    "        cast(sum(QT_MAT_INF) as bigint) as 'Educação Básica',\n",
    "\n",
    "        cast(sum(QT_MAT_FUND) as bigint) as 'Educação Infantil',\n",
    "        cast(sum(QT_MAT_MED) as bigint) as 'Ensino Fundamental',\n",
    "        cast(sum(QT_MAT_PROF) as bigint) as 'Ensino Médio',\n",
    "        cast(sum(QT_MAT_PROF_TEC) as bigint) as 'Educação Profissional',\n",
    "        cast(sum(QT_MAT_EJA) as bigint) as 'Educação de Jovens e Adultos (EJA)',\n",
    "        cast(sum(QT_MAT_ESP) as bigint) as 'Educação Especial'\n",
    "    from microdados\n",
    "    group by {dimension}\n",
    "    \"\"\"\n",
    ").df()\n",
    "quantidade_matriculas.melt(\n",
    "        id_vars=[dimension],\n",
    "        var_name=\"Nível de ensino\",\n",
    "        value_name=\"Número de matriculas\",\n",
    "        value_vars=quantidade_matriculas.columns[1:]\n",
    "     )"
   ]
  },
  {
   "cell_type": "code",
   "execution_count": 4,
   "id": "2c6f6fb6",
   "metadata": {
    "collapsed": false,
    "jupyter": {
     "outputs_hidden": false
    }
   },
   "outputs": [
    {
     "data": {
      "text/plain": "    Ano  Quantidade de escolas\n0  2017                 236481\n1  2020                 224229\n2  2016                 237506\n3  2018                 236460\n4  2019                 228521\n5  2021                 221140",
      "text/html": "<div>\n<style scoped>\n    .dataframe tbody tr th:only-of-type {\n        vertical-align: middle;\n    }\n\n    .dataframe tbody tr th {\n        vertical-align: top;\n    }\n\n    .dataframe thead th {\n        text-align: right;\n    }\n</style>\n<table border=\"1\" class=\"dataframe\">\n  <thead>\n    <tr style=\"text-align: right;\">\n      <th></th>\n      <th>Ano</th>\n      <th>Quantidade de escolas</th>\n    </tr>\n  </thead>\n  <tbody>\n    <tr>\n      <th>0</th>\n      <td>2017</td>\n      <td>236481</td>\n    </tr>\n    <tr>\n      <th>1</th>\n      <td>2020</td>\n      <td>224229</td>\n    </tr>\n    <tr>\n      <th>2</th>\n      <td>2016</td>\n      <td>237506</td>\n    </tr>\n    <tr>\n      <th>3</th>\n      <td>2018</td>\n      <td>236460</td>\n    </tr>\n    <tr>\n      <th>4</th>\n      <td>2019</td>\n      <td>228521</td>\n    </tr>\n    <tr>\n      <th>5</th>\n      <td>2021</td>\n      <td>221140</td>\n    </tr>\n  </tbody>\n</table>\n</div>"
     },
     "execution_count": 4,
     "metadata": {},
     "output_type": "execute_result"
    }
   ],
   "source": [
    "# quantidade de escolas\n",
    "dimension = \"Ano\"\n",
    "quantidade_escolas = con.execute(f\"\"\"\n",
    "    select\n",
    "        {DIMENSIONS[dimension]} as {dimension},\n",
    "        count(CO_ENTIDADE) as 'Quantidade de escolas'\n",
    "    from microdados\n",
    "    group by {DIMENSIONS[dimension]}\n",
    "    \"\"\"\n",
    ").df()\n",
    "quantidade_escolas"
   ]
  },
  {
   "cell_type": "code",
   "execution_count": 32,
   "outputs": [
    {
     "data": {
      "text/plain": "        SG_UF    GRUPO  METRICA\n0          RO  TDI_F58      NaN\n1          RO  TDI_F58      NaN\n2          RO  TDI_F58     43.2\n3          RO  TDI_F58      NaN\n4          RO  TDI_F58     31.1\n...       ...      ...      ...\n6995240    DF  TDI_FUN     16.7\n6995241    DF  TDI_FUN     38.7\n6995242    DF  TDI_FUN     18.4\n6995243    DF  TDI_FUN      0.0\n6995244    DF  TDI_FUN      1.4\n\n[6995245 rows x 3 columns]",
      "text/html": "<div>\n<style scoped>\n    .dataframe tbody tr th:only-of-type {\n        vertical-align: middle;\n    }\n\n    .dataframe tbody tr th {\n        vertical-align: top;\n    }\n\n    .dataframe thead th {\n        text-align: right;\n    }\n</style>\n<table border=\"1\" class=\"dataframe\">\n  <thead>\n    <tr style=\"text-align: right;\">\n      <th></th>\n      <th>SG_UF</th>\n      <th>GRUPO</th>\n      <th>METRICA</th>\n    </tr>\n  </thead>\n  <tbody>\n    <tr>\n      <th>0</th>\n      <td>RO</td>\n      <td>TDI_F58</td>\n      <td>NaN</td>\n    </tr>\n    <tr>\n      <th>1</th>\n      <td>RO</td>\n      <td>TDI_F58</td>\n      <td>NaN</td>\n    </tr>\n    <tr>\n      <th>2</th>\n      <td>RO</td>\n      <td>TDI_F58</td>\n      <td>43.2</td>\n    </tr>\n    <tr>\n      <th>3</th>\n      <td>RO</td>\n      <td>TDI_F58</td>\n      <td>NaN</td>\n    </tr>\n    <tr>\n      <th>4</th>\n      <td>RO</td>\n      <td>TDI_F58</td>\n      <td>31.1</td>\n    </tr>\n    <tr>\n      <th>...</th>\n      <td>...</td>\n      <td>...</td>\n      <td>...</td>\n    </tr>\n    <tr>\n      <th>6995240</th>\n      <td>DF</td>\n      <td>TDI_FUN</td>\n      <td>16.7</td>\n    </tr>\n    <tr>\n      <th>6995241</th>\n      <td>DF</td>\n      <td>TDI_FUN</td>\n      <td>38.7</td>\n    </tr>\n    <tr>\n      <th>6995242</th>\n      <td>DF</td>\n      <td>TDI_FUN</td>\n      <td>18.4</td>\n    </tr>\n    <tr>\n      <th>6995243</th>\n      <td>DF</td>\n      <td>TDI_FUN</td>\n      <td>0.0</td>\n    </tr>\n    <tr>\n      <th>6995244</th>\n      <td>DF</td>\n      <td>TDI_FUN</td>\n      <td>1.4</td>\n    </tr>\n  </tbody>\n</table>\n<p>6995245 rows × 3 columns</p>\n</div>"
     },
     "execution_count": 32,
     "metadata": {},
     "output_type": "execute_result"
    }
   ],
   "source": [
    "dimension = \"SG_UF\"\n",
    "indicador_grupo = \"TDI\"\n",
    "tdi = con.execute(f\"\"\"\n",
    "    select\n",
    "        m.{dimension},\n",
    "        i.GRUPO,\n",
    "        i.METRICA\n",
    "        from microdados m\n",
    "        left join {indicador_grupo} i\n",
    "            on m.NU_ANO_CENSO = i.NU_ANO_CENSO\n",
    "            and m.CO_ENTIDADE = i.CO_ENTIDADE\n",
    "        where i.GRUPO like '{indicador_grupo}%'\n",
    "        --group by m.{dimension}, i.GRUPO\n",
    "        --order by 2, 3 desc\n",
    "    \"\"\"\n",
    ").df()\n",
    "tdi"
   ],
   "metadata": {
    "collapsed": false,
    "pycharm": {
     "name": "#%%\n"
    }
   }
  },
  {
   "cell_type": "code",
   "execution_count": 73,
   "outputs": [],
   "source": [
    "teste = tdi[(tdi.GRUPO == \"TDI_FUN\") & (tdi.SG_UF == \"RO\")]\n"
   ],
   "metadata": {
    "collapsed": false,
    "pycharm": {
     "name": "#%%\n"
    }
   }
  },
  {
   "cell_type": "code",
   "execution_count": 77,
   "outputs": [
    {
     "data": {
      "text/plain": "<Axes: >"
     },
     "execution_count": 77,
     "metadata": {},
     "output_type": "execute_result"
    },
    {
     "data": {
      "text/plain": "<Figure size 640x480 with 1 Axes>",
      "image/png": "[encoded data removed]"
     },
     "metadata": {},
     "output_type": "display_data"
    }
   ],
   "source": [
    "sns.boxplot(teste)"
   ],
   "metadata": {
    "collapsed": false,
    "pycharm": {
     "name": "#%%\n"
    }
   }
  },
  {
   "cell_type": "code",
   "execution_count": 51,
   "outputs": [
    {
     "name": "stdout",
     "output_type": "stream",
     "text": [
      "<class 'pandas.core.frame.DataFrame'>\n",
      "Int64Index: 3119 entries, 4207 to 4732957\n",
      "Data columns (total 3 columns):\n",
      " #   Column   Non-Null Count  Dtype  \n",
      "---  ------   --------------  -----  \n",
      " 0   SG_UF    3119 non-null   object \n",
      " 1   GRUPO    3119 non-null   object \n",
      " 2   METRICA  3028 non-null   float64\n",
      "dtypes: float64(1), object(2)\n",
      "memory usage: 97.5+ KB\n"
     ]
    }
   ],
   "source": [
    "teste.info()"
   ],
   "metadata": {
    "collapsed": false,
    "pycharm": {
     "name": "#%%\n"
    }
   }
  },
  {
   "cell_type": "code",
   "execution_count": 62,
   "outputs": [
    {
     "data": {
      "text/plain": "array([nan])"
     },
     "execution_count": 62,
     "metadata": {},
     "output_type": "execute_result"
    }
   ],
   "source": [
    "np.percentile(sorted(teste.METRICA), q=[0.6])"
   ],
   "metadata": {
    "collapsed": false,
    "pycharm": {
     "name": "#%%\n"
    }
   }
  },
  {
   "cell_type": "code",
   "execution_count": 70,
   "outputs": [
    {
     "data": {
      "text/plain": "100.0"
     },
     "execution_count": 70,
     "metadata": {},
     "output_type": "execute_result"
    }
   ],
   "source": [
    "np.sort(teste.METRICA)[-100]"
   ],
   "metadata": {
    "collapsed": false,
    "pycharm": {
     "name": "#%%\n"
    }
   }
  },
  {
   "cell_type": "code",
   "execution_count": 59,
   "outputs": [
    {
     "data": {
      "text/plain": "4.95"
     },
     "execution_count": 59,
     "metadata": {},
     "output_type": "execute_result"
    }
   ],
   "source": [
    "np.percentile(range(0, 100), q=5)"
   ],
   "metadata": {
    "collapsed": false,
    "pycharm": {
     "name": "#%%\n"
    }
   }
  },
  {
   "cell_type": "code",
   "execution_count": 50,
   "outputs": [],
   "source": [
    "np.percentile?"
   ],
   "metadata": {
    "collapsed": false,
    "pycharm": {
     "name": "#%%\n"
    }
   }
  },
  {
   "cell_type": "code",
   "execution_count": 31,
   "outputs": [
    {
     "data": {
      "text/plain": "    SG_UF    GRUPO  quantile_disc(0.5 ORDER BY i.\"METRICA\")\n0      RJ  TDI_F00                                      3.8\n1      CE  TDI_F00                                      0.0\n2      SE  TDI_F00                                      0.0\n3      ES  TDI_F00                                      0.0\n4      SC  TDI_F00                                      0.0\n..    ...      ...                                      ...\n454    GO  TDI_MED                                     21.4\n455    PR  TDI_MED                                     20.5\n456    SC  TDI_MED                                     18.4\n457    DF  TDI_MED                                     13.1\n458    SP  TDI_MED                                      8.9\n\n[459 rows x 3 columns]",
      "text/html": "<div>\n<style scoped>\n    .dataframe tbody tr th:only-of-type {\n        vertical-align: middle;\n    }\n\n    .dataframe tbody tr th {\n        vertical-align: top;\n    }\n\n    .dataframe thead th {\n        text-align: right;\n    }\n</style>\n<table border=\"1\" class=\"dataframe\">\n  <thead>\n    <tr style=\"text-align: right;\">\n      <th></th>\n      <th>SG_UF</th>\n      <th>GRUPO</th>\n      <th>quantile_disc(0.5 ORDER BY i.\"METRICA\")</th>\n    </tr>\n  </thead>\n  <tbody>\n    <tr>\n      <th>0</th>\n      <td>RJ</td>\n      <td>TDI_F00</td>\n      <td>3.8</td>\n    </tr>\n    <tr>\n      <th>1</th>\n      <td>CE</td>\n      <td>TDI_F00</td>\n      <td>0.0</td>\n    </tr>\n    <tr>\n      <th>2</th>\n      <td>SE</td>\n      <td>TDI_F00</td>\n      <td>0.0</td>\n    </tr>\n    <tr>\n      <th>3</th>\n      <td>ES</td>\n      <td>TDI_F00</td>\n      <td>0.0</td>\n    </tr>\n    <tr>\n      <th>4</th>\n      <td>SC</td>\n      <td>TDI_F00</td>\n      <td>0.0</td>\n    </tr>\n    <tr>\n      <th>...</th>\n      <td>...</td>\n      <td>...</td>\n      <td>...</td>\n    </tr>\n    <tr>\n      <th>454</th>\n      <td>GO</td>\n      <td>TDI_MED</td>\n      <td>21.4</td>\n    </tr>\n    <tr>\n      <th>455</th>\n      <td>PR</td>\n      <td>TDI_MED</td>\n      <td>20.5</td>\n    </tr>\n    <tr>\n      <th>456</th>\n      <td>SC</td>\n      <td>TDI_MED</td>\n      <td>18.4</td>\n    </tr>\n    <tr>\n      <th>457</th>\n      <td>DF</td>\n      <td>TDI_MED</td>\n      <td>13.1</td>\n    </tr>\n    <tr>\n      <th>458</th>\n      <td>SP</td>\n      <td>TDI_MED</td>\n      <td>8.9</td>\n    </tr>\n  </tbody>\n</table>\n<p>459 rows × 3 columns</p>\n</div>"
     },
     "execution_count": 31,
     "metadata": {},
     "output_type": "execute_result"
    }
   ],
   "source": [
    "dimension = \"SG_UF\"\n",
    "indicador_grupo = \"TDI\"\n",
    "tdi = con.execute(f\"\"\"\n",
    "    select\n",
    "        m.{dimension},\n",
    "        i.GRUPO,\n",
    "        PERCENTILE_DISC(0.5) WITHIN GROUP (ORDER BY i.METRICA)\n",
    "        from microdados m\n",
    "        left join {indicador_grupo} i\n",
    "            on m.NU_ANO_CENSO = i.NU_ANO_CENSO\n",
    "            and m.CO_ENTIDADE = i.CO_ENTIDADE\n",
    "        where i.GRUPO like '{indicador_grupo}%'\n",
    "        group by m.{dimension}, i.GRUPO\n",
    "        order by 2, 3 desc\n",
    "    \"\"\"\n",
    ").df()\n",
    "tdi"
   ],
   "metadata": {
    "collapsed": false,
    "pycharm": {
     "name": "#%%\n"
    }
   }
  },
  {
   "cell_type": "code",
   "execution_count": 29,
   "outputs": [
    {
     "data": {
      "text/plain": "               METRICA                                                      \n                 count       mean        std  min   25%   50%     75%    max\nGRUPO   SG_UF                                                               \nTDI_F00 AC      3388.0  13.243979  24.115818  0.0   0.0   0.0  16.700  100.0\n        AL      6212.0   5.851433  11.703998  0.0   0.0   0.0   7.125  100.0\n        AM     11782.0   7.645357  18.449596  0.0   0.0   0.0   4.400  100.0\n        AP      1593.0   8.206277  15.622343  0.0   0.0   0.0  10.000  100.0\n        BA     34196.0   5.867686  14.265594  0.0   0.0   0.0   5.600  100.0\n...                ...        ...        ...  ...   ...   ...     ...    ...\nTDI_MED RS      4483.0  28.306246  18.372103  0.0  13.1  27.7  40.050  100.0\n        SC      2958.0  19.085700  12.825467  0.0   9.3  18.4  26.800   90.9\n        SE       856.0  35.756075  21.571322  0.0  13.3  42.3  53.425   95.4\n        SP     19177.0  10.832737   9.017993  0.0   4.0   8.9  15.600  100.0\n        TO      1001.0  33.977423  20.177878  0.0  21.9  31.7  41.200  100.0\n\n[459 rows x 8 columns]",
      "text/html": "<div>\n<style scoped>\n    .dataframe tbody tr th:only-of-type {\n        vertical-align: middle;\n    }\n\n    .dataframe tbody tr th {\n        vertical-align: top;\n    }\n\n    .dataframe thead tr th {\n        text-align: left;\n    }\n\n    .dataframe thead tr:last-of-type th {\n        text-align: right;\n    }\n</style>\n<table border=\"1\" class=\"dataframe\">\n  <thead>\n    <tr>\n      <th></th>\n      <th></th>\n      <th colspan=\"8\" halign=\"left\">METRICA</th>\n    </tr>\n    <tr>\n      <th></th>\n      <th></th>\n      <th>count</th>\n      <th>mean</th>\n      <th>std</th>\n      <th>min</th>\n      <th>25%</th>\n      <th>50%</th>\n      <th>75%</th>\n      <th>max</th>\n    </tr>\n    <tr>\n      <th>GRUPO</th>\n      <th>SG_UF</th>\n      <th></th>\n      <th></th>\n      <th></th>\n      <th></th>\n      <th></th>\n      <th></th>\n      <th></th>\n      <th></th>\n    </tr>\n  </thead>\n  <tbody>\n    <tr>\n      <th rowspan=\"5\" valign=\"top\">TDI_F00</th>\n      <th>AC</th>\n      <td>3388.0</td>\n      <td>13.243979</td>\n      <td>24.115818</td>\n      <td>0.0</td>\n      <td>0.0</td>\n      <td>0.0</td>\n      <td>16.700</td>\n      <td>100.0</td>\n    </tr>\n    <tr>\n      <th>AL</th>\n      <td>6212.0</td>\n      <td>5.851433</td>\n      <td>11.703998</td>\n      <td>0.0</td>\n      <td>0.0</td>\n      <td>0.0</td>\n      <td>7.125</td>\n      <td>100.0</td>\n    </tr>\n    <tr>\n      <th>AM</th>\n      <td>11782.0</td>\n      <td>7.645357</td>\n      <td>18.449596</td>\n      <td>0.0</td>\n      <td>0.0</td>\n      <td>0.0</td>\n      <td>4.400</td>\n      <td>100.0</td>\n    </tr>\n    <tr>\n      <th>AP</th>\n      <td>1593.0</td>\n      <td>8.206277</td>\n      <td>15.622343</td>\n      <td>0.0</td>\n      <td>0.0</td>\n      <td>0.0</td>\n      <td>10.000</td>\n      <td>100.0</td>\n    </tr>\n    <tr>\n      <th>BA</th>\n      <td>34196.0</td>\n      <td>5.867686</td>\n      <td>14.265594</td>\n      <td>0.0</td>\n      <td>0.0</td>\n      <td>0.0</td>\n      <td>5.600</td>\n      <td>100.0</td>\n    </tr>\n    <tr>\n      <th>...</th>\n      <th>...</th>\n      <td>...</td>\n      <td>...</td>\n      <td>...</td>\n      <td>...</td>\n      <td>...</td>\n      <td>...</td>\n      <td>...</td>\n      <td>...</td>\n    </tr>\n    <tr>\n      <th rowspan=\"5\" valign=\"top\">TDI_MED</th>\n      <th>RS</th>\n      <td>4483.0</td>\n      <td>28.306246</td>\n      <td>18.372103</td>\n      <td>0.0</td>\n      <td>13.1</td>\n      <td>27.7</td>\n      <td>40.050</td>\n      <td>100.0</td>\n    </tr>\n    <tr>\n      <th>SC</th>\n      <td>2958.0</td>\n      <td>19.085700</td>\n      <td>12.825467</td>\n      <td>0.0</td>\n      <td>9.3</td>\n      <td>18.4</td>\n      <td>26.800</td>\n      <td>90.9</td>\n    </tr>\n    <tr>\n      <th>SE</th>\n      <td>856.0</td>\n      <td>35.756075</td>\n      <td>21.571322</td>\n      <td>0.0</td>\n      <td>13.3</td>\n      <td>42.3</td>\n      <td>53.425</td>\n      <td>95.4</td>\n    </tr>\n    <tr>\n      <th>SP</th>\n      <td>19177.0</td>\n      <td>10.832737</td>\n      <td>9.017993</td>\n      <td>0.0</td>\n      <td>4.0</td>\n      <td>8.9</td>\n      <td>15.600</td>\n      <td>100.0</td>\n    </tr>\n    <tr>\n      <th>TO</th>\n      <td>1001.0</td>\n      <td>33.977423</td>\n      <td>20.177878</td>\n      <td>0.0</td>\n      <td>21.9</td>\n      <td>31.7</td>\n      <td>41.200</td>\n      <td>100.0</td>\n    </tr>\n  </tbody>\n</table>\n<p>459 rows × 8 columns</p>\n</div>"
     },
     "execution_count": 29,
     "metadata": {},
     "output_type": "execute_result"
    }
   ],
   "source": [
    "tdi.groupby([\"GRUPO\", \"SG_UF\"]).describe()"
   ],
   "metadata": {
    "collapsed": false,
    "pycharm": {
     "name": "#%%\n"
    }
   }
  },
  {
   "cell_type": "code",
   "execution_count": 27,
   "outputs": [
    {
     "data": {
      "text/plain": "        SG_UF    GRUPO  METRICA\n0          BA  TDI_F00      NaN\n1          GO  TDI_F00      NaN\n2          BA  TDI_F00      NaN\n3          BA  TDI_F00      NaN\n4          MG  TDI_F00      NaN\n...       ...      ...      ...\n6995240    MA  TDI_MED      0.0\n6995241    CE  TDI_MED      0.0\n6995242    CE  TDI_MED      0.0\n6995243    CE  TDI_MED      0.0\n6995244    MA  TDI_MED      0.0\n\n[6995245 rows x 3 columns]",
      "text/html": "<div>\n<style scoped>\n    .dataframe tbody tr th:only-of-type {\n        vertical-align: middle;\n    }\n\n    .dataframe tbody tr th {\n        vertical-align: top;\n    }\n\n    .dataframe thead th {\n        text-align: right;\n    }\n</style>\n<table border=\"1\" class=\"dataframe\">\n  <thead>\n    <tr style=\"text-align: right;\">\n      <th></th>\n      <th>SG_UF</th>\n      <th>GRUPO</th>\n      <th>METRICA</th>\n    </tr>\n  </thead>\n  <tbody>\n    <tr>\n      <th>0</th>\n      <td>BA</td>\n      <td>TDI_F00</td>\n      <td>NaN</td>\n    </tr>\n    <tr>\n      <th>1</th>\n      <td>GO</td>\n      <td>TDI_F00</td>\n      <td>NaN</td>\n    </tr>\n    <tr>\n      <th>2</th>\n      <td>BA</td>\n      <td>TDI_F00</td>\n      <td>NaN</td>\n    </tr>\n    <tr>\n      <th>3</th>\n      <td>BA</td>\n      <td>TDI_F00</td>\n      <td>NaN</td>\n    </tr>\n    <tr>\n      <th>4</th>\n      <td>MG</td>\n      <td>TDI_F00</td>\n      <td>NaN</td>\n    </tr>\n    <tr>\n      <th>...</th>\n      <td>...</td>\n      <td>...</td>\n      <td>...</td>\n    </tr>\n    <tr>\n      <th>6995240</th>\n      <td>MA</td>\n      <td>TDI_MED</td>\n      <td>0.0</td>\n    </tr>\n    <tr>\n      <th>6995241</th>\n      <td>CE</td>\n      <td>TDI_MED</td>\n      <td>0.0</td>\n    </tr>\n    <tr>\n      <th>6995242</th>\n      <td>CE</td>\n      <td>TDI_MED</td>\n      <td>0.0</td>\n    </tr>\n    <tr>\n      <th>6995243</th>\n      <td>CE</td>\n      <td>TDI_MED</td>\n      <td>0.0</td>\n    </tr>\n    <tr>\n      <th>6995244</th>\n      <td>MA</td>\n      <td>TDI_MED</td>\n      <td>0.0</td>\n    </tr>\n  </tbody>\n</table>\n<p>6995245 rows × 3 columns</p>\n</div>"
     },
     "execution_count": 27,
     "metadata": {},
     "output_type": "execute_result"
    }
   ],
   "source": [
    "tdi"
   ],
   "metadata": {
    "collapsed": false,
    "pycharm": {
     "name": "#%%\n"
    }
   }
  },
  {
   "cell_type": "code",
   "execution_count": null,
   "outputs": [],
   "source": [],
   "metadata": {
    "collapsed": false,
    "pycharm": {
     "name": "#%%\n"
    }
   }
  }
 ],
 "metadata": {
  "kernelspec": {
   "display_name": "Python 3 (ipykernel)",
   "language": "python",
   "name": "python3"
  },
  "language_info": {
   "codemirror_mode": {
    "name": "ipython",
    "version": 3
   },
   "file_extension": ".py",
   "mimetype": "text/x-python",
   "name": "python",
   "nbconvert_exporter": "python",
   "pygments_lexer": "ipython3",
   "version": "3.10.7"
  }
 },
 "nbformat": 4,
 "nbformat_minor": 5
}