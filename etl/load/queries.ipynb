{
 "cells": [
  {
   "cell_type": "code",
   "execution_count": 24,
   "id": "024d0237",
   "metadata": {
    "collapsed": false,
    "jupyter": {
     "outputs_hidden": false
    }
   },
   "outputs": [],
   "source": [
    "from collections import Counter\n",
    "import random\n",
    "\n",
    "import pyarrow.dataset as ds\n",
    "import duckdb\n",
    "import pandas as pd\n",
    "\n",
    "INDICADORES = {\n",
    "    \"AFD\": \"Adequação da Formação Docente\",\n",
    "    \"ICG\": \"Complexidade de Gestão da Escola\",\n",
    "    \"IED\": \"Esforço Docente\",\n",
    "    \"ATU\": \"Média de Alunos por Turma\",\n",
    "    \"HAD\": \"Média de Horas-aula diária\",\n",
    "    \"DSU\": \"Percentual de Docentes com Curso Superior\",\n",
    "    \"TDI\": \"Taxas de Distorção Idade-série\"\n",
    "}\n",
    "\n",
    "DIMENSIONS = {\n",
    "    \"Ano\": \"NU_ANO_CENSO\",\n",
    "    \"Nome da região geográfica\": \"NO_REGIAO\",\n",
    "    \"Nome da Unidade da Federação\": \"NO_UF\",\n",
    "    \"Nome da Mesorregião\": \"NO_MESORREGIAO\",\n",
    "    \"Nome da Microrregião\": \"NO_MICRORREGIAO\"\n",
    "}\n",
    "\n",
    "con = duckdb.connect('../../file.db')\n",
    "\n",
    "microdados = ds.dataset(\"../../data/transformed/microdados.parquet\", format=\"parquet\", partitioning=\"hive\")\n",
    "con.register(\"microdados\", microdados)\n",
    "\n",
    "indicadores = {}\n",
    "for indicador in INDICADORES:\n",
    "    indicadores[indicador] = ds.dataset(f\"../../data/transformed/indicadores/{indicador}.parquet\", format=\"parquet\", partitioning=\"hive\")\n",
    "    con.register(indicador, indicadores[indicador])"
   ]
  },
  {
   "cell_type": "code",
   "execution_count": 2,
   "outputs": [
    {
     "data": {
      "text/plain": "   NO_REGIAO SG_UF  CO_MUNICIPIO           NO_MUNICIPIO  CO_ENTIDADE  \\\n0      Norte    RO       1100015  Alta Floresta D'Oeste     11022558   \n1      Norte    RO       1100015  Alta Floresta D'Oeste     11024275   \n2      Norte    RO       1100015  Alta Floresta D'Oeste     11024291   \n3      Norte    RO       1100015  Alta Floresta D'Oeste     11024372   \n4      Norte    RO       1100015  Alta Floresta D'Oeste     11024593   \n..       ...   ...           ...                    ...          ...   \n95     Norte    RO       1100049                 Cacoal     11025999   \n96     Norte    RO       1100049                 Cacoal     11026014   \n97     Norte    RO       1100049                 Cacoal     11026073   \n98     Norte    RO       1100049                 Cacoal     11026197   \n99     Norte    RO       1100049                 Cacoal     11026235   \n\n   NO_CATEGORIA NO_DEPENDENCIA     GRUPO  METRICA  NU_ANO_CENSO  \n0         Rural       Estadual  AFD_INF1      NaN          2016  \n1        Urbana       Estadual  AFD_INF1      NaN          2016  \n2         Rural      Municipal  AFD_INF1      NaN          2016  \n3        Urbana      Municipal  AFD_INF1     50.0          2016  \n4         Rural      Municipal  AFD_INF1      NaN          2016  \n..          ...            ...       ...      ...           ...  \n95        Rural      Municipal  AFD_INF1    100.0          2016  \n96       Urbana       Estadual  AFD_INF1      NaN          2016  \n97       Urbana       Estadual  AFD_INF1      NaN          2016  \n98       Urbana       Estadual  AFD_INF1      NaN          2016  \n99        Rural      Municipal  AFD_INF1    100.0          2016  \n\n[100 rows x 10 columns]",
      "text/html": "<div>\n<style scoped>\n    .dataframe tbody tr th:only-of-type {\n        vertical-align: middle;\n    }\n\n    .dataframe tbody tr th {\n        vertical-align: top;\n    }\n\n    .dataframe thead th {\n        text-align: right;\n    }\n</style>\n<table border=\"1\" class=\"dataframe\">\n  <thead>\n    <tr style=\"text-align: right;\">\n      <th></th>\n      <th>NO_REGIAO</th>\n      <th>SG_UF</th>\n      <th>CO_MUNICIPIO</th>\n      <th>NO_MUNICIPIO</th>\n      <th>CO_ENTIDADE</th>\n      <th>NO_CATEGORIA</th>\n      <th>NO_DEPENDENCIA</th>\n      <th>GRUPO</th>\n      <th>METRICA</th>\n      <th>NU_ANO_CENSO</th>\n    </tr>\n  </thead>\n  <tbody>\n    <tr>\n      <th>0</th>\n      <td>Norte</td>\n      <td>RO</td>\n      <td>1100015</td>\n      <td>Alta Floresta D'Oeste</td>\n      <td>11022558</td>\n      <td>Rural</td>\n      <td>Estadual</td>\n      <td>AFD_INF1</td>\n      <td>NaN</td>\n      <td>2016</td>\n    </tr>\n    <tr>\n      <th>1</th>\n      <td>Norte</td>\n      <td>RO</td>\n      <td>1100015</td>\n      <td>Alta Floresta D'Oeste</td>\n      <td>11024275</td>\n      <td>Urbana</td>\n      <td>Estadual</td>\n      <td>AFD_INF1</td>\n      <td>NaN</td>\n      <td>2016</td>\n    </tr>\n    <tr>\n      <th>2</th>\n      <td>Norte</td>\n      <td>RO</td>\n      <td>1100015</td>\n      <td>Alta Floresta D'Oeste</td>\n      <td>11024291</td>\n      <td>Rural</td>\n      <td>Municipal</td>\n      <td>AFD_INF1</td>\n      <td>NaN</td>\n      <td>2016</td>\n    </tr>\n    <tr>\n      <th>3</th>\n      <td>Norte</td>\n      <td>RO</td>\n      <td>1100015</td>\n      <td>Alta Floresta D'Oeste</td>\n      <td>11024372</td>\n      <td>Urbana</td>\n      <td>Municipal</td>\n      <td>AFD_INF1</td>\n      <td>50.0</td>\n      <td>2016</td>\n    </tr>\n    <tr>\n      <th>4</th>\n      <td>Norte</td>\n      <td>RO</td>\n      <td>1100015</td>\n      <td>Alta Floresta D'Oeste</td>\n      <td>11024593</td>\n      <td>Rural</td>\n      <td>Municipal</td>\n      <td>AFD_INF1</td>\n      <td>NaN</td>\n      <td>2016</td>\n    </tr>\n    <tr>\n      <th>...</th>\n      <td>...</td>\n      <td>...</td>\n      <td>...</td>\n      <td>...</td>\n      <td>...</td>\n      <td>...</td>\n      <td>...</td>\n      <td>...</td>\n      <td>...</td>\n      <td>...</td>\n    </tr>\n    <tr>\n      <th>95</th>\n      <td>Norte</td>\n      <td>RO</td>\n      <td>1100049</td>\n      <td>Cacoal</td>\n      <td>11025999</td>\n      <td>Rural</td>\n      <td>Municipal</td>\n      <td>AFD_INF1</td>\n      <td>100.0</td>\n      <td>2016</td>\n    </tr>\n    <tr>\n      <th>96</th>\n      <td>Norte</td>\n      <td>RO</td>\n      <td>1100049</td>\n      <td>Cacoal</td>\n      <td>11026014</td>\n      <td>Urbana</td>\n      <td>Estadual</td>\n      <td>AFD_INF1</td>\n      <td>NaN</td>\n      <td>2016</td>\n    </tr>\n    <tr>\n      <th>97</th>\n      <td>Norte</td>\n      <td>RO</td>\n      <td>1100049</td>\n      <td>Cacoal</td>\n      <td>11026073</td>\n      <td>Urbana</td>\n      <td>Estadual</td>\n      <td>AFD_INF1</td>\n      <td>NaN</td>\n      <td>2016</td>\n    </tr>\n    <tr>\n      <th>98</th>\n      <td>Norte</td>\n      <td>RO</td>\n      <td>1100049</td>\n      <td>Cacoal</td>\n      <td>11026197</td>\n      <td>Urbana</td>\n      <td>Estadual</td>\n      <td>AFD_INF1</td>\n      <td>NaN</td>\n      <td>2016</td>\n    </tr>\n    <tr>\n      <th>99</th>\n      <td>Norte</td>\n      <td>RO</td>\n      <td>1100049</td>\n      <td>Cacoal</td>\n      <td>11026235</td>\n      <td>Rural</td>\n      <td>Municipal</td>\n      <td>AFD_INF1</td>\n      <td>100.0</td>\n      <td>2016</td>\n    </tr>\n  </tbody>\n</table>\n<p>100 rows × 10 columns</p>\n</div>"
     },
     "execution_count": 2,
     "metadata": {},
     "output_type": "execute_result"
    }
   ],
   "source": [
    "con.execute(f\"\"\"\n",
    "    select\n",
    "        *\n",
    "    from AFD\n",
    "    limit 100\n",
    "    \"\"\"\n",
    ").df()"
   ],
   "metadata": {
    "collapsed": false,
    "pycharm": {
     "name": "#%%\n"
    }
   }
  },
  {
   "cell_type": "code",
   "execution_count": 21,
   "id": "7e15f4b7-5e9a-48f7-b987-74f8d2703160",
   "metadata": {},
   "outputs": [
    {
     "data": {
      "text/plain": "   NU_ANO_CENSO  Educação Básica  Educação Infantil  Ensino Fundamental  \\\n0          2016          8279104           27691478             8133040   \n1          2017          8508731           27348080             7930384   \n2          2019          8972778           26923730             7465891   \n3          2021          8319399           26515601             7770557   \n4          2018          8745184           27183970             7709929   \n5          2020          8829795           26718830             7550753   \n\n   Ensino Médio  Educação Profissional  Educação de Jovens e Adultos (EJA)  \\\n0       1859940                1775324                             3482174   \n1       1831003                1791806                             3598716   \n2       1914749                1874974                             3273668   \n3       1892458                1851541                             2962322   \n4       1903230                1868917                             3545988   \n5       1936094                1901477                             3002749   \n\n   Educação Especial  \n0             971372  \n1            1066446  \n2            1250967  \n3            1350921  \n4            1181276  \n5            1308900  ",
      "text/html": "<div>\n<style scoped>\n    .dataframe tbody tr th:only-of-type {\n        vertical-align: middle;\n    }\n\n    .dataframe tbody tr th {\n        vertical-align: top;\n    }\n\n    .dataframe thead th {\n        text-align: right;\n    }\n</style>\n<table border=\"1\" class=\"dataframe\">\n  <thead>\n    <tr style=\"text-align: right;\">\n      <th></th>\n      <th>NU_ANO_CENSO</th>\n      <th>Educação Básica</th>\n      <th>Educação Infantil</th>\n      <th>Ensino Fundamental</th>\n      <th>Ensino Médio</th>\n      <th>Educação Profissional</th>\n      <th>Educação de Jovens e Adultos (EJA)</th>\n      <th>Educação Especial</th>\n    </tr>\n  </thead>\n  <tbody>\n    <tr>\n      <th>0</th>\n      <td>2016</td>\n      <td>8279104</td>\n      <td>27691478</td>\n      <td>8133040</td>\n      <td>1859940</td>\n      <td>1775324</td>\n      <td>3482174</td>\n      <td>971372</td>\n    </tr>\n    <tr>\n      <th>1</th>\n      <td>2017</td>\n      <td>8508731</td>\n      <td>27348080</td>\n      <td>7930384</td>\n      <td>1831003</td>\n      <td>1791806</td>\n      <td>3598716</td>\n      <td>1066446</td>\n    </tr>\n    <tr>\n      <th>2</th>\n      <td>2019</td>\n      <td>8972778</td>\n      <td>26923730</td>\n      <td>7465891</td>\n      <td>1914749</td>\n      <td>1874974</td>\n      <td>3273668</td>\n      <td>1250967</td>\n    </tr>\n    <tr>\n      <th>3</th>\n      <td>2021</td>\n      <td>8319399</td>\n      <td>26515601</td>\n      <td>7770557</td>\n      <td>1892458</td>\n      <td>1851541</td>\n      <td>2962322</td>\n      <td>1350921</td>\n    </tr>\n    <tr>\n      <th>4</th>\n      <td>2018</td>\n      <td>8745184</td>\n      <td>27183970</td>\n      <td>7709929</td>\n      <td>1903230</td>\n      <td>1868917</td>\n      <td>3545988</td>\n      <td>1181276</td>\n    </tr>\n    <tr>\n      <th>5</th>\n      <td>2020</td>\n      <td>8829795</td>\n      <td>26718830</td>\n      <td>7550753</td>\n      <td>1936094</td>\n      <td>1901477</td>\n      <td>3002749</td>\n      <td>1308900</td>\n    </tr>\n  </tbody>\n</table>\n</div>"
     },
     "execution_count": 21,
     "metadata": {},
     "output_type": "execute_result"
    }
   ],
   "source": [
    "# quantidade de matriculas\n",
    "dimension = \"NU_ANO_CENSO\"\n",
    "con.execute(f\"\"\"\n",
    "    select\n",
    "        {dimension},\n",
    "        cast(sum(QT_MAT_INF) as bigint) as 'Educação Básica',\n",
    "\n",
    "        cast(sum(QT_MAT_FUND) as bigint) as 'Educação Infantil',\n",
    "        cast(sum(QT_MAT_MED) as bigint) as 'Ensino Fundamental',\n",
    "        cast(sum(QT_MAT_PROF) as bigint) as 'Ensino Médio',\n",
    "        cast(sum(QT_MAT_PROF_TEC) as bigint) as 'Educação Profissional',\n",
    "        cast(sum(QT_MAT_EJA) as bigint) as 'Educação de Jovens e Adultos (EJA)',\n",
    "        cast(sum(QT_MAT_ESP) as bigint) as 'Educação Especial'\n",
    "    from microdados\n",
    "    group by {dimension}\n",
    "    \"\"\"\n",
    ").df()"
   ]
  },
  {
   "cell_type": "code",
   "execution_count": 29,
   "id": "2c6f6fb6",
   "metadata": {
    "collapsed": false,
    "jupyter": {
     "outputs_hidden": false
    }
   },
   "outputs": [],
   "source": [
    "# quantidade de escolas\n",
    "dimension = \"Ano\"\n",
    "df = con.execute(f\"\"\"\n",
    "    select\n",
    "        {DIMENSIONS[dimension]} as {dimension},\n",
    "        count(CO_ENTIDADE) as 'Quantidade de escolas'\n",
    "    from microdados\n",
    "    group by {DIMENSIONS[dimension]}\n",
    "    \"\"\"\n",
    ").df()"
   ]
  },
  {
   "cell_type": "code",
   "execution_count": 30,
   "outputs": [
    {
     "data": {
      "text/plain": "    Ano  Quantidade de escolas\n0  2016                 237506\n1  2019                 228521\n2  2017                 236481\n3  2018                 236460\n4  2020                 224229\n5  2021                 221140",
      "text/html": "<div>\n<style scoped>\n    .dataframe tbody tr th:only-of-type {\n        vertical-align: middle;\n    }\n\n    .dataframe tbody tr th {\n        vertical-align: top;\n    }\n\n    .dataframe thead th {\n        text-align: right;\n    }\n</style>\n<table border=\"1\" class=\"dataframe\">\n  <thead>\n    <tr style=\"text-align: right;\">\n      <th></th>\n      <th>Ano</th>\n      <th>Quantidade de escolas</th>\n    </tr>\n  </thead>\n  <tbody>\n    <tr>\n      <th>0</th>\n      <td>2016</td>\n      <td>237506</td>\n    </tr>\n    <tr>\n      <th>1</th>\n      <td>2019</td>\n      <td>228521</td>\n    </tr>\n    <tr>\n      <th>2</th>\n      <td>2017</td>\n      <td>236481</td>\n    </tr>\n    <tr>\n      <th>3</th>\n      <td>2018</td>\n      <td>236460</td>\n    </tr>\n    <tr>\n      <th>4</th>\n      <td>2020</td>\n      <td>224229</td>\n    </tr>\n    <tr>\n      <th>5</th>\n      <td>2021</td>\n      <td>221140</td>\n    </tr>\n  </tbody>\n</table>\n</div>"
     },
     "execution_count": 30,
     "metadata": {},
     "output_type": "execute_result"
    }
   ],
   "source": [
    "df"
   ],
   "metadata": {
    "collapsed": false,
    "pycharm": {
     "name": "#%%\n"
    }
   }
  },
  {
   "cell_type": "code",
   "execution_count": null,
   "outputs": [],
   "source": [
    "df.melt(\n",
    "        id_vars=[dimension],\n",
    "        var_name=\"Nível de ensino\",\n",
    "        value_name=\"Número de matriculas\",\n",
    "        value_vars=df.columns[1:]\n",
    "     )"
   ],
   "metadata": {
    "collapsed": false,
    "pycharm": {
     "name": "#%%\n"
    }
   }
  },
  {
   "cell_type": "code",
   "execution_count": 14,
   "outputs": [
    {
     "data": {
      "text/plain": "   NO_REGIAO SG_UF  CO_MUNICIPIO           NO_MUNICIPIO  CO_ENTIDADE  \\\n0      Norte    RO       1100015  Alta Floresta D'Oeste     11022558   \n1      Norte    RO       1100015  Alta Floresta D'Oeste     11024291   \n2      Norte    RO       1100015  Alta Floresta D'Oeste     11024372   \n3      Norte    RO       1100015  Alta Floresta D'Oeste     11024593   \n4      Norte    RO       1100015  Alta Floresta D'Oeste     11024666   \n..       ...   ...           ...                    ...          ...   \n95     Norte    RO       1100049                 Cacoal     11026839   \n96     Norte    RO       1100049                 Cacoal     11026936   \n97     Norte    RO       1100049                 Cacoal     11026960   \n98     Norte    RO       1100049                 Cacoal     11027002   \n99     Norte    RO       1100049                 Cacoal     11027088   \n\n   NO_CATEGORIA NO_DEPENDENCIA    GRUPO  METRICA  NU_ANO_CENSO  \n0         Rural       Estadual  TDI_FUN     16.7          2016  \n1         Rural      Municipal  TDI_FUN     10.5          2016  \n2        Urbana      Municipal  TDI_FUN     24.5          2016  \n3         Rural      Municipal  TDI_FUN      5.9          2016  \n4         Rural      Municipal  TDI_FUN     17.3          2016  \n..          ...            ...      ...      ...           ...  \n95       Urbana      Municipal  TDI_FUN     12.9          2016  \n96        Rural      Municipal  TDI_FUN     20.4          2016  \n97        Rural      Municipal  TDI_FUN     14.7          2016  \n98       Urbana      Municipal  TDI_FUN      5.5          2016  \n99        Rural      Municipal  TDI_FUN     12.9          2016  \n\n[100 rows x 10 columns]",
      "text/html": "<div>\n<style scoped>\n    .dataframe tbody tr th:only-of-type {\n        vertical-align: middle;\n    }\n\n    .dataframe tbody tr th {\n        vertical-align: top;\n    }\n\n    .dataframe thead th {\n        text-align: right;\n    }\n</style>\n<table border=\"1\" class=\"dataframe\">\n  <thead>\n    <tr style=\"text-align: right;\">\n      <th></th>\n      <th>NO_REGIAO</th>\n      <th>SG_UF</th>\n      <th>CO_MUNICIPIO</th>\n      <th>NO_MUNICIPIO</th>\n      <th>CO_ENTIDADE</th>\n      <th>NO_CATEGORIA</th>\n      <th>NO_DEPENDENCIA</th>\n      <th>GRUPO</th>\n      <th>METRICA</th>\n      <th>NU_ANO_CENSO</th>\n    </tr>\n  </thead>\n  <tbody>\n    <tr>\n      <th>0</th>\n      <td>Norte</td>\n      <td>RO</td>\n      <td>1100015</td>\n      <td>Alta Floresta D'Oeste</td>\n      <td>11022558</td>\n      <td>Rural</td>\n      <td>Estadual</td>\n      <td>TDI_FUN</td>\n      <td>16.7</td>\n      <td>2016</td>\n    </tr>\n    <tr>\n      <th>1</th>\n      <td>Norte</td>\n      <td>RO</td>\n      <td>1100015</td>\n      <td>Alta Floresta D'Oeste</td>\n      <td>11024291</td>\n      <td>Rural</td>\n      <td>Municipal</td>\n      <td>TDI_FUN</td>\n      <td>10.5</td>\n      <td>2016</td>\n    </tr>\n    <tr>\n      <th>2</th>\n      <td>Norte</td>\n      <td>RO</td>\n      <td>1100015</td>\n      <td>Alta Floresta D'Oeste</td>\n      <td>11024372</td>\n      <td>Urbana</td>\n      <td>Municipal</td>\n      <td>TDI_FUN</td>\n      <td>24.5</td>\n      <td>2016</td>\n    </tr>\n    <tr>\n      <th>3</th>\n      <td>Norte</td>\n      <td>RO</td>\n      <td>1100015</td>\n      <td>Alta Floresta D'Oeste</td>\n      <td>11024593</td>\n      <td>Rural</td>\n      <td>Municipal</td>\n      <td>TDI_FUN</td>\n      <td>5.9</td>\n      <td>2016</td>\n    </tr>\n    <tr>\n      <th>4</th>\n      <td>Norte</td>\n      <td>RO</td>\n      <td>1100015</td>\n      <td>Alta Floresta D'Oeste</td>\n      <td>11024666</td>\n      <td>Rural</td>\n      <td>Municipal</td>\n      <td>TDI_FUN</td>\n      <td>17.3</td>\n      <td>2016</td>\n    </tr>\n    <tr>\n      <th>...</th>\n      <td>...</td>\n      <td>...</td>\n      <td>...</td>\n      <td>...</td>\n      <td>...</td>\n      <td>...</td>\n      <td>...</td>\n      <td>...</td>\n      <td>...</td>\n      <td>...</td>\n    </tr>\n    <tr>\n      <th>95</th>\n      <td>Norte</td>\n      <td>RO</td>\n      <td>1100049</td>\n      <td>Cacoal</td>\n      <td>11026839</td>\n      <td>Urbana</td>\n      <td>Municipal</td>\n      <td>TDI_FUN</td>\n      <td>12.9</td>\n      <td>2016</td>\n    </tr>\n    <tr>\n      <th>96</th>\n      <td>Norte</td>\n      <td>RO</td>\n      <td>1100049</td>\n      <td>Cacoal</td>\n      <td>11026936</td>\n      <td>Rural</td>\n      <td>Municipal</td>\n      <td>TDI_FUN</td>\n      <td>20.4</td>\n      <td>2016</td>\n    </tr>\n    <tr>\n      <th>97</th>\n      <td>Norte</td>\n      <td>RO</td>\n      <td>1100049</td>\n      <td>Cacoal</td>\n      <td>11026960</td>\n      <td>Rural</td>\n      <td>Municipal</td>\n      <td>TDI_FUN</td>\n      <td>14.7</td>\n      <td>2016</td>\n    </tr>\n    <tr>\n      <th>98</th>\n      <td>Norte</td>\n      <td>RO</td>\n      <td>1100049</td>\n      <td>Cacoal</td>\n      <td>11027002</td>\n      <td>Urbana</td>\n      <td>Municipal</td>\n      <td>TDI_FUN</td>\n      <td>5.5</td>\n      <td>2016</td>\n    </tr>\n    <tr>\n      <th>99</th>\n      <td>Norte</td>\n      <td>RO</td>\n      <td>1100049</td>\n      <td>Cacoal</td>\n      <td>11027088</td>\n      <td>Rural</td>\n      <td>Municipal</td>\n      <td>TDI_FUN</td>\n      <td>12.9</td>\n      <td>2016</td>\n    </tr>\n  </tbody>\n</table>\n<p>100 rows × 10 columns</p>\n</div>"
     },
     "execution_count": 14,
     "metadata": {},
     "output_type": "execute_result"
    }
   ],
   "source": [
    "con.execute(f\"\"\"\n",
    "    select\n",
    "        *\n",
    "        from TDI\n",
    "        limit 100\n",
    "    \"\"\"\n",
    ").df()"
   ],
   "metadata": {
    "collapsed": false
   }
  },
  {
   "cell_type": "code",
   "execution_count": 20,
   "outputs": [
    {
     "data": {
      "text/plain": "    SG_UF    GRUPO  mean(i.\"METRICA\")\n0      AC  TDI_F00          13.243979\n1      RR  TDI_F00           8.535126\n2      AP  TDI_F00           8.206277\n3      AM  TDI_F00           7.645357\n4      PA  TDI_F00           7.639649\n..    ...      ...                ...\n454    GO  TDI_MED          21.811849\n455    PR  TDI_MED          20.738421\n456    SC  TDI_MED          19.085700\n457    DF  TDI_MED          19.069469\n458    SP  TDI_MED          10.832737\n\n[459 rows x 3 columns]",
      "text/html": "<div>\n<style scoped>\n    .dataframe tbody tr th:only-of-type {\n        vertical-align: middle;\n    }\n\n    .dataframe tbody tr th {\n        vertical-align: top;\n    }\n\n    .dataframe thead th {\n        text-align: right;\n    }\n</style>\n<table border=\"1\" class=\"dataframe\">\n  <thead>\n    <tr style=\"text-align: right;\">\n      <th></th>\n      <th>SG_UF</th>\n      <th>GRUPO</th>\n      <th>mean(i.\"METRICA\")</th>\n    </tr>\n  </thead>\n  <tbody>\n    <tr>\n      <th>0</th>\n      <td>AC</td>\n      <td>TDI_F00</td>\n      <td>13.243979</td>\n    </tr>\n    <tr>\n      <th>1</th>\n      <td>RR</td>\n      <td>TDI_F00</td>\n      <td>8.535126</td>\n    </tr>\n    <tr>\n      <th>2</th>\n      <td>AP</td>\n      <td>TDI_F00</td>\n      <td>8.206277</td>\n    </tr>\n    <tr>\n      <th>3</th>\n      <td>AM</td>\n      <td>TDI_F00</td>\n      <td>7.645357</td>\n    </tr>\n    <tr>\n      <th>4</th>\n      <td>PA</td>\n      <td>TDI_F00</td>\n      <td>7.639649</td>\n    </tr>\n    <tr>\n      <th>...</th>\n      <td>...</td>\n      <td>...</td>\n      <td>...</td>\n    </tr>\n    <tr>\n      <th>454</th>\n      <td>GO</td>\n      <td>TDI_MED</td>\n      <td>21.811849</td>\n    </tr>\n    <tr>\n      <th>455</th>\n      <td>PR</td>\n      <td>TDI_MED</td>\n      <td>20.738421</td>\n    </tr>\n    <tr>\n      <th>456</th>\n      <td>SC</td>\n      <td>TDI_MED</td>\n      <td>19.085700</td>\n    </tr>\n    <tr>\n      <th>457</th>\n      <td>DF</td>\n      <td>TDI_MED</td>\n      <td>19.069469</td>\n    </tr>\n    <tr>\n      <th>458</th>\n      <td>SP</td>\n      <td>TDI_MED</td>\n      <td>10.832737</td>\n    </tr>\n  </tbody>\n</table>\n<p>459 rows × 3 columns</p>\n</div>"
     },
     "execution_count": 20,
     "metadata": {},
     "output_type": "execute_result"
    }
   ],
   "source": [
    "dimension = \"SG_UF\"\n",
    "indicador_grupo = \"TDI\"\n",
    "con.execute(f\"\"\"\n",
    "    select\n",
    "        m.{dimension},\n",
    "        i.GRUPO,\n",
    "        mean(i.METRICA)\n",
    "        from microdados m\n",
    "        left join {indicador_grupo} i\n",
    "            on m.NU_ANO_CENSO = i.NU_ANO_CENSO\n",
    "            and m.CO_ENTIDADE = i.CO_ENTIDADE\n",
    "        where i.GRUPO like '{indicador_grupo}%'\n",
    "        group by m.{dimension}, i.GRUPO\n",
    "        order by 2, 3 desc\n",
    "    \"\"\"\n",
    ").df()"
   ],
   "metadata": {
    "collapsed": false,
    "pycharm": {
     "name": "#%%\n"
    }
   }
  },
  {
   "cell_type": "code",
   "execution_count": null,
   "outputs": [],
   "source": [],
   "metadata": {
    "collapsed": false,
    "pycharm": {
     "name": "#%%\n"
    }
   }
  }
 ],
 "metadata": {
  "kernelspec": {
   "display_name": "Python 3 (ipykernel)",
   "language": "python",
   "name": "python3"
  },
  "language_info": {
   "codemirror_mode": {
    "name": "ipython",
    "version": 3
   },
   "file_extension": ".py",
   "mimetype": "text/x-python",
   "name": "python",
   "nbconvert_exporter": "python",
   "pygments_lexer": "ipython3",
   "version": "3.10.7"
  }
 },
 "nbformat": 4,
 "nbformat_minor": 5
}