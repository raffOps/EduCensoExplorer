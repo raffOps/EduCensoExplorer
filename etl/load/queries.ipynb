{
 "cells": [
  {
   "cell_type": "code",
   "execution_count": 1,
   "id": "024d0237",
   "metadata": {
    "collapsed": false,
    "jupyter": {
     "outputs_hidden": false
    }
   },
   "outputs": [],
   "source": [
    "from collections import Counter\n",
    "import random\n",
    "\n",
    "import numpy as np\n",
    "import pyarrow.dataset as ds\n",
    "import duckdb\n",
    "import pandas as pd\n",
    "import numpy as np\n",
    "import seaborn as sns\n",
    "import plotly as pl\n",
    "import plotly.express as px\n",
    "import json\n",
    "\n",
    "INDICADORES = {\n",
    "    \"AFD\": \"Adequação da Formação Docente\",\n",
    "    \"ICG\": \"Complexidade de Gestão da Escola\",\n",
    "    \"IED\": \"Esforço Docente\",\n",
    "    \"ATU\": \"Média de Alunos por Turma\",\n",
    "    \"HAD\": \"Média de Horas-aula diária\",\n",
    "    \"DSU\": \"Percentual de Docentes com Curso Superior\",\n",
    "    \"TDI\": \"Taxas de Distorção Idade-série\"\n",
    "}\n",
    "\n",
    "DIMENSIONS = {\n",
    "    \"Ano\": \"NU_ANO_CENSO\",\n",
    "    \"Nome da região geográfica\": \"NO_REGIAO\",\n",
    "    \"Nome da Unidade da Federação\": \"NO_UF\",\n",
    "    \"Nome da Mesorregião\": \"NO_MESORREGIAO\",\n",
    "    \"Nome da Microrregião\": \"NO_MICRORREGIAO\"\n",
    "}\n",
    "\n",
    "con = duckdb.connect('../../file.db')\n",
    "\n",
    "microdados = ds.dataset(\"../../data/transformed/microdados.parquet\", format=\"parquet\", partitioning=\"hive\")\n",
    "con.register(\"microdados\", microdados)\n",
    "\n",
    "indicadores = {}\n",
    "for indicador in INDICADORES:\n",
    "    indicadores[indicador] = ds.dataset(f\"../../data/transformed/indicadores/{indicador}.parquet\", format=\"parquet\", partitioning=\"hive\")\n",
    "    con.register(indicador, indicadores[indicador])"
   ]
  },
  {
   "cell_type": "code",
   "execution_count": null,
   "outputs": [],
   "source": [],
   "metadata": {
    "collapsed": false,
    "pycharm": {
     "name": "#%%\n"
    }
   }
  },
  {
   "cell_type": "code",
   "execution_count": 28,
   "outputs": [
    {
     "data": {
      "text/plain": "  NO_REGIAO SG_UF  CO_MUNICIPIO           NO_MUNICIPIO  CO_ENTIDADE  \\\n0     Norte    RO       1100015  Alta Floresta D'Oeste     11025077   \n1     Norte    RO       1100015  Alta Floresta D'Oeste     11025280   \n2     Norte    RO       1100015  Alta Floresta D'Oeste     11025654   \n3     Norte    RO       1100015  Alta Floresta D'Oeste     11037962   \n4     Norte    RO       1100015  Alta Floresta D'Oeste     11038047   \n5     Norte    RO       1100015  Alta Floresta D'Oeste     11038373   \n6     Norte    RO       1100015  Alta Floresta D'Oeste     11046236   \n7     Norte    RO       1100015  Alta Floresta D'Oeste     11046244   \n8     Norte    RO       1100015  Alta Floresta D'Oeste     11046252   \n9     Norte    RO       1100023              Ariquemes     11006854   \n\n  NO_CATEGORIA NO_DEPENDENCIA         GRUPO  METRICA  NU_ANO_CENSO  \n0       Urbana      Municipal  FUN_01_CAT_0     14.3          2021  \n1       Urbana      Municipal  FUN_01_CAT_0     11.1          2021  \n2       Urbana      Municipal  FUN_01_CAT_0      0.8          2021  \n3        Rural       Estadual  FUN_01_CAT_0     33.3          2021  \n4        Rural       Estadual  FUN_01_CAT_0     50.0          2021  \n5        Rural       Estadual  FUN_01_CAT_0     50.0          2021  \n6        Rural       Estadual  FUN_01_CAT_0     66.7          2021  \n7        Rural       Estadual  FUN_01_CAT_0     50.0          2021  \n8        Rural       Estadual  FUN_01_CAT_0     30.0          2021  \n9       Urbana      Municipal  FUN_01_CAT_0      9.1          2021  ",
      "text/html": "<div>\n<style scoped>\n    .dataframe tbody tr th:only-of-type {\n        vertical-align: middle;\n    }\n\n    .dataframe tbody tr th {\n        vertical-align: top;\n    }\n\n    .dataframe thead th {\n        text-align: right;\n    }\n</style>\n<table border=\"1\" class=\"dataframe\">\n  <thead>\n    <tr style=\"text-align: right;\">\n      <th></th>\n      <th>NO_REGIAO</th>\n      <th>SG_UF</th>\n      <th>CO_MUNICIPIO</th>\n      <th>NO_MUNICIPIO</th>\n      <th>CO_ENTIDADE</th>\n      <th>NO_CATEGORIA</th>\n      <th>NO_DEPENDENCIA</th>\n      <th>GRUPO</th>\n      <th>METRICA</th>\n      <th>NU_ANO_CENSO</th>\n    </tr>\n  </thead>\n  <tbody>\n    <tr>\n      <th>0</th>\n      <td>Norte</td>\n      <td>RO</td>\n      <td>1100015</td>\n      <td>Alta Floresta D'Oeste</td>\n      <td>11025077</td>\n      <td>Urbana</td>\n      <td>Municipal</td>\n      <td>FUN_01_CAT_0</td>\n      <td>14.3</td>\n      <td>2021</td>\n    </tr>\n    <tr>\n      <th>1</th>\n      <td>Norte</td>\n      <td>RO</td>\n      <td>1100015</td>\n      <td>Alta Floresta D'Oeste</td>\n      <td>11025280</td>\n      <td>Urbana</td>\n      <td>Municipal</td>\n      <td>FUN_01_CAT_0</td>\n      <td>11.1</td>\n      <td>2021</td>\n    </tr>\n    <tr>\n      <th>2</th>\n      <td>Norte</td>\n      <td>RO</td>\n      <td>1100015</td>\n      <td>Alta Floresta D'Oeste</td>\n      <td>11025654</td>\n      <td>Urbana</td>\n      <td>Municipal</td>\n      <td>FUN_01_CAT_0</td>\n      <td>0.8</td>\n      <td>2021</td>\n    </tr>\n    <tr>\n      <th>3</th>\n      <td>Norte</td>\n      <td>RO</td>\n      <td>1100015</td>\n      <td>Alta Floresta D'Oeste</td>\n      <td>11037962</td>\n      <td>Rural</td>\n      <td>Estadual</td>\n      <td>FUN_01_CAT_0</td>\n      <td>33.3</td>\n      <td>2021</td>\n    </tr>\n    <tr>\n      <th>4</th>\n      <td>Norte</td>\n      <td>RO</td>\n      <td>1100015</td>\n      <td>Alta Floresta D'Oeste</td>\n      <td>11038047</td>\n      <td>Rural</td>\n      <td>Estadual</td>\n      <td>FUN_01_CAT_0</td>\n      <td>50.0</td>\n      <td>2021</td>\n    </tr>\n    <tr>\n      <th>5</th>\n      <td>Norte</td>\n      <td>RO</td>\n      <td>1100015</td>\n      <td>Alta Floresta D'Oeste</td>\n      <td>11038373</td>\n      <td>Rural</td>\n      <td>Estadual</td>\n      <td>FUN_01_CAT_0</td>\n      <td>50.0</td>\n      <td>2021</td>\n    </tr>\n    <tr>\n      <th>6</th>\n      <td>Norte</td>\n      <td>RO</td>\n      <td>1100015</td>\n      <td>Alta Floresta D'Oeste</td>\n      <td>11046236</td>\n      <td>Rural</td>\n      <td>Estadual</td>\n      <td>FUN_01_CAT_0</td>\n      <td>66.7</td>\n      <td>2021</td>\n    </tr>\n    <tr>\n      <th>7</th>\n      <td>Norte</td>\n      <td>RO</td>\n      <td>1100015</td>\n      <td>Alta Floresta D'Oeste</td>\n      <td>11046244</td>\n      <td>Rural</td>\n      <td>Estadual</td>\n      <td>FUN_01_CAT_0</td>\n      <td>50.0</td>\n      <td>2021</td>\n    </tr>\n    <tr>\n      <th>8</th>\n      <td>Norte</td>\n      <td>RO</td>\n      <td>1100015</td>\n      <td>Alta Floresta D'Oeste</td>\n      <td>11046252</td>\n      <td>Rural</td>\n      <td>Estadual</td>\n      <td>FUN_01_CAT_0</td>\n      <td>30.0</td>\n      <td>2021</td>\n    </tr>\n    <tr>\n      <th>9</th>\n      <td>Norte</td>\n      <td>RO</td>\n      <td>1100023</td>\n      <td>Ariquemes</td>\n      <td>11006854</td>\n      <td>Urbana</td>\n      <td>Municipal</td>\n      <td>FUN_01_CAT_0</td>\n      <td>9.1</td>\n      <td>2021</td>\n    </tr>\n  </tbody>\n</table>\n</div>"
     },
     "execution_count": 28,
     "metadata": {},
     "output_type": "execute_result"
    }
   ],
   "source": [
    "con.execute(f\"\"\"\n",
    "    select\n",
    "        *\n",
    "        from TDI\n",
    "        WHERE TP_GRUPO = 'FUN_01_CAT_0' and METRICA != 0 and METRICA is not null and NU_ANO_CENSO=2021\n",
    "        limit 10\n",
    "    \"\"\"\n",
    ").df()"
   ],
   "metadata": {
    "collapsed": false,
    "pycharm": {
     "name": "#%%\n"
    }
   }
  },
  {
   "cell_type": "code",
   "execution_count": 20,
   "outputs": [
    {
     "data": {
      "text/plain": "      GRUPO  METRICA\n0   TDI_F00      0.0\n1   TDI_F01      0.0\n2   TDI_F02      0.0\n3   TDI_F03     21.4\n4   TDI_F04     40.0\n5   TDI_F05     50.0\n6   TDI_F06     14.3\n7   TDI_F07     40.0\n8   TDI_F08     16.7\n9   TDI_F14     17.5\n10  TDI_F58     34.0\n11  TDI_FUN     25.0\n12  TDI_M01      NaN\n13  TDI_M02      NaN\n14  TDI_M03      NaN\n15  TDI_M04      NaN\n16  TDI_MED      NaN",
      "text/html": "<div>\n<style scoped>\n    .dataframe tbody tr th:only-of-type {\n        vertical-align: middle;\n    }\n\n    .dataframe tbody tr th {\n        vertical-align: top;\n    }\n\n    .dataframe thead th {\n        text-align: right;\n    }\n</style>\n<table border=\"1\" class=\"dataframe\">\n  <thead>\n    <tr style=\"text-align: right;\">\n      <th></th>\n      <th>GRUPO</th>\n      <th>METRICA</th>\n    </tr>\n  </thead>\n  <tbody>\n    <tr>\n      <th>0</th>\n      <td>TDI_F00</td>\n      <td>0.0</td>\n    </tr>\n    <tr>\n      <th>1</th>\n      <td>TDI_F01</td>\n      <td>0.0</td>\n    </tr>\n    <tr>\n      <th>2</th>\n      <td>TDI_F02</td>\n      <td>0.0</td>\n    </tr>\n    <tr>\n      <th>3</th>\n      <td>TDI_F03</td>\n      <td>21.4</td>\n    </tr>\n    <tr>\n      <th>4</th>\n      <td>TDI_F04</td>\n      <td>40.0</td>\n    </tr>\n    <tr>\n      <th>5</th>\n      <td>TDI_F05</td>\n      <td>50.0</td>\n    </tr>\n    <tr>\n      <th>6</th>\n      <td>TDI_F06</td>\n      <td>14.3</td>\n    </tr>\n    <tr>\n      <th>7</th>\n      <td>TDI_F07</td>\n      <td>40.0</td>\n    </tr>\n    <tr>\n      <th>8</th>\n      <td>TDI_F08</td>\n      <td>16.7</td>\n    </tr>\n    <tr>\n      <th>9</th>\n      <td>TDI_F14</td>\n      <td>17.5</td>\n    </tr>\n    <tr>\n      <th>10</th>\n      <td>TDI_F58</td>\n      <td>34.0</td>\n    </tr>\n    <tr>\n      <th>11</th>\n      <td>TDI_FUN</td>\n      <td>25.0</td>\n    </tr>\n    <tr>\n      <th>12</th>\n      <td>TDI_M01</td>\n      <td>NaN</td>\n    </tr>\n    <tr>\n      <th>13</th>\n      <td>TDI_M02</td>\n      <td>NaN</td>\n    </tr>\n    <tr>\n      <th>14</th>\n      <td>TDI_M03</td>\n      <td>NaN</td>\n    </tr>\n    <tr>\n      <th>15</th>\n      <td>TDI_M04</td>\n      <td>NaN</td>\n    </tr>\n    <tr>\n      <th>16</th>\n      <td>TDI_MED</td>\n      <td>NaN</td>\n    </tr>\n  </tbody>\n</table>\n</div>"
     },
     "execution_count": 20,
     "metadata": {},
     "output_type": "execute_result"
    }
   ],
   "source": [
    "con.execute(f\"\"\"\n",
    "    select\n",
    "        TP_GRUPO,\n",
    "        METRICA\n",
    "        from TDI\n",
    "        where NU_ANO_CENSO=2018 and CO_ENTIDADE='11025077'\n",
    "        order by 1\n",
    "    \"\"\"\n",
    ").df()"
   ],
   "metadata": {
    "collapsed": false,
    "pycharm": {
     "name": "#%%\n"
    }
   }
  },
  {
   "cell_type": "code",
   "execution_count": 21,
   "outputs": [
    {
     "data": {
      "text/plain": "0     TDI_F00\n1     TDI_F01\n2     TDI_F02\n3     TDI_F03\n4     TDI_F04\n5     TDI_F05\n6     TDI_F06\n7     TDI_F07\n8     TDI_F08\n9     TDI_F14\n10    TDI_F58\n11    TDI_FUN\n12    TDI_M01\n13    TDI_M02\n14    TDI_M03\n15    TDI_M04\n16    TDI_MED\nName: GRUPO, dtype: object"
     },
     "execution_count": 21,
     "metadata": {},
     "output_type": "execute_result"
    }
   ],
   "source": [
    "con.execute(f\"\"\"\n",
    "    select\n",
    "        distinct(TP_GRUPO)\n",
    "        from TDI\n",
    "        where NU_ANO_CENSO=2018\n",
    "        order by 1\n",
    "    \"\"\"\n",
    ").df().TP_GRUPO"
   ],
   "metadata": {
    "collapsed": false,
    "pycharm": {
     "name": "#%%\n"
    }
   }
  }
 ],
 "metadata": {
  "kernelspec": {
   "display_name": "Python 3 (ipykernel)",
   "language": "python",
   "name": "python3"
  },
  "language_info": {
   "codemirror_mode": {
    "name": "ipython",
    "version": 3
   },
   "file_extension": ".py",
   "mimetype": "text/x-python",
   "name": "python",
   "nbconvert_exporter": "python",
   "pygments_lexer": "ipython3",
   "version": "3.10.7"
  }
 },
 "nbformat": 4,
 "nbformat_minor": 5
}