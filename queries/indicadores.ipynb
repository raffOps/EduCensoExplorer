{
 "cells": [
  {
   "cell_type": "code",
   "execution_count": 14,
   "metadata": {
    "collapsed": true
   },
   "outputs": [],
   "source": [
    "import pyarrow.dataset as ds\n",
    "import duckdb\n",
    "import plotly.express as px\n",
    "import json\n",
    "\n",
    "from plotly.graph_objs import Figure\n",
    "\n",
    "INDICADORES = {\n",
    "    \"Adequação da Formação Docente\": \"AFD\",\n",
    "    \"Complexidade de Gestão da Escola\": \"ICG\",\n",
    "    \"Esforço Docente\": \"IED\",\n",
    "    \"Média de Alunos por Turma\": \"ATU\",\n",
    "    \"Média de Horas-aula diária\": \"HAD\",\n",
    "    \"Percentual de Docentes com Curso Superior\": \"DSU\",\n",
    "    \"Taxas de Distorção Idade-série\": \"TDI\"\n",
    "}\n",
    "\n",
    "DIMENSIONS = {\n",
    "    \"Região geográfica\": \"NO_REGIAO\",\n",
    "    \"Sigla da Unidade da Federeção\": \"SG_UF\",\n",
    "    \"Unidade da Federação\": \"NO_UF\",\n",
    "    \"Mesorregião\": \"NO_MESORREGIAO\",\n",
    "    \"Microrregião\": \"NO_MICRORREGIAO\",\n",
    "    \"Município\": \"NO_MUNICIPIO\"\n",
    "}\n",
    "\n",
    "con = duckdb.connect('../file.db')\n",
    "\n",
    "microdados = ds.dataset(\"../data/transformed/microdados.parquet\", format=\"parquet\", partitioning=\"hive\")\n",
    "con.register(\"microdados\", microdados)\n",
    "\n",
    "indicadores = {}\n",
    "for indicador in INDICADORES.values():\n",
    "    indicadores[indicador] = ds.dataset(f\"../data/transformed/indicadores/{indicador}.parquet\", format=\"parquet\", partitioning=\"hive\")\n",
    "    con.register(indicador, indicadores[indicador])"
   ]
  },
  {
   "cell_type": "code",
   "execution_count": 3,
   "outputs": [],
   "source": [
    "DEPENDENCIAS = ['Estadual', 'Municipal', 'Privada', 'Federal']\n",
    "CATEGORIAS = [\"Urbana\", \"Rural\"]\n",
    "DIMENSOES_GEOGRAFICAS = {\n",
    "    \"Unidade da Federação\": [\"SG_UF\", \"uf\", \"UF_05\"],\n",
    "    \"Município\": [\"NO_MUNICIPIO\", \"municipio\", \"NOME\"]\n",
    "}"
   ],
   "metadata": {
    "collapsed": false
   }
  },
  {
   "cell_type": "code",
   "execution_count": 15,
   "outputs": [],
   "source": [
    "df = con.execute(f\"\"\"\n",
    "                select\n",
    "                    DISTINCT(TP_GRUPO)\n",
    "                from DSU\n",
    "            \"\"\"\n",
    ").df()"
   ],
   "metadata": {
    "collapsed": false
   }
  },
  {
   "cell_type": "code",
   "execution_count": 16,
   "outputs": [
    {
     "data": {
      "text/plain": "                              TP_GRUPO\n0     Ensino Fundamental Anos iniciais\n1   Educação de Jovens e Adultos (EJA)\n2                    Educação Infantil\n3                    Educação Especial\n4         Educação Infantil Pré-Escola\n5       Ensino Fundamental Anos finais\n6             Educação Infantil Creche\n7                        EDU_BAS_CAT_0\n8                   Ensino Fundamental\n9                           PROF_CAT_0\n10                        Ensino Médio\n11                            DSU_PROF\n12                           PROF_CAT0\n13                         ED_BAS_CAT0",
      "text/html": "<div>\n<style scoped>\n    .dataframe tbody tr th:only-of-type {\n        vertical-align: middle;\n    }\n\n    .dataframe tbody tr th {\n        vertical-align: top;\n    }\n\n    .dataframe thead th {\n        text-align: right;\n    }\n</style>\n<table border=\"1\" class=\"dataframe\">\n  <thead>\n    <tr style=\"text-align: right;\">\n      <th></th>\n      <th>TP_GRUPO</th>\n    </tr>\n  </thead>\n  <tbody>\n    <tr>\n      <th>0</th>\n      <td>Ensino Fundamental Anos iniciais</td>\n    </tr>\n    <tr>\n      <th>1</th>\n      <td>Educação de Jovens e Adultos (EJA)</td>\n    </tr>\n    <tr>\n      <th>2</th>\n      <td>Educação Infantil</td>\n    </tr>\n    <tr>\n      <th>3</th>\n      <td>Educação Especial</td>\n    </tr>\n    <tr>\n      <th>4</th>\n      <td>Educação Infantil Pré-Escola</td>\n    </tr>\n    <tr>\n      <th>5</th>\n      <td>Ensino Fundamental Anos finais</td>\n    </tr>\n    <tr>\n      <th>6</th>\n      <td>Educação Infantil Creche</td>\n    </tr>\n    <tr>\n      <th>7</th>\n      <td>EDU_BAS_CAT_0</td>\n    </tr>\n    <tr>\n      <th>8</th>\n      <td>Ensino Fundamental</td>\n    </tr>\n    <tr>\n      <th>9</th>\n      <td>PROF_CAT_0</td>\n    </tr>\n    <tr>\n      <th>10</th>\n      <td>Ensino Médio</td>\n    </tr>\n    <tr>\n      <th>11</th>\n      <td>DSU_PROF</td>\n    </tr>\n    <tr>\n      <th>12</th>\n      <td>PROF_CAT0</td>\n    </tr>\n    <tr>\n      <th>13</th>\n      <td>ED_BAS_CAT0</td>\n    </tr>\n  </tbody>\n</table>\n</div>"
     },
     "execution_count": 16,
     "metadata": {},
     "output_type": "execute_result"
    }
   ],
   "source": [
    "df"
   ],
   "metadata": {
    "collapsed": false
   }
  },
  {
   "cell_type": "code",
   "execution_count": 6,
   "outputs": [
    {
     "ename": "BinderException",
     "evalue": "Binder Error: No function matches the given name and argument types 'avg(VARCHAR)'. You might need to add explicit type casts.\n\tCandidate functions:\n\tavg(DECIMAL) -> DECIMAL\n\tavg(SMALLINT) -> DOUBLE\n\tavg(INTEGER) -> DOUBLE\n\tavg(BIGINT) -> DOUBLE\n\tavg(HUGEINT) -> DOUBLE\n\tavg(DOUBLE) -> DOUBLE\n\nLINE 5:                     avg(METRICA) AS 'Complexidade de Gestão da Escola'\n                from ICG i\n                where\n                    NO_CATEGORIA='Rural'\n                    and NO_DEPENDENCIA='Estadual'\n                    and TP_GRUPO='Ensino Fundamental'\n                group by NU_ANO_CENSO, SG_UF\n                order by 1, 2\n            ...\n                            ^",
     "output_type": "error",
     "traceback": [
      "\u001B[0;31m---------------------------------------------------------------------------\u001B[0m",
      "\u001B[0;31mBinderException\u001B[0m                           Traceback (most recent call last)",
      "Cell \u001B[0;32mIn[6], line 6\u001B[0m\n\u001B[1;32m      4\u001B[0m dependencia \u001B[38;5;241m=\u001B[39m \u001B[38;5;124m\"\u001B[39m\u001B[38;5;124mEstadual\u001B[39m\u001B[38;5;124m\"\u001B[39m\n\u001B[1;32m      5\u001B[0m grupo \u001B[38;5;241m=\u001B[39m \u001B[38;5;124m\"\u001B[39m\u001B[38;5;124mEnsino Fundamental\u001B[39m\u001B[38;5;124m\"\u001B[39m\n\u001B[0;32m----> 6\u001B[0m df \u001B[38;5;241m=\u001B[39m \u001B[43mcon\u001B[49m\u001B[38;5;241;43m.\u001B[39;49m\u001B[43mexecute\u001B[49m\u001B[43m(\u001B[49m\u001B[38;5;124;43mf\u001B[39;49m\u001B[38;5;124;43m\"\"\"\u001B[39;49m\n\u001B[1;32m      7\u001B[0m \u001B[38;5;124;43m                select\u001B[39;49m\n\u001B[1;32m      8\u001B[0m \u001B[38;5;124;43m                    NU_ANO_CENSO as \u001B[39;49m\u001B[38;5;124;43m'\u001B[39;49m\u001B[38;5;124;43mAno\u001B[39;49m\u001B[38;5;124;43m'\u001B[39;49m\u001B[38;5;124;43m,\u001B[39;49m\n\u001B[1;32m      9\u001B[0m \u001B[38;5;124;43m                    \u001B[39;49m\u001B[38;5;132;43;01m{\u001B[39;49;00m\u001B[43mDIMENSOES_GEOGRAFICAS\u001B[49m\u001B[43m[\u001B[49m\u001B[43mdimensao_geografica\u001B[49m\u001B[43m]\u001B[49m\u001B[43m[\u001B[49m\u001B[38;5;241;43m0\u001B[39;49m\u001B[43m]\u001B[49m\u001B[38;5;132;43;01m}\u001B[39;49;00m\u001B[38;5;124;43m as \u001B[39;49m\u001B[38;5;124;43m'\u001B[39;49m\u001B[38;5;132;43;01m{\u001B[39;49;00m\u001B[43mdimensao_geografica\u001B[49m\u001B[38;5;132;43;01m}\u001B[39;49;00m\u001B[38;5;124;43m'\u001B[39;49m\u001B[38;5;124;43m,\u001B[39;49m\n\u001B[1;32m     10\u001B[0m \u001B[38;5;124;43m                    avg(METRICA) AS \u001B[39;49m\u001B[38;5;124;43m'\u001B[39;49m\u001B[38;5;132;43;01m{\u001B[39;49;00m\u001B[43mindicador\u001B[49m\u001B[38;5;132;43;01m}\u001B[39;49;00m\u001B[38;5;124;43m'\u001B[39;49m\n\u001B[1;32m     11\u001B[0m \u001B[38;5;124;43m                from \u001B[39;49m\u001B[38;5;132;43;01m{\u001B[39;49;00m\u001B[43mINDICADORES\u001B[49m\u001B[43m[\u001B[49m\u001B[43mindicador\u001B[49m\u001B[43m]\u001B[49m\u001B[38;5;132;43;01m}\u001B[39;49;00m\u001B[38;5;124;43m i\u001B[39;49m\n\u001B[1;32m     12\u001B[0m \u001B[38;5;124;43m                where\u001B[39;49m\n\u001B[1;32m     13\u001B[0m \u001B[38;5;124;43m                    NO_CATEGORIA=\u001B[39;49m\u001B[38;5;124;43m'\u001B[39;49m\u001B[38;5;132;43;01m{\u001B[39;49;00m\u001B[43mcategoria\u001B[49m\u001B[38;5;132;43;01m}\u001B[39;49;00m\u001B[38;5;124;43m'\u001B[39;49m\n\u001B[1;32m     14\u001B[0m \u001B[38;5;124;43m                    and NO_DEPENDENCIA=\u001B[39;49m\u001B[38;5;124;43m'\u001B[39;49m\u001B[38;5;132;43;01m{\u001B[39;49;00m\u001B[43mdependencia\u001B[49m\u001B[38;5;132;43;01m}\u001B[39;49;00m\u001B[38;5;124;43m'\u001B[39;49m\n\u001B[1;32m     15\u001B[0m \u001B[38;5;124;43m                    and TP_GRUPO=\u001B[39;49m\u001B[38;5;124;43m'\u001B[39;49m\u001B[38;5;132;43;01m{\u001B[39;49;00m\u001B[43mgrupo\u001B[49m\u001B[38;5;132;43;01m}\u001B[39;49;00m\u001B[38;5;124;43m'\u001B[39;49m\n\u001B[1;32m     16\u001B[0m \u001B[38;5;124;43m                group by NU_ANO_CENSO, \u001B[39;49m\u001B[38;5;132;43;01m{\u001B[39;49;00m\u001B[43mDIMENSOES_GEOGRAFICAS\u001B[49m\u001B[43m[\u001B[49m\u001B[43mdimensao_geografica\u001B[49m\u001B[43m]\u001B[49m\u001B[43m[\u001B[49m\u001B[38;5;241;43m0\u001B[39;49m\u001B[43m]\u001B[49m\u001B[38;5;132;43;01m}\u001B[39;49;00m\n\u001B[1;32m     17\u001B[0m \u001B[38;5;124;43m                order by 1, 2\u001B[39;49m\n\u001B[1;32m     18\u001B[0m \u001B[38;5;124;43m            \u001B[39;49m\u001B[38;5;124;43m\"\"\"\u001B[39;49m\n\u001B[1;32m     19\u001B[0m \u001B[43m)\u001B[49m\u001B[38;5;241m.\u001B[39mdf()\n",
      "\u001B[0;31mBinderException\u001B[0m: Binder Error: No function matches the given name and argument types 'avg(VARCHAR)'. You might need to add explicit type casts.\n\tCandidate functions:\n\tavg(DECIMAL) -> DECIMAL\n\tavg(SMALLINT) -> DOUBLE\n\tavg(INTEGER) -> DOUBLE\n\tavg(BIGINT) -> DOUBLE\n\tavg(HUGEINT) -> DOUBLE\n\tavg(DOUBLE) -> DOUBLE\n\nLINE 5:                     avg(METRICA) AS 'Complexidade de Gestão da Escola'\n                from ICG i\n                where\n                    NO_CATEGORIA='Rural'\n                    and NO_DEPENDENCIA='Estadual'\n                    and TP_GRUPO='Ensino Fundamental'\n                group by NU_ANO_CENSO, SG_UF\n                order by 1, 2\n            ...\n                            ^"
     ]
    }
   ],
   "source": [
    "indicador = \"Complexidade de Gestão da Escola\"\n",
    "dimensao_geografica = \"Unidade da Federação\"\n",
    "categoria = \"Rural\"\n",
    "dependencia = \"Estadual\"\n",
    "grupo = \"Ensino Fundamental\"\n",
    "df = con.execute(f\"\"\"\n",
    "                select\n",
    "                    NU_ANO_CENSO as 'Ano',\n",
    "                    {DIMENSOES_GEOGRAFICAS[dimensao_geografica][0]} as '{dimensao_geografica}',\n",
    "                    avg(METRICA) AS '{indicador}'\n",
    "                from {INDICADORES[indicador]} i\n",
    "                where\n",
    "                    NO_CATEGORIA='{categoria}'\n",
    "                    and NO_DEPENDENCIA='{dependencia}'\n",
    "                    and TP_GRUPO='{grupo}'\n",
    "                group by NU_ANO_CENSO, {DIMENSOES_GEOGRAFICAS[dimensao_geografica][0]}\n",
    "                order by 1, 2\n",
    "            \"\"\"\n",
    ").df()"
   ],
   "metadata": {
    "collapsed": false
   }
  },
  {
   "cell_type": "code",
   "execution_count": 57,
   "outputs": [],
   "source": [
    "df.info()"
   ],
   "metadata": {
    "collapsed": false
   }
  },
  {
   "cell_type": "code",
   "execution_count": 46,
   "outputs": [],
   "source": [
    "grupos = con.execute(f\"select distinct(TP_GRUPO) as value from {INDICADORES[indicador]} limit 10\").df()"
   ],
   "metadata": {
    "collapsed": false
   }
  },
  {
   "cell_type": "code",
   "execution_count": 48,
   "outputs": [],
   "source": [
    "a = grupos.value"
   ],
   "metadata": {
    "collapsed": false
   }
  },
  {
   "cell_type": "code",
   "execution_count": 50,
   "outputs": [
    {
     "data": {
      "text/plain": "['Ensino Fundamental - 3º Ano',\n 'Ensino Fundamental - 8º Ano',\n 'Ensino Médio - 2º Ano',\n 'Ensino Fundamental',\n 'Ensino Fundamental - 5º Ano',\n 'Ensino Fundamental Anos finais',\n 'Ensino Fundamental - 1º Ano',\n 'Ensino Fundamental - 4º Ano',\n 'Ensino Fundamental - 9º Ano',\n 'Ensino Médio - 3º Ano']"
     },
     "execution_count": 50,
     "metadata": {},
     "output_type": "execute_result"
    }
   ],
   "source": [
    "a.tolist()"
   ],
   "metadata": {
    "collapsed": false
   }
  },
  {
   "cell_type": "code",
   "execution_count": 54,
   "outputs": [],
   "source": [
    "df[ df[\"Unidade da Federação\"].isin([\"AC\"])]"
   ],
   "metadata": {
    "collapsed": false
   }
  },
  {
   "cell_type": "code",
   "execution_count": 17,
   "outputs": [],
   "source": [
    "with open(f\"../data/geo/{DIMENSOES_GEOGRAFICAS[dimensao_geografica][1]}.json\", encoding=\"latin1\") as f:\n",
    "    geojson = json.load(f)"
   ],
   "metadata": {
    "collapsed": false
   }
  },
  {
   "cell_type": "code",
   "execution_count": 21,
   "outputs": [],
   "source": [
    "fig = px.choropleth_mapbox(\n",
    "    df,\n",
    "    geojson=geojson,\n",
    "    color=INDICADORES[indicador],\n",
    "    locations=dimensao_geografica,\n",
    "    range_color=(0, 100),\n",
    "    mapbox_style = \"white-bg\",\n",
    "    featureidkey=f\"properties.{DIMENSOES_GEOGRAFICAS[dimensao_geografica][2]}\",\n",
    "    center = {\"lat\": -14, \"lon\": -55},\n",
    "    animation_frame=\"Ano\",\n",
    "    zoom=3,\n",
    "    width=750,\n",
    "    height=750\n",
    ")\n",
    "\n",
    "fig.write_html(f\"plots/{indicador}_{dimensao_geografica}.html\")"
   ],
   "metadata": {
    "collapsed": false
   }
  },
  {
   "cell_type": "code",
   "execution_count": null,
   "outputs": [],
   "source": [],
   "metadata": {
    "collapsed": false
   }
  }
 ],
 "metadata": {
  "kernelspec": {
   "display_name": "Python 3",
   "language": "python",
   "name": "python3"
  },
  "language_info": {
   "codemirror_mode": {
    "name": "ipython",
    "version": 2
   },
   "file_extension": ".py",
   "mimetype": "text/x-python",
   "name": "python",
   "nbconvert_exporter": "python",
   "pygments_lexer": "ipython2",
   "version": "2.7.6"
  }
 },
 "nbformat": 4,
 "nbformat_minor": 0
}
