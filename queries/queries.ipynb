{
 "cells": [
  {
   "cell_type": "code",
   "execution_count": 1,
   "metadata": {
    "collapsed": true
   },
   "outputs": [],
   "source": [
    "from collections import Counter\n",
    "import random\n",
    "\n",
    "import numpy as np\n",
    "import pyarrow.dataset as ds\n",
    "import duckdb\n",
    "import pandas as pd\n",
    "import numpy as np\n",
    "import seaborn as sns\n",
    "import plotly as pl\n",
    "import plotly.express as px\n",
    "import json\n",
    "\n",
    "from plotly.graph_objs import Figure\n",
    "\n",
    "INDICADORES = {\n",
    "    \"AFD\": \"Adequação da Formação Docente\",\n",
    "    \"ICG\": \"Complexidade de Gestão da Escola\",\n",
    "    \"IED\": \"Esforço Docente\",\n",
    "    \"ATU\": \"Média de Alunos por Turma\",\n",
    "    \"HAD\": \"Média de Horas-aula diária\",\n",
    "    \"DSU\": \"Percentual de Docentes com Curso Superior\",\n",
    "    \"TDI\": \"Taxas de Distorção Idade-série\"\n",
    "}\n",
    "\n",
    "DIMENSIONS = {\n",
    "    \"Ano\": \"NU_ANO_CENSO\",\n",
    "    \"Nome da região geográfica\": \"NO_REGIAO\",\n",
    "    \"Nome da Unidade da Federação\": \"NO_UF\",\n",
    "    \"Nome da Mesorregião\": \"NO_MESORREGIAO\",\n",
    "    \"Nome da Microrregião\": \"NO_MICRORREGIAO\"\n",
    "}\n",
    "\n",
    "con = duckdb.connect('../file.db')\n",
    "\n",
    "microdados = ds.dataset(\"../data/transformed/microdados.parquet\", format=\"parquet\", partitioning=\"hive\")\n",
    "con.register(\"microdados\", microdados)\n",
    "\n",
    "indicadores = {}\n",
    "for indicador in INDICADORES:\n",
    "    indicadores[indicador] = ds.dataset(f\"../data/transformed/indicadores/{indicador}.parquet\", format=\"parquet\", partitioning=\"hive\")\n",
    "    con.register(indicador, indicadores[indicador])"
   ]
  },
  {
   "cell_type": "code",
   "execution_count": 5,
   "outputs": [
    {
     "data": {
      "application/vnd.plotly.v1+json": {
       "data": [
        {
         "hovertemplate": "Nível de ensino=Educação Básica<br>Ano=%{x}<br>Quantidade de matrículas=%{y}<extra></extra>",
         "legendgroup": "Educação Básica",
         "line": {
          "color": "#636efa",
          "dash": "solid"
         },
         "marker": {
          "symbol": "circle"
         },
         "mode": "markers+lines",
         "name": "Educação Básica",
         "orientation": "v",
         "showlegend": true,
         "x": [
          2016,
          2017,
          2018,
          2019,
          2020,
          2021,
          2022
         ],
         "xaxis": "x",
         "y": [
          48817479,
          48608093,
          48455867,
          47874246,
          47295294,
          46668401,
          47382074
         ],
         "yaxis": "y",
         "type": "scatter"
        },
        {
         "hovertemplate": "Nível de ensino=Educação Infantil - creche<br>Ano=%{x}<br>Quantidade de matrículas=%{y}<extra></extra>",
         "legendgroup": "Educação Infantil - creche",
         "line": {
          "color": "#EF553B",
          "dash": "solid"
         },
         "marker": {
          "symbol": "circle"
         },
         "mode": "markers+lines",
         "name": "Educação Infantil - creche",
         "orientation": "v",
         "showlegend": true,
         "x": [
          2016,
          2017,
          2018,
          2019,
          2020,
          2021,
          2022
         ],
         "xaxis": "x",
         "y": [
          3238894,
          3406796,
          3587292,
          3755092,
          3651989,
          3417210,
          3935689
         ],
         "yaxis": "y",
         "type": "scatter"
        },
        {
         "hovertemplate": "Nível de ensino=Educação Infantil - pré-escola<br>Ano=%{x}<br>Quantidade de matrículas=%{y}<extra></extra>",
         "legendgroup": "Educação Infantil - pré-escola",
         "line": {
          "color": "#00cc96",
          "dash": "solid"
         },
         "marker": {
          "symbol": "circle"
         },
         "mode": "markers+lines",
         "name": "Educação Infantil - pré-escola",
         "orientation": "v",
         "showlegend": true,
         "x": [
          2016,
          2017,
          2018,
          2019,
          2020,
          2021,
          2022
         ],
         "xaxis": "x",
         "y": [
          5040210,
          5101935,
          5157892,
          5217686,
          5177806,
          4902189,
          5093075
         ],
         "yaxis": "y",
         "type": "scatter"
        },
        {
         "hovertemplate": "Nível de ensino=Educação Infantil<br>Ano=%{x}<br>Quantidade de matrículas=%{y}<extra></extra>",
         "legendgroup": "Educação Infantil",
         "line": {
          "color": "#ab63fa",
          "dash": "solid"
         },
         "marker": {
          "symbol": "circle"
         },
         "mode": "markers+lines",
         "name": "Educação Infantil",
         "orientation": "v",
         "showlegend": true,
         "x": [
          2016,
          2017,
          2018,
          2019,
          2020,
          2021,
          2022
         ],
         "xaxis": "x",
         "y": [
          8279104,
          8508731,
          8745184,
          8972778,
          8829795,
          8319399,
          9028764
         ],
         "yaxis": "y",
         "type": "scatter"
        },
        {
         "hovertemplate": "Nível de ensino=Ensino Fundamental - anos iniciais<br>Ano=%{x}<br>Quantidade de matrículas=%{y}<extra></extra>",
         "legendgroup": "Ensino Fundamental - anos iniciais",
         "line": {
          "color": "#FFA15A",
          "dash": "solid"
         },
         "marker": {
          "symbol": "circle"
         },
         "mode": "markers+lines",
         "name": "Ensino Fundamental - anos iniciais",
         "orientation": "v",
         "showlegend": true,
         "x": [
          2016,
          2017,
          2018,
          2019,
          2020,
          2021,
          2022
         ],
         "xaxis": "x",
         "y": [
          15442039,
          15328540,
          15176420,
          15018498,
          14790415,
          14533651,
          14553030
         ],
         "yaxis": "y",
         "type": "scatter"
        },
        {
         "hovertemplate": "Nível de ensino=Ensino Fundamental - anos finais<br>Ano=%{x}<br>Quantidade de matrículas=%{y}<extra></extra>",
         "legendgroup": "Ensino Fundamental - anos finais",
         "line": {
          "color": "#19d3f3",
          "dash": "solid"
         },
         "marker": {
          "symbol": "circle"
         },
         "mode": "markers+lines",
         "name": "Ensino Fundamental - anos finais",
         "orientation": "v",
         "showlegend": true,
         "x": [
          2016,
          2017,
          2018,
          2019,
          2020,
          2021,
          2022
         ],
         "xaxis": "x",
         "y": [
          12249439,
          12019540,
          12007550,
          11905232,
          11928415,
          11981950,
          11899198
         ],
         "yaxis": "y",
         "type": "scatter"
        },
        {
         "hovertemplate": "Nível de ensino=Ensino Fundamental<br>Ano=%{x}<br>Quantidade de matrículas=%{y}<extra></extra>",
         "legendgroup": "Ensino Fundamental",
         "line": {
          "color": "#FF6692",
          "dash": "solid"
         },
         "marker": {
          "symbol": "circle"
         },
         "mode": "markers+lines",
         "name": "Ensino Fundamental",
         "orientation": "v",
         "showlegend": true,
         "x": [
          2016,
          2017,
          2018,
          2019,
          2020,
          2021,
          2022
         ],
         "xaxis": "x",
         "y": [
          27691478,
          27348080,
          27183970,
          26923730,
          26718830,
          26515601,
          26452228
         ],
         "yaxis": "y",
         "type": "scatter"
        },
        {
         "hovertemplate": "Nível de ensino=Educação Especial<br>Ano=%{x}<br>Quantidade de matrículas=%{y}<extra></extra>",
         "legendgroup": "Educação Especial",
         "line": {
          "color": "#B6E880",
          "dash": "solid"
         },
         "marker": {
          "symbol": "circle"
         },
         "mode": "markers+lines",
         "name": "Educação Especial",
         "orientation": "v",
         "showlegend": true,
         "x": [
          2016,
          2017,
          2018,
          2019,
          2020,
          2021,
          2022
         ],
         "xaxis": "x",
         "y": [
          971372,
          1066446,
          1181276,
          1250967,
          1308900,
          1350921,
          1527794
         ],
         "yaxis": "y",
         "type": "scatter"
        }
       ],
       "layout": {
        "template": {
         "data": {
          "histogram2dcontour": [
           {
            "type": "histogram2dcontour",
            "colorbar": {
             "outlinewidth": 0,
             "ticks": ""
            },
            "colorscale": [
             [
              0.0,
              "#0d0887"
             ],
             [
              0.1111111111111111,
              "#46039f"
             ],
             [
              0.2222222222222222,
              "#7201a8"
             ],
             [
              0.3333333333333333,
              "#9c179e"
             ],
             [
              0.4444444444444444,
              "#bd3786"
             ],
             [
              0.5555555555555556,
              "#d8576b"
             ],
             [
              0.6666666666666666,
              "#ed7953"
             ],
             [
              0.7777777777777778,
              "#fb9f3a"
             ],
             [
              0.8888888888888888,
              "#fdca26"
             ],
             [
              1.0,
              "#f0f921"
             ]
            ]
           }
          ],
          "choropleth": [
           {
            "type": "choropleth",
            "colorbar": {
             "outlinewidth": 0,
             "ticks": ""
            }
           }
          ],
          "histogram2d": [
           {
            "type": "histogram2d",
            "colorbar": {
             "outlinewidth": 0,
             "ticks": ""
            },
            "colorscale": [
             [
              0.0,
              "#0d0887"
             ],
             [
              0.1111111111111111,
              "#46039f"
             ],
             [
              0.2222222222222222,
              "#7201a8"
             ],
             [
              0.3333333333333333,
              "#9c179e"
             ],
             [
              0.4444444444444444,
              "#bd3786"
             ],
             [
              0.5555555555555556,
              "#d8576b"
             ],
             [
              0.6666666666666666,
              "#ed7953"
             ],
             [
              0.7777777777777778,
              "#fb9f3a"
             ],
             [
              0.8888888888888888,
              "#fdca26"
             ],
             [
              1.0,
              "#f0f921"
             ]
            ]
           }
          ],
          "heatmap": [
           {
            "type": "heatmap",
            "colorbar": {
             "outlinewidth": 0,
             "ticks": ""
            },
            "colorscale": [
             [
              0.0,
              "#0d0887"
             ],
             [
              0.1111111111111111,
              "#46039f"
             ],
             [
              0.2222222222222222,
              "#7201a8"
             ],
             [
              0.3333333333333333,
              "#9c179e"
             ],
             [
              0.4444444444444444,
              "#bd3786"
             ],
             [
              0.5555555555555556,
              "#d8576b"
             ],
             [
              0.6666666666666666,
              "#ed7953"
             ],
             [
              0.7777777777777778,
              "#fb9f3a"
             ],
             [
              0.8888888888888888,
              "#fdca26"
             ],
             [
              1.0,
              "#f0f921"
             ]
            ]
           }
          ],
          "heatmapgl": [
           {
            "type": "heatmapgl",
            "colorbar": {
             "outlinewidth": 0,
             "ticks": ""
            },
            "colorscale": [
             [
              0.0,
              "#0d0887"
             ],
             [
              0.1111111111111111,
              "#46039f"
             ],
             [
              0.2222222222222222,
              "#7201a8"
             ],
             [
              0.3333333333333333,
              "#9c179e"
             ],
             [
              0.4444444444444444,
              "#bd3786"
             ],
             [
              0.5555555555555556,
              "#d8576b"
             ],
             [
              0.6666666666666666,
              "#ed7953"
             ],
             [
              0.7777777777777778,
              "#fb9f3a"
             ],
             [
              0.8888888888888888,
              "#fdca26"
             ],
             [
              1.0,
              "#f0f921"
             ]
            ]
           }
          ],
          "contourcarpet": [
           {
            "type": "contourcarpet",
            "colorbar": {
             "outlinewidth": 0,
             "ticks": ""
            }
           }
          ],
          "contour": [
           {
            "type": "contour",
            "colorbar": {
             "outlinewidth": 0,
             "ticks": ""
            },
            "colorscale": [
             [
              0.0,
              "#0d0887"
             ],
             [
              0.1111111111111111,
              "#46039f"
             ],
             [
              0.2222222222222222,
              "#7201a8"
             ],
             [
              0.3333333333333333,
              "#9c179e"
             ],
             [
              0.4444444444444444,
              "#bd3786"
             ],
             [
              0.5555555555555556,
              "#d8576b"
             ],
             [
              0.6666666666666666,
              "#ed7953"
             ],
             [
              0.7777777777777778,
              "#fb9f3a"
             ],
             [
              0.8888888888888888,
              "#fdca26"
             ],
             [
              1.0,
              "#f0f921"
             ]
            ]
           }
          ],
          "surface": [
           {
            "type": "surface",
            "colorbar": {
             "outlinewidth": 0,
             "ticks": ""
            },
            "colorscale": [
             [
              0.0,
              "#0d0887"
             ],
             [
              0.1111111111111111,
              "#46039f"
             ],
             [
              0.2222222222222222,
              "#7201a8"
             ],
             [
              0.3333333333333333,
              "#9c179e"
             ],
             [
              0.4444444444444444,
              "#bd3786"
             ],
             [
              0.5555555555555556,
              "#d8576b"
             ],
             [
              0.6666666666666666,
              "#ed7953"
             ],
             [
              0.7777777777777778,
              "#fb9f3a"
             ],
             [
              0.8888888888888888,
              "#fdca26"
             ],
             [
              1.0,
              "#f0f921"
             ]
            ]
           }
          ],
          "mesh3d": [
           {
            "type": "mesh3d",
            "colorbar": {
             "outlinewidth": 0,
             "ticks": ""
            }
           }
          ],
          "scatter": [
           {
            "fillpattern": {
             "fillmode": "overlay",
             "size": 10,
             "solidity": 0.2
            },
            "type": "scatter"
           }
          ],
          "parcoords": [
           {
            "type": "parcoords",
            "line": {
             "colorbar": {
              "outlinewidth": 0,
              "ticks": ""
             }
            }
           }
          ],
          "scatterpolargl": [
           {
            "type": "scatterpolargl",
            "marker": {
             "colorbar": {
              "outlinewidth": 0,
              "ticks": ""
             }
            }
           }
          ],
          "bar": [
           {
            "error_x": {
             "color": "#2a3f5f"
            },
            "error_y": {
             "color": "#2a3f5f"
            },
            "marker": {
             "line": {
              "color": "#E5ECF6",
              "width": 0.5
             },
             "pattern": {
              "fillmode": "overlay",
              "size": 10,
              "solidity": 0.2
             }
            },
            "type": "bar"
           }
          ],
          "scattergeo": [
           {
            "type": "scattergeo",
            "marker": {
             "colorbar": {
              "outlinewidth": 0,
              "ticks": ""
             }
            }
           }
          ],
          "scatterpolar": [
           {
            "type": "scatterpolar",
            "marker": {
             "colorbar": {
              "outlinewidth": 0,
              "ticks": ""
             }
            }
           }
          ],
          "histogram": [
           {
            "marker": {
             "pattern": {
              "fillmode": "overlay",
              "size": 10,
              "solidity": 0.2
             }
            },
            "type": "histogram"
           }
          ],
          "scattergl": [
           {
            "type": "scattergl",
            "marker": {
             "colorbar": {
              "outlinewidth": 0,
              "ticks": ""
             }
            }
           }
          ],
          "scatter3d": [
           {
            "type": "scatter3d",
            "line": {
             "colorbar": {
              "outlinewidth": 0,
              "ticks": ""
             }
            },
            "marker": {
             "colorbar": {
              "outlinewidth": 0,
              "ticks": ""
             }
            }
           }
          ],
          "scattermapbox": [
           {
            "type": "scattermapbox",
            "marker": {
             "colorbar": {
              "outlinewidth": 0,
              "ticks": ""
             }
            }
           }
          ],
          "scatterternary": [
           {
            "type": "scatterternary",
            "marker": {
             "colorbar": {
              "outlinewidth": 0,
              "ticks": ""
             }
            }
           }
          ],
          "scattercarpet": [
           {
            "type": "scattercarpet",
            "marker": {
             "colorbar": {
              "outlinewidth": 0,
              "ticks": ""
             }
            }
           }
          ],
          "carpet": [
           {
            "aaxis": {
             "endlinecolor": "#2a3f5f",
             "gridcolor": "white",
             "linecolor": "white",
             "minorgridcolor": "white",
             "startlinecolor": "#2a3f5f"
            },
            "baxis": {
             "endlinecolor": "#2a3f5f",
             "gridcolor": "white",
             "linecolor": "white",
             "minorgridcolor": "white",
             "startlinecolor": "#2a3f5f"
            },
            "type": "carpet"
           }
          ],
          "table": [
           {
            "cells": {
             "fill": {
              "color": "#EBF0F8"
             },
             "line": {
              "color": "white"
             }
            },
            "header": {
             "fill": {
              "color": "#C8D4E3"
             },
             "line": {
              "color": "white"
             }
            },
            "type": "table"
           }
          ],
          "barpolar": [
           {
            "marker": {
             "line": {
              "color": "#E5ECF6",
              "width": 0.5
             },
             "pattern": {
              "fillmode": "overlay",
              "size": 10,
              "solidity": 0.2
             }
            },
            "type": "barpolar"
           }
          ],
          "pie": [
           {
            "automargin": true,
            "type": "pie"
           }
          ]
         },
         "layout": {
          "autotypenumbers": "strict",
          "colorway": [
           "#636efa",
           "#EF553B",
           "#00cc96",
           "#ab63fa",
           "#FFA15A",
           "#19d3f3",
           "#FF6692",
           "#B6E880",
           "#FF97FF",
           "#FECB52"
          ],
          "font": {
           "color": "#2a3f5f"
          },
          "hovermode": "closest",
          "hoverlabel": {
           "align": "left"
          },
          "paper_bgcolor": "white",
          "plot_bgcolor": "#E5ECF6",
          "polar": {
           "bgcolor": "#E5ECF6",
           "angularaxis": {
            "gridcolor": "white",
            "linecolor": "white",
            "ticks": ""
           },
           "radialaxis": {
            "gridcolor": "white",
            "linecolor": "white",
            "ticks": ""
           }
          },
          "ternary": {
           "bgcolor": "#E5ECF6",
           "aaxis": {
            "gridcolor": "white",
            "linecolor": "white",
            "ticks": ""
           },
           "baxis": {
            "gridcolor": "white",
            "linecolor": "white",
            "ticks": ""
           },
           "caxis": {
            "gridcolor": "white",
            "linecolor": "white",
            "ticks": ""
           }
          },
          "coloraxis": {
           "colorbar": {
            "outlinewidth": 0,
            "ticks": ""
           }
          },
          "colorscale": {
           "sequential": [
            [
             0.0,
             "#0d0887"
            ],
            [
             0.1111111111111111,
             "#46039f"
            ],
            [
             0.2222222222222222,
             "#7201a8"
            ],
            [
             0.3333333333333333,
             "#9c179e"
            ],
            [
             0.4444444444444444,
             "#bd3786"
            ],
            [
             0.5555555555555556,
             "#d8576b"
            ],
            [
             0.6666666666666666,
             "#ed7953"
            ],
            [
             0.7777777777777778,
             "#fb9f3a"
            ],
            [
             0.8888888888888888,
             "#fdca26"
            ],
            [
             1.0,
             "#f0f921"
            ]
           ],
           "sequentialminus": [
            [
             0.0,
             "#0d0887"
            ],
            [
             0.1111111111111111,
             "#46039f"
            ],
            [
             0.2222222222222222,
             "#7201a8"
            ],
            [
             0.3333333333333333,
             "#9c179e"
            ],
            [
             0.4444444444444444,
             "#bd3786"
            ],
            [
             0.5555555555555556,
             "#d8576b"
            ],
            [
             0.6666666666666666,
             "#ed7953"
            ],
            [
             0.7777777777777778,
             "#fb9f3a"
            ],
            [
             0.8888888888888888,
             "#fdca26"
            ],
            [
             1.0,
             "#f0f921"
            ]
           ],
           "diverging": [
            [
             0,
             "#8e0152"
            ],
            [
             0.1,
             "#c51b7d"
            ],
            [
             0.2,
             "#de77ae"
            ],
            [
             0.3,
             "#f1b6da"
            ],
            [
             0.4,
             "#fde0ef"
            ],
            [
             0.5,
             "#f7f7f7"
            ],
            [
             0.6,
             "#e6f5d0"
            ],
            [
             0.7,
             "#b8e186"
            ],
            [
             0.8,
             "#7fbc41"
            ],
            [
             0.9,
             "#4d9221"
            ],
            [
             1,
             "#276419"
            ]
           ]
          },
          "xaxis": {
           "gridcolor": "white",
           "linecolor": "white",
           "ticks": "",
           "title": {
            "standoff": 15
           },
           "zerolinecolor": "white",
           "automargin": true,
           "zerolinewidth": 2
          },
          "yaxis": {
           "gridcolor": "white",
           "linecolor": "white",
           "ticks": "",
           "title": {
            "standoff": 15
           },
           "zerolinecolor": "white",
           "automargin": true,
           "zerolinewidth": 2
          },
          "scene": {
           "xaxis": {
            "backgroundcolor": "#E5ECF6",
            "gridcolor": "white",
            "linecolor": "white",
            "showbackground": true,
            "ticks": "",
            "zerolinecolor": "white",
            "gridwidth": 2
           },
           "yaxis": {
            "backgroundcolor": "#E5ECF6",
            "gridcolor": "white",
            "linecolor": "white",
            "showbackground": true,
            "ticks": "",
            "zerolinecolor": "white",
            "gridwidth": 2
           },
           "zaxis": {
            "backgroundcolor": "#E5ECF6",
            "gridcolor": "white",
            "linecolor": "white",
            "showbackground": true,
            "ticks": "",
            "zerolinecolor": "white",
            "gridwidth": 2
           }
          },
          "shapedefaults": {
           "line": {
            "color": "#2a3f5f"
           }
          },
          "annotationdefaults": {
           "arrowcolor": "#2a3f5f",
           "arrowhead": 0,
           "arrowwidth": 1
          },
          "geo": {
           "bgcolor": "white",
           "landcolor": "#E5ECF6",
           "subunitcolor": "white",
           "showland": true,
           "showlakes": true,
           "lakecolor": "white"
          },
          "title": {
           "x": 0.05
          },
          "mapbox": {
           "style": "light"
          }
         }
        },
        "xaxis": {
         "anchor": "y",
         "domain": [
          0.0,
          1.0
         ],
         "title": {
          "text": "Ano"
         }
        },
        "yaxis": {
         "anchor": "x",
         "domain": [
          0.0,
          1.0
         ],
         "title": {
          "text": "Quantidade de matrículas"
         }
        },
        "legend": {
         "title": {
          "text": "Nível de ensino"
         },
         "tracegroupgap": 0
        },
        "title": {
         "text": "Quantidade de matrículas por nível de ensino"
        }
       },
       "config": {
        "plotlyServerURL": "https://plot.ly"
       }
      },
      "text/html": "<div>                            <div id=\"97e8d22b-1496-481c-9e1b-14ce60b1ff76\" class=\"plotly-graph-div\" style=\"height:525px; width:100%;\"></div>            <script type=\"text/javascript\">                require([\"plotly\"], function(Plotly) {                    window.PLOTLYENV=window.PLOTLYENV || {};                                    if (document.getElementById(\"97e8d22b-1496-481c-9e1b-14ce60b1ff76\")) {                    Plotly.newPlot(                        \"97e8d22b-1496-481c-9e1b-14ce60b1ff76\",                        [{\"hovertemplate\":\"N\\u00edvel de ensino=Educa\\u00e7\\u00e3o B\\u00e1sica<br>Ano=%{x}<br>Quantidade de matr\\u00edculas=%{y}<extra></extra>\",\"legendgroup\":\"Educa\\u00e7\\u00e3o B\\u00e1sica\",\"line\":{\"color\":\"#636efa\",\"dash\":\"solid\"},\"marker\":{\"symbol\":\"circle\"},\"mode\":\"markers+lines\",\"name\":\"Educa\\u00e7\\u00e3o B\\u00e1sica\",\"orientation\":\"v\",\"showlegend\":true,\"x\":[2016,2017,2018,2019,2020,2021,2022],\"xaxis\":\"x\",\"y\":[48817479,48608093,48455867,47874246,47295294,46668401,47382074],\"yaxis\":\"y\",\"type\":\"scatter\"},{\"hovertemplate\":\"N\\u00edvel de ensino=Educa\\u00e7\\u00e3o Infantil - creche<br>Ano=%{x}<br>Quantidade de matr\\u00edculas=%{y}<extra></extra>\",\"legendgroup\":\"Educa\\u00e7\\u00e3o Infantil - creche\",\"line\":{\"color\":\"#EF553B\",\"dash\":\"solid\"},\"marker\":{\"symbol\":\"circle\"},\"mode\":\"markers+lines\",\"name\":\"Educa\\u00e7\\u00e3o Infantil - creche\",\"orientation\":\"v\",\"showlegend\":true,\"x\":[2016,2017,2018,2019,2020,2021,2022],\"xaxis\":\"x\",\"y\":[3238894,3406796,3587292,3755092,3651989,3417210,3935689],\"yaxis\":\"y\",\"type\":\"scatter\"},{\"hovertemplate\":\"N\\u00edvel de ensino=Educa\\u00e7\\u00e3o Infantil - pr\\u00e9-escola<br>Ano=%{x}<br>Quantidade de matr\\u00edculas=%{y}<extra></extra>\",\"legendgroup\":\"Educa\\u00e7\\u00e3o Infantil - pr\\u00e9-escola\",\"line\":{\"color\":\"#00cc96\",\"dash\":\"solid\"},\"marker\":{\"symbol\":\"circle\"},\"mode\":\"markers+lines\",\"name\":\"Educa\\u00e7\\u00e3o Infantil - pr\\u00e9-escola\",\"orientation\":\"v\",\"showlegend\":true,\"x\":[2016,2017,2018,2019,2020,2021,2022],\"xaxis\":\"x\",\"y\":[5040210,5101935,5157892,5217686,5177806,4902189,5093075],\"yaxis\":\"y\",\"type\":\"scatter\"},{\"hovertemplate\":\"N\\u00edvel de ensino=Educa\\u00e7\\u00e3o Infantil<br>Ano=%{x}<br>Quantidade de matr\\u00edculas=%{y}<extra></extra>\",\"legendgroup\":\"Educa\\u00e7\\u00e3o Infantil\",\"line\":{\"color\":\"#ab63fa\",\"dash\":\"solid\"},\"marker\":{\"symbol\":\"circle\"},\"mode\":\"markers+lines\",\"name\":\"Educa\\u00e7\\u00e3o Infantil\",\"orientation\":\"v\",\"showlegend\":true,\"x\":[2016,2017,2018,2019,2020,2021,2022],\"xaxis\":\"x\",\"y\":[8279104,8508731,8745184,8972778,8829795,8319399,9028764],\"yaxis\":\"y\",\"type\":\"scatter\"},{\"hovertemplate\":\"N\\u00edvel de ensino=Ensino Fundamental - anos iniciais<br>Ano=%{x}<br>Quantidade de matr\\u00edculas=%{y}<extra></extra>\",\"legendgroup\":\"Ensino Fundamental - anos iniciais\",\"line\":{\"color\":\"#FFA15A\",\"dash\":\"solid\"},\"marker\":{\"symbol\":\"circle\"},\"mode\":\"markers+lines\",\"name\":\"Ensino Fundamental - anos iniciais\",\"orientation\":\"v\",\"showlegend\":true,\"x\":[2016,2017,2018,2019,2020,2021,2022],\"xaxis\":\"x\",\"y\":[15442039,15328540,15176420,15018498,14790415,14533651,14553030],\"yaxis\":\"y\",\"type\":\"scatter\"},{\"hovertemplate\":\"N\\u00edvel de ensino=Ensino Fundamental - anos finais<br>Ano=%{x}<br>Quantidade de matr\\u00edculas=%{y}<extra></extra>\",\"legendgroup\":\"Ensino Fundamental - anos finais\",\"line\":{\"color\":\"#19d3f3\",\"dash\":\"solid\"},\"marker\":{\"symbol\":\"circle\"},\"mode\":\"markers+lines\",\"name\":\"Ensino Fundamental - anos finais\",\"orientation\":\"v\",\"showlegend\":true,\"x\":[2016,2017,2018,2019,2020,2021,2022],\"xaxis\":\"x\",\"y\":[12249439,12019540,12007550,11905232,11928415,11981950,11899198],\"yaxis\":\"y\",\"type\":\"scatter\"},{\"hovertemplate\":\"N\\u00edvel de ensino=Ensino Fundamental<br>Ano=%{x}<br>Quantidade de matr\\u00edculas=%{y}<extra></extra>\",\"legendgroup\":\"Ensino Fundamental\",\"line\":{\"color\":\"#FF6692\",\"dash\":\"solid\"},\"marker\":{\"symbol\":\"circle\"},\"mode\":\"markers+lines\",\"name\":\"Ensino Fundamental\",\"orientation\":\"v\",\"showlegend\":true,\"x\":[2016,2017,2018,2019,2020,2021,2022],\"xaxis\":\"x\",\"y\":[27691478,27348080,27183970,26923730,26718830,26515601,26452228],\"yaxis\":\"y\",\"type\":\"scatter\"},{\"hovertemplate\":\"N\\u00edvel de ensino=Educa\\u00e7\\u00e3o Especial<br>Ano=%{x}<br>Quantidade de matr\\u00edculas=%{y}<extra></extra>\",\"legendgroup\":\"Educa\\u00e7\\u00e3o Especial\",\"line\":{\"color\":\"#B6E880\",\"dash\":\"solid\"},\"marker\":{\"symbol\":\"circle\"},\"mode\":\"markers+lines\",\"name\":\"Educa\\u00e7\\u00e3o Especial\",\"orientation\":\"v\",\"showlegend\":true,\"x\":[2016,2017,2018,2019,2020,2021,2022],\"xaxis\":\"x\",\"y\":[971372,1066446,1181276,1250967,1308900,1350921,1527794],\"yaxis\":\"y\",\"type\":\"scatter\"}],                        {\"template\":{\"data\":{\"histogram2dcontour\":[{\"type\":\"histogram2dcontour\",\"colorbar\":{\"outlinewidth\":0,\"ticks\":\"\"},\"colorscale\":[[0.0,\"#0d0887\"],[0.1111111111111111,\"#46039f\"],[0.2222222222222222,\"#7201a8\"],[0.3333333333333333,\"#9c179e\"],[0.4444444444444444,\"#bd3786\"],[0.5555555555555556,\"#d8576b\"],[0.6666666666666666,\"#ed7953\"],[0.7777777777777778,\"#fb9f3a\"],[0.8888888888888888,\"#fdca26\"],[1.0,\"#f0f921\"]]}],\"choropleth\":[{\"type\":\"choropleth\",\"colorbar\":{\"outlinewidth\":0,\"ticks\":\"\"}}],\"histogram2d\":[{\"type\":\"histogram2d\",\"colorbar\":{\"outlinewidth\":0,\"ticks\":\"\"},\"colorscale\":[[0.0,\"#0d0887\"],[0.1111111111111111,\"#46039f\"],[0.2222222222222222,\"#7201a8\"],[0.3333333333333333,\"#9c179e\"],[0.4444444444444444,\"#bd3786\"],[0.5555555555555556,\"#d8576b\"],[0.6666666666666666,\"#ed7953\"],[0.7777777777777778,\"#fb9f3a\"],[0.8888888888888888,\"#fdca26\"],[1.0,\"#f0f921\"]]}],\"heatmap\":[{\"type\":\"heatmap\",\"colorbar\":{\"outlinewidth\":0,\"ticks\":\"\"},\"colorscale\":[[0.0,\"#0d0887\"],[0.1111111111111111,\"#46039f\"],[0.2222222222222222,\"#7201a8\"],[0.3333333333333333,\"#9c179e\"],[0.4444444444444444,\"#bd3786\"],[0.5555555555555556,\"#d8576b\"],[0.6666666666666666,\"#ed7953\"],[0.7777777777777778,\"#fb9f3a\"],[0.8888888888888888,\"#fdca26\"],[1.0,\"#f0f921\"]]}],\"heatmapgl\":[{\"type\":\"heatmapgl\",\"colorbar\":{\"outlinewidth\":0,\"ticks\":\"\"},\"colorscale\":[[0.0,\"#0d0887\"],[0.1111111111111111,\"#46039f\"],[0.2222222222222222,\"#7201a8\"],[0.3333333333333333,\"#9c179e\"],[0.4444444444444444,\"#bd3786\"],[0.5555555555555556,\"#d8576b\"],[0.6666666666666666,\"#ed7953\"],[0.7777777777777778,\"#fb9f3a\"],[0.8888888888888888,\"#fdca26\"],[1.0,\"#f0f921\"]]}],\"contourcarpet\":[{\"type\":\"contourcarpet\",\"colorbar\":{\"outlinewidth\":0,\"ticks\":\"\"}}],\"contour\":[{\"type\":\"contour\",\"colorbar\":{\"outlinewidth\":0,\"ticks\":\"\"},\"colorscale\":[[0.0,\"#0d0887\"],[0.1111111111111111,\"#46039f\"],[0.2222222222222222,\"#7201a8\"],[0.3333333333333333,\"#9c179e\"],[0.4444444444444444,\"#bd3786\"],[0.5555555555555556,\"#d8576b\"],[0.6666666666666666,\"#ed7953\"],[0.7777777777777778,\"#fb9f3a\"],[0.8888888888888888,\"#fdca26\"],[1.0,\"#f0f921\"]]}],\"surface\":[{\"type\":\"surface\",\"colorbar\":{\"outlinewidth\":0,\"ticks\":\"\"},\"colorscale\":[[0.0,\"#0d0887\"],[0.1111111111111111,\"#46039f\"],[0.2222222222222222,\"#7201a8\"],[0.3333333333333333,\"#9c179e\"],[0.4444444444444444,\"#bd3786\"],[0.5555555555555556,\"#d8576b\"],[0.6666666666666666,\"#ed7953\"],[0.7777777777777778,\"#fb9f3a\"],[0.8888888888888888,\"#fdca26\"],[1.0,\"#f0f921\"]]}],\"mesh3d\":[{\"type\":\"mesh3d\",\"colorbar\":{\"outlinewidth\":0,\"ticks\":\"\"}}],\"scatter\":[{\"fillpattern\":{\"fillmode\":\"overlay\",\"size\":10,\"solidity\":0.2},\"type\":\"scatter\"}],\"parcoords\":[{\"type\":\"parcoords\",\"line\":{\"colorbar\":{\"outlinewidth\":0,\"ticks\":\"\"}}}],\"scatterpolargl\":[{\"type\":\"scatterpolargl\",\"marker\":{\"colorbar\":{\"outlinewidth\":0,\"ticks\":\"\"}}}],\"bar\":[{\"error_x\":{\"color\":\"#2a3f5f\"},\"error_y\":{\"color\":\"#2a3f5f\"},\"marker\":{\"line\":{\"color\":\"#E5ECF6\",\"width\":0.5},\"pattern\":{\"fillmode\":\"overlay\",\"size\":10,\"solidity\":0.2}},\"type\":\"bar\"}],\"scattergeo\":[{\"type\":\"scattergeo\",\"marker\":{\"colorbar\":{\"outlinewidth\":0,\"ticks\":\"\"}}}],\"scatterpolar\":[{\"type\":\"scatterpolar\",\"marker\":{\"colorbar\":{\"outlinewidth\":0,\"ticks\":\"\"}}}],\"histogram\":[{\"marker\":{\"pattern\":{\"fillmode\":\"overlay\",\"size\":10,\"solidity\":0.2}},\"type\":\"histogram\"}],\"scattergl\":[{\"type\":\"scattergl\",\"marker\":{\"colorbar\":{\"outlinewidth\":0,\"ticks\":\"\"}}}],\"scatter3d\":[{\"type\":\"scatter3d\",\"line\":{\"colorbar\":{\"outlinewidth\":0,\"ticks\":\"\"}},\"marker\":{\"colorbar\":{\"outlinewidth\":0,\"ticks\":\"\"}}}],\"scattermapbox\":[{\"type\":\"scattermapbox\",\"marker\":{\"colorbar\":{\"outlinewidth\":0,\"ticks\":\"\"}}}],\"scatterternary\":[{\"type\":\"scatterternary\",\"marker\":{\"colorbar\":{\"outlinewidth\":0,\"ticks\":\"\"}}}],\"scattercarpet\":[{\"type\":\"scattercarpet\",\"marker\":{\"colorbar\":{\"outlinewidth\":0,\"ticks\":\"\"}}}],\"carpet\":[{\"aaxis\":{\"endlinecolor\":\"#2a3f5f\",\"gridcolor\":\"white\",\"linecolor\":\"white\",\"minorgridcolor\":\"white\",\"startlinecolor\":\"#2a3f5f\"},\"baxis\":{\"endlinecolor\":\"#2a3f5f\",\"gridcolor\":\"white\",\"linecolor\":\"white\",\"minorgridcolor\":\"white\",\"startlinecolor\":\"#2a3f5f\"},\"type\":\"carpet\"}],\"table\":[{\"cells\":{\"fill\":{\"color\":\"#EBF0F8\"},\"line\":{\"color\":\"white\"}},\"header\":{\"fill\":{\"color\":\"#C8D4E3\"},\"line\":{\"color\":\"white\"}},\"type\":\"table\"}],\"barpolar\":[{\"marker\":{\"line\":{\"color\":\"#E5ECF6\",\"width\":0.5},\"pattern\":{\"fillmode\":\"overlay\",\"size\":10,\"solidity\":0.2}},\"type\":\"barpolar\"}],\"pie\":[{\"automargin\":true,\"type\":\"pie\"}]},\"layout\":{\"autotypenumbers\":\"strict\",\"colorway\":[\"#636efa\",\"#EF553B\",\"#00cc96\",\"#ab63fa\",\"#FFA15A\",\"#19d3f3\",\"#FF6692\",\"#B6E880\",\"#FF97FF\",\"#FECB52\"],\"font\":{\"color\":\"#2a3f5f\"},\"hovermode\":\"closest\",\"hoverlabel\":{\"align\":\"left\"},\"paper_bgcolor\":\"white\",\"plot_bgcolor\":\"#E5ECF6\",\"polar\":{\"bgcolor\":\"#E5ECF6\",\"angularaxis\":{\"gridcolor\":\"white\",\"linecolor\":\"white\",\"ticks\":\"\"},\"radialaxis\":{\"gridcolor\":\"white\",\"linecolor\":\"white\",\"ticks\":\"\"}},\"ternary\":{\"bgcolor\":\"#E5ECF6\",\"aaxis\":{\"gridcolor\":\"white\",\"linecolor\":\"white\",\"ticks\":\"\"},\"baxis\":{\"gridcolor\":\"white\",\"linecolor\":\"white\",\"ticks\":\"\"},\"caxis\":{\"gridcolor\":\"white\",\"linecolor\":\"white\",\"ticks\":\"\"}},\"coloraxis\":{\"colorbar\":{\"outlinewidth\":0,\"ticks\":\"\"}},\"colorscale\":{\"sequential\":[[0.0,\"#0d0887\"],[0.1111111111111111,\"#46039f\"],[0.2222222222222222,\"#7201a8\"],[0.3333333333333333,\"#9c179e\"],[0.4444444444444444,\"#bd3786\"],[0.5555555555555556,\"#d8576b\"],[0.6666666666666666,\"#ed7953\"],[0.7777777777777778,\"#fb9f3a\"],[0.8888888888888888,\"#fdca26\"],[1.0,\"#f0f921\"]],\"sequentialminus\":[[0.0,\"#0d0887\"],[0.1111111111111111,\"#46039f\"],[0.2222222222222222,\"#7201a8\"],[0.3333333333333333,\"#9c179e\"],[0.4444444444444444,\"#bd3786\"],[0.5555555555555556,\"#d8576b\"],[0.6666666666666666,\"#ed7953\"],[0.7777777777777778,\"#fb9f3a\"],[0.8888888888888888,\"#fdca26\"],[1.0,\"#f0f921\"]],\"diverging\":[[0,\"#8e0152\"],[0.1,\"#c51b7d\"],[0.2,\"#de77ae\"],[0.3,\"#f1b6da\"],[0.4,\"#fde0ef\"],[0.5,\"#f7f7f7\"],[0.6,\"#e6f5d0\"],[0.7,\"#b8e186\"],[0.8,\"#7fbc41\"],[0.9,\"#4d9221\"],[1,\"#276419\"]]},\"xaxis\":{\"gridcolor\":\"white\",\"linecolor\":\"white\",\"ticks\":\"\",\"title\":{\"standoff\":15},\"zerolinecolor\":\"white\",\"automargin\":true,\"zerolinewidth\":2},\"yaxis\":{\"gridcolor\":\"white\",\"linecolor\":\"white\",\"ticks\":\"\",\"title\":{\"standoff\":15},\"zerolinecolor\":\"white\",\"automargin\":true,\"zerolinewidth\":2},\"scene\":{\"xaxis\":{\"backgroundcolor\":\"#E5ECF6\",\"gridcolor\":\"white\",\"linecolor\":\"white\",\"showbackground\":true,\"ticks\":\"\",\"zerolinecolor\":\"white\",\"gridwidth\":2},\"yaxis\":{\"backgroundcolor\":\"#E5ECF6\",\"gridcolor\":\"white\",\"linecolor\":\"white\",\"showbackground\":true,\"ticks\":\"\",\"zerolinecolor\":\"white\",\"gridwidth\":2},\"zaxis\":{\"backgroundcolor\":\"#E5ECF6\",\"gridcolor\":\"white\",\"linecolor\":\"white\",\"showbackground\":true,\"ticks\":\"\",\"zerolinecolor\":\"white\",\"gridwidth\":2}},\"shapedefaults\":{\"line\":{\"color\":\"#2a3f5f\"}},\"annotationdefaults\":{\"arrowcolor\":\"#2a3f5f\",\"arrowhead\":0,\"arrowwidth\":1},\"geo\":{\"bgcolor\":\"white\",\"landcolor\":\"#E5ECF6\",\"subunitcolor\":\"white\",\"showland\":true,\"showlakes\":true,\"lakecolor\":\"white\"},\"title\":{\"x\":0.05},\"mapbox\":{\"style\":\"light\"}}},\"xaxis\":{\"anchor\":\"y\",\"domain\":[0.0,1.0],\"title\":{\"text\":\"Ano\"}},\"yaxis\":{\"anchor\":\"x\",\"domain\":[0.0,1.0],\"title\":{\"text\":\"Quantidade de matr\\u00edculas\"}},\"legend\":{\"title\":{\"text\":\"N\\u00edvel de ensino\"},\"tracegroupgap\":0},\"title\":{\"text\":\"Quantidade de matr\\u00edculas por n\\u00edvel de ensino\"}},                        {\"responsive\": true}                    ).then(function(){\n                            \nvar gd = document.getElementById('97e8d22b-1496-481c-9e1b-14ce60b1ff76');\nvar x = new MutationObserver(function (mutations, observer) {{\n        var display = window.getComputedStyle(gd).display;\n        if (!display || display === 'none') {{\n            console.log([gd, 'removed!']);\n            Plotly.purge(gd);\n            observer.disconnect();\n        }}\n}});\n\n// Listen for the removal of the full notebook cells\nvar notebookContainer = gd.closest('#notebook-container');\nif (notebookContainer) {{\n    x.observe(notebookContainer, {childList: true});\n}}\n\n// Listen for the clearing of the current output cell\nvar outputEl = gd.closest('.output');\nif (outputEl) {{\n    x.observe(outputEl, {childList: true});\n}}\n\n                        })                };                });            </script>        </div>"
     },
     "metadata": {},
     "output_type": "display_data"
    }
   ],
   "source": [
    "\n",
    "niveis_ensino = [\n",
    "    'Educação Básica', 'Educação Infantil - creche',\n",
    "    'Educação Infantil - pré-escola', 'Educação Infantil',\n",
    "    'Ensino Fundamental - anos iniciais',\n",
    "    'Ensino Fundamental - anos finais',\n",
    "    'Ensino Fundamental',\n",
    "    # 'Ensino Médio', 'Educação Profissional',\n",
    "    # 'Educação Profissional Técnica',\n",
    "    # 'Educação de Jovens e Adultos (EJA) - Ensino Fundamental',\n",
    "    # 'Educação de Jovens e Adultos (EJA) - Ensino Médio',\n",
    "    # 'Educação de Jovens e Adultos (EJA)',\n",
    "    # 'Educação Especial Inclusiva',\n",
    "    # 'Educação Especial Exclusiva',\n",
    "    'Educação Especial'\n",
    "]\n",
    "\n",
    "# Quantida de matriculas por nivel de ensino\n",
    "quantidade_matriculas_nivel_ensino = con.execute(\"\"\"\n",
    "                select\n",
    "                    NU_ANO_CENSO as 'Ano',\n",
    "                    cast(sum(QT_MAT_BAS) as bigint) as 'Educação Básica',\n",
    "                    cast(sum(QT_MAT_INF_CRE) as bigint) as 'Educação Infantil - creche',\n",
    "                    cast(sum(QT_MAT_INF_PRE) as bigint) as 'Educação Infantil - pré-escola',\n",
    "                    cast(sum(QT_MAT_INF) as bigint) as 'Educação Infantil',\n",
    "                    cast(sum(QT_MAT_FUND_AI) as bigint) as 'Ensino Fundamental - anos iniciais',\n",
    "                    cast(sum(QT_MAT_FUND_AF) as bigint) as 'Ensino Fundamental - anos finais',\n",
    "                    cast(sum(QT_MAT_FUND) as bigint) as 'Ensino Fundamental',\n",
    "                    cast(sum(QT_MAT_MED) as bigint) as 'Ensino Médio',\n",
    "                    cast(sum(QT_MAT_PROF) as bigint) as 'Educação Profissional',\n",
    "                    cast(sum(QT_MAT_PROF_TEC) as bigint) as 'Educação Profissional Técnica',\n",
    "                    cast(sum(QT_MAT_EJA_FUND) as bigint) as 'Educação de Jovens e Adultos (EJA) - Ensino Fundamental',\n",
    "                    cast(sum(QT_MAT_EJA_MED) as bigint) as 'Educação de Jovens e Adultos (EJA) - Ensino Médio',\n",
    "                    cast(sum(QT_MAT_EJA) as bigint) as 'Educação de Jovens e Adultos (EJA)',\n",
    "                    cast(sum(QT_MAT_ESP_CC) as bigint) as 'Educação Especial Inclusiva',\n",
    "                    cast(sum(QT_MAT_ESP_CE) as bigint) as 'Educação Especial Exclusiva',\n",
    "                    cast(sum(QT_MAT_ESP) as bigint) as 'Educação Especial'\n",
    "                from microdados\n",
    "                group by NU_ANO_CENSO\n",
    "                order by 1\n",
    "            \"\"\"\n",
    "                                                 ).df()\n",
    "quantidade_matriculas_nivel_ensino = quantidade_matriculas_nivel_ensino.melt(\n",
    "        id_vars='Ano',\n",
    "        var_name=\"Nível de ensino\",\n",
    "        value_name=\"Quantidade de matrículas\",\n",
    "        value_vars=niveis_ensino\n",
    "     )\n",
    "\n",
    "px.line(\n",
    "    quantidade_matriculas_nivel_ensino,\n",
    "    x='Ano',\n",
    "    y=\"Quantidade de matrículas\",\n",
    "    color=\"Nível de ensino\",\n",
    "    markers=True,\n",
    "    title=\"Quantidade de matrículas por nível de ensino\"\n",
    ")"
   ],
   "metadata": {
    "collapsed": false
   }
  },
  {
   "cell_type": "code",
   "execution_count": 6,
   "outputs": [],
   "source": [
    "# quantidade de matriculas por dependencia\n",
    "DIMENSOES_COMUNS = {\n",
    "    \"Dependência Administrativa\": \"TP_DEPENDENCIA\",\n",
    "    \"Categoria de escola\": \"TP_CATEGORIA_ESCOLA_PRIVADA\",\n",
    "    \"Localização\": \"TP_LOCALIZACAO\",\n",
    "    \"Localização diferenciada da escola\": \"TP_LOCALIZACAO_DIFERENCIADA\"\n",
    "}\n",
    "\n",
    "def get_plot_quantidade_matriculas(dimensao: str) -> (pl.graph_objs.Figure, pd.DataFrame):\n",
    "    df = con.execute(f\"\"\"\n",
    "                    select\n",
    "                        NU_ANO_CENSO as 'Ano',\n",
    "                        {DIMENSOES_COMUNS[dimensao]} as '{dimensao}',\n",
    "                        count(*) as 'Quantidade de matrículas'\n",
    "                    from microdados\n",
    "                    group by NU_ANO_CENSO, {DIMENSOES_COMUNS[dimensao]}\n",
    "                    order by 1, 2\n",
    "                \"\"\"\n",
    "    ).df()\n",
    "    fig = px.bar(\n",
    "        df,\n",
    "        x='Ano',\n",
    "        y=\"Quantidade de matrículas\",\n",
    "        color=dimensao,\n",
    "        title=f\"Quantidade de matrículas por {dimensao.lower()}\"\n",
    "    )\n",
    "    return fig, df"
   ],
   "metadata": {
    "collapsed": false
   }
  },
  {
   "cell_type": "code",
   "execution_count": 7,
   "outputs": [
    {
     "data": {
      "application/vnd.plotly.v1+json": {
       "data": [
        {
         "alignmentgroup": "True",
         "hovertemplate": "Dependência Administrativa=Estadual<br>Ano=%{x}<br>Quantidade de matrículas=%{y}<extra></extra>",
         "legendgroup": "Estadual",
         "marker": {
          "color": "#636efa",
          "pattern": {
           "shape": ""
          }
         },
         "name": "Estadual",
         "offsetgroup": "Estadual",
         "orientation": "v",
         "showlegend": true,
         "textposition": "auto",
         "x": [
          2016,
          2017,
          2018,
          2019,
          2020,
          2021,
          2022
         ],
         "xaxis": "x",
         "y": [
          34522,
          34504,
          34309,
          33901,
          33658,
          33564,
          33460
         ],
         "yaxis": "y",
         "type": "bar"
        },
        {
         "alignmentgroup": "True",
         "hovertemplate": "Dependência Administrativa=Federal<br>Ano=%{x}<br>Quantidade de matrículas=%{y}<extra></extra>",
         "legendgroup": "Federal",
         "marker": {
          "color": "#EF553B",
          "pattern": {
           "shape": ""
          }
         },
         "name": "Federal",
         "offsetgroup": "Federal",
         "orientation": "v",
         "showlegend": true,
         "textposition": "auto",
         "x": [
          2016,
          2017,
          2018,
          2019,
          2020,
          2021,
          2022
         ],
         "xaxis": "x",
         "y": [
          703,
          728,
          752,
          717,
          714,
          714,
          735
         ],
         "yaxis": "y",
         "type": "bar"
        },
        {
         "alignmentgroup": "True",
         "hovertemplate": "Dependência Administrativa=Municipal<br>Ano=%{x}<br>Quantidade de matrículas=%{y}<extra></extra>",
         "legendgroup": "Municipal",
         "marker": {
          "color": "#00cc96",
          "pattern": {
           "shape": ""
          }
         },
         "name": "Municipal",
         "offsetgroup": "Municipal",
         "orientation": "v",
         "showlegend": true,
         "textposition": "auto",
         "x": [
          2016,
          2017,
          2018,
          2019,
          2020,
          2021,
          2022
         ],
         "xaxis": "x",
         "y": [
          150994,
          149399,
          148468,
          141382,
          138033,
          134369,
          132629
         ],
         "yaxis": "y",
         "type": "bar"
        },
        {
         "alignmentgroup": "True",
         "hovertemplate": "Dependência Administrativa=Privada<br>Ano=%{x}<br>Quantidade de matrículas=%{y}<extra></extra>",
         "legendgroup": "Privada",
         "marker": {
          "color": "#ab63fa",
          "pattern": {
           "shape": ""
          }
         },
         "name": "Privada",
         "offsetgroup": "Privada",
         "orientation": "v",
         "showlegend": true,
         "textposition": "auto",
         "x": [
          2016,
          2017,
          2018,
          2019,
          2020,
          2021,
          2022
         ],
         "xaxis": "x",
         "y": [
          51287,
          51850,
          52931,
          52521,
          51824,
          52493,
          57825
         ],
         "yaxis": "y",
         "type": "bar"
        }
       ],
       "layout": {
        "template": {
         "data": {
          "histogram2dcontour": [
           {
            "type": "histogram2dcontour",
            "colorbar": {
             "outlinewidth": 0,
             "ticks": ""
            },
            "colorscale": [
             [
              0.0,
              "#0d0887"
             ],
             [
              0.1111111111111111,
              "#46039f"
             ],
             [
              0.2222222222222222,
              "#7201a8"
             ],
             [
              0.3333333333333333,
              "#9c179e"
             ],
             [
              0.4444444444444444,
              "#bd3786"
             ],
             [
              0.5555555555555556,
              "#d8576b"
             ],
             [
              0.6666666666666666,
              "#ed7953"
             ],
             [
              0.7777777777777778,
              "#fb9f3a"
             ],
             [
              0.8888888888888888,
              "#fdca26"
             ],
             [
              1.0,
              "#f0f921"
             ]
            ]
           }
          ],
          "choropleth": [
           {
            "type": "choropleth",
            "colorbar": {
             "outlinewidth": 0,
             "ticks": ""
            }
           }
          ],
          "histogram2d": [
           {
            "type": "histogram2d",
            "colorbar": {
             "outlinewidth": 0,
             "ticks": ""
            },
            "colorscale": [
             [
              0.0,
              "#0d0887"
             ],
             [
              0.1111111111111111,
              "#46039f"
             ],
             [
              0.2222222222222222,
              "#7201a8"
             ],
             [
              0.3333333333333333,
              "#9c179e"
             ],
             [
              0.4444444444444444,
              "#bd3786"
             ],
             [
              0.5555555555555556,
              "#d8576b"
             ],
             [
              0.6666666666666666,
              "#ed7953"
             ],
             [
              0.7777777777777778,
              "#fb9f3a"
             ],
             [
              0.8888888888888888,
              "#fdca26"
             ],
             [
              1.0,
              "#f0f921"
             ]
            ]
           }
          ],
          "heatmap": [
           {
            "type": "heatmap",
            "colorbar": {
             "outlinewidth": 0,
             "ticks": ""
            },
            "colorscale": [
             [
              0.0,
              "#0d0887"
             ],
             [
              0.1111111111111111,
              "#46039f"
             ],
             [
              0.2222222222222222,
              "#7201a8"
             ],
             [
              0.3333333333333333,
              "#9c179e"
             ],
             [
              0.4444444444444444,
              "#bd3786"
             ],
             [
              0.5555555555555556,
              "#d8576b"
             ],
             [
              0.6666666666666666,
              "#ed7953"
             ],
             [
              0.7777777777777778,
              "#fb9f3a"
             ],
             [
              0.8888888888888888,
              "#fdca26"
             ],
             [
              1.0,
              "#f0f921"
             ]
            ]
           }
          ],
          "heatmapgl": [
           {
            "type": "heatmapgl",
            "colorbar": {
             "outlinewidth": 0,
             "ticks": ""
            },
            "colorscale": [
             [
              0.0,
              "#0d0887"
             ],
             [
              0.1111111111111111,
              "#46039f"
             ],
             [
              0.2222222222222222,
              "#7201a8"
             ],
             [
              0.3333333333333333,
              "#9c179e"
             ],
             [
              0.4444444444444444,
              "#bd3786"
             ],
             [
              0.5555555555555556,
              "#d8576b"
             ],
             [
              0.6666666666666666,
              "#ed7953"
             ],
             [
              0.7777777777777778,
              "#fb9f3a"
             ],
             [
              0.8888888888888888,
              "#fdca26"
             ],
             [
              1.0,
              "#f0f921"
             ]
            ]
           }
          ],
          "contourcarpet": [
           {
            "type": "contourcarpet",
            "colorbar": {
             "outlinewidth": 0,
             "ticks": ""
            }
           }
          ],
          "contour": [
           {
            "type": "contour",
            "colorbar": {
             "outlinewidth": 0,
             "ticks": ""
            },
            "colorscale": [
             [
              0.0,
              "#0d0887"
             ],
             [
              0.1111111111111111,
              "#46039f"
             ],
             [
              0.2222222222222222,
              "#7201a8"
             ],
             [
              0.3333333333333333,
              "#9c179e"
             ],
             [
              0.4444444444444444,
              "#bd3786"
             ],
             [
              0.5555555555555556,
              "#d8576b"
             ],
             [
              0.6666666666666666,
              "#ed7953"
             ],
             [
              0.7777777777777778,
              "#fb9f3a"
             ],
             [
              0.8888888888888888,
              "#fdca26"
             ],
             [
              1.0,
              "#f0f921"
             ]
            ]
           }
          ],
          "surface": [
           {
            "type": "surface",
            "colorbar": {
             "outlinewidth": 0,
             "ticks": ""
            },
            "colorscale": [
             [
              0.0,
              "#0d0887"
             ],
             [
              0.1111111111111111,
              "#46039f"
             ],
             [
              0.2222222222222222,
              "#7201a8"
             ],
             [
              0.3333333333333333,
              "#9c179e"
             ],
             [
              0.4444444444444444,
              "#bd3786"
             ],
             [
              0.5555555555555556,
              "#d8576b"
             ],
             [
              0.6666666666666666,
              "#ed7953"
             ],
             [
              0.7777777777777778,
              "#fb9f3a"
             ],
             [
              0.8888888888888888,
              "#fdca26"
             ],
             [
              1.0,
              "#f0f921"
             ]
            ]
           }
          ],
          "mesh3d": [
           {
            "type": "mesh3d",
            "colorbar": {
             "outlinewidth": 0,
             "ticks": ""
            }
           }
          ],
          "scatter": [
           {
            "fillpattern": {
             "fillmode": "overlay",
             "size": 10,
             "solidity": 0.2
            },
            "type": "scatter"
           }
          ],
          "parcoords": [
           {
            "type": "parcoords",
            "line": {
             "colorbar": {
              "outlinewidth": 0,
              "ticks": ""
             }
            }
           }
          ],
          "scatterpolargl": [
           {
            "type": "scatterpolargl",
            "marker": {
             "colorbar": {
              "outlinewidth": 0,
              "ticks": ""
             }
            }
           }
          ],
          "bar": [
           {
            "error_x": {
             "color": "#2a3f5f"
            },
            "error_y": {
             "color": "#2a3f5f"
            },
            "marker": {
             "line": {
              "color": "#E5ECF6",
              "width": 0.5
             },
             "pattern": {
              "fillmode": "overlay",
              "size": 10,
              "solidity": 0.2
             }
            },
            "type": "bar"
           }
          ],
          "scattergeo": [
           {
            "type": "scattergeo",
            "marker": {
             "colorbar": {
              "outlinewidth": 0,
              "ticks": ""
             }
            }
           }
          ],
          "scatterpolar": [
           {
            "type": "scatterpolar",
            "marker": {
             "colorbar": {
              "outlinewidth": 0,
              "ticks": ""
             }
            }
           }
          ],
          "histogram": [
           {
            "marker": {
             "pattern": {
              "fillmode": "overlay",
              "size": 10,
              "solidity": 0.2
             }
            },
            "type": "histogram"
           }
          ],
          "scattergl": [
           {
            "type": "scattergl",
            "marker": {
             "colorbar": {
              "outlinewidth": 0,
              "ticks": ""
             }
            }
           }
          ],
          "scatter3d": [
           {
            "type": "scatter3d",
            "line": {
             "colorbar": {
              "outlinewidth": 0,
              "ticks": ""
             }
            },
            "marker": {
             "colorbar": {
              "outlinewidth": 0,
              "ticks": ""
             }
            }
           }
          ],
          "scattermapbox": [
           {
            "type": "scattermapbox",
            "marker": {
             "colorbar": {
              "outlinewidth": 0,
              "ticks": ""
             }
            }
           }
          ],
          "scatterternary": [
           {
            "type": "scatterternary",
            "marker": {
             "colorbar": {
              "outlinewidth": 0,
              "ticks": ""
             }
            }
           }
          ],
          "scattercarpet": [
           {
            "type": "scattercarpet",
            "marker": {
             "colorbar": {
              "outlinewidth": 0,
              "ticks": ""
             }
            }
           }
          ],
          "carpet": [
           {
            "aaxis": {
             "endlinecolor": "#2a3f5f",
             "gridcolor": "white",
             "linecolor": "white",
             "minorgridcolor": "white",
             "startlinecolor": "#2a3f5f"
            },
            "baxis": {
             "endlinecolor": "#2a3f5f",
             "gridcolor": "white",
             "linecolor": "white",
             "minorgridcolor": "white",
             "startlinecolor": "#2a3f5f"
            },
            "type": "carpet"
           }
          ],
          "table": [
           {
            "cells": {
             "fill": {
              "color": "#EBF0F8"
             },
             "line": {
              "color": "white"
             }
            },
            "header": {
             "fill": {
              "color": "#C8D4E3"
             },
             "line": {
              "color": "white"
             }
            },
            "type": "table"
           }
          ],
          "barpolar": [
           {
            "marker": {
             "line": {
              "color": "#E5ECF6",
              "width": 0.5
             },
             "pattern": {
              "fillmode": "overlay",
              "size": 10,
              "solidity": 0.2
             }
            },
            "type": "barpolar"
           }
          ],
          "pie": [
           {
            "automargin": true,
            "type": "pie"
           }
          ]
         },
         "layout": {
          "autotypenumbers": "strict",
          "colorway": [
           "#636efa",
           "#EF553B",
           "#00cc96",
           "#ab63fa",
           "#FFA15A",
           "#19d3f3",
           "#FF6692",
           "#B6E880",
           "#FF97FF",
           "#FECB52"
          ],
          "font": {
           "color": "#2a3f5f"
          },
          "hovermode": "closest",
          "hoverlabel": {
           "align": "left"
          },
          "paper_bgcolor": "white",
          "plot_bgcolor": "#E5ECF6",
          "polar": {
           "bgcolor": "#E5ECF6",
           "angularaxis": {
            "gridcolor": "white",
            "linecolor": "white",
            "ticks": ""
           },
           "radialaxis": {
            "gridcolor": "white",
            "linecolor": "white",
            "ticks": ""
           }
          },
          "ternary": {
           "bgcolor": "#E5ECF6",
           "aaxis": {
            "gridcolor": "white",
            "linecolor": "white",
            "ticks": ""
           },
           "baxis": {
            "gridcolor": "white",
            "linecolor": "white",
            "ticks": ""
           },
           "caxis": {
            "gridcolor": "white",
            "linecolor": "white",
            "ticks": ""
           }
          },
          "coloraxis": {
           "colorbar": {
            "outlinewidth": 0,
            "ticks": ""
           }
          },
          "colorscale": {
           "sequential": [
            [
             0.0,
             "#0d0887"
            ],
            [
             0.1111111111111111,
             "#46039f"
            ],
            [
             0.2222222222222222,
             "#7201a8"
            ],
            [
             0.3333333333333333,
             "#9c179e"
            ],
            [
             0.4444444444444444,
             "#bd3786"
            ],
            [
             0.5555555555555556,
             "#d8576b"
            ],
            [
             0.6666666666666666,
             "#ed7953"
            ],
            [
             0.7777777777777778,
             "#fb9f3a"
            ],
            [
             0.8888888888888888,
             "#fdca26"
            ],
            [
             1.0,
             "#f0f921"
            ]
           ],
           "sequentialminus": [
            [
             0.0,
             "#0d0887"
            ],
            [
             0.1111111111111111,
             "#46039f"
            ],
            [
             0.2222222222222222,
             "#7201a8"
            ],
            [
             0.3333333333333333,
             "#9c179e"
            ],
            [
             0.4444444444444444,
             "#bd3786"
            ],
            [
             0.5555555555555556,
             "#d8576b"
            ],
            [
             0.6666666666666666,
             "#ed7953"
            ],
            [
             0.7777777777777778,
             "#fb9f3a"
            ],
            [
             0.8888888888888888,
             "#fdca26"
            ],
            [
             1.0,
             "#f0f921"
            ]
           ],
           "diverging": [
            [
             0,
             "#8e0152"
            ],
            [
             0.1,
             "#c51b7d"
            ],
            [
             0.2,
             "#de77ae"
            ],
            [
             0.3,
             "#f1b6da"
            ],
            [
             0.4,
             "#fde0ef"
            ],
            [
             0.5,
             "#f7f7f7"
            ],
            [
             0.6,
             "#e6f5d0"
            ],
            [
             0.7,
             "#b8e186"
            ],
            [
             0.8,
             "#7fbc41"
            ],
            [
             0.9,
             "#4d9221"
            ],
            [
             1,
             "#276419"
            ]
           ]
          },
          "xaxis": {
           "gridcolor": "white",
           "linecolor": "white",
           "ticks": "",
           "title": {
            "standoff": 15
           },
           "zerolinecolor": "white",
           "automargin": true,
           "zerolinewidth": 2
          },
          "yaxis": {
           "gridcolor": "white",
           "linecolor": "white",
           "ticks": "",
           "title": {
            "standoff": 15
           },
           "zerolinecolor": "white",
           "automargin": true,
           "zerolinewidth": 2
          },
          "scene": {
           "xaxis": {
            "backgroundcolor": "#E5ECF6",
            "gridcolor": "white",
            "linecolor": "white",
            "showbackground": true,
            "ticks": "",
            "zerolinecolor": "white",
            "gridwidth": 2
           },
           "yaxis": {
            "backgroundcolor": "#E5ECF6",
            "gridcolor": "white",
            "linecolor": "white",
            "showbackground": true,
            "ticks": "",
            "zerolinecolor": "white",
            "gridwidth": 2
           },
           "zaxis": {
            "backgroundcolor": "#E5ECF6",
            "gridcolor": "white",
            "linecolor": "white",
            "showbackground": true,
            "ticks": "",
            "zerolinecolor": "white",
            "gridwidth": 2
           }
          },
          "shapedefaults": {
           "line": {
            "color": "#2a3f5f"
           }
          },
          "annotationdefaults": {
           "arrowcolor": "#2a3f5f",
           "arrowhead": 0,
           "arrowwidth": 1
          },
          "geo": {
           "bgcolor": "white",
           "landcolor": "#E5ECF6",
           "subunitcolor": "white",
           "showland": true,
           "showlakes": true,
           "lakecolor": "white"
          },
          "title": {
           "x": 0.05
          },
          "mapbox": {
           "style": "light"
          }
         }
        },
        "xaxis": {
         "anchor": "y",
         "domain": [
          0.0,
          1.0
         ],
         "title": {
          "text": "Ano"
         }
        },
        "yaxis": {
         "anchor": "x",
         "domain": [
          0.0,
          1.0
         ],
         "title": {
          "text": "Quantidade de matrículas"
         }
        },
        "legend": {
         "title": {
          "text": "Dependência Administrativa"
         },
         "tracegroupgap": 0
        },
        "title": {
         "text": "Quantidade de matrículas por dependência administrativa"
        },
        "barmode": "relative"
       },
       "config": {
        "plotlyServerURL": "https://plot.ly"
       }
      },
      "text/html": "<div>                            <div id=\"5e9de5e7-a763-4c60-bc71-6aa86385a7b6\" class=\"plotly-graph-div\" style=\"height:525px; width:100%;\"></div>            <script type=\"text/javascript\">                require([\"plotly\"], function(Plotly) {                    window.PLOTLYENV=window.PLOTLYENV || {};                                    if (document.getElementById(\"5e9de5e7-a763-4c60-bc71-6aa86385a7b6\")) {                    Plotly.newPlot(                        \"5e9de5e7-a763-4c60-bc71-6aa86385a7b6\",                        [{\"alignmentgroup\":\"True\",\"hovertemplate\":\"Depend\\u00eancia Administrativa=Estadual<br>Ano=%{x}<br>Quantidade de matr\\u00edculas=%{y}<extra></extra>\",\"legendgroup\":\"Estadual\",\"marker\":{\"color\":\"#636efa\",\"pattern\":{\"shape\":\"\"}},\"name\":\"Estadual\",\"offsetgroup\":\"Estadual\",\"orientation\":\"v\",\"showlegend\":true,\"textposition\":\"auto\",\"x\":[2016,2017,2018,2019,2020,2021,2022],\"xaxis\":\"x\",\"y\":[34522,34504,34309,33901,33658,33564,33460],\"yaxis\":\"y\",\"type\":\"bar\"},{\"alignmentgroup\":\"True\",\"hovertemplate\":\"Depend\\u00eancia Administrativa=Federal<br>Ano=%{x}<br>Quantidade de matr\\u00edculas=%{y}<extra></extra>\",\"legendgroup\":\"Federal\",\"marker\":{\"color\":\"#EF553B\",\"pattern\":{\"shape\":\"\"}},\"name\":\"Federal\",\"offsetgroup\":\"Federal\",\"orientation\":\"v\",\"showlegend\":true,\"textposition\":\"auto\",\"x\":[2016,2017,2018,2019,2020,2021,2022],\"xaxis\":\"x\",\"y\":[703,728,752,717,714,714,735],\"yaxis\":\"y\",\"type\":\"bar\"},{\"alignmentgroup\":\"True\",\"hovertemplate\":\"Depend\\u00eancia Administrativa=Municipal<br>Ano=%{x}<br>Quantidade de matr\\u00edculas=%{y}<extra></extra>\",\"legendgroup\":\"Municipal\",\"marker\":{\"color\":\"#00cc96\",\"pattern\":{\"shape\":\"\"}},\"name\":\"Municipal\",\"offsetgroup\":\"Municipal\",\"orientation\":\"v\",\"showlegend\":true,\"textposition\":\"auto\",\"x\":[2016,2017,2018,2019,2020,2021,2022],\"xaxis\":\"x\",\"y\":[150994,149399,148468,141382,138033,134369,132629],\"yaxis\":\"y\",\"type\":\"bar\"},{\"alignmentgroup\":\"True\",\"hovertemplate\":\"Depend\\u00eancia Administrativa=Privada<br>Ano=%{x}<br>Quantidade de matr\\u00edculas=%{y}<extra></extra>\",\"legendgroup\":\"Privada\",\"marker\":{\"color\":\"#ab63fa\",\"pattern\":{\"shape\":\"\"}},\"name\":\"Privada\",\"offsetgroup\":\"Privada\",\"orientation\":\"v\",\"showlegend\":true,\"textposition\":\"auto\",\"x\":[2016,2017,2018,2019,2020,2021,2022],\"xaxis\":\"x\",\"y\":[51287,51850,52931,52521,51824,52493,57825],\"yaxis\":\"y\",\"type\":\"bar\"}],                        {\"template\":{\"data\":{\"histogram2dcontour\":[{\"type\":\"histogram2dcontour\",\"colorbar\":{\"outlinewidth\":0,\"ticks\":\"\"},\"colorscale\":[[0.0,\"#0d0887\"],[0.1111111111111111,\"#46039f\"],[0.2222222222222222,\"#7201a8\"],[0.3333333333333333,\"#9c179e\"],[0.4444444444444444,\"#bd3786\"],[0.5555555555555556,\"#d8576b\"],[0.6666666666666666,\"#ed7953\"],[0.7777777777777778,\"#fb9f3a\"],[0.8888888888888888,\"#fdca26\"],[1.0,\"#f0f921\"]]}],\"choropleth\":[{\"type\":\"choropleth\",\"colorbar\":{\"outlinewidth\":0,\"ticks\":\"\"}}],\"histogram2d\":[{\"type\":\"histogram2d\",\"colorbar\":{\"outlinewidth\":0,\"ticks\":\"\"},\"colorscale\":[[0.0,\"#0d0887\"],[0.1111111111111111,\"#46039f\"],[0.2222222222222222,\"#7201a8\"],[0.3333333333333333,\"#9c179e\"],[0.4444444444444444,\"#bd3786\"],[0.5555555555555556,\"#d8576b\"],[0.6666666666666666,\"#ed7953\"],[0.7777777777777778,\"#fb9f3a\"],[0.8888888888888888,\"#fdca26\"],[1.0,\"#f0f921\"]]}],\"heatmap\":[{\"type\":\"heatmap\",\"colorbar\":{\"outlinewidth\":0,\"ticks\":\"\"},\"colorscale\":[[0.0,\"#0d0887\"],[0.1111111111111111,\"#46039f\"],[0.2222222222222222,\"#7201a8\"],[0.3333333333333333,\"#9c179e\"],[0.4444444444444444,\"#bd3786\"],[0.5555555555555556,\"#d8576b\"],[0.6666666666666666,\"#ed7953\"],[0.7777777777777778,\"#fb9f3a\"],[0.8888888888888888,\"#fdca26\"],[1.0,\"#f0f921\"]]}],\"heatmapgl\":[{\"type\":\"heatmapgl\",\"colorbar\":{\"outlinewidth\":0,\"ticks\":\"\"},\"colorscale\":[[0.0,\"#0d0887\"],[0.1111111111111111,\"#46039f\"],[0.2222222222222222,\"#7201a8\"],[0.3333333333333333,\"#9c179e\"],[0.4444444444444444,\"#bd3786\"],[0.5555555555555556,\"#d8576b\"],[0.6666666666666666,\"#ed7953\"],[0.7777777777777778,\"#fb9f3a\"],[0.8888888888888888,\"#fdca26\"],[1.0,\"#f0f921\"]]}],\"contourcarpet\":[{\"type\":\"contourcarpet\",\"colorbar\":{\"outlinewidth\":0,\"ticks\":\"\"}}],\"contour\":[{\"type\":\"contour\",\"colorbar\":{\"outlinewidth\":0,\"ticks\":\"\"},\"colorscale\":[[0.0,\"#0d0887\"],[0.1111111111111111,\"#46039f\"],[0.2222222222222222,\"#7201a8\"],[0.3333333333333333,\"#9c179e\"],[0.4444444444444444,\"#bd3786\"],[0.5555555555555556,\"#d8576b\"],[0.6666666666666666,\"#ed7953\"],[0.7777777777777778,\"#fb9f3a\"],[0.8888888888888888,\"#fdca26\"],[1.0,\"#f0f921\"]]}],\"surface\":[{\"type\":\"surface\",\"colorbar\":{\"outlinewidth\":0,\"ticks\":\"\"},\"colorscale\":[[0.0,\"#0d0887\"],[0.1111111111111111,\"#46039f\"],[0.2222222222222222,\"#7201a8\"],[0.3333333333333333,\"#9c179e\"],[0.4444444444444444,\"#bd3786\"],[0.5555555555555556,\"#d8576b\"],[0.6666666666666666,\"#ed7953\"],[0.7777777777777778,\"#fb9f3a\"],[0.8888888888888888,\"#fdca26\"],[1.0,\"#f0f921\"]]}],\"mesh3d\":[{\"type\":\"mesh3d\",\"colorbar\":{\"outlinewidth\":0,\"ticks\":\"\"}}],\"scatter\":[{\"fillpattern\":{\"fillmode\":\"overlay\",\"size\":10,\"solidity\":0.2},\"type\":\"scatter\"}],\"parcoords\":[{\"type\":\"parcoords\",\"line\":{\"colorbar\":{\"outlinewidth\":0,\"ticks\":\"\"}}}],\"scatterpolargl\":[{\"type\":\"scatterpolargl\",\"marker\":{\"colorbar\":{\"outlinewidth\":0,\"ticks\":\"\"}}}],\"bar\":[{\"error_x\":{\"color\":\"#2a3f5f\"},\"error_y\":{\"color\":\"#2a3f5f\"},\"marker\":{\"line\":{\"color\":\"#E5ECF6\",\"width\":0.5},\"pattern\":{\"fillmode\":\"overlay\",\"size\":10,\"solidity\":0.2}},\"type\":\"bar\"}],\"scattergeo\":[{\"type\":\"scattergeo\",\"marker\":{\"colorbar\":{\"outlinewidth\":0,\"ticks\":\"\"}}}],\"scatterpolar\":[{\"type\":\"scatterpolar\",\"marker\":{\"colorbar\":{\"outlinewidth\":0,\"ticks\":\"\"}}}],\"histogram\":[{\"marker\":{\"pattern\":{\"fillmode\":\"overlay\",\"size\":10,\"solidity\":0.2}},\"type\":\"histogram\"}],\"scattergl\":[{\"type\":\"scattergl\",\"marker\":{\"colorbar\":{\"outlinewidth\":0,\"ticks\":\"\"}}}],\"scatter3d\":[{\"type\":\"scatter3d\",\"line\":{\"colorbar\":{\"outlinewidth\":0,\"ticks\":\"\"}},\"marker\":{\"colorbar\":{\"outlinewidth\":0,\"ticks\":\"\"}}}],\"scattermapbox\":[{\"type\":\"scattermapbox\",\"marker\":{\"colorbar\":{\"outlinewidth\":0,\"ticks\":\"\"}}}],\"scatterternary\":[{\"type\":\"scatterternary\",\"marker\":{\"colorbar\":{\"outlinewidth\":0,\"ticks\":\"\"}}}],\"scattercarpet\":[{\"type\":\"scattercarpet\",\"marker\":{\"colorbar\":{\"outlinewidth\":0,\"ticks\":\"\"}}}],\"carpet\":[{\"aaxis\":{\"endlinecolor\":\"#2a3f5f\",\"gridcolor\":\"white\",\"linecolor\":\"white\",\"minorgridcolor\":\"white\",\"startlinecolor\":\"#2a3f5f\"},\"baxis\":{\"endlinecolor\":\"#2a3f5f\",\"gridcolor\":\"white\",\"linecolor\":\"white\",\"minorgridcolor\":\"white\",\"startlinecolor\":\"#2a3f5f\"},\"type\":\"carpet\"}],\"table\":[{\"cells\":{\"fill\":{\"color\":\"#EBF0F8\"},\"line\":{\"color\":\"white\"}},\"header\":{\"fill\":{\"color\":\"#C8D4E3\"},\"line\":{\"color\":\"white\"}},\"type\":\"table\"}],\"barpolar\":[{\"marker\":{\"line\":{\"color\":\"#E5ECF6\",\"width\":0.5},\"pattern\":{\"fillmode\":\"overlay\",\"size\":10,\"solidity\":0.2}},\"type\":\"barpolar\"}],\"pie\":[{\"automargin\":true,\"type\":\"pie\"}]},\"layout\":{\"autotypenumbers\":\"strict\",\"colorway\":[\"#636efa\",\"#EF553B\",\"#00cc96\",\"#ab63fa\",\"#FFA15A\",\"#19d3f3\",\"#FF6692\",\"#B6E880\",\"#FF97FF\",\"#FECB52\"],\"font\":{\"color\":\"#2a3f5f\"},\"hovermode\":\"closest\",\"hoverlabel\":{\"align\":\"left\"},\"paper_bgcolor\":\"white\",\"plot_bgcolor\":\"#E5ECF6\",\"polar\":{\"bgcolor\":\"#E5ECF6\",\"angularaxis\":{\"gridcolor\":\"white\",\"linecolor\":\"white\",\"ticks\":\"\"},\"radialaxis\":{\"gridcolor\":\"white\",\"linecolor\":\"white\",\"ticks\":\"\"}},\"ternary\":{\"bgcolor\":\"#E5ECF6\",\"aaxis\":{\"gridcolor\":\"white\",\"linecolor\":\"white\",\"ticks\":\"\"},\"baxis\":{\"gridcolor\":\"white\",\"linecolor\":\"white\",\"ticks\":\"\"},\"caxis\":{\"gridcolor\":\"white\",\"linecolor\":\"white\",\"ticks\":\"\"}},\"coloraxis\":{\"colorbar\":{\"outlinewidth\":0,\"ticks\":\"\"}},\"colorscale\":{\"sequential\":[[0.0,\"#0d0887\"],[0.1111111111111111,\"#46039f\"],[0.2222222222222222,\"#7201a8\"],[0.3333333333333333,\"#9c179e\"],[0.4444444444444444,\"#bd3786\"],[0.5555555555555556,\"#d8576b\"],[0.6666666666666666,\"#ed7953\"],[0.7777777777777778,\"#fb9f3a\"],[0.8888888888888888,\"#fdca26\"],[1.0,\"#f0f921\"]],\"sequentialminus\":[[0.0,\"#0d0887\"],[0.1111111111111111,\"#46039f\"],[0.2222222222222222,\"#7201a8\"],[0.3333333333333333,\"#9c179e\"],[0.4444444444444444,\"#bd3786\"],[0.5555555555555556,\"#d8576b\"],[0.6666666666666666,\"#ed7953\"],[0.7777777777777778,\"#fb9f3a\"],[0.8888888888888888,\"#fdca26\"],[1.0,\"#f0f921\"]],\"diverging\":[[0,\"#8e0152\"],[0.1,\"#c51b7d\"],[0.2,\"#de77ae\"],[0.3,\"#f1b6da\"],[0.4,\"#fde0ef\"],[0.5,\"#f7f7f7\"],[0.6,\"#e6f5d0\"],[0.7,\"#b8e186\"],[0.8,\"#7fbc41\"],[0.9,\"#4d9221\"],[1,\"#276419\"]]},\"xaxis\":{\"gridcolor\":\"white\",\"linecolor\":\"white\",\"ticks\":\"\",\"title\":{\"standoff\":15},\"zerolinecolor\":\"white\",\"automargin\":true,\"zerolinewidth\":2},\"yaxis\":{\"gridcolor\":\"white\",\"linecolor\":\"white\",\"ticks\":\"\",\"title\":{\"standoff\":15},\"zerolinecolor\":\"white\",\"automargin\":true,\"zerolinewidth\":2},\"scene\":{\"xaxis\":{\"backgroundcolor\":\"#E5ECF6\",\"gridcolor\":\"white\",\"linecolor\":\"white\",\"showbackground\":true,\"ticks\":\"\",\"zerolinecolor\":\"white\",\"gridwidth\":2},\"yaxis\":{\"backgroundcolor\":\"#E5ECF6\",\"gridcolor\":\"white\",\"linecolor\":\"white\",\"showbackground\":true,\"ticks\":\"\",\"zerolinecolor\":\"white\",\"gridwidth\":2},\"zaxis\":{\"backgroundcolor\":\"#E5ECF6\",\"gridcolor\":\"white\",\"linecolor\":\"white\",\"showbackground\":true,\"ticks\":\"\",\"zerolinecolor\":\"white\",\"gridwidth\":2}},\"shapedefaults\":{\"line\":{\"color\":\"#2a3f5f\"}},\"annotationdefaults\":{\"arrowcolor\":\"#2a3f5f\",\"arrowhead\":0,\"arrowwidth\":1},\"geo\":{\"bgcolor\":\"white\",\"landcolor\":\"#E5ECF6\",\"subunitcolor\":\"white\",\"showland\":true,\"showlakes\":true,\"lakecolor\":\"white\"},\"title\":{\"x\":0.05},\"mapbox\":{\"style\":\"light\"}}},\"xaxis\":{\"anchor\":\"y\",\"domain\":[0.0,1.0],\"title\":{\"text\":\"Ano\"}},\"yaxis\":{\"anchor\":\"x\",\"domain\":[0.0,1.0],\"title\":{\"text\":\"Quantidade de matr\\u00edculas\"}},\"legend\":{\"title\":{\"text\":\"Depend\\u00eancia Administrativa\"},\"tracegroupgap\":0},\"title\":{\"text\":\"Quantidade de matr\\u00edculas por depend\\u00eancia administrativa\"},\"barmode\":\"relative\"},                        {\"responsive\": true}                    ).then(function(){\n                            \nvar gd = document.getElementById('5e9de5e7-a763-4c60-bc71-6aa86385a7b6');\nvar x = new MutationObserver(function (mutations, observer) {{\n        var display = window.getComputedStyle(gd).display;\n        if (!display || display === 'none') {{\n            console.log([gd, 'removed!']);\n            Plotly.purge(gd);\n            observer.disconnect();\n        }}\n}});\n\n// Listen for the removal of the full notebook cells\nvar notebookContainer = gd.closest('#notebook-container');\nif (notebookContainer) {{\n    x.observe(notebookContainer, {childList: true});\n}}\n\n// Listen for the clearing of the current output cell\nvar outputEl = gd.closest('.output');\nif (outputEl) {{\n    x.observe(outputEl, {childList: true});\n}}\n\n                        })                };                });            </script>        </div>"
     },
     "metadata": {},
     "output_type": "display_data"
    }
   ],
   "source": [
    "fig, df = get_plot_quantidade_matriculas(\"Dependência Administrativa\")\n",
    "fig"
   ],
   "metadata": {
    "collapsed": false
   }
  },
  {
   "cell_type": "code",
   "execution_count": 8,
   "outputs": [
    {
     "data": {
      "application/vnd.plotly.v1+json": {
       "data": [
        {
         "alignmentgroup": "True",
         "hovertemplate": "Categoria de escola=Comunitária<br>Ano=%{x}<br>Quantidade de matrículas=%{y}<extra></extra>",
         "legendgroup": "Comunitária",
         "marker": {
          "color": "#636efa",
          "pattern": {
           "shape": ""
          }
         },
         "name": "Comunitária",
         "offsetgroup": "Comunitária",
         "orientation": "v",
         "showlegend": true,
         "textposition": "auto",
         "x": [
          2016,
          2017,
          2018,
          2019,
          2020,
          2021,
          2022
         ],
         "xaxis": "x",
         "y": [
          2205,
          1662,
          2066,
          2097,
          2046,
          2067,
          2004
         ],
         "yaxis": "y",
         "type": "bar"
        },
        {
         "alignmentgroup": "True",
         "hovertemplate": "Categoria de escola=Confessional<br>Ano=%{x}<br>Quantidade de matrículas=%{y}<extra></extra>",
         "legendgroup": "Confessional",
         "marker": {
          "color": "#EF553B",
          "pattern": {
           "shape": ""
          }
         },
         "name": "Confessional",
         "offsetgroup": "Confessional",
         "orientation": "v",
         "showlegend": true,
         "textposition": "auto",
         "x": [
          2016,
          2017,
          2018,
          2019,
          2020,
          2021,
          2022
         ],
         "xaxis": "x",
         "y": [
          217,
          612,
          243,
          304,
          323,
          325,
          321
         ],
         "yaxis": "y",
         "type": "bar"
        },
        {
         "alignmentgroup": "True",
         "hovertemplate": "Categoria de escola=Filantrópica<br>Ano=%{x}<br>Quantidade de matrículas=%{y}<extra></extra>",
         "legendgroup": "Filantrópica",
         "marker": {
          "color": "#00cc96",
          "pattern": {
           "shape": ""
          }
         },
         "name": "Filantrópica",
         "offsetgroup": "Filantrópica",
         "orientation": "v",
         "showlegend": true,
         "textposition": "auto",
         "x": [
          2016,
          2017,
          2018,
          2019,
          2020,
          2021,
          2022
         ],
         "xaxis": "x",
         "y": [
          7581,
          7670,
          7668,
          7837,
          7965,
          7993,
          8260
         ],
         "yaxis": "y",
         "type": "bar"
        },
        {
         "alignmentgroup": "True",
         "hovertemplate": "Categoria de escola=Particular<br>Ano=%{x}<br>Quantidade de matrículas=%{y}<extra></extra>",
         "legendgroup": "Particular",
         "marker": {
          "color": "#ab63fa",
          "pattern": {
           "shape": ""
          }
         },
         "name": "Particular",
         "offsetgroup": "Particular",
         "orientation": "v",
         "showlegend": true,
         "textposition": "auto",
         "x": [
          2016,
          2017,
          2018,
          2019,
          2020,
          2021,
          2022
         ],
         "xaxis": "x",
         "y": [
          30713,
          30791,
          31396,
          31988,
          31429,
          30869,
          31174
         ],
         "yaxis": "y",
         "type": "bar"
        },
        {
         "alignmentgroup": "True",
         "hovertemplate": "Categoria de escola=Pública<br>Ano=%{x}<br>Quantidade de matrículas=%{y}<extra></extra>",
         "legendgroup": "Pública",
         "marker": {
          "color": "#FFA15A",
          "pattern": {
           "shape": ""
          }
         },
         "name": "Pública",
         "offsetgroup": "Pública",
         "orientation": "v",
         "showlegend": true,
         "textposition": "auto",
         "x": [
          2016,
          2017,
          2018,
          2019,
          2020,
          2021,
          2022
         ],
         "xaxis": "x",
         "y": [
          196790,
          195746,
          195087,
          186295,
          182466,
          179886,
          182890
         ],
         "yaxis": "y",
         "type": "bar"
        }
       ],
       "layout": {
        "template": {
         "data": {
          "histogram2dcontour": [
           {
            "type": "histogram2dcontour",
            "colorbar": {
             "outlinewidth": 0,
             "ticks": ""
            },
            "colorscale": [
             [
              0.0,
              "#0d0887"
             ],
             [
              0.1111111111111111,
              "#46039f"
             ],
             [
              0.2222222222222222,
              "#7201a8"
             ],
             [
              0.3333333333333333,
              "#9c179e"
             ],
             [
              0.4444444444444444,
              "#bd3786"
             ],
             [
              0.5555555555555556,
              "#d8576b"
             ],
             [
              0.6666666666666666,
              "#ed7953"
             ],
             [
              0.7777777777777778,
              "#fb9f3a"
             ],
             [
              0.8888888888888888,
              "#fdca26"
             ],
             [
              1.0,
              "#f0f921"
             ]
            ]
           }
          ],
          "choropleth": [
           {
            "type": "choropleth",
            "colorbar": {
             "outlinewidth": 0,
             "ticks": ""
            }
           }
          ],
          "histogram2d": [
           {
            "type": "histogram2d",
            "colorbar": {
             "outlinewidth": 0,
             "ticks": ""
            },
            "colorscale": [
             [
              0.0,
              "#0d0887"
             ],
             [
              0.1111111111111111,
              "#46039f"
             ],
             [
              0.2222222222222222,
              "#7201a8"
             ],
             [
              0.3333333333333333,
              "#9c179e"
             ],
             [
              0.4444444444444444,
              "#bd3786"
             ],
             [
              0.5555555555555556,
              "#d8576b"
             ],
             [
              0.6666666666666666,
              "#ed7953"
             ],
             [
              0.7777777777777778,
              "#fb9f3a"
             ],
             [
              0.8888888888888888,
              "#fdca26"
             ],
             [
              1.0,
              "#f0f921"
             ]
            ]
           }
          ],
          "heatmap": [
           {
            "type": "heatmap",
            "colorbar": {
             "outlinewidth": 0,
             "ticks": ""
            },
            "colorscale": [
             [
              0.0,
              "#0d0887"
             ],
             [
              0.1111111111111111,
              "#46039f"
             ],
             [
              0.2222222222222222,
              "#7201a8"
             ],
             [
              0.3333333333333333,
              "#9c179e"
             ],
             [
              0.4444444444444444,
              "#bd3786"
             ],
             [
              0.5555555555555556,
              "#d8576b"
             ],
             [
              0.6666666666666666,
              "#ed7953"
             ],
             [
              0.7777777777777778,
              "#fb9f3a"
             ],
             [
              0.8888888888888888,
              "#fdca26"
             ],
             [
              1.0,
              "#f0f921"
             ]
            ]
           }
          ],
          "heatmapgl": [
           {
            "type": "heatmapgl",
            "colorbar": {
             "outlinewidth": 0,
             "ticks": ""
            },
            "colorscale": [
             [
              0.0,
              "#0d0887"
             ],
             [
              0.1111111111111111,
              "#46039f"
             ],
             [
              0.2222222222222222,
              "#7201a8"
             ],
             [
              0.3333333333333333,
              "#9c179e"
             ],
             [
              0.4444444444444444,
              "#bd3786"
             ],
             [
              0.5555555555555556,
              "#d8576b"
             ],
             [
              0.6666666666666666,
              "#ed7953"
             ],
             [
              0.7777777777777778,
              "#fb9f3a"
             ],
             [
              0.8888888888888888,
              "#fdca26"
             ],
             [
              1.0,
              "#f0f921"
             ]
            ]
           }
          ],
          "contourcarpet": [
           {
            "type": "contourcarpet",
            "colorbar": {
             "outlinewidth": 0,
             "ticks": ""
            }
           }
          ],
          "contour": [
           {
            "type": "contour",
            "colorbar": {
             "outlinewidth": 0,
             "ticks": ""
            },
            "colorscale": [
             [
              0.0,
              "#0d0887"
             ],
             [
              0.1111111111111111,
              "#46039f"
             ],
             [
              0.2222222222222222,
              "#7201a8"
             ],
             [
              0.3333333333333333,
              "#9c179e"
             ],
             [
              0.4444444444444444,
              "#bd3786"
             ],
             [
              0.5555555555555556,
              "#d8576b"
             ],
             [
              0.6666666666666666,
              "#ed7953"
             ],
             [
              0.7777777777777778,
              "#fb9f3a"
             ],
             [
              0.8888888888888888,
              "#fdca26"
             ],
             [
              1.0,
              "#f0f921"
             ]
            ]
           }
          ],
          "surface": [
           {
            "type": "surface",
            "colorbar": {
             "outlinewidth": 0,
             "ticks": ""
            },
            "colorscale": [
             [
              0.0,
              "#0d0887"
             ],
             [
              0.1111111111111111,
              "#46039f"
             ],
             [
              0.2222222222222222,
              "#7201a8"
             ],
             [
              0.3333333333333333,
              "#9c179e"
             ],
             [
              0.4444444444444444,
              "#bd3786"
             ],
             [
              0.5555555555555556,
              "#d8576b"
             ],
             [
              0.6666666666666666,
              "#ed7953"
             ],
             [
              0.7777777777777778,
              "#fb9f3a"
             ],
             [
              0.8888888888888888,
              "#fdca26"
             ],
             [
              1.0,
              "#f0f921"
             ]
            ]
           }
          ],
          "mesh3d": [
           {
            "type": "mesh3d",
            "colorbar": {
             "outlinewidth": 0,
             "ticks": ""
            }
           }
          ],
          "scatter": [
           {
            "fillpattern": {
             "fillmode": "overlay",
             "size": 10,
             "solidity": 0.2
            },
            "type": "scatter"
           }
          ],
          "parcoords": [
           {
            "type": "parcoords",
            "line": {
             "colorbar": {
              "outlinewidth": 0,
              "ticks": ""
             }
            }
           }
          ],
          "scatterpolargl": [
           {
            "type": "scatterpolargl",
            "marker": {
             "colorbar": {
              "outlinewidth": 0,
              "ticks": ""
             }
            }
           }
          ],
          "bar": [
           {
            "error_x": {
             "color": "#2a3f5f"
            },
            "error_y": {
             "color": "#2a3f5f"
            },
            "marker": {
             "line": {
              "color": "#E5ECF6",
              "width": 0.5
             },
             "pattern": {
              "fillmode": "overlay",
              "size": 10,
              "solidity": 0.2
             }
            },
            "type": "bar"
           }
          ],
          "scattergeo": [
           {
            "type": "scattergeo",
            "marker": {
             "colorbar": {
              "outlinewidth": 0,
              "ticks": ""
             }
            }
           }
          ],
          "scatterpolar": [
           {
            "type": "scatterpolar",
            "marker": {
             "colorbar": {
              "outlinewidth": 0,
              "ticks": ""
             }
            }
           }
          ],
          "histogram": [
           {
            "marker": {
             "pattern": {
              "fillmode": "overlay",
              "size": 10,
              "solidity": 0.2
             }
            },
            "type": "histogram"
           }
          ],
          "scattergl": [
           {
            "type": "scattergl",
            "marker": {
             "colorbar": {
              "outlinewidth": 0,
              "ticks": ""
             }
            }
           }
          ],
          "scatter3d": [
           {
            "type": "scatter3d",
            "line": {
             "colorbar": {
              "outlinewidth": 0,
              "ticks": ""
             }
            },
            "marker": {
             "colorbar": {
              "outlinewidth": 0,
              "ticks": ""
             }
            }
           }
          ],
          "scattermapbox": [
           {
            "type": "scattermapbox",
            "marker": {
             "colorbar": {
              "outlinewidth": 0,
              "ticks": ""
             }
            }
           }
          ],
          "scatterternary": [
           {
            "type": "scatterternary",
            "marker": {
             "colorbar": {
              "outlinewidth": 0,
              "ticks": ""
             }
            }
           }
          ],
          "scattercarpet": [
           {
            "type": "scattercarpet",
            "marker": {
             "colorbar": {
              "outlinewidth": 0,
              "ticks": ""
             }
            }
           }
          ],
          "carpet": [
           {
            "aaxis": {
             "endlinecolor": "#2a3f5f",
             "gridcolor": "white",
             "linecolor": "white",
             "minorgridcolor": "white",
             "startlinecolor": "#2a3f5f"
            },
            "baxis": {
             "endlinecolor": "#2a3f5f",
             "gridcolor": "white",
             "linecolor": "white",
             "minorgridcolor": "white",
             "startlinecolor": "#2a3f5f"
            },
            "type": "carpet"
           }
          ],
          "table": [
           {
            "cells": {
             "fill": {
              "color": "#EBF0F8"
             },
             "line": {
              "color": "white"
             }
            },
            "header": {
             "fill": {
              "color": "#C8D4E3"
             },
             "line": {
              "color": "white"
             }
            },
            "type": "table"
           }
          ],
          "barpolar": [
           {
            "marker": {
             "line": {
              "color": "#E5ECF6",
              "width": 0.5
             },
             "pattern": {
              "fillmode": "overlay",
              "size": 10,
              "solidity": 0.2
             }
            },
            "type": "barpolar"
           }
          ],
          "pie": [
           {
            "automargin": true,
            "type": "pie"
           }
          ]
         },
         "layout": {
          "autotypenumbers": "strict",
          "colorway": [
           "#636efa",
           "#EF553B",
           "#00cc96",
           "#ab63fa",
           "#FFA15A",
           "#19d3f3",
           "#FF6692",
           "#B6E880",
           "#FF97FF",
           "#FECB52"
          ],
          "font": {
           "color": "#2a3f5f"
          },
          "hovermode": "closest",
          "hoverlabel": {
           "align": "left"
          },
          "paper_bgcolor": "white",
          "plot_bgcolor": "#E5ECF6",
          "polar": {
           "bgcolor": "#E5ECF6",
           "angularaxis": {
            "gridcolor": "white",
            "linecolor": "white",
            "ticks": ""
           },
           "radialaxis": {
            "gridcolor": "white",
            "linecolor": "white",
            "ticks": ""
           }
          },
          "ternary": {
           "bgcolor": "#E5ECF6",
           "aaxis": {
            "gridcolor": "white",
            "linecolor": "white",
            "ticks": ""
           },
           "baxis": {
            "gridcolor": "white",
            "linecolor": "white",
            "ticks": ""
           },
           "caxis": {
            "gridcolor": "white",
            "linecolor": "white",
            "ticks": ""
           }
          },
          "coloraxis": {
           "colorbar": {
            "outlinewidth": 0,
            "ticks": ""
           }
          },
          "colorscale": {
           "sequential": [
            [
             0.0,
             "#0d0887"
            ],
            [
             0.1111111111111111,
             "#46039f"
            ],
            [
             0.2222222222222222,
             "#7201a8"
            ],
            [
             0.3333333333333333,
             "#9c179e"
            ],
            [
             0.4444444444444444,
             "#bd3786"
            ],
            [
             0.5555555555555556,
             "#d8576b"
            ],
            [
             0.6666666666666666,
             "#ed7953"
            ],
            [
             0.7777777777777778,
             "#fb9f3a"
            ],
            [
             0.8888888888888888,
             "#fdca26"
            ],
            [
             1.0,
             "#f0f921"
            ]
           ],
           "sequentialminus": [
            [
             0.0,
             "#0d0887"
            ],
            [
             0.1111111111111111,
             "#46039f"
            ],
            [
             0.2222222222222222,
             "#7201a8"
            ],
            [
             0.3333333333333333,
             "#9c179e"
            ],
            [
             0.4444444444444444,
             "#bd3786"
            ],
            [
             0.5555555555555556,
             "#d8576b"
            ],
            [
             0.6666666666666666,
             "#ed7953"
            ],
            [
             0.7777777777777778,
             "#fb9f3a"
            ],
            [
             0.8888888888888888,
             "#fdca26"
            ],
            [
             1.0,
             "#f0f921"
            ]
           ],
           "diverging": [
            [
             0,
             "#8e0152"
            ],
            [
             0.1,
             "#c51b7d"
            ],
            [
             0.2,
             "#de77ae"
            ],
            [
             0.3,
             "#f1b6da"
            ],
            [
             0.4,
             "#fde0ef"
            ],
            [
             0.5,
             "#f7f7f7"
            ],
            [
             0.6,
             "#e6f5d0"
            ],
            [
             0.7,
             "#b8e186"
            ],
            [
             0.8,
             "#7fbc41"
            ],
            [
             0.9,
             "#4d9221"
            ],
            [
             1,
             "#276419"
            ]
           ]
          },
          "xaxis": {
           "gridcolor": "white",
           "linecolor": "white",
           "ticks": "",
           "title": {
            "standoff": 15
           },
           "zerolinecolor": "white",
           "automargin": true,
           "zerolinewidth": 2
          },
          "yaxis": {
           "gridcolor": "white",
           "linecolor": "white",
           "ticks": "",
           "title": {
            "standoff": 15
           },
           "zerolinecolor": "white",
           "automargin": true,
           "zerolinewidth": 2
          },
          "scene": {
           "xaxis": {
            "backgroundcolor": "#E5ECF6",
            "gridcolor": "white",
            "linecolor": "white",
            "showbackground": true,
            "ticks": "",
            "zerolinecolor": "white",
            "gridwidth": 2
           },
           "yaxis": {
            "backgroundcolor": "#E5ECF6",
            "gridcolor": "white",
            "linecolor": "white",
            "showbackground": true,
            "ticks": "",
            "zerolinecolor": "white",
            "gridwidth": 2
           },
           "zaxis": {
            "backgroundcolor": "#E5ECF6",
            "gridcolor": "white",
            "linecolor": "white",
            "showbackground": true,
            "ticks": "",
            "zerolinecolor": "white",
            "gridwidth": 2
           }
          },
          "shapedefaults": {
           "line": {
            "color": "#2a3f5f"
           }
          },
          "annotationdefaults": {
           "arrowcolor": "#2a3f5f",
           "arrowhead": 0,
           "arrowwidth": 1
          },
          "geo": {
           "bgcolor": "white",
           "landcolor": "#E5ECF6",
           "subunitcolor": "white",
           "showland": true,
           "showlakes": true,
           "lakecolor": "white"
          },
          "title": {
           "x": 0.05
          },
          "mapbox": {
           "style": "light"
          }
         }
        },
        "xaxis": {
         "anchor": "y",
         "domain": [
          0.0,
          1.0
         ],
         "title": {
          "text": "Ano"
         }
        },
        "yaxis": {
         "anchor": "x",
         "domain": [
          0.0,
          1.0
         ],
         "title": {
          "text": "Quantidade de matrículas"
         }
        },
        "legend": {
         "title": {
          "text": "Categoria de escola"
         },
         "tracegroupgap": 0
        },
        "title": {
         "text": "Quantidade de matrículas por categoria de escola"
        },
        "barmode": "relative"
       },
       "config": {
        "plotlyServerURL": "https://plot.ly"
       }
      },
      "text/html": "<div>                            <div id=\"ecdecd2d-682c-483c-82e5-f15902187cdb\" class=\"plotly-graph-div\" style=\"height:525px; width:100%;\"></div>            <script type=\"text/javascript\">                require([\"plotly\"], function(Plotly) {                    window.PLOTLYENV=window.PLOTLYENV || {};                                    if (document.getElementById(\"ecdecd2d-682c-483c-82e5-f15902187cdb\")) {                    Plotly.newPlot(                        \"ecdecd2d-682c-483c-82e5-f15902187cdb\",                        [{\"alignmentgroup\":\"True\",\"hovertemplate\":\"Categoria de escola=Comunit\\u00e1ria<br>Ano=%{x}<br>Quantidade de matr\\u00edculas=%{y}<extra></extra>\",\"legendgroup\":\"Comunit\\u00e1ria\",\"marker\":{\"color\":\"#636efa\",\"pattern\":{\"shape\":\"\"}},\"name\":\"Comunit\\u00e1ria\",\"offsetgroup\":\"Comunit\\u00e1ria\",\"orientation\":\"v\",\"showlegend\":true,\"textposition\":\"auto\",\"x\":[2016,2017,2018,2019,2020,2021,2022],\"xaxis\":\"x\",\"y\":[2205,1662,2066,2097,2046,2067,2004],\"yaxis\":\"y\",\"type\":\"bar\"},{\"alignmentgroup\":\"True\",\"hovertemplate\":\"Categoria de escola=Confessional<br>Ano=%{x}<br>Quantidade de matr\\u00edculas=%{y}<extra></extra>\",\"legendgroup\":\"Confessional\",\"marker\":{\"color\":\"#EF553B\",\"pattern\":{\"shape\":\"\"}},\"name\":\"Confessional\",\"offsetgroup\":\"Confessional\",\"orientation\":\"v\",\"showlegend\":true,\"textposition\":\"auto\",\"x\":[2016,2017,2018,2019,2020,2021,2022],\"xaxis\":\"x\",\"y\":[217,612,243,304,323,325,321],\"yaxis\":\"y\",\"type\":\"bar\"},{\"alignmentgroup\":\"True\",\"hovertemplate\":\"Categoria de escola=Filantr\\u00f3pica<br>Ano=%{x}<br>Quantidade de matr\\u00edculas=%{y}<extra></extra>\",\"legendgroup\":\"Filantr\\u00f3pica\",\"marker\":{\"color\":\"#00cc96\",\"pattern\":{\"shape\":\"\"}},\"name\":\"Filantr\\u00f3pica\",\"offsetgroup\":\"Filantr\\u00f3pica\",\"orientation\":\"v\",\"showlegend\":true,\"textposition\":\"auto\",\"x\":[2016,2017,2018,2019,2020,2021,2022],\"xaxis\":\"x\",\"y\":[7581,7670,7668,7837,7965,7993,8260],\"yaxis\":\"y\",\"type\":\"bar\"},{\"alignmentgroup\":\"True\",\"hovertemplate\":\"Categoria de escola=Particular<br>Ano=%{x}<br>Quantidade de matr\\u00edculas=%{y}<extra></extra>\",\"legendgroup\":\"Particular\",\"marker\":{\"color\":\"#ab63fa\",\"pattern\":{\"shape\":\"\"}},\"name\":\"Particular\",\"offsetgroup\":\"Particular\",\"orientation\":\"v\",\"showlegend\":true,\"textposition\":\"auto\",\"x\":[2016,2017,2018,2019,2020,2021,2022],\"xaxis\":\"x\",\"y\":[30713,30791,31396,31988,31429,30869,31174],\"yaxis\":\"y\",\"type\":\"bar\"},{\"alignmentgroup\":\"True\",\"hovertemplate\":\"Categoria de escola=P\\u00fablica<br>Ano=%{x}<br>Quantidade de matr\\u00edculas=%{y}<extra></extra>\",\"legendgroup\":\"P\\u00fablica\",\"marker\":{\"color\":\"#FFA15A\",\"pattern\":{\"shape\":\"\"}},\"name\":\"P\\u00fablica\",\"offsetgroup\":\"P\\u00fablica\",\"orientation\":\"v\",\"showlegend\":true,\"textposition\":\"auto\",\"x\":[2016,2017,2018,2019,2020,2021,2022],\"xaxis\":\"x\",\"y\":[196790,195746,195087,186295,182466,179886,182890],\"yaxis\":\"y\",\"type\":\"bar\"}],                        {\"template\":{\"data\":{\"histogram2dcontour\":[{\"type\":\"histogram2dcontour\",\"colorbar\":{\"outlinewidth\":0,\"ticks\":\"\"},\"colorscale\":[[0.0,\"#0d0887\"],[0.1111111111111111,\"#46039f\"],[0.2222222222222222,\"#7201a8\"],[0.3333333333333333,\"#9c179e\"],[0.4444444444444444,\"#bd3786\"],[0.5555555555555556,\"#d8576b\"],[0.6666666666666666,\"#ed7953\"],[0.7777777777777778,\"#fb9f3a\"],[0.8888888888888888,\"#fdca26\"],[1.0,\"#f0f921\"]]}],\"choropleth\":[{\"type\":\"choropleth\",\"colorbar\":{\"outlinewidth\":0,\"ticks\":\"\"}}],\"histogram2d\":[{\"type\":\"histogram2d\",\"colorbar\":{\"outlinewidth\":0,\"ticks\":\"\"},\"colorscale\":[[0.0,\"#0d0887\"],[0.1111111111111111,\"#46039f\"],[0.2222222222222222,\"#7201a8\"],[0.3333333333333333,\"#9c179e\"],[0.4444444444444444,\"#bd3786\"],[0.5555555555555556,\"#d8576b\"],[0.6666666666666666,\"#ed7953\"],[0.7777777777777778,\"#fb9f3a\"],[0.8888888888888888,\"#fdca26\"],[1.0,\"#f0f921\"]]}],\"heatmap\":[{\"type\":\"heatmap\",\"colorbar\":{\"outlinewidth\":0,\"ticks\":\"\"},\"colorscale\":[[0.0,\"#0d0887\"],[0.1111111111111111,\"#46039f\"],[0.2222222222222222,\"#7201a8\"],[0.3333333333333333,\"#9c179e\"],[0.4444444444444444,\"#bd3786\"],[0.5555555555555556,\"#d8576b\"],[0.6666666666666666,\"#ed7953\"],[0.7777777777777778,\"#fb9f3a\"],[0.8888888888888888,\"#fdca26\"],[1.0,\"#f0f921\"]]}],\"heatmapgl\":[{\"type\":\"heatmapgl\",\"colorbar\":{\"outlinewidth\":0,\"ticks\":\"\"},\"colorscale\":[[0.0,\"#0d0887\"],[0.1111111111111111,\"#46039f\"],[0.2222222222222222,\"#7201a8\"],[0.3333333333333333,\"#9c179e\"],[0.4444444444444444,\"#bd3786\"],[0.5555555555555556,\"#d8576b\"],[0.6666666666666666,\"#ed7953\"],[0.7777777777777778,\"#fb9f3a\"],[0.8888888888888888,\"#fdca26\"],[1.0,\"#f0f921\"]]}],\"contourcarpet\":[{\"type\":\"contourcarpet\",\"colorbar\":{\"outlinewidth\":0,\"ticks\":\"\"}}],\"contour\":[{\"type\":\"contour\",\"colorbar\":{\"outlinewidth\":0,\"ticks\":\"\"},\"colorscale\":[[0.0,\"#0d0887\"],[0.1111111111111111,\"#46039f\"],[0.2222222222222222,\"#7201a8\"],[0.3333333333333333,\"#9c179e\"],[0.4444444444444444,\"#bd3786\"],[0.5555555555555556,\"#d8576b\"],[0.6666666666666666,\"#ed7953\"],[0.7777777777777778,\"#fb9f3a\"],[0.8888888888888888,\"#fdca26\"],[1.0,\"#f0f921\"]]}],\"surface\":[{\"type\":\"surface\",\"colorbar\":{\"outlinewidth\":0,\"ticks\":\"\"},\"colorscale\":[[0.0,\"#0d0887\"],[0.1111111111111111,\"#46039f\"],[0.2222222222222222,\"#7201a8\"],[0.3333333333333333,\"#9c179e\"],[0.4444444444444444,\"#bd3786\"],[0.5555555555555556,\"#d8576b\"],[0.6666666666666666,\"#ed7953\"],[0.7777777777777778,\"#fb9f3a\"],[0.8888888888888888,\"#fdca26\"],[1.0,\"#f0f921\"]]}],\"mesh3d\":[{\"type\":\"mesh3d\",\"colorbar\":{\"outlinewidth\":0,\"ticks\":\"\"}}],\"scatter\":[{\"fillpattern\":{\"fillmode\":\"overlay\",\"size\":10,\"solidity\":0.2},\"type\":\"scatter\"}],\"parcoords\":[{\"type\":\"parcoords\",\"line\":{\"colorbar\":{\"outlinewidth\":0,\"ticks\":\"\"}}}],\"scatterpolargl\":[{\"type\":\"scatterpolargl\",\"marker\":{\"colorbar\":{\"outlinewidth\":0,\"ticks\":\"\"}}}],\"bar\":[{\"error_x\":{\"color\":\"#2a3f5f\"},\"error_y\":{\"color\":\"#2a3f5f\"},\"marker\":{\"line\":{\"color\":\"#E5ECF6\",\"width\":0.5},\"pattern\":{\"fillmode\":\"overlay\",\"size\":10,\"solidity\":0.2}},\"type\":\"bar\"}],\"scattergeo\":[{\"type\":\"scattergeo\",\"marker\":{\"colorbar\":{\"outlinewidth\":0,\"ticks\":\"\"}}}],\"scatterpolar\":[{\"type\":\"scatterpolar\",\"marker\":{\"colorbar\":{\"outlinewidth\":0,\"ticks\":\"\"}}}],\"histogram\":[{\"marker\":{\"pattern\":{\"fillmode\":\"overlay\",\"size\":10,\"solidity\":0.2}},\"type\":\"histogram\"}],\"scattergl\":[{\"type\":\"scattergl\",\"marker\":{\"colorbar\":{\"outlinewidth\":0,\"ticks\":\"\"}}}],\"scatter3d\":[{\"type\":\"scatter3d\",\"line\":{\"colorbar\":{\"outlinewidth\":0,\"ticks\":\"\"}},\"marker\":{\"colorbar\":{\"outlinewidth\":0,\"ticks\":\"\"}}}],\"scattermapbox\":[{\"type\":\"scattermapbox\",\"marker\":{\"colorbar\":{\"outlinewidth\":0,\"ticks\":\"\"}}}],\"scatterternary\":[{\"type\":\"scatterternary\",\"marker\":{\"colorbar\":{\"outlinewidth\":0,\"ticks\":\"\"}}}],\"scattercarpet\":[{\"type\":\"scattercarpet\",\"marker\":{\"colorbar\":{\"outlinewidth\":0,\"ticks\":\"\"}}}],\"carpet\":[{\"aaxis\":{\"endlinecolor\":\"#2a3f5f\",\"gridcolor\":\"white\",\"linecolor\":\"white\",\"minorgridcolor\":\"white\",\"startlinecolor\":\"#2a3f5f\"},\"baxis\":{\"endlinecolor\":\"#2a3f5f\",\"gridcolor\":\"white\",\"linecolor\":\"white\",\"minorgridcolor\":\"white\",\"startlinecolor\":\"#2a3f5f\"},\"type\":\"carpet\"}],\"table\":[{\"cells\":{\"fill\":{\"color\":\"#EBF0F8\"},\"line\":{\"color\":\"white\"}},\"header\":{\"fill\":{\"color\":\"#C8D4E3\"},\"line\":{\"color\":\"white\"}},\"type\":\"table\"}],\"barpolar\":[{\"marker\":{\"line\":{\"color\":\"#E5ECF6\",\"width\":0.5},\"pattern\":{\"fillmode\":\"overlay\",\"size\":10,\"solidity\":0.2}},\"type\":\"barpolar\"}],\"pie\":[{\"automargin\":true,\"type\":\"pie\"}]},\"layout\":{\"autotypenumbers\":\"strict\",\"colorway\":[\"#636efa\",\"#EF553B\",\"#00cc96\",\"#ab63fa\",\"#FFA15A\",\"#19d3f3\",\"#FF6692\",\"#B6E880\",\"#FF97FF\",\"#FECB52\"],\"font\":{\"color\":\"#2a3f5f\"},\"hovermode\":\"closest\",\"hoverlabel\":{\"align\":\"left\"},\"paper_bgcolor\":\"white\",\"plot_bgcolor\":\"#E5ECF6\",\"polar\":{\"bgcolor\":\"#E5ECF6\",\"angularaxis\":{\"gridcolor\":\"white\",\"linecolor\":\"white\",\"ticks\":\"\"},\"radialaxis\":{\"gridcolor\":\"white\",\"linecolor\":\"white\",\"ticks\":\"\"}},\"ternary\":{\"bgcolor\":\"#E5ECF6\",\"aaxis\":{\"gridcolor\":\"white\",\"linecolor\":\"white\",\"ticks\":\"\"},\"baxis\":{\"gridcolor\":\"white\",\"linecolor\":\"white\",\"ticks\":\"\"},\"caxis\":{\"gridcolor\":\"white\",\"linecolor\":\"white\",\"ticks\":\"\"}},\"coloraxis\":{\"colorbar\":{\"outlinewidth\":0,\"ticks\":\"\"}},\"colorscale\":{\"sequential\":[[0.0,\"#0d0887\"],[0.1111111111111111,\"#46039f\"],[0.2222222222222222,\"#7201a8\"],[0.3333333333333333,\"#9c179e\"],[0.4444444444444444,\"#bd3786\"],[0.5555555555555556,\"#d8576b\"],[0.6666666666666666,\"#ed7953\"],[0.7777777777777778,\"#fb9f3a\"],[0.8888888888888888,\"#fdca26\"],[1.0,\"#f0f921\"]],\"sequentialminus\":[[0.0,\"#0d0887\"],[0.1111111111111111,\"#46039f\"],[0.2222222222222222,\"#7201a8\"],[0.3333333333333333,\"#9c179e\"],[0.4444444444444444,\"#bd3786\"],[0.5555555555555556,\"#d8576b\"],[0.6666666666666666,\"#ed7953\"],[0.7777777777777778,\"#fb9f3a\"],[0.8888888888888888,\"#fdca26\"],[1.0,\"#f0f921\"]],\"diverging\":[[0,\"#8e0152\"],[0.1,\"#c51b7d\"],[0.2,\"#de77ae\"],[0.3,\"#f1b6da\"],[0.4,\"#fde0ef\"],[0.5,\"#f7f7f7\"],[0.6,\"#e6f5d0\"],[0.7,\"#b8e186\"],[0.8,\"#7fbc41\"],[0.9,\"#4d9221\"],[1,\"#276419\"]]},\"xaxis\":{\"gridcolor\":\"white\",\"linecolor\":\"white\",\"ticks\":\"\",\"title\":{\"standoff\":15},\"zerolinecolor\":\"white\",\"automargin\":true,\"zerolinewidth\":2},\"yaxis\":{\"gridcolor\":\"white\",\"linecolor\":\"white\",\"ticks\":\"\",\"title\":{\"standoff\":15},\"zerolinecolor\":\"white\",\"automargin\":true,\"zerolinewidth\":2},\"scene\":{\"xaxis\":{\"backgroundcolor\":\"#E5ECF6\",\"gridcolor\":\"white\",\"linecolor\":\"white\",\"showbackground\":true,\"ticks\":\"\",\"zerolinecolor\":\"white\",\"gridwidth\":2},\"yaxis\":{\"backgroundcolor\":\"#E5ECF6\",\"gridcolor\":\"white\",\"linecolor\":\"white\",\"showbackground\":true,\"ticks\":\"\",\"zerolinecolor\":\"white\",\"gridwidth\":2},\"zaxis\":{\"backgroundcolor\":\"#E5ECF6\",\"gridcolor\":\"white\",\"linecolor\":\"white\",\"showbackground\":true,\"ticks\":\"\",\"zerolinecolor\":\"white\",\"gridwidth\":2}},\"shapedefaults\":{\"line\":{\"color\":\"#2a3f5f\"}},\"annotationdefaults\":{\"arrowcolor\":\"#2a3f5f\",\"arrowhead\":0,\"arrowwidth\":1},\"geo\":{\"bgcolor\":\"white\",\"landcolor\":\"#E5ECF6\",\"subunitcolor\":\"white\",\"showland\":true,\"showlakes\":true,\"lakecolor\":\"white\"},\"title\":{\"x\":0.05},\"mapbox\":{\"style\":\"light\"}}},\"xaxis\":{\"anchor\":\"y\",\"domain\":[0.0,1.0],\"title\":{\"text\":\"Ano\"}},\"yaxis\":{\"anchor\":\"x\",\"domain\":[0.0,1.0],\"title\":{\"text\":\"Quantidade de matr\\u00edculas\"}},\"legend\":{\"title\":{\"text\":\"Categoria de escola\"},\"tracegroupgap\":0},\"title\":{\"text\":\"Quantidade de matr\\u00edculas por categoria de escola\"},\"barmode\":\"relative\"},                        {\"responsive\": true}                    ).then(function(){\n                            \nvar gd = document.getElementById('ecdecd2d-682c-483c-82e5-f15902187cdb');\nvar x = new MutationObserver(function (mutations, observer) {{\n        var display = window.getComputedStyle(gd).display;\n        if (!display || display === 'none') {{\n            console.log([gd, 'removed!']);\n            Plotly.purge(gd);\n            observer.disconnect();\n        }}\n}});\n\n// Listen for the removal of the full notebook cells\nvar notebookContainer = gd.closest('#notebook-container');\nif (notebookContainer) {{\n    x.observe(notebookContainer, {childList: true});\n}}\n\n// Listen for the clearing of the current output cell\nvar outputEl = gd.closest('.output');\nif (outputEl) {{\n    x.observe(outputEl, {childList: true});\n}}\n\n                        })                };                });            </script>        </div>"
     },
     "metadata": {},
     "output_type": "display_data"
    }
   ],
   "source": [
    "fig, df = get_plot_quantidade_matriculas(\"Categoria de escola\")\n",
    "fig"
   ],
   "metadata": {
    "collapsed": false
   }
  },
  {
   "cell_type": "code",
   "execution_count": 9,
   "outputs": [
    {
     "data": {
      "application/vnd.plotly.v1+json": {
       "data": [
        {
         "alignmentgroup": "True",
         "hovertemplate": "Localização=Rural<br>Ano=%{x}<br>Quantidade de matrículas=%{y}<extra></extra>",
         "legendgroup": "Rural",
         "marker": {
          "color": "#636efa",
          "pattern": {
           "shape": ""
          }
         },
         "name": "Rural",
         "offsetgroup": "Rural",
         "orientation": "v",
         "showlegend": true,
         "textposition": "auto",
         "x": [
          2016,
          2017,
          2018,
          2019,
          2020,
          2021,
          2022
         ],
         "xaxis": "x",
         "y": [
          96493,
          94336,
          92648,
          85324,
          81614,
          77888,
          75723
         ],
         "yaxis": "y",
         "type": "bar"
        },
        {
         "alignmentgroup": "True",
         "hovertemplate": "Localização=Urbana<br>Ano=%{x}<br>Quantidade de matrículas=%{y}<extra></extra>",
         "legendgroup": "Urbana",
         "marker": {
          "color": "#EF553B",
          "pattern": {
           "shape": ""
          }
         },
         "name": "Urbana",
         "offsetgroup": "Urbana",
         "orientation": "v",
         "showlegend": true,
         "textposition": "auto",
         "x": [
          2016,
          2017,
          2018,
          2019,
          2020,
          2021,
          2022
         ],
         "xaxis": "x",
         "y": [
          141013,
          142145,
          143812,
          143197,
          142615,
          143252,
          148926
         ],
         "yaxis": "y",
         "type": "bar"
        }
       ],
       "layout": {
        "template": {
         "data": {
          "histogram2dcontour": [
           {
            "type": "histogram2dcontour",
            "colorbar": {
             "outlinewidth": 0,
             "ticks": ""
            },
            "colorscale": [
             [
              0.0,
              "#0d0887"
             ],
             [
              0.1111111111111111,
              "#46039f"
             ],
             [
              0.2222222222222222,
              "#7201a8"
             ],
             [
              0.3333333333333333,
              "#9c179e"
             ],
             [
              0.4444444444444444,
              "#bd3786"
             ],
             [
              0.5555555555555556,
              "#d8576b"
             ],
             [
              0.6666666666666666,
              "#ed7953"
             ],
             [
              0.7777777777777778,
              "#fb9f3a"
             ],
             [
              0.8888888888888888,
              "#fdca26"
             ],
             [
              1.0,
              "#f0f921"
             ]
            ]
           }
          ],
          "choropleth": [
           {
            "type": "choropleth",
            "colorbar": {
             "outlinewidth": 0,
             "ticks": ""
            }
           }
          ],
          "histogram2d": [
           {
            "type": "histogram2d",
            "colorbar": {
             "outlinewidth": 0,
             "ticks": ""
            },
            "colorscale": [
             [
              0.0,
              "#0d0887"
             ],
             [
              0.1111111111111111,
              "#46039f"
             ],
             [
              0.2222222222222222,
              "#7201a8"
             ],
             [
              0.3333333333333333,
              "#9c179e"
             ],
             [
              0.4444444444444444,
              "#bd3786"
             ],
             [
              0.5555555555555556,
              "#d8576b"
             ],
             [
              0.6666666666666666,
              "#ed7953"
             ],
             [
              0.7777777777777778,
              "#fb9f3a"
             ],
             [
              0.8888888888888888,
              "#fdca26"
             ],
             [
              1.0,
              "#f0f921"
             ]
            ]
           }
          ],
          "heatmap": [
           {
            "type": "heatmap",
            "colorbar": {
             "outlinewidth": 0,
             "ticks": ""
            },
            "colorscale": [
             [
              0.0,
              "#0d0887"
             ],
             [
              0.1111111111111111,
              "#46039f"
             ],
             [
              0.2222222222222222,
              "#7201a8"
             ],
             [
              0.3333333333333333,
              "#9c179e"
             ],
             [
              0.4444444444444444,
              "#bd3786"
             ],
             [
              0.5555555555555556,
              "#d8576b"
             ],
             [
              0.6666666666666666,
              "#ed7953"
             ],
             [
              0.7777777777777778,
              "#fb9f3a"
             ],
             [
              0.8888888888888888,
              "#fdca26"
             ],
             [
              1.0,
              "#f0f921"
             ]
            ]
           }
          ],
          "heatmapgl": [
           {
            "type": "heatmapgl",
            "colorbar": {
             "outlinewidth": 0,
             "ticks": ""
            },
            "colorscale": [
             [
              0.0,
              "#0d0887"
             ],
             [
              0.1111111111111111,
              "#46039f"
             ],
             [
              0.2222222222222222,
              "#7201a8"
             ],
             [
              0.3333333333333333,
              "#9c179e"
             ],
             [
              0.4444444444444444,
              "#bd3786"
             ],
             [
              0.5555555555555556,
              "#d8576b"
             ],
             [
              0.6666666666666666,
              "#ed7953"
             ],
             [
              0.7777777777777778,
              "#fb9f3a"
             ],
             [
              0.8888888888888888,
              "#fdca26"
             ],
             [
              1.0,
              "#f0f921"
             ]
            ]
           }
          ],
          "contourcarpet": [
           {
            "type": "contourcarpet",
            "colorbar": {
             "outlinewidth": 0,
             "ticks": ""
            }
           }
          ],
          "contour": [
           {
            "type": "contour",
            "colorbar": {
             "outlinewidth": 0,
             "ticks": ""
            },
            "colorscale": [
             [
              0.0,
              "#0d0887"
             ],
             [
              0.1111111111111111,
              "#46039f"
             ],
             [
              0.2222222222222222,
              "#7201a8"
             ],
             [
              0.3333333333333333,
              "#9c179e"
             ],
             [
              0.4444444444444444,
              "#bd3786"
             ],
             [
              0.5555555555555556,
              "#d8576b"
             ],
             [
              0.6666666666666666,
              "#ed7953"
             ],
             [
              0.7777777777777778,
              "#fb9f3a"
             ],
             [
              0.8888888888888888,
              "#fdca26"
             ],
             [
              1.0,
              "#f0f921"
             ]
            ]
           }
          ],
          "surface": [
           {
            "type": "surface",
            "colorbar": {
             "outlinewidth": 0,
             "ticks": ""
            },
            "colorscale": [
             [
              0.0,
              "#0d0887"
             ],
             [
              0.1111111111111111,
              "#46039f"
             ],
             [
              0.2222222222222222,
              "#7201a8"
             ],
             [
              0.3333333333333333,
              "#9c179e"
             ],
             [
              0.4444444444444444,
              "#bd3786"
             ],
             [
              0.5555555555555556,
              "#d8576b"
             ],
             [
              0.6666666666666666,
              "#ed7953"
             ],
             [
              0.7777777777777778,
              "#fb9f3a"
             ],
             [
              0.8888888888888888,
              "#fdca26"
             ],
             [
              1.0,
              "#f0f921"
             ]
            ]
           }
          ],
          "mesh3d": [
           {
            "type": "mesh3d",
            "colorbar": {
             "outlinewidth": 0,
             "ticks": ""
            }
           }
          ],
          "scatter": [
           {
            "fillpattern": {
             "fillmode": "overlay",
             "size": 10,
             "solidity": 0.2
            },
            "type": "scatter"
           }
          ],
          "parcoords": [
           {
            "type": "parcoords",
            "line": {
             "colorbar": {
              "outlinewidth": 0,
              "ticks": ""
             }
            }
           }
          ],
          "scatterpolargl": [
           {
            "type": "scatterpolargl",
            "marker": {
             "colorbar": {
              "outlinewidth": 0,
              "ticks": ""
             }
            }
           }
          ],
          "bar": [
           {
            "error_x": {
             "color": "#2a3f5f"
            },
            "error_y": {
             "color": "#2a3f5f"
            },
            "marker": {
             "line": {
              "color": "#E5ECF6",
              "width": 0.5
             },
             "pattern": {
              "fillmode": "overlay",
              "size": 10,
              "solidity": 0.2
             }
            },
            "type": "bar"
           }
          ],
          "scattergeo": [
           {
            "type": "scattergeo",
            "marker": {
             "colorbar": {
              "outlinewidth": 0,
              "ticks": ""
             }
            }
           }
          ],
          "scatterpolar": [
           {
            "type": "scatterpolar",
            "marker": {
             "colorbar": {
              "outlinewidth": 0,
              "ticks": ""
             }
            }
           }
          ],
          "histogram": [
           {
            "marker": {
             "pattern": {
              "fillmode": "overlay",
              "size": 10,
              "solidity": 0.2
             }
            },
            "type": "histogram"
           }
          ],
          "scattergl": [
           {
            "type": "scattergl",
            "marker": {
             "colorbar": {
              "outlinewidth": 0,
              "ticks": ""
             }
            }
           }
          ],
          "scatter3d": [
           {
            "type": "scatter3d",
            "line": {
             "colorbar": {
              "outlinewidth": 0,
              "ticks": ""
             }
            },
            "marker": {
             "colorbar": {
              "outlinewidth": 0,
              "ticks": ""
             }
            }
           }
          ],
          "scattermapbox": [
           {
            "type": "scattermapbox",
            "marker": {
             "colorbar": {
              "outlinewidth": 0,
              "ticks": ""
             }
            }
           }
          ],
          "scatterternary": [
           {
            "type": "scatterternary",
            "marker": {
             "colorbar": {
              "outlinewidth": 0,
              "ticks": ""
             }
            }
           }
          ],
          "scattercarpet": [
           {
            "type": "scattercarpet",
            "marker": {
             "colorbar": {
              "outlinewidth": 0,
              "ticks": ""
             }
            }
           }
          ],
          "carpet": [
           {
            "aaxis": {
             "endlinecolor": "#2a3f5f",
             "gridcolor": "white",
             "linecolor": "white",
             "minorgridcolor": "white",
             "startlinecolor": "#2a3f5f"
            },
            "baxis": {
             "endlinecolor": "#2a3f5f",
             "gridcolor": "white",
             "linecolor": "white",
             "minorgridcolor": "white",
             "startlinecolor": "#2a3f5f"
            },
            "type": "carpet"
           }
          ],
          "table": [
           {
            "cells": {
             "fill": {
              "color": "#EBF0F8"
             },
             "line": {
              "color": "white"
             }
            },
            "header": {
             "fill": {
              "color": "#C8D4E3"
             },
             "line": {
              "color": "white"
             }
            },
            "type": "table"
           }
          ],
          "barpolar": [
           {
            "marker": {
             "line": {
              "color": "#E5ECF6",
              "width": 0.5
             },
             "pattern": {
              "fillmode": "overlay",
              "size": 10,
              "solidity": 0.2
             }
            },
            "type": "barpolar"
           }
          ],
          "pie": [
           {
            "automargin": true,
            "type": "pie"
           }
          ]
         },
         "layout": {
          "autotypenumbers": "strict",
          "colorway": [
           "#636efa",
           "#EF553B",
           "#00cc96",
           "#ab63fa",
           "#FFA15A",
           "#19d3f3",
           "#FF6692",
           "#B6E880",
           "#FF97FF",
           "#FECB52"
          ],
          "font": {
           "color": "#2a3f5f"
          },
          "hovermode": "closest",
          "hoverlabel": {
           "align": "left"
          },
          "paper_bgcolor": "white",
          "plot_bgcolor": "#E5ECF6",
          "polar": {
           "bgcolor": "#E5ECF6",
           "angularaxis": {
            "gridcolor": "white",
            "linecolor": "white",
            "ticks": ""
           },
           "radialaxis": {
            "gridcolor": "white",
            "linecolor": "white",
            "ticks": ""
           }
          },
          "ternary": {
           "bgcolor": "#E5ECF6",
           "aaxis": {
            "gridcolor": "white",
            "linecolor": "white",
            "ticks": ""
           },
           "baxis": {
            "gridcolor": "white",
            "linecolor": "white",
            "ticks": ""
           },
           "caxis": {
            "gridcolor": "white",
            "linecolor": "white",
            "ticks": ""
           }
          },
          "coloraxis": {
           "colorbar": {
            "outlinewidth": 0,
            "ticks": ""
           }
          },
          "colorscale": {
           "sequential": [
            [
             0.0,
             "#0d0887"
            ],
            [
             0.1111111111111111,
             "#46039f"
            ],
            [
             0.2222222222222222,
             "#7201a8"
            ],
            [
             0.3333333333333333,
             "#9c179e"
            ],
            [
             0.4444444444444444,
             "#bd3786"
            ],
            [
             0.5555555555555556,
             "#d8576b"
            ],
            [
             0.6666666666666666,
             "#ed7953"
            ],
            [
             0.7777777777777778,
             "#fb9f3a"
            ],
            [
             0.8888888888888888,
             "#fdca26"
            ],
            [
             1.0,
             "#f0f921"
            ]
           ],
           "sequentialminus": [
            [
             0.0,
             "#0d0887"
            ],
            [
             0.1111111111111111,
             "#46039f"
            ],
            [
             0.2222222222222222,
             "#7201a8"
            ],
            [
             0.3333333333333333,
             "#9c179e"
            ],
            [
             0.4444444444444444,
             "#bd3786"
            ],
            [
             0.5555555555555556,
             "#d8576b"
            ],
            [
             0.6666666666666666,
             "#ed7953"
            ],
            [
             0.7777777777777778,
             "#fb9f3a"
            ],
            [
             0.8888888888888888,
             "#fdca26"
            ],
            [
             1.0,
             "#f0f921"
            ]
           ],
           "diverging": [
            [
             0,
             "#8e0152"
            ],
            [
             0.1,
             "#c51b7d"
            ],
            [
             0.2,
             "#de77ae"
            ],
            [
             0.3,
             "#f1b6da"
            ],
            [
             0.4,
             "#fde0ef"
            ],
            [
             0.5,
             "#f7f7f7"
            ],
            [
             0.6,
             "#e6f5d0"
            ],
            [
             0.7,
             "#b8e186"
            ],
            [
             0.8,
             "#7fbc41"
            ],
            [
             0.9,
             "#4d9221"
            ],
            [
             1,
             "#276419"
            ]
           ]
          },
          "xaxis": {
           "gridcolor": "white",
           "linecolor": "white",
           "ticks": "",
           "title": {
            "standoff": 15
           },
           "zerolinecolor": "white",
           "automargin": true,
           "zerolinewidth": 2
          },
          "yaxis": {
           "gridcolor": "white",
           "linecolor": "white",
           "ticks": "",
           "title": {
            "standoff": 15
           },
           "zerolinecolor": "white",
           "automargin": true,
           "zerolinewidth": 2
          },
          "scene": {
           "xaxis": {
            "backgroundcolor": "#E5ECF6",
            "gridcolor": "white",
            "linecolor": "white",
            "showbackground": true,
            "ticks": "",
            "zerolinecolor": "white",
            "gridwidth": 2
           },
           "yaxis": {
            "backgroundcolor": "#E5ECF6",
            "gridcolor": "white",
            "linecolor": "white",
            "showbackground": true,
            "ticks": "",
            "zerolinecolor": "white",
            "gridwidth": 2
           },
           "zaxis": {
            "backgroundcolor": "#E5ECF6",
            "gridcolor": "white",
            "linecolor": "white",
            "showbackground": true,
            "ticks": "",
            "zerolinecolor": "white",
            "gridwidth": 2
           }
          },
          "shapedefaults": {
           "line": {
            "color": "#2a3f5f"
           }
          },
          "annotationdefaults": {
           "arrowcolor": "#2a3f5f",
           "arrowhead": 0,
           "arrowwidth": 1
          },
          "geo": {
           "bgcolor": "white",
           "landcolor": "#E5ECF6",
           "subunitcolor": "white",
           "showland": true,
           "showlakes": true,
           "lakecolor": "white"
          },
          "title": {
           "x": 0.05
          },
          "mapbox": {
           "style": "light"
          }
         }
        },
        "xaxis": {
         "anchor": "y",
         "domain": [
          0.0,
          1.0
         ],
         "title": {
          "text": "Ano"
         }
        },
        "yaxis": {
         "anchor": "x",
         "domain": [
          0.0,
          1.0
         ],
         "title": {
          "text": "Quantidade de matrículas"
         }
        },
        "legend": {
         "title": {
          "text": "Localização"
         },
         "tracegroupgap": 0
        },
        "title": {
         "text": "Quantidade de matrículas por localização"
        },
        "barmode": "relative"
       },
       "config": {
        "plotlyServerURL": "https://plot.ly"
       }
      },
      "text/html": "<div>                            <div id=\"0386cd4b-67a6-41d3-bdb9-b17c5a6264bf\" class=\"plotly-graph-div\" style=\"height:525px; width:100%;\"></div>            <script type=\"text/javascript\">                require([\"plotly\"], function(Plotly) {                    window.PLOTLYENV=window.PLOTLYENV || {};                                    if (document.getElementById(\"0386cd4b-67a6-41d3-bdb9-b17c5a6264bf\")) {                    Plotly.newPlot(                        \"0386cd4b-67a6-41d3-bdb9-b17c5a6264bf\",                        [{\"alignmentgroup\":\"True\",\"hovertemplate\":\"Localiza\\u00e7\\u00e3o=Rural<br>Ano=%{x}<br>Quantidade de matr\\u00edculas=%{y}<extra></extra>\",\"legendgroup\":\"Rural\",\"marker\":{\"color\":\"#636efa\",\"pattern\":{\"shape\":\"\"}},\"name\":\"Rural\",\"offsetgroup\":\"Rural\",\"orientation\":\"v\",\"showlegend\":true,\"textposition\":\"auto\",\"x\":[2016,2017,2018,2019,2020,2021,2022],\"xaxis\":\"x\",\"y\":[96493,94336,92648,85324,81614,77888,75723],\"yaxis\":\"y\",\"type\":\"bar\"},{\"alignmentgroup\":\"True\",\"hovertemplate\":\"Localiza\\u00e7\\u00e3o=Urbana<br>Ano=%{x}<br>Quantidade de matr\\u00edculas=%{y}<extra></extra>\",\"legendgroup\":\"Urbana\",\"marker\":{\"color\":\"#EF553B\",\"pattern\":{\"shape\":\"\"}},\"name\":\"Urbana\",\"offsetgroup\":\"Urbana\",\"orientation\":\"v\",\"showlegend\":true,\"textposition\":\"auto\",\"x\":[2016,2017,2018,2019,2020,2021,2022],\"xaxis\":\"x\",\"y\":[141013,142145,143812,143197,142615,143252,148926],\"yaxis\":\"y\",\"type\":\"bar\"}],                        {\"template\":{\"data\":{\"histogram2dcontour\":[{\"type\":\"histogram2dcontour\",\"colorbar\":{\"outlinewidth\":0,\"ticks\":\"\"},\"colorscale\":[[0.0,\"#0d0887\"],[0.1111111111111111,\"#46039f\"],[0.2222222222222222,\"#7201a8\"],[0.3333333333333333,\"#9c179e\"],[0.4444444444444444,\"#bd3786\"],[0.5555555555555556,\"#d8576b\"],[0.6666666666666666,\"#ed7953\"],[0.7777777777777778,\"#fb9f3a\"],[0.8888888888888888,\"#fdca26\"],[1.0,\"#f0f921\"]]}],\"choropleth\":[{\"type\":\"choropleth\",\"colorbar\":{\"outlinewidth\":0,\"ticks\":\"\"}}],\"histogram2d\":[{\"type\":\"histogram2d\",\"colorbar\":{\"outlinewidth\":0,\"ticks\":\"\"},\"colorscale\":[[0.0,\"#0d0887\"],[0.1111111111111111,\"#46039f\"],[0.2222222222222222,\"#7201a8\"],[0.3333333333333333,\"#9c179e\"],[0.4444444444444444,\"#bd3786\"],[0.5555555555555556,\"#d8576b\"],[0.6666666666666666,\"#ed7953\"],[0.7777777777777778,\"#fb9f3a\"],[0.8888888888888888,\"#fdca26\"],[1.0,\"#f0f921\"]]}],\"heatmap\":[{\"type\":\"heatmap\",\"colorbar\":{\"outlinewidth\":0,\"ticks\":\"\"},\"colorscale\":[[0.0,\"#0d0887\"],[0.1111111111111111,\"#46039f\"],[0.2222222222222222,\"#7201a8\"],[0.3333333333333333,\"#9c179e\"],[0.4444444444444444,\"#bd3786\"],[0.5555555555555556,\"#d8576b\"],[0.6666666666666666,\"#ed7953\"],[0.7777777777777778,\"#fb9f3a\"],[0.8888888888888888,\"#fdca26\"],[1.0,\"#f0f921\"]]}],\"heatmapgl\":[{\"type\":\"heatmapgl\",\"colorbar\":{\"outlinewidth\":0,\"ticks\":\"\"},\"colorscale\":[[0.0,\"#0d0887\"],[0.1111111111111111,\"#46039f\"],[0.2222222222222222,\"#7201a8\"],[0.3333333333333333,\"#9c179e\"],[0.4444444444444444,\"#bd3786\"],[0.5555555555555556,\"#d8576b\"],[0.6666666666666666,\"#ed7953\"],[0.7777777777777778,\"#fb9f3a\"],[0.8888888888888888,\"#fdca26\"],[1.0,\"#f0f921\"]]}],\"contourcarpet\":[{\"type\":\"contourcarpet\",\"colorbar\":{\"outlinewidth\":0,\"ticks\":\"\"}}],\"contour\":[{\"type\":\"contour\",\"colorbar\":{\"outlinewidth\":0,\"ticks\":\"\"},\"colorscale\":[[0.0,\"#0d0887\"],[0.1111111111111111,\"#46039f\"],[0.2222222222222222,\"#7201a8\"],[0.3333333333333333,\"#9c179e\"],[0.4444444444444444,\"#bd3786\"],[0.5555555555555556,\"#d8576b\"],[0.6666666666666666,\"#ed7953\"],[0.7777777777777778,\"#fb9f3a\"],[0.8888888888888888,\"#fdca26\"],[1.0,\"#f0f921\"]]}],\"surface\":[{\"type\":\"surface\",\"colorbar\":{\"outlinewidth\":0,\"ticks\":\"\"},\"colorscale\":[[0.0,\"#0d0887\"],[0.1111111111111111,\"#46039f\"],[0.2222222222222222,\"#7201a8\"],[0.3333333333333333,\"#9c179e\"],[0.4444444444444444,\"#bd3786\"],[0.5555555555555556,\"#d8576b\"],[0.6666666666666666,\"#ed7953\"],[0.7777777777777778,\"#fb9f3a\"],[0.8888888888888888,\"#fdca26\"],[1.0,\"#f0f921\"]]}],\"mesh3d\":[{\"type\":\"mesh3d\",\"colorbar\":{\"outlinewidth\":0,\"ticks\":\"\"}}],\"scatter\":[{\"fillpattern\":{\"fillmode\":\"overlay\",\"size\":10,\"solidity\":0.2},\"type\":\"scatter\"}],\"parcoords\":[{\"type\":\"parcoords\",\"line\":{\"colorbar\":{\"outlinewidth\":0,\"ticks\":\"\"}}}],\"scatterpolargl\":[{\"type\":\"scatterpolargl\",\"marker\":{\"colorbar\":{\"outlinewidth\":0,\"ticks\":\"\"}}}],\"bar\":[{\"error_x\":{\"color\":\"#2a3f5f\"},\"error_y\":{\"color\":\"#2a3f5f\"},\"marker\":{\"line\":{\"color\":\"#E5ECF6\",\"width\":0.5},\"pattern\":{\"fillmode\":\"overlay\",\"size\":10,\"solidity\":0.2}},\"type\":\"bar\"}],\"scattergeo\":[{\"type\":\"scattergeo\",\"marker\":{\"colorbar\":{\"outlinewidth\":0,\"ticks\":\"\"}}}],\"scatterpolar\":[{\"type\":\"scatterpolar\",\"marker\":{\"colorbar\":{\"outlinewidth\":0,\"ticks\":\"\"}}}],\"histogram\":[{\"marker\":{\"pattern\":{\"fillmode\":\"overlay\",\"size\":10,\"solidity\":0.2}},\"type\":\"histogram\"}],\"scattergl\":[{\"type\":\"scattergl\",\"marker\":{\"colorbar\":{\"outlinewidth\":0,\"ticks\":\"\"}}}],\"scatter3d\":[{\"type\":\"scatter3d\",\"line\":{\"colorbar\":{\"outlinewidth\":0,\"ticks\":\"\"}},\"marker\":{\"colorbar\":{\"outlinewidth\":0,\"ticks\":\"\"}}}],\"scattermapbox\":[{\"type\":\"scattermapbox\",\"marker\":{\"colorbar\":{\"outlinewidth\":0,\"ticks\":\"\"}}}],\"scatterternary\":[{\"type\":\"scatterternary\",\"marker\":{\"colorbar\":{\"outlinewidth\":0,\"ticks\":\"\"}}}],\"scattercarpet\":[{\"type\":\"scattercarpet\",\"marker\":{\"colorbar\":{\"outlinewidth\":0,\"ticks\":\"\"}}}],\"carpet\":[{\"aaxis\":{\"endlinecolor\":\"#2a3f5f\",\"gridcolor\":\"white\",\"linecolor\":\"white\",\"minorgridcolor\":\"white\",\"startlinecolor\":\"#2a3f5f\"},\"baxis\":{\"endlinecolor\":\"#2a3f5f\",\"gridcolor\":\"white\",\"linecolor\":\"white\",\"minorgridcolor\":\"white\",\"startlinecolor\":\"#2a3f5f\"},\"type\":\"carpet\"}],\"table\":[{\"cells\":{\"fill\":{\"color\":\"#EBF0F8\"},\"line\":{\"color\":\"white\"}},\"header\":{\"fill\":{\"color\":\"#C8D4E3\"},\"line\":{\"color\":\"white\"}},\"type\":\"table\"}],\"barpolar\":[{\"marker\":{\"line\":{\"color\":\"#E5ECF6\",\"width\":0.5},\"pattern\":{\"fillmode\":\"overlay\",\"size\":10,\"solidity\":0.2}},\"type\":\"barpolar\"}],\"pie\":[{\"automargin\":true,\"type\":\"pie\"}]},\"layout\":{\"autotypenumbers\":\"strict\",\"colorway\":[\"#636efa\",\"#EF553B\",\"#00cc96\",\"#ab63fa\",\"#FFA15A\",\"#19d3f3\",\"#FF6692\",\"#B6E880\",\"#FF97FF\",\"#FECB52\"],\"font\":{\"color\":\"#2a3f5f\"},\"hovermode\":\"closest\",\"hoverlabel\":{\"align\":\"left\"},\"paper_bgcolor\":\"white\",\"plot_bgcolor\":\"#E5ECF6\",\"polar\":{\"bgcolor\":\"#E5ECF6\",\"angularaxis\":{\"gridcolor\":\"white\",\"linecolor\":\"white\",\"ticks\":\"\"},\"radialaxis\":{\"gridcolor\":\"white\",\"linecolor\":\"white\",\"ticks\":\"\"}},\"ternary\":{\"bgcolor\":\"#E5ECF6\",\"aaxis\":{\"gridcolor\":\"white\",\"linecolor\":\"white\",\"ticks\":\"\"},\"baxis\":{\"gridcolor\":\"white\",\"linecolor\":\"white\",\"ticks\":\"\"},\"caxis\":{\"gridcolor\":\"white\",\"linecolor\":\"white\",\"ticks\":\"\"}},\"coloraxis\":{\"colorbar\":{\"outlinewidth\":0,\"ticks\":\"\"}},\"colorscale\":{\"sequential\":[[0.0,\"#0d0887\"],[0.1111111111111111,\"#46039f\"],[0.2222222222222222,\"#7201a8\"],[0.3333333333333333,\"#9c179e\"],[0.4444444444444444,\"#bd3786\"],[0.5555555555555556,\"#d8576b\"],[0.6666666666666666,\"#ed7953\"],[0.7777777777777778,\"#fb9f3a\"],[0.8888888888888888,\"#fdca26\"],[1.0,\"#f0f921\"]],\"sequentialminus\":[[0.0,\"#0d0887\"],[0.1111111111111111,\"#46039f\"],[0.2222222222222222,\"#7201a8\"],[0.3333333333333333,\"#9c179e\"],[0.4444444444444444,\"#bd3786\"],[0.5555555555555556,\"#d8576b\"],[0.6666666666666666,\"#ed7953\"],[0.7777777777777778,\"#fb9f3a\"],[0.8888888888888888,\"#fdca26\"],[1.0,\"#f0f921\"]],\"diverging\":[[0,\"#8e0152\"],[0.1,\"#c51b7d\"],[0.2,\"#de77ae\"],[0.3,\"#f1b6da\"],[0.4,\"#fde0ef\"],[0.5,\"#f7f7f7\"],[0.6,\"#e6f5d0\"],[0.7,\"#b8e186\"],[0.8,\"#7fbc41\"],[0.9,\"#4d9221\"],[1,\"#276419\"]]},\"xaxis\":{\"gridcolor\":\"white\",\"linecolor\":\"white\",\"ticks\":\"\",\"title\":{\"standoff\":15},\"zerolinecolor\":\"white\",\"automargin\":true,\"zerolinewidth\":2},\"yaxis\":{\"gridcolor\":\"white\",\"linecolor\":\"white\",\"ticks\":\"\",\"title\":{\"standoff\":15},\"zerolinecolor\":\"white\",\"automargin\":true,\"zerolinewidth\":2},\"scene\":{\"xaxis\":{\"backgroundcolor\":\"#E5ECF6\",\"gridcolor\":\"white\",\"linecolor\":\"white\",\"showbackground\":true,\"ticks\":\"\",\"zerolinecolor\":\"white\",\"gridwidth\":2},\"yaxis\":{\"backgroundcolor\":\"#E5ECF6\",\"gridcolor\":\"white\",\"linecolor\":\"white\",\"showbackground\":true,\"ticks\":\"\",\"zerolinecolor\":\"white\",\"gridwidth\":2},\"zaxis\":{\"backgroundcolor\":\"#E5ECF6\",\"gridcolor\":\"white\",\"linecolor\":\"white\",\"showbackground\":true,\"ticks\":\"\",\"zerolinecolor\":\"white\",\"gridwidth\":2}},\"shapedefaults\":{\"line\":{\"color\":\"#2a3f5f\"}},\"annotationdefaults\":{\"arrowcolor\":\"#2a3f5f\",\"arrowhead\":0,\"arrowwidth\":1},\"geo\":{\"bgcolor\":\"white\",\"landcolor\":\"#E5ECF6\",\"subunitcolor\":\"white\",\"showland\":true,\"showlakes\":true,\"lakecolor\":\"white\"},\"title\":{\"x\":0.05},\"mapbox\":{\"style\":\"light\"}}},\"xaxis\":{\"anchor\":\"y\",\"domain\":[0.0,1.0],\"title\":{\"text\":\"Ano\"}},\"yaxis\":{\"anchor\":\"x\",\"domain\":[0.0,1.0],\"title\":{\"text\":\"Quantidade de matr\\u00edculas\"}},\"legend\":{\"title\":{\"text\":\"Localiza\\u00e7\\u00e3o\"},\"tracegroupgap\":0},\"title\":{\"text\":\"Quantidade de matr\\u00edculas por localiza\\u00e7\\u00e3o\"},\"barmode\":\"relative\"},                        {\"responsive\": true}                    ).then(function(){\n                            \nvar gd = document.getElementById('0386cd4b-67a6-41d3-bdb9-b17c5a6264bf');\nvar x = new MutationObserver(function (mutations, observer) {{\n        var display = window.getComputedStyle(gd).display;\n        if (!display || display === 'none') {{\n            console.log([gd, 'removed!']);\n            Plotly.purge(gd);\n            observer.disconnect();\n        }}\n}});\n\n// Listen for the removal of the full notebook cells\nvar notebookContainer = gd.closest('#notebook-container');\nif (notebookContainer) {{\n    x.observe(notebookContainer, {childList: true});\n}}\n\n// Listen for the clearing of the current output cell\nvar outputEl = gd.closest('.output');\nif (outputEl) {{\n    x.observe(outputEl, {childList: true});\n}}\n\n                        })                };                });            </script>        </div>"
     },
     "metadata": {},
     "output_type": "display_data"
    }
   ],
   "source": [
    "fig, df = get_plot_quantidade_matriculas(\"Localização\")\n",
    "fig"
   ],
   "metadata": {
    "collapsed": false
   }
  },
  {
   "cell_type": "code",
   "execution_count": 10,
   "outputs": [
    {
     "data": {
      "application/vnd.plotly.v1+json": {
       "data": [
        {
         "alignmentgroup": "True",
         "hovertemplate": "Localização diferenciada da escola=A escola não está em área de localização diferenciada<br>Ano=%{x}<br>Quantidade de matrículas=%{y}<extra></extra>",
         "legendgroup": "A escola não está em área de localização diferenciada",
         "marker": {
          "color": "#636efa",
          "pattern": {
           "shape": ""
          }
         },
         "name": "A escola não está em área de localização diferenciada",
         "offsetgroup": "A escola não está em área de localização diferenciada",
         "orientation": "v",
         "showlegend": true,
         "textposition": "auto",
         "x": [
          2016,
          2017,
          2018,
          2019,
          2020,
          2021,
          2022
         ],
         "xaxis": "x",
         "y": [
          226449,
          225698,
          225739,
          218043,
          213815,
          210593,
          169393
         ],
         "yaxis": "y",
         "type": "bar"
        },
        {
         "alignmentgroup": "True",
         "hovertemplate": "Localização diferenciada da escola=Terra indígena<br>Ano=%{x}<br>Quantidade de matrículas=%{y}<extra></extra>",
         "legendgroup": "Terra indígena",
         "marker": {
          "color": "#EF553B",
          "pattern": {
           "shape": ""
          }
         },
         "name": "Terra indígena",
         "offsetgroup": "Terra indígena",
         "orientation": "v",
         "showlegend": true,
         "textposition": "auto",
         "x": [
          2016,
          2017,
          2018,
          2019,
          2020,
          2021,
          2022
         ],
         "xaxis": "x",
         "y": [
          3083,
          3211,
          3248,
          3373,
          3365,
          3417,
          3543
         ],
         "yaxis": "y",
         "type": "bar"
        },
        {
         "alignmentgroup": "True",
         "hovertemplate": "Localização diferenciada da escola=Unidade de uso sustentável<br>Ano=%{x}<br>Quantidade de matrículas=%{y}<extra></extra>",
         "legendgroup": "Unidade de uso sustentável",
         "marker": {
          "color": "#00cc96",
          "pattern": {
           "shape": ""
          }
         },
         "name": "Unidade de uso sustentável",
         "offsetgroup": "Unidade de uso sustentável",
         "orientation": "v",
         "showlegend": true,
         "textposition": "auto",
         "x": [
          2016,
          2017,
          2018
         ],
         "xaxis": "x",
         "y": [
          1129,
          676,
          663
         ],
         "yaxis": "y",
         "type": "bar"
        },
        {
         "alignmentgroup": "True",
         "hovertemplate": "Localização diferenciada da escola=Unidade de uso sustentável em terra indígena<br>Ano=%{x}<br>Quantidade de matrículas=%{y}<extra></extra>",
         "legendgroup": "Unidade de uso sustentável em terra indígena",
         "marker": {
          "color": "#ab63fa",
          "pattern": {
           "shape": ""
          }
         },
         "name": "Unidade de uso sustentável em terra indígena",
         "offsetgroup": "Unidade de uso sustentável em terra indígena",
         "orientation": "v",
         "showlegend": true,
         "textposition": "auto",
         "x": [
          2016,
          2017,
          2018
         ],
         "xaxis": "x",
         "y": [
          34,
          9,
          10
         ],
         "yaxis": "y",
         "type": "bar"
        },
        {
         "alignmentgroup": "True",
         "hovertemplate": "Localização diferenciada da escola=Unidade de uso sustentável em área remanescente de quilombos<br>Ano=%{x}<br>Quantidade de matrículas=%{y}<extra></extra>",
         "legendgroup": "Unidade de uso sustentável em área remanescente de quilombos",
         "marker": {
          "color": "#FFA15A",
          "pattern": {
           "shape": ""
          }
         },
         "name": "Unidade de uso sustentável em área remanescente de quilombos",
         "offsetgroup": "Unidade de uso sustentável em área remanescente de quilombos",
         "orientation": "v",
         "showlegend": true,
         "textposition": "auto",
         "x": [
          2016,
          2017,
          2018
         ],
         "xaxis": "x",
         "y": [
          53,
          59,
          51
         ],
         "yaxis": "y",
         "type": "bar"
        },
        {
         "alignmentgroup": "True",
         "hovertemplate": "Localização diferenciada da escola=Área de assentamento<br>Ano=%{x}<br>Quantidade de matrículas=%{y}<extra></extra>",
         "legendgroup": "Área de assentamento",
         "marker": {
          "color": "#19d3f3",
          "pattern": {
           "shape": ""
          }
         },
         "name": "Área de assentamento",
         "offsetgroup": "Área de assentamento",
         "orientation": "v",
         "showlegend": true,
         "textposition": "auto",
         "x": [
          2016,
          2017,
          2018,
          2019,
          2020,
          2021,
          2022
         ],
         "xaxis": "x",
         "y": [
          4440,
          4414,
          4328,
          4549,
          4523,
          4578,
          4576
         ],
         "yaxis": "y",
         "type": "bar"
        },
        {
         "alignmentgroup": "True",
         "hovertemplate": "Localização diferenciada da escola=Área onde se localiza comunidade remanescente de quilombos<br>Ano=%{x}<br>Quantidade de matrículas=%{y}<extra></extra>",
         "legendgroup": "Área onde se localiza comunidade remanescente de quilombos",
         "marker": {
          "color": "#FF6692",
          "pattern": {
           "shape": ""
          }
         },
         "name": "Área onde se localiza comunidade remanescente de quilombos",
         "offsetgroup": "Área onde se localiza comunidade remanescente de quilombos",
         "orientation": "v",
         "showlegend": true,
         "textposition": "auto",
         "x": [
          2016,
          2017,
          2018,
          2019,
          2020,
          2021,
          2022
         ],
         "xaxis": "x",
         "y": [
          2318,
          2414,
          2421,
          2556,
          2526,
          2552,
          2561
         ],
         "yaxis": "y",
         "type": "bar"
        }
       ],
       "layout": {
        "template": {
         "data": {
          "histogram2dcontour": [
           {
            "type": "histogram2dcontour",
            "colorbar": {
             "outlinewidth": 0,
             "ticks": ""
            },
            "colorscale": [
             [
              0.0,
              "#0d0887"
             ],
             [
              0.1111111111111111,
              "#46039f"
             ],
             [
              0.2222222222222222,
              "#7201a8"
             ],
             [
              0.3333333333333333,
              "#9c179e"
             ],
             [
              0.4444444444444444,
              "#bd3786"
             ],
             [
              0.5555555555555556,
              "#d8576b"
             ],
             [
              0.6666666666666666,
              "#ed7953"
             ],
             [
              0.7777777777777778,
              "#fb9f3a"
             ],
             [
              0.8888888888888888,
              "#fdca26"
             ],
             [
              1.0,
              "#f0f921"
             ]
            ]
           }
          ],
          "choropleth": [
           {
            "type": "choropleth",
            "colorbar": {
             "outlinewidth": 0,
             "ticks": ""
            }
           }
          ],
          "histogram2d": [
           {
            "type": "histogram2d",
            "colorbar": {
             "outlinewidth": 0,
             "ticks": ""
            },
            "colorscale": [
             [
              0.0,
              "#0d0887"
             ],
             [
              0.1111111111111111,
              "#46039f"
             ],
             [
              0.2222222222222222,
              "#7201a8"
             ],
             [
              0.3333333333333333,
              "#9c179e"
             ],
             [
              0.4444444444444444,
              "#bd3786"
             ],
             [
              0.5555555555555556,
              "#d8576b"
             ],
             [
              0.6666666666666666,
              "#ed7953"
             ],
             [
              0.7777777777777778,
              "#fb9f3a"
             ],
             [
              0.8888888888888888,
              "#fdca26"
             ],
             [
              1.0,
              "#f0f921"
             ]
            ]
           }
          ],
          "heatmap": [
           {
            "type": "heatmap",
            "colorbar": {
             "outlinewidth": 0,
             "ticks": ""
            },
            "colorscale": [
             [
              0.0,
              "#0d0887"
             ],
             [
              0.1111111111111111,
              "#46039f"
             ],
             [
              0.2222222222222222,
              "#7201a8"
             ],
             [
              0.3333333333333333,
              "#9c179e"
             ],
             [
              0.4444444444444444,
              "#bd3786"
             ],
             [
              0.5555555555555556,
              "#d8576b"
             ],
             [
              0.6666666666666666,
              "#ed7953"
             ],
             [
              0.7777777777777778,
              "#fb9f3a"
             ],
             [
              0.8888888888888888,
              "#fdca26"
             ],
             [
              1.0,
              "#f0f921"
             ]
            ]
           }
          ],
          "heatmapgl": [
           {
            "type": "heatmapgl",
            "colorbar": {
             "outlinewidth": 0,
             "ticks": ""
            },
            "colorscale": [
             [
              0.0,
              "#0d0887"
             ],
             [
              0.1111111111111111,
              "#46039f"
             ],
             [
              0.2222222222222222,
              "#7201a8"
             ],
             [
              0.3333333333333333,
              "#9c179e"
             ],
             [
              0.4444444444444444,
              "#bd3786"
             ],
             [
              0.5555555555555556,
              "#d8576b"
             ],
             [
              0.6666666666666666,
              "#ed7953"
             ],
             [
              0.7777777777777778,
              "#fb9f3a"
             ],
             [
              0.8888888888888888,
              "#fdca26"
             ],
             [
              1.0,
              "#f0f921"
             ]
            ]
           }
          ],
          "contourcarpet": [
           {
            "type": "contourcarpet",
            "colorbar": {
             "outlinewidth": 0,
             "ticks": ""
            }
           }
          ],
          "contour": [
           {
            "type": "contour",
            "colorbar": {
             "outlinewidth": 0,
             "ticks": ""
            },
            "colorscale": [
             [
              0.0,
              "#0d0887"
             ],
             [
              0.1111111111111111,
              "#46039f"
             ],
             [
              0.2222222222222222,
              "#7201a8"
             ],
             [
              0.3333333333333333,
              "#9c179e"
             ],
             [
              0.4444444444444444,
              "#bd3786"
             ],
             [
              0.5555555555555556,
              "#d8576b"
             ],
             [
              0.6666666666666666,
              "#ed7953"
             ],
             [
              0.7777777777777778,
              "#fb9f3a"
             ],
             [
              0.8888888888888888,
              "#fdca26"
             ],
             [
              1.0,
              "#f0f921"
             ]
            ]
           }
          ],
          "surface": [
           {
            "type": "surface",
            "colorbar": {
             "outlinewidth": 0,
             "ticks": ""
            },
            "colorscale": [
             [
              0.0,
              "#0d0887"
             ],
             [
              0.1111111111111111,
              "#46039f"
             ],
             [
              0.2222222222222222,
              "#7201a8"
             ],
             [
              0.3333333333333333,
              "#9c179e"
             ],
             [
              0.4444444444444444,
              "#bd3786"
             ],
             [
              0.5555555555555556,
              "#d8576b"
             ],
             [
              0.6666666666666666,
              "#ed7953"
             ],
             [
              0.7777777777777778,
              "#fb9f3a"
             ],
             [
              0.8888888888888888,
              "#fdca26"
             ],
             [
              1.0,
              "#f0f921"
             ]
            ]
           }
          ],
          "mesh3d": [
           {
            "type": "mesh3d",
            "colorbar": {
             "outlinewidth": 0,
             "ticks": ""
            }
           }
          ],
          "scatter": [
           {
            "fillpattern": {
             "fillmode": "overlay",
             "size": 10,
             "solidity": 0.2
            },
            "type": "scatter"
           }
          ],
          "parcoords": [
           {
            "type": "parcoords",
            "line": {
             "colorbar": {
              "outlinewidth": 0,
              "ticks": ""
             }
            }
           }
          ],
          "scatterpolargl": [
           {
            "type": "scatterpolargl",
            "marker": {
             "colorbar": {
              "outlinewidth": 0,
              "ticks": ""
             }
            }
           }
          ],
          "bar": [
           {
            "error_x": {
             "color": "#2a3f5f"
            },
            "error_y": {
             "color": "#2a3f5f"
            },
            "marker": {
             "line": {
              "color": "#E5ECF6",
              "width": 0.5
             },
             "pattern": {
              "fillmode": "overlay",
              "size": 10,
              "solidity": 0.2
             }
            },
            "type": "bar"
           }
          ],
          "scattergeo": [
           {
            "type": "scattergeo",
            "marker": {
             "colorbar": {
              "outlinewidth": 0,
              "ticks": ""
             }
            }
           }
          ],
          "scatterpolar": [
           {
            "type": "scatterpolar",
            "marker": {
             "colorbar": {
              "outlinewidth": 0,
              "ticks": ""
             }
            }
           }
          ],
          "histogram": [
           {
            "marker": {
             "pattern": {
              "fillmode": "overlay",
              "size": 10,
              "solidity": 0.2
             }
            },
            "type": "histogram"
           }
          ],
          "scattergl": [
           {
            "type": "scattergl",
            "marker": {
             "colorbar": {
              "outlinewidth": 0,
              "ticks": ""
             }
            }
           }
          ],
          "scatter3d": [
           {
            "type": "scatter3d",
            "line": {
             "colorbar": {
              "outlinewidth": 0,
              "ticks": ""
             }
            },
            "marker": {
             "colorbar": {
              "outlinewidth": 0,
              "ticks": ""
             }
            }
           }
          ],
          "scattermapbox": [
           {
            "type": "scattermapbox",
            "marker": {
             "colorbar": {
              "outlinewidth": 0,
              "ticks": ""
             }
            }
           }
          ],
          "scatterternary": [
           {
            "type": "scatterternary",
            "marker": {
             "colorbar": {
              "outlinewidth": 0,
              "ticks": ""
             }
            }
           }
          ],
          "scattercarpet": [
           {
            "type": "scattercarpet",
            "marker": {
             "colorbar": {
              "outlinewidth": 0,
              "ticks": ""
             }
            }
           }
          ],
          "carpet": [
           {
            "aaxis": {
             "endlinecolor": "#2a3f5f",
             "gridcolor": "white",
             "linecolor": "white",
             "minorgridcolor": "white",
             "startlinecolor": "#2a3f5f"
            },
            "baxis": {
             "endlinecolor": "#2a3f5f",
             "gridcolor": "white",
             "linecolor": "white",
             "minorgridcolor": "white",
             "startlinecolor": "#2a3f5f"
            },
            "type": "carpet"
           }
          ],
          "table": [
           {
            "cells": {
             "fill": {
              "color": "#EBF0F8"
             },
             "line": {
              "color": "white"
             }
            },
            "header": {
             "fill": {
              "color": "#C8D4E3"
             },
             "line": {
              "color": "white"
             }
            },
            "type": "table"
           }
          ],
          "barpolar": [
           {
            "marker": {
             "line": {
              "color": "#E5ECF6",
              "width": 0.5
             },
             "pattern": {
              "fillmode": "overlay",
              "size": 10,
              "solidity": 0.2
             }
            },
            "type": "barpolar"
           }
          ],
          "pie": [
           {
            "automargin": true,
            "type": "pie"
           }
          ]
         },
         "layout": {
          "autotypenumbers": "strict",
          "colorway": [
           "#636efa",
           "#EF553B",
           "#00cc96",
           "#ab63fa",
           "#FFA15A",
           "#19d3f3",
           "#FF6692",
           "#B6E880",
           "#FF97FF",
           "#FECB52"
          ],
          "font": {
           "color": "#2a3f5f"
          },
          "hovermode": "closest",
          "hoverlabel": {
           "align": "left"
          },
          "paper_bgcolor": "white",
          "plot_bgcolor": "#E5ECF6",
          "polar": {
           "bgcolor": "#E5ECF6",
           "angularaxis": {
            "gridcolor": "white",
            "linecolor": "white",
            "ticks": ""
           },
           "radialaxis": {
            "gridcolor": "white",
            "linecolor": "white",
            "ticks": ""
           }
          },
          "ternary": {
           "bgcolor": "#E5ECF6",
           "aaxis": {
            "gridcolor": "white",
            "linecolor": "white",
            "ticks": ""
           },
           "baxis": {
            "gridcolor": "white",
            "linecolor": "white",
            "ticks": ""
           },
           "caxis": {
            "gridcolor": "white",
            "linecolor": "white",
            "ticks": ""
           }
          },
          "coloraxis": {
           "colorbar": {
            "outlinewidth": 0,
            "ticks": ""
           }
          },
          "colorscale": {
           "sequential": [
            [
             0.0,
             "#0d0887"
            ],
            [
             0.1111111111111111,
             "#46039f"
            ],
            [
             0.2222222222222222,
             "#7201a8"
            ],
            [
             0.3333333333333333,
             "#9c179e"
            ],
            [
             0.4444444444444444,
             "#bd3786"
            ],
            [
             0.5555555555555556,
             "#d8576b"
            ],
            [
             0.6666666666666666,
             "#ed7953"
            ],
            [
             0.7777777777777778,
             "#fb9f3a"
            ],
            [
             0.8888888888888888,
             "#fdca26"
            ],
            [
             1.0,
             "#f0f921"
            ]
           ],
           "sequentialminus": [
            [
             0.0,
             "#0d0887"
            ],
            [
             0.1111111111111111,
             "#46039f"
            ],
            [
             0.2222222222222222,
             "#7201a8"
            ],
            [
             0.3333333333333333,
             "#9c179e"
            ],
            [
             0.4444444444444444,
             "#bd3786"
            ],
            [
             0.5555555555555556,
             "#d8576b"
            ],
            [
             0.6666666666666666,
             "#ed7953"
            ],
            [
             0.7777777777777778,
             "#fb9f3a"
            ],
            [
             0.8888888888888888,
             "#fdca26"
            ],
            [
             1.0,
             "#f0f921"
            ]
           ],
           "diverging": [
            [
             0,
             "#8e0152"
            ],
            [
             0.1,
             "#c51b7d"
            ],
            [
             0.2,
             "#de77ae"
            ],
            [
             0.3,
             "#f1b6da"
            ],
            [
             0.4,
             "#fde0ef"
            ],
            [
             0.5,
             "#f7f7f7"
            ],
            [
             0.6,
             "#e6f5d0"
            ],
            [
             0.7,
             "#b8e186"
            ],
            [
             0.8,
             "#7fbc41"
            ],
            [
             0.9,
             "#4d9221"
            ],
            [
             1,
             "#276419"
            ]
           ]
          },
          "xaxis": {
           "gridcolor": "white",
           "linecolor": "white",
           "ticks": "",
           "title": {
            "standoff": 15
           },
           "zerolinecolor": "white",
           "automargin": true,
           "zerolinewidth": 2
          },
          "yaxis": {
           "gridcolor": "white",
           "linecolor": "white",
           "ticks": "",
           "title": {
            "standoff": 15
           },
           "zerolinecolor": "white",
           "automargin": true,
           "zerolinewidth": 2
          },
          "scene": {
           "xaxis": {
            "backgroundcolor": "#E5ECF6",
            "gridcolor": "white",
            "linecolor": "white",
            "showbackground": true,
            "ticks": "",
            "zerolinecolor": "white",
            "gridwidth": 2
           },
           "yaxis": {
            "backgroundcolor": "#E5ECF6",
            "gridcolor": "white",
            "linecolor": "white",
            "showbackground": true,
            "ticks": "",
            "zerolinecolor": "white",
            "gridwidth": 2
           },
           "zaxis": {
            "backgroundcolor": "#E5ECF6",
            "gridcolor": "white",
            "linecolor": "white",
            "showbackground": true,
            "ticks": "",
            "zerolinecolor": "white",
            "gridwidth": 2
           }
          },
          "shapedefaults": {
           "line": {
            "color": "#2a3f5f"
           }
          },
          "annotationdefaults": {
           "arrowcolor": "#2a3f5f",
           "arrowhead": 0,
           "arrowwidth": 1
          },
          "geo": {
           "bgcolor": "white",
           "landcolor": "#E5ECF6",
           "subunitcolor": "white",
           "showland": true,
           "showlakes": true,
           "lakecolor": "white"
          },
          "title": {
           "x": 0.05
          },
          "mapbox": {
           "style": "light"
          }
         }
        },
        "xaxis": {
         "anchor": "y",
         "domain": [
          0.0,
          1.0
         ],
         "title": {
          "text": "Ano"
         }
        },
        "yaxis": {
         "anchor": "x",
         "domain": [
          0.0,
          1.0
         ],
         "title": {
          "text": "Quantidade de matrículas"
         }
        },
        "legend": {
         "title": {
          "text": "Localização diferenciada da escola"
         },
         "tracegroupgap": 0
        },
        "title": {
         "text": "Quantidade de matrículas por localização diferenciada da escola"
        },
        "barmode": "relative"
       },
       "config": {
        "plotlyServerURL": "https://plot.ly"
       }
      },
      "text/html": "<div>                            <div id=\"6f708a55-d72d-4266-bc7f-c4511a7ceee0\" class=\"plotly-graph-div\" style=\"height:525px; width:100%;\"></div>            <script type=\"text/javascript\">                require([\"plotly\"], function(Plotly) {                    window.PLOTLYENV=window.PLOTLYENV || {};                                    if (document.getElementById(\"6f708a55-d72d-4266-bc7f-c4511a7ceee0\")) {                    Plotly.newPlot(                        \"6f708a55-d72d-4266-bc7f-c4511a7ceee0\",                        [{\"alignmentgroup\":\"True\",\"hovertemplate\":\"Localiza\\u00e7\\u00e3o diferenciada da escola=A escola n\\u00e3o est\\u00e1 em \\u00e1rea de localiza\\u00e7\\u00e3o diferenciada<br>Ano=%{x}<br>Quantidade de matr\\u00edculas=%{y}<extra></extra>\",\"legendgroup\":\"A escola n\\u00e3o est\\u00e1 em \\u00e1rea de localiza\\u00e7\\u00e3o diferenciada\",\"marker\":{\"color\":\"#636efa\",\"pattern\":{\"shape\":\"\"}},\"name\":\"A escola n\\u00e3o est\\u00e1 em \\u00e1rea de localiza\\u00e7\\u00e3o diferenciada\",\"offsetgroup\":\"A escola n\\u00e3o est\\u00e1 em \\u00e1rea de localiza\\u00e7\\u00e3o diferenciada\",\"orientation\":\"v\",\"showlegend\":true,\"textposition\":\"auto\",\"x\":[2016,2017,2018,2019,2020,2021,2022],\"xaxis\":\"x\",\"y\":[226449,225698,225739,218043,213815,210593,169393],\"yaxis\":\"y\",\"type\":\"bar\"},{\"alignmentgroup\":\"True\",\"hovertemplate\":\"Localiza\\u00e7\\u00e3o diferenciada da escola=Terra ind\\u00edgena<br>Ano=%{x}<br>Quantidade de matr\\u00edculas=%{y}<extra></extra>\",\"legendgroup\":\"Terra ind\\u00edgena\",\"marker\":{\"color\":\"#EF553B\",\"pattern\":{\"shape\":\"\"}},\"name\":\"Terra ind\\u00edgena\",\"offsetgroup\":\"Terra ind\\u00edgena\",\"orientation\":\"v\",\"showlegend\":true,\"textposition\":\"auto\",\"x\":[2016,2017,2018,2019,2020,2021,2022],\"xaxis\":\"x\",\"y\":[3083,3211,3248,3373,3365,3417,3543],\"yaxis\":\"y\",\"type\":\"bar\"},{\"alignmentgroup\":\"True\",\"hovertemplate\":\"Localiza\\u00e7\\u00e3o diferenciada da escola=Unidade de uso sustent\\u00e1vel<br>Ano=%{x}<br>Quantidade de matr\\u00edculas=%{y}<extra></extra>\",\"legendgroup\":\"Unidade de uso sustent\\u00e1vel\",\"marker\":{\"color\":\"#00cc96\",\"pattern\":{\"shape\":\"\"}},\"name\":\"Unidade de uso sustent\\u00e1vel\",\"offsetgroup\":\"Unidade de uso sustent\\u00e1vel\",\"orientation\":\"v\",\"showlegend\":true,\"textposition\":\"auto\",\"x\":[2016,2017,2018],\"xaxis\":\"x\",\"y\":[1129,676,663],\"yaxis\":\"y\",\"type\":\"bar\"},{\"alignmentgroup\":\"True\",\"hovertemplate\":\"Localiza\\u00e7\\u00e3o diferenciada da escola=Unidade de uso sustent\\u00e1vel em terra ind\\u00edgena<br>Ano=%{x}<br>Quantidade de matr\\u00edculas=%{y}<extra></extra>\",\"legendgroup\":\"Unidade de uso sustent\\u00e1vel em terra ind\\u00edgena\",\"marker\":{\"color\":\"#ab63fa\",\"pattern\":{\"shape\":\"\"}},\"name\":\"Unidade de uso sustent\\u00e1vel em terra ind\\u00edgena\",\"offsetgroup\":\"Unidade de uso sustent\\u00e1vel em terra ind\\u00edgena\",\"orientation\":\"v\",\"showlegend\":true,\"textposition\":\"auto\",\"x\":[2016,2017,2018],\"xaxis\":\"x\",\"y\":[34,9,10],\"yaxis\":\"y\",\"type\":\"bar\"},{\"alignmentgroup\":\"True\",\"hovertemplate\":\"Localiza\\u00e7\\u00e3o diferenciada da escola=Unidade de uso sustent\\u00e1vel em \\u00e1rea remanescente de quilombos<br>Ano=%{x}<br>Quantidade de matr\\u00edculas=%{y}<extra></extra>\",\"legendgroup\":\"Unidade de uso sustent\\u00e1vel em \\u00e1rea remanescente de quilombos\",\"marker\":{\"color\":\"#FFA15A\",\"pattern\":{\"shape\":\"\"}},\"name\":\"Unidade de uso sustent\\u00e1vel em \\u00e1rea remanescente de quilombos\",\"offsetgroup\":\"Unidade de uso sustent\\u00e1vel em \\u00e1rea remanescente de quilombos\",\"orientation\":\"v\",\"showlegend\":true,\"textposition\":\"auto\",\"x\":[2016,2017,2018],\"xaxis\":\"x\",\"y\":[53,59,51],\"yaxis\":\"y\",\"type\":\"bar\"},{\"alignmentgroup\":\"True\",\"hovertemplate\":\"Localiza\\u00e7\\u00e3o diferenciada da escola=\\u00c1rea de assentamento<br>Ano=%{x}<br>Quantidade de matr\\u00edculas=%{y}<extra></extra>\",\"legendgroup\":\"\\u00c1rea de assentamento\",\"marker\":{\"color\":\"#19d3f3\",\"pattern\":{\"shape\":\"\"}},\"name\":\"\\u00c1rea de assentamento\",\"offsetgroup\":\"\\u00c1rea de assentamento\",\"orientation\":\"v\",\"showlegend\":true,\"textposition\":\"auto\",\"x\":[2016,2017,2018,2019,2020,2021,2022],\"xaxis\":\"x\",\"y\":[4440,4414,4328,4549,4523,4578,4576],\"yaxis\":\"y\",\"type\":\"bar\"},{\"alignmentgroup\":\"True\",\"hovertemplate\":\"Localiza\\u00e7\\u00e3o diferenciada da escola=\\u00c1rea onde se localiza comunidade remanescente de quilombos<br>Ano=%{x}<br>Quantidade de matr\\u00edculas=%{y}<extra></extra>\",\"legendgroup\":\"\\u00c1rea onde se localiza comunidade remanescente de quilombos\",\"marker\":{\"color\":\"#FF6692\",\"pattern\":{\"shape\":\"\"}},\"name\":\"\\u00c1rea onde se localiza comunidade remanescente de quilombos\",\"offsetgroup\":\"\\u00c1rea onde se localiza comunidade remanescente de quilombos\",\"orientation\":\"v\",\"showlegend\":true,\"textposition\":\"auto\",\"x\":[2016,2017,2018,2019,2020,2021,2022],\"xaxis\":\"x\",\"y\":[2318,2414,2421,2556,2526,2552,2561],\"yaxis\":\"y\",\"type\":\"bar\"}],                        {\"template\":{\"data\":{\"histogram2dcontour\":[{\"type\":\"histogram2dcontour\",\"colorbar\":{\"outlinewidth\":0,\"ticks\":\"\"},\"colorscale\":[[0.0,\"#0d0887\"],[0.1111111111111111,\"#46039f\"],[0.2222222222222222,\"#7201a8\"],[0.3333333333333333,\"#9c179e\"],[0.4444444444444444,\"#bd3786\"],[0.5555555555555556,\"#d8576b\"],[0.6666666666666666,\"#ed7953\"],[0.7777777777777778,\"#fb9f3a\"],[0.8888888888888888,\"#fdca26\"],[1.0,\"#f0f921\"]]}],\"choropleth\":[{\"type\":\"choropleth\",\"colorbar\":{\"outlinewidth\":0,\"ticks\":\"\"}}],\"histogram2d\":[{\"type\":\"histogram2d\",\"colorbar\":{\"outlinewidth\":0,\"ticks\":\"\"},\"colorscale\":[[0.0,\"#0d0887\"],[0.1111111111111111,\"#46039f\"],[0.2222222222222222,\"#7201a8\"],[0.3333333333333333,\"#9c179e\"],[0.4444444444444444,\"#bd3786\"],[0.5555555555555556,\"#d8576b\"],[0.6666666666666666,\"#ed7953\"],[0.7777777777777778,\"#fb9f3a\"],[0.8888888888888888,\"#fdca26\"],[1.0,\"#f0f921\"]]}],\"heatmap\":[{\"type\":\"heatmap\",\"colorbar\":{\"outlinewidth\":0,\"ticks\":\"\"},\"colorscale\":[[0.0,\"#0d0887\"],[0.1111111111111111,\"#46039f\"],[0.2222222222222222,\"#7201a8\"],[0.3333333333333333,\"#9c179e\"],[0.4444444444444444,\"#bd3786\"],[0.5555555555555556,\"#d8576b\"],[0.6666666666666666,\"#ed7953\"],[0.7777777777777778,\"#fb9f3a\"],[0.8888888888888888,\"#fdca26\"],[1.0,\"#f0f921\"]]}],\"heatmapgl\":[{\"type\":\"heatmapgl\",\"colorbar\":{\"outlinewidth\":0,\"ticks\":\"\"},\"colorscale\":[[0.0,\"#0d0887\"],[0.1111111111111111,\"#46039f\"],[0.2222222222222222,\"#7201a8\"],[0.3333333333333333,\"#9c179e\"],[0.4444444444444444,\"#bd3786\"],[0.5555555555555556,\"#d8576b\"],[0.6666666666666666,\"#ed7953\"],[0.7777777777777778,\"#fb9f3a\"],[0.8888888888888888,\"#fdca26\"],[1.0,\"#f0f921\"]]}],\"contourcarpet\":[{\"type\":\"contourcarpet\",\"colorbar\":{\"outlinewidth\":0,\"ticks\":\"\"}}],\"contour\":[{\"type\":\"contour\",\"colorbar\":{\"outlinewidth\":0,\"ticks\":\"\"},\"colorscale\":[[0.0,\"#0d0887\"],[0.1111111111111111,\"#46039f\"],[0.2222222222222222,\"#7201a8\"],[0.3333333333333333,\"#9c179e\"],[0.4444444444444444,\"#bd3786\"],[0.5555555555555556,\"#d8576b\"],[0.6666666666666666,\"#ed7953\"],[0.7777777777777778,\"#fb9f3a\"],[0.8888888888888888,\"#fdca26\"],[1.0,\"#f0f921\"]]}],\"surface\":[{\"type\":\"surface\",\"colorbar\":{\"outlinewidth\":0,\"ticks\":\"\"},\"colorscale\":[[0.0,\"#0d0887\"],[0.1111111111111111,\"#46039f\"],[0.2222222222222222,\"#7201a8\"],[0.3333333333333333,\"#9c179e\"],[0.4444444444444444,\"#bd3786\"],[0.5555555555555556,\"#d8576b\"],[0.6666666666666666,\"#ed7953\"],[0.7777777777777778,\"#fb9f3a\"],[0.8888888888888888,\"#fdca26\"],[1.0,\"#f0f921\"]]}],\"mesh3d\":[{\"type\":\"mesh3d\",\"colorbar\":{\"outlinewidth\":0,\"ticks\":\"\"}}],\"scatter\":[{\"fillpattern\":{\"fillmode\":\"overlay\",\"size\":10,\"solidity\":0.2},\"type\":\"scatter\"}],\"parcoords\":[{\"type\":\"parcoords\",\"line\":{\"colorbar\":{\"outlinewidth\":0,\"ticks\":\"\"}}}],\"scatterpolargl\":[{\"type\":\"scatterpolargl\",\"marker\":{\"colorbar\":{\"outlinewidth\":0,\"ticks\":\"\"}}}],\"bar\":[{\"error_x\":{\"color\":\"#2a3f5f\"},\"error_y\":{\"color\":\"#2a3f5f\"},\"marker\":{\"line\":{\"color\":\"#E5ECF6\",\"width\":0.5},\"pattern\":{\"fillmode\":\"overlay\",\"size\":10,\"solidity\":0.2}},\"type\":\"bar\"}],\"scattergeo\":[{\"type\":\"scattergeo\",\"marker\":{\"colorbar\":{\"outlinewidth\":0,\"ticks\":\"\"}}}],\"scatterpolar\":[{\"type\":\"scatterpolar\",\"marker\":{\"colorbar\":{\"outlinewidth\":0,\"ticks\":\"\"}}}],\"histogram\":[{\"marker\":{\"pattern\":{\"fillmode\":\"overlay\",\"size\":10,\"solidity\":0.2}},\"type\":\"histogram\"}],\"scattergl\":[{\"type\":\"scattergl\",\"marker\":{\"colorbar\":{\"outlinewidth\":0,\"ticks\":\"\"}}}],\"scatter3d\":[{\"type\":\"scatter3d\",\"line\":{\"colorbar\":{\"outlinewidth\":0,\"ticks\":\"\"}},\"marker\":{\"colorbar\":{\"outlinewidth\":0,\"ticks\":\"\"}}}],\"scattermapbox\":[{\"type\":\"scattermapbox\",\"marker\":{\"colorbar\":{\"outlinewidth\":0,\"ticks\":\"\"}}}],\"scatterternary\":[{\"type\":\"scatterternary\",\"marker\":{\"colorbar\":{\"outlinewidth\":0,\"ticks\":\"\"}}}],\"scattercarpet\":[{\"type\":\"scattercarpet\",\"marker\":{\"colorbar\":{\"outlinewidth\":0,\"ticks\":\"\"}}}],\"carpet\":[{\"aaxis\":{\"endlinecolor\":\"#2a3f5f\",\"gridcolor\":\"white\",\"linecolor\":\"white\",\"minorgridcolor\":\"white\",\"startlinecolor\":\"#2a3f5f\"},\"baxis\":{\"endlinecolor\":\"#2a3f5f\",\"gridcolor\":\"white\",\"linecolor\":\"white\",\"minorgridcolor\":\"white\",\"startlinecolor\":\"#2a3f5f\"},\"type\":\"carpet\"}],\"table\":[{\"cells\":{\"fill\":{\"color\":\"#EBF0F8\"},\"line\":{\"color\":\"white\"}},\"header\":{\"fill\":{\"color\":\"#C8D4E3\"},\"line\":{\"color\":\"white\"}},\"type\":\"table\"}],\"barpolar\":[{\"marker\":{\"line\":{\"color\":\"#E5ECF6\",\"width\":0.5},\"pattern\":{\"fillmode\":\"overlay\",\"size\":10,\"solidity\":0.2}},\"type\":\"barpolar\"}],\"pie\":[{\"automargin\":true,\"type\":\"pie\"}]},\"layout\":{\"autotypenumbers\":\"strict\",\"colorway\":[\"#636efa\",\"#EF553B\",\"#00cc96\",\"#ab63fa\",\"#FFA15A\",\"#19d3f3\",\"#FF6692\",\"#B6E880\",\"#FF97FF\",\"#FECB52\"],\"font\":{\"color\":\"#2a3f5f\"},\"hovermode\":\"closest\",\"hoverlabel\":{\"align\":\"left\"},\"paper_bgcolor\":\"white\",\"plot_bgcolor\":\"#E5ECF6\",\"polar\":{\"bgcolor\":\"#E5ECF6\",\"angularaxis\":{\"gridcolor\":\"white\",\"linecolor\":\"white\",\"ticks\":\"\"},\"radialaxis\":{\"gridcolor\":\"white\",\"linecolor\":\"white\",\"ticks\":\"\"}},\"ternary\":{\"bgcolor\":\"#E5ECF6\",\"aaxis\":{\"gridcolor\":\"white\",\"linecolor\":\"white\",\"ticks\":\"\"},\"baxis\":{\"gridcolor\":\"white\",\"linecolor\":\"white\",\"ticks\":\"\"},\"caxis\":{\"gridcolor\":\"white\",\"linecolor\":\"white\",\"ticks\":\"\"}},\"coloraxis\":{\"colorbar\":{\"outlinewidth\":0,\"ticks\":\"\"}},\"colorscale\":{\"sequential\":[[0.0,\"#0d0887\"],[0.1111111111111111,\"#46039f\"],[0.2222222222222222,\"#7201a8\"],[0.3333333333333333,\"#9c179e\"],[0.4444444444444444,\"#bd3786\"],[0.5555555555555556,\"#d8576b\"],[0.6666666666666666,\"#ed7953\"],[0.7777777777777778,\"#fb9f3a\"],[0.8888888888888888,\"#fdca26\"],[1.0,\"#f0f921\"]],\"sequentialminus\":[[0.0,\"#0d0887\"],[0.1111111111111111,\"#46039f\"],[0.2222222222222222,\"#7201a8\"],[0.3333333333333333,\"#9c179e\"],[0.4444444444444444,\"#bd3786\"],[0.5555555555555556,\"#d8576b\"],[0.6666666666666666,\"#ed7953\"],[0.7777777777777778,\"#fb9f3a\"],[0.8888888888888888,\"#fdca26\"],[1.0,\"#f0f921\"]],\"diverging\":[[0,\"#8e0152\"],[0.1,\"#c51b7d\"],[0.2,\"#de77ae\"],[0.3,\"#f1b6da\"],[0.4,\"#fde0ef\"],[0.5,\"#f7f7f7\"],[0.6,\"#e6f5d0\"],[0.7,\"#b8e186\"],[0.8,\"#7fbc41\"],[0.9,\"#4d9221\"],[1,\"#276419\"]]},\"xaxis\":{\"gridcolor\":\"white\",\"linecolor\":\"white\",\"ticks\":\"\",\"title\":{\"standoff\":15},\"zerolinecolor\":\"white\",\"automargin\":true,\"zerolinewidth\":2},\"yaxis\":{\"gridcolor\":\"white\",\"linecolor\":\"white\",\"ticks\":\"\",\"title\":{\"standoff\":15},\"zerolinecolor\":\"white\",\"automargin\":true,\"zerolinewidth\":2},\"scene\":{\"xaxis\":{\"backgroundcolor\":\"#E5ECF6\",\"gridcolor\":\"white\",\"linecolor\":\"white\",\"showbackground\":true,\"ticks\":\"\",\"zerolinecolor\":\"white\",\"gridwidth\":2},\"yaxis\":{\"backgroundcolor\":\"#E5ECF6\",\"gridcolor\":\"white\",\"linecolor\":\"white\",\"showbackground\":true,\"ticks\":\"\",\"zerolinecolor\":\"white\",\"gridwidth\":2},\"zaxis\":{\"backgroundcolor\":\"#E5ECF6\",\"gridcolor\":\"white\",\"linecolor\":\"white\",\"showbackground\":true,\"ticks\":\"\",\"zerolinecolor\":\"white\",\"gridwidth\":2}},\"shapedefaults\":{\"line\":{\"color\":\"#2a3f5f\"}},\"annotationdefaults\":{\"arrowcolor\":\"#2a3f5f\",\"arrowhead\":0,\"arrowwidth\":1},\"geo\":{\"bgcolor\":\"white\",\"landcolor\":\"#E5ECF6\",\"subunitcolor\":\"white\",\"showland\":true,\"showlakes\":true,\"lakecolor\":\"white\"},\"title\":{\"x\":0.05},\"mapbox\":{\"style\":\"light\"}}},\"xaxis\":{\"anchor\":\"y\",\"domain\":[0.0,1.0],\"title\":{\"text\":\"Ano\"}},\"yaxis\":{\"anchor\":\"x\",\"domain\":[0.0,1.0],\"title\":{\"text\":\"Quantidade de matr\\u00edculas\"}},\"legend\":{\"title\":{\"text\":\"Localiza\\u00e7\\u00e3o diferenciada da escola\"},\"tracegroupgap\":0},\"title\":{\"text\":\"Quantidade de matr\\u00edculas por localiza\\u00e7\\u00e3o diferenciada da escola\"},\"barmode\":\"relative\"},                        {\"responsive\": true}                    ).then(function(){\n                            \nvar gd = document.getElementById('6f708a55-d72d-4266-bc7f-c4511a7ceee0');\nvar x = new MutationObserver(function (mutations, observer) {{\n        var display = window.getComputedStyle(gd).display;\n        if (!display || display === 'none') {{\n            console.log([gd, 'removed!']);\n            Plotly.purge(gd);\n            observer.disconnect();\n        }}\n}});\n\n// Listen for the removal of the full notebook cells\nvar notebookContainer = gd.closest('#notebook-container');\nif (notebookContainer) {{\n    x.observe(notebookContainer, {childList: true});\n}}\n\n// Listen for the clearing of the current output cell\nvar outputEl = gd.closest('.output');\nif (outputEl) {{\n    x.observe(outputEl, {childList: true});\n}}\n\n                        })                };                });            </script>        </div>"
     },
     "metadata": {},
     "output_type": "display_data"
    }
   ],
   "source": [
    "fig, df = get_plot_quantidade_matriculas(\"Localização diferenciada da escola\")\n",
    "fig"
   ],
   "metadata": {
    "collapsed": false
   }
  },
  {
   "cell_type": "code",
   "execution_count": 28,
   "outputs": [],
   "source": [
    "# Quantidade de matriculas por região geográfica\n",
    "DIMENSOES_GEOGRAFICAS = {\n",
    "    \"Região geográfica\": \"NO_REGIAO\",\n",
    "    \"Unidade da Federação\": \"NO_UF\",\n",
    "    \"Mesorregião\": \"NO_MESORREGIAO\",\n",
    "    \"Microrregião\": \"NO_MICRORREGIAO\"\n",
    "}\n",
    "\n",
    "def get_plot_quantidade_matriculas_geografico(\n",
    "        dimensao_geografica: str,\n",
    "        nivel_ensino: str\n",
    ") -> (pl.graph_objs.Figure, pd.DataFrame):\n",
    "    df = con.execute(f\"\"\"\n",
    "                    select\n",
    "                        NU_ANO_CENSO as 'Ano',\n",
    "                        {DIMENSOES_GEOGRAFICAS[dimensao_geografica]} as '{dimensao_geografica}',\n",
    "                        cast(sum(QT_MAT_BAS) as bigint) as 'Educação Básica',\n",
    "                        cast(sum(QT_MAT_INF_CRE) as bigint) as 'Educação Infantil - creche',\n",
    "                        cast(sum(QT_MAT_INF_PRE) as bigint) as 'Educação Infantil - pré-escola',\n",
    "                        cast(sum(QT_MAT_INF) as bigint) as 'Educação Infantil',\n",
    "                        cast(sum(QT_MAT_FUND_AI) as bigint) as 'Ensino Fundamental - anos iniciais',\n",
    "                        cast(sum(QT_MAT_FUND_AF) as bigint) as 'Ensino Fundamental - anos finais',\n",
    "                        cast(sum(QT_MAT_FUND) as bigint) as 'Ensino Fundamental',\n",
    "                        cast(sum(QT_MAT_MED) as bigint) as 'Ensino Médio',\n",
    "                        cast(sum(QT_MAT_PROF) as bigint) as 'Educação Profissional',\n",
    "                        cast(sum(QT_MAT_PROF_TEC) as bigint) as 'Educação Profissional Técnica',\n",
    "                        cast(sum(QT_MAT_EJA_FUND) as bigint) as 'Educação de Jovens e Adultos (EJA) - Ensino Fundamental',\n",
    "                        cast(sum(QT_MAT_EJA_MED) as bigint) as 'Educação de Jovens e Adultos (EJA) - Ensino Médio',\n",
    "                        cast(sum(QT_MAT_EJA) as bigint) as 'Educação de Jovens e Adultos (EJA)',\n",
    "                        cast(sum(QT_MAT_ESP_CC) as bigint) as 'Educação Especial Inclusiva',\n",
    "                        cast(sum(QT_MAT_ESP_CE) as bigint) as 'Educação Especial Exclusiva',\n",
    "                        cast(sum(QT_MAT_ESP) as bigint) as 'Educação Especial'\n",
    "                    from microdados\n",
    "                    group by NU_ANO_CENSO, {DIMENSOES_GEOGRAFICAS[dimensao_geografica]}\n",
    "                    order by 1\n",
    "                \"\"\"\n",
    "    ).df()\n",
    "\n",
    "    fig = px.bar(\n",
    "        df,\n",
    "        x=\"Ano\",\n",
    "        y=nivel_ensino,\n",
    "        color=dimensao_geografica,\n",
    "        title=f\"Quantidade de matrículas de {nivel_ensino} por {dimensao_geografica.lower()}\",\n",
    "        labels={nivel_ensino: \"Quantidade de matrículas\"}\n",
    "    )\n",
    "\n",
    "    return fig, df\n"
   ],
   "metadata": {
    "collapsed": false
   }
  },
  {
   "cell_type": "code",
   "execution_count": 29,
   "outputs": [
    {
     "data": {
      "application/vnd.plotly.v1+json": {
       "data": [
        {
         "alignmentgroup": "True",
         "hovertemplate": "Região geográfica=Centro-Oeste<br>Ano=%{x}<br>Quantidade de matrículas=%{y}<extra></extra>",
         "legendgroup": "Centro-Oeste",
         "marker": {
          "color": "#636efa",
          "pattern": {
           "shape": ""
          }
         },
         "name": "Centro-Oeste",
         "offsetgroup": "Centro-Oeste",
         "orientation": "v",
         "showlegend": true,
         "textposition": "auto",
         "x": [
          2016,
          2017,
          2018,
          2019,
          2020,
          2021,
          2022
         ],
         "xaxis": "x",
         "y": [
          602356,
          573688,
          585492,
          593504,
          611088,
          643082,
          622571
         ],
         "yaxis": "y",
         "type": "bar"
        },
        {
         "alignmentgroup": "True",
         "hovertemplate": "Região geográfica=Norte<br>Ano=%{x}<br>Quantidade de matrículas=%{y}<extra></extra>",
         "legendgroup": "Norte",
         "marker": {
          "color": "#EF553B",
          "pattern": {
           "shape": ""
          }
         },
         "name": "Norte",
         "offsetgroup": "Norte",
         "orientation": "v",
         "showlegend": true,
         "textposition": "auto",
         "x": [
          2016,
          2017,
          2018,
          2019,
          2020,
          2021,
          2022
         ],
         "xaxis": "x",
         "y": [
          792783,
          785009,
          783745,
          781394,
          786136,
          842008,
          806098
         ],
         "yaxis": "y",
         "type": "bar"
        },
        {
         "alignmentgroup": "True",
         "hovertemplate": "Região geográfica=Nordeste<br>Ano=%{x}<br>Quantidade de matrículas=%{y}<extra></extra>",
         "legendgroup": "Nordeste",
         "marker": {
          "color": "#00cc96",
          "pattern": {
           "shape": ""
          }
         },
         "name": "Nordeste",
         "offsetgroup": "Nordeste",
         "orientation": "v",
         "showlegend": true,
         "textposition": "auto",
         "x": [
          2016,
          2017,
          2018,
          2019,
          2020,
          2021,
          2022
         ],
         "xaxis": "x",
         "y": [
          2245524,
          2220128,
          2183818,
          2112466,
          2130375,
          2246336,
          2169684
         ],
         "yaxis": "y",
         "type": "bar"
        },
        {
         "alignmentgroup": "True",
         "hovertemplate": "Região geográfica=Sudeste<br>Ano=%{x}<br>Quantidade de matrículas=%{y}<extra></extra>",
         "legendgroup": "Sudeste",
         "marker": {
          "color": "#ab63fa",
          "pattern": {
           "shape": ""
          }
         },
         "name": "Sudeste",
         "offsetgroup": "Sudeste",
         "orientation": "v",
         "showlegend": true,
         "textposition": "auto",
         "x": [
          2016,
          2017,
          2018,
          2019,
          2020,
          2021,
          2022
         ],
         "xaxis": "x",
         "y": [
          3441661,
          3342363,
          3151377,
          2992471,
          2999693,
          3047571,
          3210050
         ],
         "yaxis": "y",
         "type": "bar"
        },
        {
         "alignmentgroup": "True",
         "hovertemplate": "Região geográfica=Sul<br>Ano=%{x}<br>Quantidade de matrículas=%{y}<extra></extra>",
         "legendgroup": "Sul",
         "marker": {
          "color": "#FFA15A",
          "pattern": {
           "shape": ""
          }
         },
         "name": "Sul",
         "offsetgroup": "Sul",
         "orientation": "v",
         "showlegend": true,
         "textposition": "auto",
         "x": [
          2016,
          2017,
          2018,
          2019,
          2020,
          2021,
          2022
         ],
         "xaxis": "x",
         "y": [
          1050716,
          1009196,
          1005497,
          986056,
          1023461,
          991560,
          1058292
         ],
         "yaxis": "y",
         "type": "bar"
        }
       ],
       "layout": {
        "template": {
         "data": {
          "histogram2dcontour": [
           {
            "type": "histogram2dcontour",
            "colorbar": {
             "outlinewidth": 0,
             "ticks": ""
            },
            "colorscale": [
             [
              0.0,
              "#0d0887"
             ],
             [
              0.1111111111111111,
              "#46039f"
             ],
             [
              0.2222222222222222,
              "#7201a8"
             ],
             [
              0.3333333333333333,
              "#9c179e"
             ],
             [
              0.4444444444444444,
              "#bd3786"
             ],
             [
              0.5555555555555556,
              "#d8576b"
             ],
             [
              0.6666666666666666,
              "#ed7953"
             ],
             [
              0.7777777777777778,
              "#fb9f3a"
             ],
             [
              0.8888888888888888,
              "#fdca26"
             ],
             [
              1.0,
              "#f0f921"
             ]
            ]
           }
          ],
          "choropleth": [
           {
            "type": "choropleth",
            "colorbar": {
             "outlinewidth": 0,
             "ticks": ""
            }
           }
          ],
          "histogram2d": [
           {
            "type": "histogram2d",
            "colorbar": {
             "outlinewidth": 0,
             "ticks": ""
            },
            "colorscale": [
             [
              0.0,
              "#0d0887"
             ],
             [
              0.1111111111111111,
              "#46039f"
             ],
             [
              0.2222222222222222,
              "#7201a8"
             ],
             [
              0.3333333333333333,
              "#9c179e"
             ],
             [
              0.4444444444444444,
              "#bd3786"
             ],
             [
              0.5555555555555556,
              "#d8576b"
             ],
             [
              0.6666666666666666,
              "#ed7953"
             ],
             [
              0.7777777777777778,
              "#fb9f3a"
             ],
             [
              0.8888888888888888,
              "#fdca26"
             ],
             [
              1.0,
              "#f0f921"
             ]
            ]
           }
          ],
          "heatmap": [
           {
            "type": "heatmap",
            "colorbar": {
             "outlinewidth": 0,
             "ticks": ""
            },
            "colorscale": [
             [
              0.0,
              "#0d0887"
             ],
             [
              0.1111111111111111,
              "#46039f"
             ],
             [
              0.2222222222222222,
              "#7201a8"
             ],
             [
              0.3333333333333333,
              "#9c179e"
             ],
             [
              0.4444444444444444,
              "#bd3786"
             ],
             [
              0.5555555555555556,
              "#d8576b"
             ],
             [
              0.6666666666666666,
              "#ed7953"
             ],
             [
              0.7777777777777778,
              "#fb9f3a"
             ],
             [
              0.8888888888888888,
              "#fdca26"
             ],
             [
              1.0,
              "#f0f921"
             ]
            ]
           }
          ],
          "heatmapgl": [
           {
            "type": "heatmapgl",
            "colorbar": {
             "outlinewidth": 0,
             "ticks": ""
            },
            "colorscale": [
             [
              0.0,
              "#0d0887"
             ],
             [
              0.1111111111111111,
              "#46039f"
             ],
             [
              0.2222222222222222,
              "#7201a8"
             ],
             [
              0.3333333333333333,
              "#9c179e"
             ],
             [
              0.4444444444444444,
              "#bd3786"
             ],
             [
              0.5555555555555556,
              "#d8576b"
             ],
             [
              0.6666666666666666,
              "#ed7953"
             ],
             [
              0.7777777777777778,
              "#fb9f3a"
             ],
             [
              0.8888888888888888,
              "#fdca26"
             ],
             [
              1.0,
              "#f0f921"
             ]
            ]
           }
          ],
          "contourcarpet": [
           {
            "type": "contourcarpet",
            "colorbar": {
             "outlinewidth": 0,
             "ticks": ""
            }
           }
          ],
          "contour": [
           {
            "type": "contour",
            "colorbar": {
             "outlinewidth": 0,
             "ticks": ""
            },
            "colorscale": [
             [
              0.0,
              "#0d0887"
             ],
             [
              0.1111111111111111,
              "#46039f"
             ],
             [
              0.2222222222222222,
              "#7201a8"
             ],
             [
              0.3333333333333333,
              "#9c179e"
             ],
             [
              0.4444444444444444,
              "#bd3786"
             ],
             [
              0.5555555555555556,
              "#d8576b"
             ],
             [
              0.6666666666666666,
              "#ed7953"
             ],
             [
              0.7777777777777778,
              "#fb9f3a"
             ],
             [
              0.8888888888888888,
              "#fdca26"
             ],
             [
              1.0,
              "#f0f921"
             ]
            ]
           }
          ],
          "surface": [
           {
            "type": "surface",
            "colorbar": {
             "outlinewidth": 0,
             "ticks": ""
            },
            "colorscale": [
             [
              0.0,
              "#0d0887"
             ],
             [
              0.1111111111111111,
              "#46039f"
             ],
             [
              0.2222222222222222,
              "#7201a8"
             ],
             [
              0.3333333333333333,
              "#9c179e"
             ],
             [
              0.4444444444444444,
              "#bd3786"
             ],
             [
              0.5555555555555556,
              "#d8576b"
             ],
             [
              0.6666666666666666,
              "#ed7953"
             ],
             [
              0.7777777777777778,
              "#fb9f3a"
             ],
             [
              0.8888888888888888,
              "#fdca26"
             ],
             [
              1.0,
              "#f0f921"
             ]
            ]
           }
          ],
          "mesh3d": [
           {
            "type": "mesh3d",
            "colorbar": {
             "outlinewidth": 0,
             "ticks": ""
            }
           }
          ],
          "scatter": [
           {
            "fillpattern": {
             "fillmode": "overlay",
             "size": 10,
             "solidity": 0.2
            },
            "type": "scatter"
           }
          ],
          "parcoords": [
           {
            "type": "parcoords",
            "line": {
             "colorbar": {
              "outlinewidth": 0,
              "ticks": ""
             }
            }
           }
          ],
          "scatterpolargl": [
           {
            "type": "scatterpolargl",
            "marker": {
             "colorbar": {
              "outlinewidth": 0,
              "ticks": ""
             }
            }
           }
          ],
          "bar": [
           {
            "error_x": {
             "color": "#2a3f5f"
            },
            "error_y": {
             "color": "#2a3f5f"
            },
            "marker": {
             "line": {
              "color": "#E5ECF6",
              "width": 0.5
             },
             "pattern": {
              "fillmode": "overlay",
              "size": 10,
              "solidity": 0.2
             }
            },
            "type": "bar"
           }
          ],
          "scattergeo": [
           {
            "type": "scattergeo",
            "marker": {
             "colorbar": {
              "outlinewidth": 0,
              "ticks": ""
             }
            }
           }
          ],
          "scatterpolar": [
           {
            "type": "scatterpolar",
            "marker": {
             "colorbar": {
              "outlinewidth": 0,
              "ticks": ""
             }
            }
           }
          ],
          "histogram": [
           {
            "marker": {
             "pattern": {
              "fillmode": "overlay",
              "size": 10,
              "solidity": 0.2
             }
            },
            "type": "histogram"
           }
          ],
          "scattergl": [
           {
            "type": "scattergl",
            "marker": {
             "colorbar": {
              "outlinewidth": 0,
              "ticks": ""
             }
            }
           }
          ],
          "scatter3d": [
           {
            "type": "scatter3d",
            "line": {
             "colorbar": {
              "outlinewidth": 0,
              "ticks": ""
             }
            },
            "marker": {
             "colorbar": {
              "outlinewidth": 0,
              "ticks": ""
             }
            }
           }
          ],
          "scattermapbox": [
           {
            "type": "scattermapbox",
            "marker": {
             "colorbar": {
              "outlinewidth": 0,
              "ticks": ""
             }
            }
           }
          ],
          "scatterternary": [
           {
            "type": "scatterternary",
            "marker": {
             "colorbar": {
              "outlinewidth": 0,
              "ticks": ""
             }
            }
           }
          ],
          "scattercarpet": [
           {
            "type": "scattercarpet",
            "marker": {
             "colorbar": {
              "outlinewidth": 0,
              "ticks": ""
             }
            }
           }
          ],
          "carpet": [
           {
            "aaxis": {
             "endlinecolor": "#2a3f5f",
             "gridcolor": "white",
             "linecolor": "white",
             "minorgridcolor": "white",
             "startlinecolor": "#2a3f5f"
            },
            "baxis": {
             "endlinecolor": "#2a3f5f",
             "gridcolor": "white",
             "linecolor": "white",
             "minorgridcolor": "white",
             "startlinecolor": "#2a3f5f"
            },
            "type": "carpet"
           }
          ],
          "table": [
           {
            "cells": {
             "fill": {
              "color": "#EBF0F8"
             },
             "line": {
              "color": "white"
             }
            },
            "header": {
             "fill": {
              "color": "#C8D4E3"
             },
             "line": {
              "color": "white"
             }
            },
            "type": "table"
           }
          ],
          "barpolar": [
           {
            "marker": {
             "line": {
              "color": "#E5ECF6",
              "width": 0.5
             },
             "pattern": {
              "fillmode": "overlay",
              "size": 10,
              "solidity": 0.2
             }
            },
            "type": "barpolar"
           }
          ],
          "pie": [
           {
            "automargin": true,
            "type": "pie"
           }
          ]
         },
         "layout": {
          "autotypenumbers": "strict",
          "colorway": [
           "#636efa",
           "#EF553B",
           "#00cc96",
           "#ab63fa",
           "#FFA15A",
           "#19d3f3",
           "#FF6692",
           "#B6E880",
           "#FF97FF",
           "#FECB52"
          ],
          "font": {
           "color": "#2a3f5f"
          },
          "hovermode": "closest",
          "hoverlabel": {
           "align": "left"
          },
          "paper_bgcolor": "white",
          "plot_bgcolor": "#E5ECF6",
          "polar": {
           "bgcolor": "#E5ECF6",
           "angularaxis": {
            "gridcolor": "white",
            "linecolor": "white",
            "ticks": ""
           },
           "radialaxis": {
            "gridcolor": "white",
            "linecolor": "white",
            "ticks": ""
           }
          },
          "ternary": {
           "bgcolor": "#E5ECF6",
           "aaxis": {
            "gridcolor": "white",
            "linecolor": "white",
            "ticks": ""
           },
           "baxis": {
            "gridcolor": "white",
            "linecolor": "white",
            "ticks": ""
           },
           "caxis": {
            "gridcolor": "white",
            "linecolor": "white",
            "ticks": ""
           }
          },
          "coloraxis": {
           "colorbar": {
            "outlinewidth": 0,
            "ticks": ""
           }
          },
          "colorscale": {
           "sequential": [
            [
             0.0,
             "#0d0887"
            ],
            [
             0.1111111111111111,
             "#46039f"
            ],
            [
             0.2222222222222222,
             "#7201a8"
            ],
            [
             0.3333333333333333,
             "#9c179e"
            ],
            [
             0.4444444444444444,
             "#bd3786"
            ],
            [
             0.5555555555555556,
             "#d8576b"
            ],
            [
             0.6666666666666666,
             "#ed7953"
            ],
            [
             0.7777777777777778,
             "#fb9f3a"
            ],
            [
             0.8888888888888888,
             "#fdca26"
            ],
            [
             1.0,
             "#f0f921"
            ]
           ],
           "sequentialminus": [
            [
             0.0,
             "#0d0887"
            ],
            [
             0.1111111111111111,
             "#46039f"
            ],
            [
             0.2222222222222222,
             "#7201a8"
            ],
            [
             0.3333333333333333,
             "#9c179e"
            ],
            [
             0.4444444444444444,
             "#bd3786"
            ],
            [
             0.5555555555555556,
             "#d8576b"
            ],
            [
             0.6666666666666666,
             "#ed7953"
            ],
            [
             0.7777777777777778,
             "#fb9f3a"
            ],
            [
             0.8888888888888888,
             "#fdca26"
            ],
            [
             1.0,
             "#f0f921"
            ]
           ],
           "diverging": [
            [
             0,
             "#8e0152"
            ],
            [
             0.1,
             "#c51b7d"
            ],
            [
             0.2,
             "#de77ae"
            ],
            [
             0.3,
             "#f1b6da"
            ],
            [
             0.4,
             "#fde0ef"
            ],
            [
             0.5,
             "#f7f7f7"
            ],
            [
             0.6,
             "#e6f5d0"
            ],
            [
             0.7,
             "#b8e186"
            ],
            [
             0.8,
             "#7fbc41"
            ],
            [
             0.9,
             "#4d9221"
            ],
            [
             1,
             "#276419"
            ]
           ]
          },
          "xaxis": {
           "gridcolor": "white",
           "linecolor": "white",
           "ticks": "",
           "title": {
            "standoff": 15
           },
           "zerolinecolor": "white",
           "automargin": true,
           "zerolinewidth": 2
          },
          "yaxis": {
           "gridcolor": "white",
           "linecolor": "white",
           "ticks": "",
           "title": {
            "standoff": 15
           },
           "zerolinecolor": "white",
           "automargin": true,
           "zerolinewidth": 2
          },
          "scene": {
           "xaxis": {
            "backgroundcolor": "#E5ECF6",
            "gridcolor": "white",
            "linecolor": "white",
            "showbackground": true,
            "ticks": "",
            "zerolinecolor": "white",
            "gridwidth": 2
           },
           "yaxis": {
            "backgroundcolor": "#E5ECF6",
            "gridcolor": "white",
            "linecolor": "white",
            "showbackground": true,
            "ticks": "",
            "zerolinecolor": "white",
            "gridwidth": 2
           },
           "zaxis": {
            "backgroundcolor": "#E5ECF6",
            "gridcolor": "white",
            "linecolor": "white",
            "showbackground": true,
            "ticks": "",
            "zerolinecolor": "white",
            "gridwidth": 2
           }
          },
          "shapedefaults": {
           "line": {
            "color": "#2a3f5f"
           }
          },
          "annotationdefaults": {
           "arrowcolor": "#2a3f5f",
           "arrowhead": 0,
           "arrowwidth": 1
          },
          "geo": {
           "bgcolor": "white",
           "landcolor": "#E5ECF6",
           "subunitcolor": "white",
           "showland": true,
           "showlakes": true,
           "lakecolor": "white"
          },
          "title": {
           "x": 0.05
          },
          "mapbox": {
           "style": "light"
          }
         }
        },
        "xaxis": {
         "anchor": "y",
         "domain": [
          0.0,
          1.0
         ],
         "title": {
          "text": "Ano"
         }
        },
        "yaxis": {
         "anchor": "x",
         "domain": [
          0.0,
          1.0
         ],
         "title": {
          "text": "Quantidade de matrículas"
         }
        },
        "legend": {
         "title": {
          "text": "Região geográfica"
         },
         "tracegroupgap": 0
        },
        "title": {
         "text": "Quantidade de matrículas de Ensino Médio por região geográfica"
        },
        "barmode": "relative"
       },
       "config": {
        "plotlyServerURL": "https://plot.ly"
       }
      },
      "text/html": "<div>                            <div id=\"a5209fbc-3554-479c-8c30-af39b0791b49\" class=\"plotly-graph-div\" style=\"height:525px; width:100%;\"></div>            <script type=\"text/javascript\">                require([\"plotly\"], function(Plotly) {                    window.PLOTLYENV=window.PLOTLYENV || {};                                    if (document.getElementById(\"a5209fbc-3554-479c-8c30-af39b0791b49\")) {                    Plotly.newPlot(                        \"a5209fbc-3554-479c-8c30-af39b0791b49\",                        [{\"alignmentgroup\":\"True\",\"hovertemplate\":\"Regi\\u00e3o geogr\\u00e1fica=Centro-Oeste<br>Ano=%{x}<br>Quantidade de matr\\u00edculas=%{y}<extra></extra>\",\"legendgroup\":\"Centro-Oeste\",\"marker\":{\"color\":\"#636efa\",\"pattern\":{\"shape\":\"\"}},\"name\":\"Centro-Oeste\",\"offsetgroup\":\"Centro-Oeste\",\"orientation\":\"v\",\"showlegend\":true,\"textposition\":\"auto\",\"x\":[2016,2017,2018,2019,2020,2021,2022],\"xaxis\":\"x\",\"y\":[602356,573688,585492,593504,611088,643082,622571],\"yaxis\":\"y\",\"type\":\"bar\"},{\"alignmentgroup\":\"True\",\"hovertemplate\":\"Regi\\u00e3o geogr\\u00e1fica=Norte<br>Ano=%{x}<br>Quantidade de matr\\u00edculas=%{y}<extra></extra>\",\"legendgroup\":\"Norte\",\"marker\":{\"color\":\"#EF553B\",\"pattern\":{\"shape\":\"\"}},\"name\":\"Norte\",\"offsetgroup\":\"Norte\",\"orientation\":\"v\",\"showlegend\":true,\"textposition\":\"auto\",\"x\":[2016,2017,2018,2019,2020,2021,2022],\"xaxis\":\"x\",\"y\":[792783,785009,783745,781394,786136,842008,806098],\"yaxis\":\"y\",\"type\":\"bar\"},{\"alignmentgroup\":\"True\",\"hovertemplate\":\"Regi\\u00e3o geogr\\u00e1fica=Nordeste<br>Ano=%{x}<br>Quantidade de matr\\u00edculas=%{y}<extra></extra>\",\"legendgroup\":\"Nordeste\",\"marker\":{\"color\":\"#00cc96\",\"pattern\":{\"shape\":\"\"}},\"name\":\"Nordeste\",\"offsetgroup\":\"Nordeste\",\"orientation\":\"v\",\"showlegend\":true,\"textposition\":\"auto\",\"x\":[2016,2017,2018,2019,2020,2021,2022],\"xaxis\":\"x\",\"y\":[2245524,2220128,2183818,2112466,2130375,2246336,2169684],\"yaxis\":\"y\",\"type\":\"bar\"},{\"alignmentgroup\":\"True\",\"hovertemplate\":\"Regi\\u00e3o geogr\\u00e1fica=Sudeste<br>Ano=%{x}<br>Quantidade de matr\\u00edculas=%{y}<extra></extra>\",\"legendgroup\":\"Sudeste\",\"marker\":{\"color\":\"#ab63fa\",\"pattern\":{\"shape\":\"\"}},\"name\":\"Sudeste\",\"offsetgroup\":\"Sudeste\",\"orientation\":\"v\",\"showlegend\":true,\"textposition\":\"auto\",\"x\":[2016,2017,2018,2019,2020,2021,2022],\"xaxis\":\"x\",\"y\":[3441661,3342363,3151377,2992471,2999693,3047571,3210050],\"yaxis\":\"y\",\"type\":\"bar\"},{\"alignmentgroup\":\"True\",\"hovertemplate\":\"Regi\\u00e3o geogr\\u00e1fica=Sul<br>Ano=%{x}<br>Quantidade de matr\\u00edculas=%{y}<extra></extra>\",\"legendgroup\":\"Sul\",\"marker\":{\"color\":\"#FFA15A\",\"pattern\":{\"shape\":\"\"}},\"name\":\"Sul\",\"offsetgroup\":\"Sul\",\"orientation\":\"v\",\"showlegend\":true,\"textposition\":\"auto\",\"x\":[2016,2017,2018,2019,2020,2021,2022],\"xaxis\":\"x\",\"y\":[1050716,1009196,1005497,986056,1023461,991560,1058292],\"yaxis\":\"y\",\"type\":\"bar\"}],                        {\"template\":{\"data\":{\"histogram2dcontour\":[{\"type\":\"histogram2dcontour\",\"colorbar\":{\"outlinewidth\":0,\"ticks\":\"\"},\"colorscale\":[[0.0,\"#0d0887\"],[0.1111111111111111,\"#46039f\"],[0.2222222222222222,\"#7201a8\"],[0.3333333333333333,\"#9c179e\"],[0.4444444444444444,\"#bd3786\"],[0.5555555555555556,\"#d8576b\"],[0.6666666666666666,\"#ed7953\"],[0.7777777777777778,\"#fb9f3a\"],[0.8888888888888888,\"#fdca26\"],[1.0,\"#f0f921\"]]}],\"choropleth\":[{\"type\":\"choropleth\",\"colorbar\":{\"outlinewidth\":0,\"ticks\":\"\"}}],\"histogram2d\":[{\"type\":\"histogram2d\",\"colorbar\":{\"outlinewidth\":0,\"ticks\":\"\"},\"colorscale\":[[0.0,\"#0d0887\"],[0.1111111111111111,\"#46039f\"],[0.2222222222222222,\"#7201a8\"],[0.3333333333333333,\"#9c179e\"],[0.4444444444444444,\"#bd3786\"],[0.5555555555555556,\"#d8576b\"],[0.6666666666666666,\"#ed7953\"],[0.7777777777777778,\"#fb9f3a\"],[0.8888888888888888,\"#fdca26\"],[1.0,\"#f0f921\"]]}],\"heatmap\":[{\"type\":\"heatmap\",\"colorbar\":{\"outlinewidth\":0,\"ticks\":\"\"},\"colorscale\":[[0.0,\"#0d0887\"],[0.1111111111111111,\"#46039f\"],[0.2222222222222222,\"#7201a8\"],[0.3333333333333333,\"#9c179e\"],[0.4444444444444444,\"#bd3786\"],[0.5555555555555556,\"#d8576b\"],[0.6666666666666666,\"#ed7953\"],[0.7777777777777778,\"#fb9f3a\"],[0.8888888888888888,\"#fdca26\"],[1.0,\"#f0f921\"]]}],\"heatmapgl\":[{\"type\":\"heatmapgl\",\"colorbar\":{\"outlinewidth\":0,\"ticks\":\"\"},\"colorscale\":[[0.0,\"#0d0887\"],[0.1111111111111111,\"#46039f\"],[0.2222222222222222,\"#7201a8\"],[0.3333333333333333,\"#9c179e\"],[0.4444444444444444,\"#bd3786\"],[0.5555555555555556,\"#d8576b\"],[0.6666666666666666,\"#ed7953\"],[0.7777777777777778,\"#fb9f3a\"],[0.8888888888888888,\"#fdca26\"],[1.0,\"#f0f921\"]]}],\"contourcarpet\":[{\"type\":\"contourcarpet\",\"colorbar\":{\"outlinewidth\":0,\"ticks\":\"\"}}],\"contour\":[{\"type\":\"contour\",\"colorbar\":{\"outlinewidth\":0,\"ticks\":\"\"},\"colorscale\":[[0.0,\"#0d0887\"],[0.1111111111111111,\"#46039f\"],[0.2222222222222222,\"#7201a8\"],[0.3333333333333333,\"#9c179e\"],[0.4444444444444444,\"#bd3786\"],[0.5555555555555556,\"#d8576b\"],[0.6666666666666666,\"#ed7953\"],[0.7777777777777778,\"#fb9f3a\"],[0.8888888888888888,\"#fdca26\"],[1.0,\"#f0f921\"]]}],\"surface\":[{\"type\":\"surface\",\"colorbar\":{\"outlinewidth\":0,\"ticks\":\"\"},\"colorscale\":[[0.0,\"#0d0887\"],[0.1111111111111111,\"#46039f\"],[0.2222222222222222,\"#7201a8\"],[0.3333333333333333,\"#9c179e\"],[0.4444444444444444,\"#bd3786\"],[0.5555555555555556,\"#d8576b\"],[0.6666666666666666,\"#ed7953\"],[0.7777777777777778,\"#fb9f3a\"],[0.8888888888888888,\"#fdca26\"],[1.0,\"#f0f921\"]]}],\"mesh3d\":[{\"type\":\"mesh3d\",\"colorbar\":{\"outlinewidth\":0,\"ticks\":\"\"}}],\"scatter\":[{\"fillpattern\":{\"fillmode\":\"overlay\",\"size\":10,\"solidity\":0.2},\"type\":\"scatter\"}],\"parcoords\":[{\"type\":\"parcoords\",\"line\":{\"colorbar\":{\"outlinewidth\":0,\"ticks\":\"\"}}}],\"scatterpolargl\":[{\"type\":\"scatterpolargl\",\"marker\":{\"colorbar\":{\"outlinewidth\":0,\"ticks\":\"\"}}}],\"bar\":[{\"error_x\":{\"color\":\"#2a3f5f\"},\"error_y\":{\"color\":\"#2a3f5f\"},\"marker\":{\"line\":{\"color\":\"#E5ECF6\",\"width\":0.5},\"pattern\":{\"fillmode\":\"overlay\",\"size\":10,\"solidity\":0.2}},\"type\":\"bar\"}],\"scattergeo\":[{\"type\":\"scattergeo\",\"marker\":{\"colorbar\":{\"outlinewidth\":0,\"ticks\":\"\"}}}],\"scatterpolar\":[{\"type\":\"scatterpolar\",\"marker\":{\"colorbar\":{\"outlinewidth\":0,\"ticks\":\"\"}}}],\"histogram\":[{\"marker\":{\"pattern\":{\"fillmode\":\"overlay\",\"size\":10,\"solidity\":0.2}},\"type\":\"histogram\"}],\"scattergl\":[{\"type\":\"scattergl\",\"marker\":{\"colorbar\":{\"outlinewidth\":0,\"ticks\":\"\"}}}],\"scatter3d\":[{\"type\":\"scatter3d\",\"line\":{\"colorbar\":{\"outlinewidth\":0,\"ticks\":\"\"}},\"marker\":{\"colorbar\":{\"outlinewidth\":0,\"ticks\":\"\"}}}],\"scattermapbox\":[{\"type\":\"scattermapbox\",\"marker\":{\"colorbar\":{\"outlinewidth\":0,\"ticks\":\"\"}}}],\"scatterternary\":[{\"type\":\"scatterternary\",\"marker\":{\"colorbar\":{\"outlinewidth\":0,\"ticks\":\"\"}}}],\"scattercarpet\":[{\"type\":\"scattercarpet\",\"marker\":{\"colorbar\":{\"outlinewidth\":0,\"ticks\":\"\"}}}],\"carpet\":[{\"aaxis\":{\"endlinecolor\":\"#2a3f5f\",\"gridcolor\":\"white\",\"linecolor\":\"white\",\"minorgridcolor\":\"white\",\"startlinecolor\":\"#2a3f5f\"},\"baxis\":{\"endlinecolor\":\"#2a3f5f\",\"gridcolor\":\"white\",\"linecolor\":\"white\",\"minorgridcolor\":\"white\",\"startlinecolor\":\"#2a3f5f\"},\"type\":\"carpet\"}],\"table\":[{\"cells\":{\"fill\":{\"color\":\"#EBF0F8\"},\"line\":{\"color\":\"white\"}},\"header\":{\"fill\":{\"color\":\"#C8D4E3\"},\"line\":{\"color\":\"white\"}},\"type\":\"table\"}],\"barpolar\":[{\"marker\":{\"line\":{\"color\":\"#E5ECF6\",\"width\":0.5},\"pattern\":{\"fillmode\":\"overlay\",\"size\":10,\"solidity\":0.2}},\"type\":\"barpolar\"}],\"pie\":[{\"automargin\":true,\"type\":\"pie\"}]},\"layout\":{\"autotypenumbers\":\"strict\",\"colorway\":[\"#636efa\",\"#EF553B\",\"#00cc96\",\"#ab63fa\",\"#FFA15A\",\"#19d3f3\",\"#FF6692\",\"#B6E880\",\"#FF97FF\",\"#FECB52\"],\"font\":{\"color\":\"#2a3f5f\"},\"hovermode\":\"closest\",\"hoverlabel\":{\"align\":\"left\"},\"paper_bgcolor\":\"white\",\"plot_bgcolor\":\"#E5ECF6\",\"polar\":{\"bgcolor\":\"#E5ECF6\",\"angularaxis\":{\"gridcolor\":\"white\",\"linecolor\":\"white\",\"ticks\":\"\"},\"radialaxis\":{\"gridcolor\":\"white\",\"linecolor\":\"white\",\"ticks\":\"\"}},\"ternary\":{\"bgcolor\":\"#E5ECF6\",\"aaxis\":{\"gridcolor\":\"white\",\"linecolor\":\"white\",\"ticks\":\"\"},\"baxis\":{\"gridcolor\":\"white\",\"linecolor\":\"white\",\"ticks\":\"\"},\"caxis\":{\"gridcolor\":\"white\",\"linecolor\":\"white\",\"ticks\":\"\"}},\"coloraxis\":{\"colorbar\":{\"outlinewidth\":0,\"ticks\":\"\"}},\"colorscale\":{\"sequential\":[[0.0,\"#0d0887\"],[0.1111111111111111,\"#46039f\"],[0.2222222222222222,\"#7201a8\"],[0.3333333333333333,\"#9c179e\"],[0.4444444444444444,\"#bd3786\"],[0.5555555555555556,\"#d8576b\"],[0.6666666666666666,\"#ed7953\"],[0.7777777777777778,\"#fb9f3a\"],[0.8888888888888888,\"#fdca26\"],[1.0,\"#f0f921\"]],\"sequentialminus\":[[0.0,\"#0d0887\"],[0.1111111111111111,\"#46039f\"],[0.2222222222222222,\"#7201a8\"],[0.3333333333333333,\"#9c179e\"],[0.4444444444444444,\"#bd3786\"],[0.5555555555555556,\"#d8576b\"],[0.6666666666666666,\"#ed7953\"],[0.7777777777777778,\"#fb9f3a\"],[0.8888888888888888,\"#fdca26\"],[1.0,\"#f0f921\"]],\"diverging\":[[0,\"#8e0152\"],[0.1,\"#c51b7d\"],[0.2,\"#de77ae\"],[0.3,\"#f1b6da\"],[0.4,\"#fde0ef\"],[0.5,\"#f7f7f7\"],[0.6,\"#e6f5d0\"],[0.7,\"#b8e186\"],[0.8,\"#7fbc41\"],[0.9,\"#4d9221\"],[1,\"#276419\"]]},\"xaxis\":{\"gridcolor\":\"white\",\"linecolor\":\"white\",\"ticks\":\"\",\"title\":{\"standoff\":15},\"zerolinecolor\":\"white\",\"automargin\":true,\"zerolinewidth\":2},\"yaxis\":{\"gridcolor\":\"white\",\"linecolor\":\"white\",\"ticks\":\"\",\"title\":{\"standoff\":15},\"zerolinecolor\":\"white\",\"automargin\":true,\"zerolinewidth\":2},\"scene\":{\"xaxis\":{\"backgroundcolor\":\"#E5ECF6\",\"gridcolor\":\"white\",\"linecolor\":\"white\",\"showbackground\":true,\"ticks\":\"\",\"zerolinecolor\":\"white\",\"gridwidth\":2},\"yaxis\":{\"backgroundcolor\":\"#E5ECF6\",\"gridcolor\":\"white\",\"linecolor\":\"white\",\"showbackground\":true,\"ticks\":\"\",\"zerolinecolor\":\"white\",\"gridwidth\":2},\"zaxis\":{\"backgroundcolor\":\"#E5ECF6\",\"gridcolor\":\"white\",\"linecolor\":\"white\",\"showbackground\":true,\"ticks\":\"\",\"zerolinecolor\":\"white\",\"gridwidth\":2}},\"shapedefaults\":{\"line\":{\"color\":\"#2a3f5f\"}},\"annotationdefaults\":{\"arrowcolor\":\"#2a3f5f\",\"arrowhead\":0,\"arrowwidth\":1},\"geo\":{\"bgcolor\":\"white\",\"landcolor\":\"#E5ECF6\",\"subunitcolor\":\"white\",\"showland\":true,\"showlakes\":true,\"lakecolor\":\"white\"},\"title\":{\"x\":0.05},\"mapbox\":{\"style\":\"light\"}}},\"xaxis\":{\"anchor\":\"y\",\"domain\":[0.0,1.0],\"title\":{\"text\":\"Ano\"}},\"yaxis\":{\"anchor\":\"x\",\"domain\":[0.0,1.0],\"title\":{\"text\":\"Quantidade de matr\\u00edculas\"}},\"legend\":{\"title\":{\"text\":\"Regi\\u00e3o geogr\\u00e1fica\"},\"tracegroupgap\":0},\"title\":{\"text\":\"Quantidade de matr\\u00edculas de Ensino M\\u00e9dio por regi\\u00e3o geogr\\u00e1fica\"},\"barmode\":\"relative\"},                        {\"responsive\": true}                    ).then(function(){\n                            \nvar gd = document.getElementById('a5209fbc-3554-479c-8c30-af39b0791b49');\nvar x = new MutationObserver(function (mutations, observer) {{\n        var display = window.getComputedStyle(gd).display;\n        if (!display || display === 'none') {{\n            console.log([gd, 'removed!']);\n            Plotly.purge(gd);\n            observer.disconnect();\n        }}\n}});\n\n// Listen for the removal of the full notebook cells\nvar notebookContainer = gd.closest('#notebook-container');\nif (notebookContainer) {{\n    x.observe(notebookContainer, {childList: true});\n}}\n\n// Listen for the clearing of the current output cell\nvar outputEl = gd.closest('.output');\nif (outputEl) {{\n    x.observe(outputEl, {childList: true});\n}}\n\n                        })                };                });            </script>        </div>"
     },
     "metadata": {},
     "output_type": "display_data"
    }
   ],
   "source": [
    "fig, df = get_plot_quantidade_matriculas_geografico(\"Região geográfica\", \"Ensino Médio\")\n",
    "fig"
   ],
   "metadata": {
    "collapsed": false
   }
  },
  {
   "cell_type": "code",
   "execution_count": 51,
   "outputs": [
    {
     "data": {
      "text/plain": "['Adamantina',\n 'Afonso Cláudio',\n 'Aglomeração Urbana de São Luís',\n 'Agreste Potiguar',\n 'Agreste de Itabaiana',\n 'Agreste de Lagarto',\n 'Aimorés',\n 'Alagoana do Sertão do São Francisco',\n 'Alagoinhas',\n 'Alegre',\n 'Alfenas',\n 'Almeirim',\n 'Almenara',\n 'Alta Floresta',\n 'Altamira',\n 'Alto Araguaia',\n 'Alto Capibaribe',\n 'Alto Guaporé',\n 'Alto Mearim e Grajaú',\n 'Alto Médio Canindé',\n 'Alto Médio Gurguéia',\n 'Alto Pantanal',\n 'Alto Paraguai',\n 'Alto Parnaíba Piauiense',\n 'Alto Solimões',\n 'Alto Taquari',\n 'Alto Teles Pires',\n \"Alvorada D'Oeste\",\n 'Amapá',\n 'Amparo',\n 'Andradina',\n 'Andrelândia',\n 'Angicos',\n 'Anicuns',\n 'Anápolis',\n 'Apucarana',\n 'Aquidauana',\n 'Aracaju',\n 'Aragarças',\n 'Araguaína',\n 'Arapiraca',\n 'Araranguá',\n 'Araraquara',\n 'Arari',\n 'Araripina',\n 'Araxá',\n 'Araçatuba',\n 'Araçuaí',\n 'Arinos',\n 'Aripuanã',\n 'Ariquemes',\n 'Assaí',\n 'Assis',\n 'Astorga',\n 'Auriflama',\n 'Avaré',\n 'Bacia de São João',\n 'Baixa Verde',\n 'Baixada Maranhense',\n 'Baixo Cotinguiba',\n 'Baixo Curu',\n 'Baixo Jaguaribe',\n 'Baixo Pantanal',\n 'Baixo Parnaíba Maranhense',\n 'Baixo Parnaíba Piauiense',\n 'Bananal',\n 'Barbacena',\n 'Barra',\n 'Barra de São Francisco',\n 'Barra do Piraí',\n 'Barreiras',\n 'Barretos',\n 'Barro',\n 'Batalha',\n 'Batatais',\n 'Baturité',\n 'Bauru',\n 'Baía da Ilha Grande',\n 'Belo Horizonte',\n 'Belém',\n 'Bertolínia',\n 'Bico do Papagaio',\n 'Birigui',\n 'Blumenau',\n 'Boa Vista',\n 'Boca do Acre',\n 'Bocaiúva',\n 'Bodoquena',\n 'Bom Despacho',\n 'Bom Jesus da Lapa',\n 'Boquim',\n 'Boquira',\n 'Borborema Potiguar',\n 'Botucatu',\n 'Bragantina',\n 'Bragança Paulista',\n 'Brasiléia',\n 'Brasília',\n 'Brejo Paraibano',\n 'Brejo Pernambucano',\n 'Brejo Santo',\n 'Brumado',\n 'Cachoeira do Sul',\n 'Cachoeiro de Itapemirim',\n 'Cacoal',\n 'Cajazeiras',\n 'Camaquã',\n 'Cametá',\n 'Campanha Central',\n 'Campanha Meridional',\n 'Campanha Ocidental',\n 'Campina Grande',\n 'Campinas',\n 'Campo Belo',\n 'Campo Grande',\n 'Campo Maior',\n 'Campo Mourão',\n 'Campos de Lages',\n 'Campos do Jordão',\n 'Campos dos Goytacazes',\n 'Canarana',\n 'Canindé',\n 'Canoinhas',\n 'Cantagalo-Cordeiro',\n 'Capanema',\n 'Capelinha',\n 'Capão Bonito',\n 'Caracaraí',\n 'Caraguatatuba',\n 'Caratinga',\n 'Carazinho',\n 'Carira',\n 'Cariri',\n 'Cariri Ocidental',\n 'Cariri Oriental',\n 'Caririaçu',\n 'Cascavel',\n 'Cassilândia',\n 'Castanhal',\n 'Cataguases',\n 'Catalão',\n 'Catanduva',\n 'Catolé do Rocha',\n 'Catu',\n 'Caxias',\n 'Caxias do Sul',\n 'Ceres',\n 'Cerro Azul',\n 'Cerro Largo',\n 'Chapada do Apodi',\n 'Chapada do Araripe',\n 'Chapada dos Veadeiros',\n 'Chapadas das Mangabeiras',\n 'Chapadas do Alto Itapecuru',\n 'Chapadas do Extremo Sul Piauiense',\n 'Chapadinha',\n 'Chapecó',\n 'Chorozinho',\n 'Cianorte',\n 'Coari',\n 'Codó',\n 'Coelho Neto',\n 'Colatina',\n 'Colorado do Oeste',\n 'Colíder',\n 'Conceição do Araguaia',\n 'Conceição do Mato Dentro',\n 'Concórdia',\n 'Conselheiro Lafaiete',\n 'Coreaú',\n 'Cornélio Procópio',\n 'Cotegipe',\n 'Cotinguiba',\n 'Criciúma',\n 'Cruz Alta',\n 'Cruzeiro do Sul',\n 'Cuiabá',\n 'Curimataú Ocidental',\n 'Curimataú Oriental',\n 'Curitiba',\n 'Curitibanos',\n 'Curvelo',\n 'Diamantina',\n 'Dianópolis',\n 'Divinópolis',\n 'Dourados',\n 'Dracena',\n 'Entorno de Brasília',\n 'Entre Rios',\n 'Erechim',\n 'Esperança',\n 'Estância',\n 'Euclides da Cunha',\n 'Faxinal',\n 'Feira de Santana',\n 'Fernando de Noronha',\n 'Fernandópolis',\n 'Floraí',\n 'Floriano',\n 'Florianópolis',\n 'Formiga',\n 'Fortaleza',\n 'Foz do Iguaçu',\n 'Franca',\n 'Francisco Beltrão',\n 'Franco da Rocha',\n 'Frederico Westphalen',\n 'Frutal',\n 'Furos de Breves',\n 'Garanhuns',\n 'Gerais de Balsas',\n 'Goioerê',\n 'Goiânia',\n 'Governador Valadares',\n 'Gramado-Canela',\n 'Grão Mogol',\n 'Guajará-Mirim',\n 'Guamá',\n 'Guanambi',\n 'Guanhães',\n 'Guaporé',\n 'Guarabira',\n 'Guarapari',\n 'Guarapuava',\n 'Guaratinguetá',\n 'Guarulhos',\n 'Gurupi',\n 'Ibaiti',\n 'Ibiapaba',\n 'Iguatemi',\n 'Iguatu',\n 'Ijuí',\n 'Ilhéus-Itabuna',\n 'Imperatriz',\n 'Ipatinga',\n 'Iporá',\n 'Ipu',\n 'Irati',\n 'Irecê',\n 'Itabaiana',\n 'Itaberaba',\n 'Itabira',\n 'Itacoatiara',\n 'Itaguara',\n 'Itaguaí',\n 'Itaituba',\n 'Itajaí',\n 'Itajubá',\n 'Itamaracá',\n 'Itanhaém',\n 'Itaparica',\n 'Itapecerica da Serra',\n 'Itapecuru Mirim',\n 'Itapemirim',\n 'Itaperuna',\n 'Itapetinga',\n 'Itapetininga',\n 'Itapeva',\n 'Itapipoca',\n 'Itaporanga',\n 'Ituiutaba',\n 'Ituporanga',\n 'Ituverava',\n 'Ivaiporã',\n 'Jaboticabal',\n 'Jacarezinho',\n 'Jacobina',\n 'Jaguariaíva',\n 'Jaguarão',\n 'Jalapão',\n 'Jales',\n 'Janaúba',\n 'Januária',\n 'Japaratuba',\n 'Japurá',\n 'Jauru',\n 'Jaú',\n 'Jequié',\n 'Jeremoabo',\n 'Ji-Paraná',\n 'Joaçaba',\n 'Joinville',\n 'João Pessoa',\n 'Juazeiro',\n 'Juiz de Fora',\n 'Jundiaí',\n 'Juruá',\n 'Lagos',\n 'Lajeado-Estrela',\n 'Lapa',\n 'Lavras',\n 'Lavras da Mangabeira',\n 'Lençóis Maranhenses',\n 'Limeira',\n 'Linhares',\n 'Lins',\n 'Litoral Lagunar',\n 'Litoral Nordeste',\n 'Litoral Norte',\n 'Litoral Norte Alagoano',\n 'Litoral Ocidental Maranhense',\n 'Litoral Piauiense',\n 'Litoral Sul',\n 'Litoral de Aracati',\n 'Litoral de Camocim e Acaraú',\n 'Livramento do Brumado',\n 'Londrina',\n 'Macacu-Caceribu',\n 'Macapá',\n 'Macau',\n 'Macaé',\n 'Macaíba',\n 'Maceió',\n 'Madeira',\n 'Manaus',\n 'Manhuaçu',\n 'Mantena',\n 'Marabá',\n 'Maringá',\n 'Marília',\n 'Mata Alagoana',\n 'Mata Meridional Pernambucana',\n 'Mata Setentrional Pernambucana',\n 'Mazagão',\n 'Meia Ponte',\n 'Meruoca',\n 'Miracema do Tocantins',\n 'Mogi Mirim',\n 'Mogi das Cruzes',\n 'Montanha',\n 'Montenegro',\n 'Montes Claros',\n 'Mossoró',\n 'Muriaé',\n 'Médio Araguaia',\n 'Médio Capibaribe',\n 'Médio Curu',\n 'Médio Jaguaribe',\n 'Médio Mearim',\n 'Médio Oeste',\n 'Médio Parnaíba Piauiense',\n 'Nanuque',\n 'Natal',\n 'Nhandeara',\n 'Nordeste de Roraima',\n 'Norte Araguaia',\n 'Nossa Senhora das Dores',\n 'Nova Andradina',\n 'Nova Friburgo',\n 'Nova Venécia',\n 'Novo Horizonte',\n 'Não-Me-Toque',\n 'Oiapoque',\n 'Oliveira',\n 'Osasco',\n 'Osório',\n 'Ourinhos',\n 'Ouro Preto',\n 'Pacajus',\n 'Pajeú',\n 'Palmas',\n 'Palmeira dos Índios',\n 'Paracatu',\n 'Paragominas',\n 'Paraibuna/Paraitinga',\n 'Paranaguá',\n 'Paranatinga',\n 'Paranavaí',\n 'Paranaíba',\n 'Parauapebas',\n 'Parecis',\n 'Parintins',\n 'Pará de Minas',\n 'Passo Fundo',\n 'Passos',\n 'Pato Branco',\n 'Patos',\n 'Patos de Minas',\n 'Patrocínio',\n 'Pau dos Ferros',\n 'Paulo Afonso',\n 'Pedra Azul',\n 'Pelotas',\n 'Penedo',\n 'Petrolina',\n 'Peçanha',\n 'Piancó',\n 'Picos',\n 'Piedade',\n 'Pindaré',\n 'Pio IX',\n 'Piracicaba',\n 'Pirapora',\n 'Pirassununga',\n 'Pires do Rio',\n 'Pitanga',\n 'Piuí',\n 'Ponta Grossa',\n 'Ponte Nova',\n 'Porangatu',\n 'Porecatu',\n 'Portel',\n 'Porto Alegre',\n 'Porto Franco',\n 'Porto Nacional',\n 'Porto Seguro',\n 'Porto Velho',\n 'Pouso Alegre',\n 'Poços de Caldas',\n 'Presidente Dutra',\n 'Presidente Prudente',\n 'Primavera do Leste',\n 'Propriá',\n 'Prudentópolis',\n 'Purus',\n 'Quirinópolis',\n 'Recife',\n 'Redenção',\n 'Registro',\n 'Restinga Seca',\n 'Ribeira do Pombal',\n 'Ribeirão Preto',\n 'Rio Branco',\n 'Rio Claro',\n 'Rio Formoso',\n 'Rio Negro',\n 'Rio Preto da Eva',\n 'Rio Vermelho',\n 'Rio de Janeiro',\n 'Rio do Sul',\n 'Rondonópolis',\n 'Rosário',\n 'Rosário Oeste',\n 'Salgado',\n 'Salgueiro',\n 'Salinas',\n 'Salvador',\n 'Sananduva',\n 'Santa Cruz do Sul',\n 'Santa Maria',\n 'Santa Maria Madalena',\n 'Santa Maria da Vitória',\n 'Santa Quitéria',\n 'Santa Rita do Sapucaí',\n 'Santa Rosa',\n 'Santa Teresa',\n 'Santana do Ipanema',\n 'Santarém',\n 'Santiago',\n 'Santo Antônio de Jesus',\n 'Santo Antônio de Pádua',\n 'Santo Ângelo',\n 'Santos',\n 'Sapé',\n 'Seabra',\n 'Sena Madureira',\n 'Senhor do Bonfim',\n 'Sergipana do Sertão do São Francisco',\n 'Seridó Ocidental',\n 'Seridó Ocidental Paraibano',\n 'Seridó Oriental',\n 'Seridó Oriental Paraibano',\n 'Serra de Santana',\n 'Serra de São Miguel',\n 'Serra do Pereiro',\n 'Serra do Teixeira',\n 'Serrana',\n 'Serrana do Sertão Alagoano',\n 'Serrana dos Quilombos',\n 'Serras de Sudeste',\n 'Serrinha',\n 'Sertão de Cratéus',\n 'Sertão de Inhamuns',\n 'Sertão de Quixeramobim',\n 'Sertão de Senador Pompeu',\n 'Sertão do Moxotó',\n 'Sete Lagoas',\n 'Sinop',\n 'Sobral',\n 'Soledade',\n 'Sorocaba',\n 'Sousa',\n 'Suape',\n 'Sudeste de Roraima',\n 'Sudoeste de Goiás',\n 'São Bento do Sul',\n 'São Carlos',\n 'São Félix do Xingu',\n 'São Jerônimo',\n 'São Joaquim da Barra',\n 'São José do Rio Preto',\n 'São José dos Campos',\n 'São João Del Rei',\n 'São João da Boa Vista',\n 'São Lourenço',\n 'São Mateus',\n 'São Mateus do Sul',\n 'São Miguel do Araguaia',\n 'São Miguel do Oeste',\n 'São Miguel dos Campos',\n 'São Paulo',\n 'São Raimundo Nonato',\n 'São Sebastião do Paraíso',\n 'Tabuleiro',\n 'Tangará da Serra',\n 'Tarauacá',\n 'Tatuí',\n 'Tefé',\n 'Telêmaco Borba',\n 'Teresina',\n 'Tesouro',\n 'Teófilo Otoni',\n 'Tijucas',\n 'Tobias Barreto',\n 'Toledo',\n 'Tomé-Açu',\n 'Traipu',\n 'Três Lagoas',\n 'Três Marias',\n 'Três Passos',\n 'Três Rios',\n 'Tubarão',\n 'Tucuruí',\n 'Tupã',\n 'Uberaba',\n 'Uberlândia',\n 'Ubá',\n 'Umarizal',\n 'Umbuzeiro',\n 'Umuarama',\n 'Unaí',\n 'União da Vitória',\n 'Uruburetama',\n 'Vacaria',\n 'Vale do Açu',\n 'Vale do Ipanema',\n 'Vale do Ipojuca',\n 'Vale do Paraíba Fluminense',\n 'Vale do Rio dos Bois',\n 'Valença',\n 'Valença do Piauí',\n 'Varginha',\n 'Vassouras',\n 'Vilhena',\n 'Vitória',\n 'Vitória da Conquista',\n 'Vitória de Santo Antão',\n 'Viçosa',\n 'Votuporanga',\n 'Várzea Alegre',\n 'Vão do Paranã',\n 'Wenceslau Braz',\n 'Xanxerê',\n 'Óbidos']"
     },
     "execution_count": 51,
     "metadata": {},
     "output_type": "execute_result"
    }
   ],
   "source": [
    "def get_opcoes_geograficas(dimensao: str) -> list[str]:\n",
    "    column = DIMENSOES_GEOGRAFICAS[dimensao]\n",
    "    return list(np.sort(microdados.to_table(columns=[column]).to_pandas()[column].unique()))\n",
    "get_opcoes_geograficas(\"Microrregião\")"
   ],
   "metadata": {
    "collapsed": false
   }
  },
  {
   "cell_type": "code",
   "execution_count": null,
   "outputs": [],
   "source": [
    "microdados.to_table(columns=[\"NO_UF\"]).to_pandas()[\"NO_UF\"].unique()"
   ],
   "metadata": {
    "collapsed": false
   }
  },
  {
   "cell_type": "code",
   "execution_count": 35,
   "outputs": [
    {
     "data": {
      "text/plain": "<pyarrow._dataset.FileSystemDataset at 0x11d9c4520>"
     },
     "execution_count": 35,
     "metadata": {},
     "output_type": "execute_result"
    }
   ],
   "source": [
    "microdados."
   ],
   "metadata": {
    "collapsed": false
   }
  },
  {
   "cell_type": "code",
   "execution_count": 32,
   "outputs": [
    {
     "data": {
      "text/plain": "['Centro-Oeste', 'Norte', 'Nordeste', 'Sudeste', 'Sul']"
     },
     "execution_count": 32,
     "metadata": {},
     "output_type": "execute_result"
    }
   ],
   "source": [
    "regiao_geografica = list(df[\"Região geográfica\"].unique())"
   ],
   "metadata": {
    "collapsed": false
   }
  },
  {
   "cell_type": "code",
   "execution_count": 149,
   "outputs": [],
   "source": [
    "#quantidade_matriculas_geo = quantidade_matriculas_geo[quantidade_matriculas_geo[\"Região geográfica\"] == \"Norte\"]"
   ],
   "metadata": {
    "collapsed": false
   }
  },
  {
   "cell_type": "code",
   "execution_count": 150,
   "outputs": [
    {
     "data": {
      "application/vnd.plotly.v1+json": {
       "data": [
        {
         "alignmentgroup": "True",
         "hovertemplate": "Nível de ensino=Educação Básica<br>Região geográfica=%{x}<br>Quantidade de matrículas=%{y}<extra></extra>",
         "legendgroup": "Educação Básica",
         "marker": {
          "color": "#636efa",
          "pattern": {
           "shape": ""
          }
         },
         "name": "Educação Básica",
         "offsetgroup": "Educação Básica",
         "orientation": "v",
         "showlegend": true,
         "textposition": "auto",
         "x": [
          "Centro-Oeste",
          "Nordeste",
          "Norte",
          "Sudeste",
          "Sul"
         ],
         "xaxis": "x",
         "y": [
          3599393,
          13745359,
          4868765,
          18241371,
          6213513
         ],
         "yaxis": "y",
         "type": "bar"
        },
        {
         "alignmentgroup": "True",
         "hovertemplate": "Nível de ensino=Educação Infantil<br>Região geográfica=%{x}<br>Quantidade de matrículas=%{y}<extra></extra>",
         "legendgroup": "Educação Infantil",
         "marker": {
          "color": "#EF553B",
          "pattern": {
           "shape": ""
          }
         },
         "name": "Educação Infantil",
         "offsetgroup": "Educação Infantil",
         "orientation": "v",
         "showlegend": true,
         "textposition": "auto",
         "x": [
          "Centro-Oeste",
          "Nordeste",
          "Norte",
          "Sudeste",
          "Sul"
         ],
         "xaxis": "x",
         "y": [
          2102692,
          7698779,
          2955281,
          10252321,
          3506528
         ],
         "yaxis": "y",
         "type": "bar"
        },
        {
         "alignmentgroup": "True",
         "hovertemplate": "Nível de ensino=Ensino Fundamental<br>Região geográfica=%{x}<br>Quantidade de matrículas=%{y}<extra></extra>",
         "legendgroup": "Ensino Fundamental",
         "marker": {
          "color": "#00cc96",
          "pattern": {
           "shape": ""
          }
         },
         "name": "Ensino Fundamental",
         "offsetgroup": "Ensino Fundamental",
         "orientation": "v",
         "showlegend": true,
         "textposition": "auto",
         "x": [
          "Centro-Oeste",
          "Nordeste",
          "Norte",
          "Sudeste",
          "Sul"
         ],
         "xaxis": "x",
         "y": [
          643082,
          2246336,
          842008,
          3047571,
          991560
         ],
         "yaxis": "y",
         "type": "bar"
        },
        {
         "alignmentgroup": "True",
         "hovertemplate": "Nível de ensino=Ensino Médio<br>Região geográfica=%{x}<br>Quantidade de matrículas=%{y}<extra></extra>",
         "legendgroup": "Ensino Médio",
         "marker": {
          "color": "#ab63fa",
          "pattern": {
           "shape": ""
          }
         },
         "name": "Ensino Médio",
         "offsetgroup": "Ensino Médio",
         "orientation": "v",
         "showlegend": true,
         "textposition": "auto",
         "x": [
          "Centro-Oeste",
          "Nordeste",
          "Norte",
          "Sudeste",
          "Sul"
         ],
         "xaxis": "x",
         "y": [
          95318,
          612181,
          105869,
          772775,
          306315
         ],
         "yaxis": "y",
         "type": "bar"
        },
        {
         "alignmentgroup": "True",
         "hovertemplate": "Nível de ensino=Educação Profissional<br>Região geográfica=%{x}<br>Quantidade de matrículas=%{y}<extra></extra>",
         "legendgroup": "Educação Profissional",
         "marker": {
          "color": "#FFA15A",
          "pattern": {
           "shape": ""
          }
         },
         "name": "Educação Profissional",
         "offsetgroup": "Educação Profissional",
         "orientation": "v",
         "showlegend": true,
         "textposition": "auto",
         "x": [
          "Centro-Oeste",
          "Nordeste",
          "Norte",
          "Sudeste",
          "Sul"
         ],
         "xaxis": "x",
         "y": [
          93763,
          588880,
          104041,
          765272,
          299585
         ],
         "yaxis": "y",
         "type": "bar"
        },
        {
         "alignmentgroup": "True",
         "hovertemplate": "Nível de ensino=Educação de Jovens e Adultos (EJA)<br>Região geográfica=%{x}<br>Quantidade de matrículas=%{y}<extra></extra>",
         "legendgroup": "Educação de Jovens e Adultos (EJA)",
         "marker": {
          "color": "#19d3f3",
          "pattern": {
           "shape": ""
          }
         },
         "name": "Educação de Jovens e Adultos (EJA)",
         "offsetgroup": "Educação de Jovens e Adultos (EJA)",
         "orientation": "v",
         "showlegend": true,
         "textposition": "auto",
         "x": [
          "Centro-Oeste",
          "Nordeste",
          "Norte",
          "Sudeste",
          "Sul"
         ],
         "xaxis": "x",
         "y": [
          177601,
          1350172,
          335685,
          841464,
          257400
         ],
         "yaxis": "y",
         "type": "bar"
        }
       ],
       "layout": {
        "template": {
         "data": {
          "histogram2dcontour": [
           {
            "type": "histogram2dcontour",
            "colorbar": {
             "outlinewidth": 0,
             "ticks": ""
            },
            "colorscale": [
             [
              0.0,
              "#0d0887"
             ],
             [
              0.1111111111111111,
              "#46039f"
             ],
             [
              0.2222222222222222,
              "#7201a8"
             ],
             [
              0.3333333333333333,
              "#9c179e"
             ],
             [
              0.4444444444444444,
              "#bd3786"
             ],
             [
              0.5555555555555556,
              "#d8576b"
             ],
             [
              0.6666666666666666,
              "#ed7953"
             ],
             [
              0.7777777777777778,
              "#fb9f3a"
             ],
             [
              0.8888888888888888,
              "#fdca26"
             ],
             [
              1.0,
              "#f0f921"
             ]
            ]
           }
          ],
          "choropleth": [
           {
            "type": "choropleth",
            "colorbar": {
             "outlinewidth": 0,
             "ticks": ""
            }
           }
          ],
          "histogram2d": [
           {
            "type": "histogram2d",
            "colorbar": {
             "outlinewidth": 0,
             "ticks": ""
            },
            "colorscale": [
             [
              0.0,
              "#0d0887"
             ],
             [
              0.1111111111111111,
              "#46039f"
             ],
             [
              0.2222222222222222,
              "#7201a8"
             ],
             [
              0.3333333333333333,
              "#9c179e"
             ],
             [
              0.4444444444444444,
              "#bd3786"
             ],
             [
              0.5555555555555556,
              "#d8576b"
             ],
             [
              0.6666666666666666,
              "#ed7953"
             ],
             [
              0.7777777777777778,
              "#fb9f3a"
             ],
             [
              0.8888888888888888,
              "#fdca26"
             ],
             [
              1.0,
              "#f0f921"
             ]
            ]
           }
          ],
          "heatmap": [
           {
            "type": "heatmap",
            "colorbar": {
             "outlinewidth": 0,
             "ticks": ""
            },
            "colorscale": [
             [
              0.0,
              "#0d0887"
             ],
             [
              0.1111111111111111,
              "#46039f"
             ],
             [
              0.2222222222222222,
              "#7201a8"
             ],
             [
              0.3333333333333333,
              "#9c179e"
             ],
             [
              0.4444444444444444,
              "#bd3786"
             ],
             [
              0.5555555555555556,
              "#d8576b"
             ],
             [
              0.6666666666666666,
              "#ed7953"
             ],
             [
              0.7777777777777778,
              "#fb9f3a"
             ],
             [
              0.8888888888888888,
              "#fdca26"
             ],
             [
              1.0,
              "#f0f921"
             ]
            ]
           }
          ],
          "heatmapgl": [
           {
            "type": "heatmapgl",
            "colorbar": {
             "outlinewidth": 0,
             "ticks": ""
            },
            "colorscale": [
             [
              0.0,
              "#0d0887"
             ],
             [
              0.1111111111111111,
              "#46039f"
             ],
             [
              0.2222222222222222,
              "#7201a8"
             ],
             [
              0.3333333333333333,
              "#9c179e"
             ],
             [
              0.4444444444444444,
              "#bd3786"
             ],
             [
              0.5555555555555556,
              "#d8576b"
             ],
             [
              0.6666666666666666,
              "#ed7953"
             ],
             [
              0.7777777777777778,
              "#fb9f3a"
             ],
             [
              0.8888888888888888,
              "#fdca26"
             ],
             [
              1.0,
              "#f0f921"
             ]
            ]
           }
          ],
          "contourcarpet": [
           {
            "type": "contourcarpet",
            "colorbar": {
             "outlinewidth": 0,
             "ticks": ""
            }
           }
          ],
          "contour": [
           {
            "type": "contour",
            "colorbar": {
             "outlinewidth": 0,
             "ticks": ""
            },
            "colorscale": [
             [
              0.0,
              "#0d0887"
             ],
             [
              0.1111111111111111,
              "#46039f"
             ],
             [
              0.2222222222222222,
              "#7201a8"
             ],
             [
              0.3333333333333333,
              "#9c179e"
             ],
             [
              0.4444444444444444,
              "#bd3786"
             ],
             [
              0.5555555555555556,
              "#d8576b"
             ],
             [
              0.6666666666666666,
              "#ed7953"
             ],
             [
              0.7777777777777778,
              "#fb9f3a"
             ],
             [
              0.8888888888888888,
              "#fdca26"
             ],
             [
              1.0,
              "#f0f921"
             ]
            ]
           }
          ],
          "surface": [
           {
            "type": "surface",
            "colorbar": {
             "outlinewidth": 0,
             "ticks": ""
            },
            "colorscale": [
             [
              0.0,
              "#0d0887"
             ],
             [
              0.1111111111111111,
              "#46039f"
             ],
             [
              0.2222222222222222,
              "#7201a8"
             ],
             [
              0.3333333333333333,
              "#9c179e"
             ],
             [
              0.4444444444444444,
              "#bd3786"
             ],
             [
              0.5555555555555556,
              "#d8576b"
             ],
             [
              0.6666666666666666,
              "#ed7953"
             ],
             [
              0.7777777777777778,
              "#fb9f3a"
             ],
             [
              0.8888888888888888,
              "#fdca26"
             ],
             [
              1.0,
              "#f0f921"
             ]
            ]
           }
          ],
          "mesh3d": [
           {
            "type": "mesh3d",
            "colorbar": {
             "outlinewidth": 0,
             "ticks": ""
            }
           }
          ],
          "scatter": [
           {
            "marker": {
             "line": {
              "color": "#283442"
             }
            },
            "type": "scatter"
           }
          ],
          "parcoords": [
           {
            "type": "parcoords",
            "line": {
             "colorbar": {
              "outlinewidth": 0,
              "ticks": ""
             }
            }
           }
          ],
          "scatterpolargl": [
           {
            "type": "scatterpolargl",
            "marker": {
             "colorbar": {
              "outlinewidth": 0,
              "ticks": ""
             }
            }
           }
          ],
          "bar": [
           {
            "error_x": {
             "color": "#f2f5fa"
            },
            "error_y": {
             "color": "#f2f5fa"
            },
            "marker": {
             "line": {
              "color": "rgb(17,17,17)",
              "width": 0.5
             },
             "pattern": {
              "fillmode": "overlay",
              "size": 10,
              "solidity": 0.2
             }
            },
            "type": "bar"
           }
          ],
          "scattergeo": [
           {
            "type": "scattergeo",
            "marker": {
             "colorbar": {
              "outlinewidth": 0,
              "ticks": ""
             }
            }
           }
          ],
          "scatterpolar": [
           {
            "type": "scatterpolar",
            "marker": {
             "colorbar": {
              "outlinewidth": 0,
              "ticks": ""
             }
            }
           }
          ],
          "histogram": [
           {
            "marker": {
             "pattern": {
              "fillmode": "overlay",
              "size": 10,
              "solidity": 0.2
             }
            },
            "type": "histogram"
           }
          ],
          "scattergl": [
           {
            "marker": {
             "line": {
              "color": "#283442"
             }
            },
            "type": "scattergl"
           }
          ],
          "scatter3d": [
           {
            "type": "scatter3d",
            "line": {
             "colorbar": {
              "outlinewidth": 0,
              "ticks": ""
             }
            },
            "marker": {
             "colorbar": {
              "outlinewidth": 0,
              "ticks": ""
             }
            }
           }
          ],
          "scattermapbox": [
           {
            "type": "scattermapbox",
            "marker": {
             "colorbar": {
              "outlinewidth": 0,
              "ticks": ""
             }
            }
           }
          ],
          "scatterternary": [
           {
            "type": "scatterternary",
            "marker": {
             "colorbar": {
              "outlinewidth": 0,
              "ticks": ""
             }
            }
           }
          ],
          "scattercarpet": [
           {
            "type": "scattercarpet",
            "marker": {
             "colorbar": {
              "outlinewidth": 0,
              "ticks": ""
             }
            }
           }
          ],
          "carpet": [
           {
            "aaxis": {
             "endlinecolor": "#A2B1C6",
             "gridcolor": "#506784",
             "linecolor": "#506784",
             "minorgridcolor": "#506784",
             "startlinecolor": "#A2B1C6"
            },
            "baxis": {
             "endlinecolor": "#A2B1C6",
             "gridcolor": "#506784",
             "linecolor": "#506784",
             "minorgridcolor": "#506784",
             "startlinecolor": "#A2B1C6"
            },
            "type": "carpet"
           }
          ],
          "table": [
           {
            "cells": {
             "fill": {
              "color": "#506784"
             },
             "line": {
              "color": "rgb(17,17,17)"
             }
            },
            "header": {
             "fill": {
              "color": "#2a3f5f"
             },
             "line": {
              "color": "rgb(17,17,17)"
             }
            },
            "type": "table"
           }
          ],
          "barpolar": [
           {
            "marker": {
             "line": {
              "color": "rgb(17,17,17)",
              "width": 0.5
             },
             "pattern": {
              "fillmode": "overlay",
              "size": 10,
              "solidity": 0.2
             }
            },
            "type": "barpolar"
           }
          ],
          "pie": [
           {
            "automargin": true,
            "type": "pie"
           }
          ]
         },
         "layout": {
          "autotypenumbers": "strict",
          "colorway": [
           "#636efa",
           "#EF553B",
           "#00cc96",
           "#ab63fa",
           "#FFA15A",
           "#19d3f3",
           "#FF6692",
           "#B6E880",
           "#FF97FF",
           "#FECB52"
          ],
          "font": {
           "color": "#f2f5fa"
          },
          "hovermode": "closest",
          "hoverlabel": {
           "align": "left"
          },
          "paper_bgcolor": "rgb(17,17,17)",
          "plot_bgcolor": "rgb(17,17,17)",
          "polar": {
           "bgcolor": "rgb(17,17,17)",
           "angularaxis": {
            "gridcolor": "#506784",
            "linecolor": "#506784",
            "ticks": ""
           },
           "radialaxis": {
            "gridcolor": "#506784",
            "linecolor": "#506784",
            "ticks": ""
           }
          },
          "ternary": {
           "bgcolor": "rgb(17,17,17)",
           "aaxis": {
            "gridcolor": "#506784",
            "linecolor": "#506784",
            "ticks": ""
           },
           "baxis": {
            "gridcolor": "#506784",
            "linecolor": "#506784",
            "ticks": ""
           },
           "caxis": {
            "gridcolor": "#506784",
            "linecolor": "#506784",
            "ticks": ""
           }
          },
          "coloraxis": {
           "colorbar": {
            "outlinewidth": 0,
            "ticks": ""
           }
          },
          "colorscale": {
           "sequential": [
            [
             0.0,
             "#0d0887"
            ],
            [
             0.1111111111111111,
             "#46039f"
            ],
            [
             0.2222222222222222,
             "#7201a8"
            ],
            [
             0.3333333333333333,
             "#9c179e"
            ],
            [
             0.4444444444444444,
             "#bd3786"
            ],
            [
             0.5555555555555556,
             "#d8576b"
            ],
            [
             0.6666666666666666,
             "#ed7953"
            ],
            [
             0.7777777777777778,
             "#fb9f3a"
            ],
            [
             0.8888888888888888,
             "#fdca26"
            ],
            [
             1.0,
             "#f0f921"
            ]
           ],
           "sequentialminus": [
            [
             0.0,
             "#0d0887"
            ],
            [
             0.1111111111111111,
             "#46039f"
            ],
            [
             0.2222222222222222,
             "#7201a8"
            ],
            [
             0.3333333333333333,
             "#9c179e"
            ],
            [
             0.4444444444444444,
             "#bd3786"
            ],
            [
             0.5555555555555556,
             "#d8576b"
            ],
            [
             0.6666666666666666,
             "#ed7953"
            ],
            [
             0.7777777777777778,
             "#fb9f3a"
            ],
            [
             0.8888888888888888,
             "#fdca26"
            ],
            [
             1.0,
             "#f0f921"
            ]
           ],
           "diverging": [
            [
             0,
             "#8e0152"
            ],
            [
             0.1,
             "#c51b7d"
            ],
            [
             0.2,
             "#de77ae"
            ],
            [
             0.3,
             "#f1b6da"
            ],
            [
             0.4,
             "#fde0ef"
            ],
            [
             0.5,
             "#f7f7f7"
            ],
            [
             0.6,
             "#e6f5d0"
            ],
            [
             0.7,
             "#b8e186"
            ],
            [
             0.8,
             "#7fbc41"
            ],
            [
             0.9,
             "#4d9221"
            ],
            [
             1,
             "#276419"
            ]
           ]
          },
          "xaxis": {
           "gridcolor": "#283442",
           "linecolor": "#506784",
           "ticks": "",
           "title": {
            "standoff": 15
           },
           "zerolinecolor": "#283442",
           "automargin": true,
           "zerolinewidth": 2
          },
          "yaxis": {
           "gridcolor": "#283442",
           "linecolor": "#506784",
           "ticks": "",
           "title": {
            "standoff": 15
           },
           "zerolinecolor": "#283442",
           "automargin": true,
           "zerolinewidth": 2
          },
          "scene": {
           "xaxis": {
            "backgroundcolor": "rgb(17,17,17)",
            "gridcolor": "#506784",
            "linecolor": "#506784",
            "showbackground": true,
            "ticks": "",
            "zerolinecolor": "#C8D4E3",
            "gridwidth": 2
           },
           "yaxis": {
            "backgroundcolor": "rgb(17,17,17)",
            "gridcolor": "#506784",
            "linecolor": "#506784",
            "showbackground": true,
            "ticks": "",
            "zerolinecolor": "#C8D4E3",
            "gridwidth": 2
           },
           "zaxis": {
            "backgroundcolor": "rgb(17,17,17)",
            "gridcolor": "#506784",
            "linecolor": "#506784",
            "showbackground": true,
            "ticks": "",
            "zerolinecolor": "#C8D4E3",
            "gridwidth": 2
           }
          },
          "shapedefaults": {
           "line": {
            "color": "#f2f5fa"
           }
          },
          "annotationdefaults": {
           "arrowcolor": "#f2f5fa",
           "arrowhead": 0,
           "arrowwidth": 1
          },
          "geo": {
           "bgcolor": "rgb(17,17,17)",
           "landcolor": "rgb(17,17,17)",
           "subunitcolor": "#506784",
           "showland": true,
           "showlakes": true,
           "lakecolor": "rgb(17,17,17)"
          },
          "title": {
           "x": 0.05
          },
          "updatemenudefaults": {
           "bgcolor": "#506784",
           "borderwidth": 0
          },
          "sliderdefaults": {
           "bgcolor": "#C8D4E3",
           "borderwidth": 1,
           "bordercolor": "rgb(17,17,17)",
           "tickwidth": 0
          },
          "mapbox": {
           "style": "dark"
          }
         }
        },
        "xaxis": {
         "anchor": "y",
         "domain": [
          0.0,
          1.0
         ],
         "title": {
          "text": "Região geográfica"
         }
        },
        "yaxis": {
         "anchor": "x",
         "domain": [
          0.0,
          1.0
         ],
         "title": {
          "text": "Quantidade de matrículas"
         }
        },
        "legend": {
         "title": {
          "text": "Nível de ensino"
         },
         "tracegroupgap": 0
        },
        "margin": {
         "t": 60
        },
        "barmode": "relative"
       },
       "config": {
        "plotlyServerURL": "https://plot.ly"
       }
      },
      "text/html": "<div>                            <div id=\"0fbdbe24-f6b1-41a8-abfb-cf3995a03477\" class=\"plotly-graph-div\" style=\"height:525px; width:100%;\"></div>            <script type=\"text/javascript\">                require([\"plotly\"], function(Plotly) {                    window.PLOTLYENV=window.PLOTLYENV || {};                                    if (document.getElementById(\"0fbdbe24-f6b1-41a8-abfb-cf3995a03477\")) {                    Plotly.newPlot(                        \"0fbdbe24-f6b1-41a8-abfb-cf3995a03477\",                        [{\"alignmentgroup\":\"True\",\"hovertemplate\":\"N\\u00edvel de ensino=Educa\\u00e7\\u00e3o B\\u00e1sica<br>Regi\\u00e3o geogr\\u00e1fica=%{x}<br>Quantidade de matr\\u00edculas=%{y}<extra></extra>\",\"legendgroup\":\"Educa\\u00e7\\u00e3o B\\u00e1sica\",\"marker\":{\"color\":\"#636efa\",\"pattern\":{\"shape\":\"\"}},\"name\":\"Educa\\u00e7\\u00e3o B\\u00e1sica\",\"offsetgroup\":\"Educa\\u00e7\\u00e3o B\\u00e1sica\",\"orientation\":\"v\",\"showlegend\":true,\"textposition\":\"auto\",\"x\":[\"Centro-Oeste\",\"Nordeste\",\"Norte\",\"Sudeste\",\"Sul\"],\"xaxis\":\"x\",\"y\":[3599393,13745359,4868765,18241371,6213513],\"yaxis\":\"y\",\"type\":\"bar\"},{\"alignmentgroup\":\"True\",\"hovertemplate\":\"N\\u00edvel de ensino=Educa\\u00e7\\u00e3o Infantil<br>Regi\\u00e3o geogr\\u00e1fica=%{x}<br>Quantidade de matr\\u00edculas=%{y}<extra></extra>\",\"legendgroup\":\"Educa\\u00e7\\u00e3o Infantil\",\"marker\":{\"color\":\"#EF553B\",\"pattern\":{\"shape\":\"\"}},\"name\":\"Educa\\u00e7\\u00e3o Infantil\",\"offsetgroup\":\"Educa\\u00e7\\u00e3o Infantil\",\"orientation\":\"v\",\"showlegend\":true,\"textposition\":\"auto\",\"x\":[\"Centro-Oeste\",\"Nordeste\",\"Norte\",\"Sudeste\",\"Sul\"],\"xaxis\":\"x\",\"y\":[2102692,7698779,2955281,10252321,3506528],\"yaxis\":\"y\",\"type\":\"bar\"},{\"alignmentgroup\":\"True\",\"hovertemplate\":\"N\\u00edvel de ensino=Ensino Fundamental<br>Regi\\u00e3o geogr\\u00e1fica=%{x}<br>Quantidade de matr\\u00edculas=%{y}<extra></extra>\",\"legendgroup\":\"Ensino Fundamental\",\"marker\":{\"color\":\"#00cc96\",\"pattern\":{\"shape\":\"\"}},\"name\":\"Ensino Fundamental\",\"offsetgroup\":\"Ensino Fundamental\",\"orientation\":\"v\",\"showlegend\":true,\"textposition\":\"auto\",\"x\":[\"Centro-Oeste\",\"Nordeste\",\"Norte\",\"Sudeste\",\"Sul\"],\"xaxis\":\"x\",\"y\":[643082,2246336,842008,3047571,991560],\"yaxis\":\"y\",\"type\":\"bar\"},{\"alignmentgroup\":\"True\",\"hovertemplate\":\"N\\u00edvel de ensino=Ensino M\\u00e9dio<br>Regi\\u00e3o geogr\\u00e1fica=%{x}<br>Quantidade de matr\\u00edculas=%{y}<extra></extra>\",\"legendgroup\":\"Ensino M\\u00e9dio\",\"marker\":{\"color\":\"#ab63fa\",\"pattern\":{\"shape\":\"\"}},\"name\":\"Ensino M\\u00e9dio\",\"offsetgroup\":\"Ensino M\\u00e9dio\",\"orientation\":\"v\",\"showlegend\":true,\"textposition\":\"auto\",\"x\":[\"Centro-Oeste\",\"Nordeste\",\"Norte\",\"Sudeste\",\"Sul\"],\"xaxis\":\"x\",\"y\":[95318,612181,105869,772775,306315],\"yaxis\":\"y\",\"type\":\"bar\"},{\"alignmentgroup\":\"True\",\"hovertemplate\":\"N\\u00edvel de ensino=Educa\\u00e7\\u00e3o Profissional<br>Regi\\u00e3o geogr\\u00e1fica=%{x}<br>Quantidade de matr\\u00edculas=%{y}<extra></extra>\",\"legendgroup\":\"Educa\\u00e7\\u00e3o Profissional\",\"marker\":{\"color\":\"#FFA15A\",\"pattern\":{\"shape\":\"\"}},\"name\":\"Educa\\u00e7\\u00e3o Profissional\",\"offsetgroup\":\"Educa\\u00e7\\u00e3o Profissional\",\"orientation\":\"v\",\"showlegend\":true,\"textposition\":\"auto\",\"x\":[\"Centro-Oeste\",\"Nordeste\",\"Norte\",\"Sudeste\",\"Sul\"],\"xaxis\":\"x\",\"y\":[93763,588880,104041,765272,299585],\"yaxis\":\"y\",\"type\":\"bar\"},{\"alignmentgroup\":\"True\",\"hovertemplate\":\"N\\u00edvel de ensino=Educa\\u00e7\\u00e3o de Jovens e Adultos (EJA)<br>Regi\\u00e3o geogr\\u00e1fica=%{x}<br>Quantidade de matr\\u00edculas=%{y}<extra></extra>\",\"legendgroup\":\"Educa\\u00e7\\u00e3o de Jovens e Adultos (EJA)\",\"marker\":{\"color\":\"#19d3f3\",\"pattern\":{\"shape\":\"\"}},\"name\":\"Educa\\u00e7\\u00e3o de Jovens e Adultos (EJA)\",\"offsetgroup\":\"Educa\\u00e7\\u00e3o de Jovens e Adultos (EJA)\",\"orientation\":\"v\",\"showlegend\":true,\"textposition\":\"auto\",\"x\":[\"Centro-Oeste\",\"Nordeste\",\"Norte\",\"Sudeste\",\"Sul\"],\"xaxis\":\"x\",\"y\":[177601,1350172,335685,841464,257400],\"yaxis\":\"y\",\"type\":\"bar\"}],                        {\"template\":{\"data\":{\"histogram2dcontour\":[{\"type\":\"histogram2dcontour\",\"colorbar\":{\"outlinewidth\":0,\"ticks\":\"\"},\"colorscale\":[[0.0,\"#0d0887\"],[0.1111111111111111,\"#46039f\"],[0.2222222222222222,\"#7201a8\"],[0.3333333333333333,\"#9c179e\"],[0.4444444444444444,\"#bd3786\"],[0.5555555555555556,\"#d8576b\"],[0.6666666666666666,\"#ed7953\"],[0.7777777777777778,\"#fb9f3a\"],[0.8888888888888888,\"#fdca26\"],[1.0,\"#f0f921\"]]}],\"choropleth\":[{\"type\":\"choropleth\",\"colorbar\":{\"outlinewidth\":0,\"ticks\":\"\"}}],\"histogram2d\":[{\"type\":\"histogram2d\",\"colorbar\":{\"outlinewidth\":0,\"ticks\":\"\"},\"colorscale\":[[0.0,\"#0d0887\"],[0.1111111111111111,\"#46039f\"],[0.2222222222222222,\"#7201a8\"],[0.3333333333333333,\"#9c179e\"],[0.4444444444444444,\"#bd3786\"],[0.5555555555555556,\"#d8576b\"],[0.6666666666666666,\"#ed7953\"],[0.7777777777777778,\"#fb9f3a\"],[0.8888888888888888,\"#fdca26\"],[1.0,\"#f0f921\"]]}],\"heatmap\":[{\"type\":\"heatmap\",\"colorbar\":{\"outlinewidth\":0,\"ticks\":\"\"},\"colorscale\":[[0.0,\"#0d0887\"],[0.1111111111111111,\"#46039f\"],[0.2222222222222222,\"#7201a8\"],[0.3333333333333333,\"#9c179e\"],[0.4444444444444444,\"#bd3786\"],[0.5555555555555556,\"#d8576b\"],[0.6666666666666666,\"#ed7953\"],[0.7777777777777778,\"#fb9f3a\"],[0.8888888888888888,\"#fdca26\"],[1.0,\"#f0f921\"]]}],\"heatmapgl\":[{\"type\":\"heatmapgl\",\"colorbar\":{\"outlinewidth\":0,\"ticks\":\"\"},\"colorscale\":[[0.0,\"#0d0887\"],[0.1111111111111111,\"#46039f\"],[0.2222222222222222,\"#7201a8\"],[0.3333333333333333,\"#9c179e\"],[0.4444444444444444,\"#bd3786\"],[0.5555555555555556,\"#d8576b\"],[0.6666666666666666,\"#ed7953\"],[0.7777777777777778,\"#fb9f3a\"],[0.8888888888888888,\"#fdca26\"],[1.0,\"#f0f921\"]]}],\"contourcarpet\":[{\"type\":\"contourcarpet\",\"colorbar\":{\"outlinewidth\":0,\"ticks\":\"\"}}],\"contour\":[{\"type\":\"contour\",\"colorbar\":{\"outlinewidth\":0,\"ticks\":\"\"},\"colorscale\":[[0.0,\"#0d0887\"],[0.1111111111111111,\"#46039f\"],[0.2222222222222222,\"#7201a8\"],[0.3333333333333333,\"#9c179e\"],[0.4444444444444444,\"#bd3786\"],[0.5555555555555556,\"#d8576b\"],[0.6666666666666666,\"#ed7953\"],[0.7777777777777778,\"#fb9f3a\"],[0.8888888888888888,\"#fdca26\"],[1.0,\"#f0f921\"]]}],\"surface\":[{\"type\":\"surface\",\"colorbar\":{\"outlinewidth\":0,\"ticks\":\"\"},\"colorscale\":[[0.0,\"#0d0887\"],[0.1111111111111111,\"#46039f\"],[0.2222222222222222,\"#7201a8\"],[0.3333333333333333,\"#9c179e\"],[0.4444444444444444,\"#bd3786\"],[0.5555555555555556,\"#d8576b\"],[0.6666666666666666,\"#ed7953\"],[0.7777777777777778,\"#fb9f3a\"],[0.8888888888888888,\"#fdca26\"],[1.0,\"#f0f921\"]]}],\"mesh3d\":[{\"type\":\"mesh3d\",\"colorbar\":{\"outlinewidth\":0,\"ticks\":\"\"}}],\"scatter\":[{\"marker\":{\"line\":{\"color\":\"#283442\"}},\"type\":\"scatter\"}],\"parcoords\":[{\"type\":\"parcoords\",\"line\":{\"colorbar\":{\"outlinewidth\":0,\"ticks\":\"\"}}}],\"scatterpolargl\":[{\"type\":\"scatterpolargl\",\"marker\":{\"colorbar\":{\"outlinewidth\":0,\"ticks\":\"\"}}}],\"bar\":[{\"error_x\":{\"color\":\"#f2f5fa\"},\"error_y\":{\"color\":\"#f2f5fa\"},\"marker\":{\"line\":{\"color\":\"rgb(17,17,17)\",\"width\":0.5},\"pattern\":{\"fillmode\":\"overlay\",\"size\":10,\"solidity\":0.2}},\"type\":\"bar\"}],\"scattergeo\":[{\"type\":\"scattergeo\",\"marker\":{\"colorbar\":{\"outlinewidth\":0,\"ticks\":\"\"}}}],\"scatterpolar\":[{\"type\":\"scatterpolar\",\"marker\":{\"colorbar\":{\"outlinewidth\":0,\"ticks\":\"\"}}}],\"histogram\":[{\"marker\":{\"pattern\":{\"fillmode\":\"overlay\",\"size\":10,\"solidity\":0.2}},\"type\":\"histogram\"}],\"scattergl\":[{\"marker\":{\"line\":{\"color\":\"#283442\"}},\"type\":\"scattergl\"}],\"scatter3d\":[{\"type\":\"scatter3d\",\"line\":{\"colorbar\":{\"outlinewidth\":0,\"ticks\":\"\"}},\"marker\":{\"colorbar\":{\"outlinewidth\":0,\"ticks\":\"\"}}}],\"scattermapbox\":[{\"type\":\"scattermapbox\",\"marker\":{\"colorbar\":{\"outlinewidth\":0,\"ticks\":\"\"}}}],\"scatterternary\":[{\"type\":\"scatterternary\",\"marker\":{\"colorbar\":{\"outlinewidth\":0,\"ticks\":\"\"}}}],\"scattercarpet\":[{\"type\":\"scattercarpet\",\"marker\":{\"colorbar\":{\"outlinewidth\":0,\"ticks\":\"\"}}}],\"carpet\":[{\"aaxis\":{\"endlinecolor\":\"#A2B1C6\",\"gridcolor\":\"#506784\",\"linecolor\":\"#506784\",\"minorgridcolor\":\"#506784\",\"startlinecolor\":\"#A2B1C6\"},\"baxis\":{\"endlinecolor\":\"#A2B1C6\",\"gridcolor\":\"#506784\",\"linecolor\":\"#506784\",\"minorgridcolor\":\"#506784\",\"startlinecolor\":\"#A2B1C6\"},\"type\":\"carpet\"}],\"table\":[{\"cells\":{\"fill\":{\"color\":\"#506784\"},\"line\":{\"color\":\"rgb(17,17,17)\"}},\"header\":{\"fill\":{\"color\":\"#2a3f5f\"},\"line\":{\"color\":\"rgb(17,17,17)\"}},\"type\":\"table\"}],\"barpolar\":[{\"marker\":{\"line\":{\"color\":\"rgb(17,17,17)\",\"width\":0.5},\"pattern\":{\"fillmode\":\"overlay\",\"size\":10,\"solidity\":0.2}},\"type\":\"barpolar\"}],\"pie\":[{\"automargin\":true,\"type\":\"pie\"}]},\"layout\":{\"autotypenumbers\":\"strict\",\"colorway\":[\"#636efa\",\"#EF553B\",\"#00cc96\",\"#ab63fa\",\"#FFA15A\",\"#19d3f3\",\"#FF6692\",\"#B6E880\",\"#FF97FF\",\"#FECB52\"],\"font\":{\"color\":\"#f2f5fa\"},\"hovermode\":\"closest\",\"hoverlabel\":{\"align\":\"left\"},\"paper_bgcolor\":\"rgb(17,17,17)\",\"plot_bgcolor\":\"rgb(17,17,17)\",\"polar\":{\"bgcolor\":\"rgb(17,17,17)\",\"angularaxis\":{\"gridcolor\":\"#506784\",\"linecolor\":\"#506784\",\"ticks\":\"\"},\"radialaxis\":{\"gridcolor\":\"#506784\",\"linecolor\":\"#506784\",\"ticks\":\"\"}},\"ternary\":{\"bgcolor\":\"rgb(17,17,17)\",\"aaxis\":{\"gridcolor\":\"#506784\",\"linecolor\":\"#506784\",\"ticks\":\"\"},\"baxis\":{\"gridcolor\":\"#506784\",\"linecolor\":\"#506784\",\"ticks\":\"\"},\"caxis\":{\"gridcolor\":\"#506784\",\"linecolor\":\"#506784\",\"ticks\":\"\"}},\"coloraxis\":{\"colorbar\":{\"outlinewidth\":0,\"ticks\":\"\"}},\"colorscale\":{\"sequential\":[[0.0,\"#0d0887\"],[0.1111111111111111,\"#46039f\"],[0.2222222222222222,\"#7201a8\"],[0.3333333333333333,\"#9c179e\"],[0.4444444444444444,\"#bd3786\"],[0.5555555555555556,\"#d8576b\"],[0.6666666666666666,\"#ed7953\"],[0.7777777777777778,\"#fb9f3a\"],[0.8888888888888888,\"#fdca26\"],[1.0,\"#f0f921\"]],\"sequentialminus\":[[0.0,\"#0d0887\"],[0.1111111111111111,\"#46039f\"],[0.2222222222222222,\"#7201a8\"],[0.3333333333333333,\"#9c179e\"],[0.4444444444444444,\"#bd3786\"],[0.5555555555555556,\"#d8576b\"],[0.6666666666666666,\"#ed7953\"],[0.7777777777777778,\"#fb9f3a\"],[0.8888888888888888,\"#fdca26\"],[1.0,\"#f0f921\"]],\"diverging\":[[0,\"#8e0152\"],[0.1,\"#c51b7d\"],[0.2,\"#de77ae\"],[0.3,\"#f1b6da\"],[0.4,\"#fde0ef\"],[0.5,\"#f7f7f7\"],[0.6,\"#e6f5d0\"],[0.7,\"#b8e186\"],[0.8,\"#7fbc41\"],[0.9,\"#4d9221\"],[1,\"#276419\"]]},\"xaxis\":{\"gridcolor\":\"#283442\",\"linecolor\":\"#506784\",\"ticks\":\"\",\"title\":{\"standoff\":15},\"zerolinecolor\":\"#283442\",\"automargin\":true,\"zerolinewidth\":2},\"yaxis\":{\"gridcolor\":\"#283442\",\"linecolor\":\"#506784\",\"ticks\":\"\",\"title\":{\"standoff\":15},\"zerolinecolor\":\"#283442\",\"automargin\":true,\"zerolinewidth\":2},\"scene\":{\"xaxis\":{\"backgroundcolor\":\"rgb(17,17,17)\",\"gridcolor\":\"#506784\",\"linecolor\":\"#506784\",\"showbackground\":true,\"ticks\":\"\",\"zerolinecolor\":\"#C8D4E3\",\"gridwidth\":2},\"yaxis\":{\"backgroundcolor\":\"rgb(17,17,17)\",\"gridcolor\":\"#506784\",\"linecolor\":\"#506784\",\"showbackground\":true,\"ticks\":\"\",\"zerolinecolor\":\"#C8D4E3\",\"gridwidth\":2},\"zaxis\":{\"backgroundcolor\":\"rgb(17,17,17)\",\"gridcolor\":\"#506784\",\"linecolor\":\"#506784\",\"showbackground\":true,\"ticks\":\"\",\"zerolinecolor\":\"#C8D4E3\",\"gridwidth\":2}},\"shapedefaults\":{\"line\":{\"color\":\"#f2f5fa\"}},\"annotationdefaults\":{\"arrowcolor\":\"#f2f5fa\",\"arrowhead\":0,\"arrowwidth\":1},\"geo\":{\"bgcolor\":\"rgb(17,17,17)\",\"landcolor\":\"rgb(17,17,17)\",\"subunitcolor\":\"#506784\",\"showland\":true,\"showlakes\":true,\"lakecolor\":\"rgb(17,17,17)\"},\"title\":{\"x\":0.05},\"updatemenudefaults\":{\"bgcolor\":\"#506784\",\"borderwidth\":0},\"sliderdefaults\":{\"bgcolor\":\"#C8D4E3\",\"borderwidth\":1,\"bordercolor\":\"rgb(17,17,17)\",\"tickwidth\":0},\"mapbox\":{\"style\":\"dark\"}}},\"xaxis\":{\"anchor\":\"y\",\"domain\":[0.0,1.0],\"title\":{\"text\":\"Regi\\u00e3o geogr\\u00e1fica\"}},\"yaxis\":{\"anchor\":\"x\",\"domain\":[0.0,1.0],\"title\":{\"text\":\"Quantidade de matr\\u00edculas\"}},\"legend\":{\"title\":{\"text\":\"N\\u00edvel de ensino\"},\"tracegroupgap\":0},\"margin\":{\"t\":60},\"barmode\":\"relative\"},                        {\"responsive\": true}                    ).then(function(){\n                            \nvar gd = document.getElementById('0fbdbe24-f6b1-41a8-abfb-cf3995a03477');\nvar x = new MutationObserver(function (mutations, observer) {{\n        var display = window.getComputedStyle(gd).display;\n        if (!display || display === 'none') {{\n            console.log([gd, 'removed!']);\n            Plotly.purge(gd);\n            observer.disconnect();\n        }}\n}});\n\n// Listen for the removal of the full notebook cells\nvar notebookContainer = gd.closest('#notebook-container');\nif (notebookContainer) {{\n    x.observe(notebookContainer, {childList: true});\n}}\n\n// Listen for the clearing of the current output cell\nvar outputEl = gd.closest('.output');\nif (outputEl) {{\n    x.observe(outputEl, {childList: true});\n}}\n\n                        })                };                });            </script>        </div>"
     },
     "metadata": {},
     "output_type": "display_data"
    }
   ],
   "source": [
    "px.bar(\n",
    "    quantidade_matriculas_geo,\n",
    "    x=dimension,\n",
    "    y=\"Quantidade de matrículas\",\n",
    "    color=\"Nível de ensino\",\n",
    ")"
   ],
   "metadata": {
    "collapsed": false
   }
  },
  {
   "cell_type": "code",
   "execution_count": 34,
   "outputs": [
    {
     "data": {
      "application/vnd.plotly.v1+json": {
       "data": [
        {
         "alignmentgroup": "True",
         "hovertemplate": "Ano=%{x}<br>Quantidade de escolas=%{y}<extra></extra>",
         "legendgroup": "",
         "marker": {
          "color": "#636efa",
          "pattern": {
           "shape": ""
          }
         },
         "name": "",
         "offsetgroup": "",
         "orientation": "v",
         "showlegend": false,
         "textposition": "auto",
         "x": [
          2016,
          2017,
          2018,
          2019,
          2020,
          2021,
          2022
         ],
         "xaxis": "x",
         "y": [
          237506,
          236481,
          236460,
          228521,
          224229,
          221140,
          224649
         ],
         "yaxis": "y",
         "type": "bar"
        }
       ],
       "layout": {
        "template": {
         "data": {
          "histogram2dcontour": [
           {
            "type": "histogram2dcontour",
            "colorbar": {
             "outlinewidth": 0,
             "ticks": ""
            },
            "colorscale": [
             [
              0.0,
              "#0d0887"
             ],
             [
              0.1111111111111111,
              "#46039f"
             ],
             [
              0.2222222222222222,
              "#7201a8"
             ],
             [
              0.3333333333333333,
              "#9c179e"
             ],
             [
              0.4444444444444444,
              "#bd3786"
             ],
             [
              0.5555555555555556,
              "#d8576b"
             ],
             [
              0.6666666666666666,
              "#ed7953"
             ],
             [
              0.7777777777777778,
              "#fb9f3a"
             ],
             [
              0.8888888888888888,
              "#fdca26"
             ],
             [
              1.0,
              "#f0f921"
             ]
            ]
           }
          ],
          "choropleth": [
           {
            "type": "choropleth",
            "colorbar": {
             "outlinewidth": 0,
             "ticks": ""
            }
           }
          ],
          "histogram2d": [
           {
            "type": "histogram2d",
            "colorbar": {
             "outlinewidth": 0,
             "ticks": ""
            },
            "colorscale": [
             [
              0.0,
              "#0d0887"
             ],
             [
              0.1111111111111111,
              "#46039f"
             ],
             [
              0.2222222222222222,
              "#7201a8"
             ],
             [
              0.3333333333333333,
              "#9c179e"
             ],
             [
              0.4444444444444444,
              "#bd3786"
             ],
             [
              0.5555555555555556,
              "#d8576b"
             ],
             [
              0.6666666666666666,
              "#ed7953"
             ],
             [
              0.7777777777777778,
              "#fb9f3a"
             ],
             [
              0.8888888888888888,
              "#fdca26"
             ],
             [
              1.0,
              "#f0f921"
             ]
            ]
           }
          ],
          "heatmap": [
           {
            "type": "heatmap",
            "colorbar": {
             "outlinewidth": 0,
             "ticks": ""
            },
            "colorscale": [
             [
              0.0,
              "#0d0887"
             ],
             [
              0.1111111111111111,
              "#46039f"
             ],
             [
              0.2222222222222222,
              "#7201a8"
             ],
             [
              0.3333333333333333,
              "#9c179e"
             ],
             [
              0.4444444444444444,
              "#bd3786"
             ],
             [
              0.5555555555555556,
              "#d8576b"
             ],
             [
              0.6666666666666666,
              "#ed7953"
             ],
             [
              0.7777777777777778,
              "#fb9f3a"
             ],
             [
              0.8888888888888888,
              "#fdca26"
             ],
             [
              1.0,
              "#f0f921"
             ]
            ]
           }
          ],
          "heatmapgl": [
           {
            "type": "heatmapgl",
            "colorbar": {
             "outlinewidth": 0,
             "ticks": ""
            },
            "colorscale": [
             [
              0.0,
              "#0d0887"
             ],
             [
              0.1111111111111111,
              "#46039f"
             ],
             [
              0.2222222222222222,
              "#7201a8"
             ],
             [
              0.3333333333333333,
              "#9c179e"
             ],
             [
              0.4444444444444444,
              "#bd3786"
             ],
             [
              0.5555555555555556,
              "#d8576b"
             ],
             [
              0.6666666666666666,
              "#ed7953"
             ],
             [
              0.7777777777777778,
              "#fb9f3a"
             ],
             [
              0.8888888888888888,
              "#fdca26"
             ],
             [
              1.0,
              "#f0f921"
             ]
            ]
           }
          ],
          "contourcarpet": [
           {
            "type": "contourcarpet",
            "colorbar": {
             "outlinewidth": 0,
             "ticks": ""
            }
           }
          ],
          "contour": [
           {
            "type": "contour",
            "colorbar": {
             "outlinewidth": 0,
             "ticks": ""
            },
            "colorscale": [
             [
              0.0,
              "#0d0887"
             ],
             [
              0.1111111111111111,
              "#46039f"
             ],
             [
              0.2222222222222222,
              "#7201a8"
             ],
             [
              0.3333333333333333,
              "#9c179e"
             ],
             [
              0.4444444444444444,
              "#bd3786"
             ],
             [
              0.5555555555555556,
              "#d8576b"
             ],
             [
              0.6666666666666666,
              "#ed7953"
             ],
             [
              0.7777777777777778,
              "#fb9f3a"
             ],
             [
              0.8888888888888888,
              "#fdca26"
             ],
             [
              1.0,
              "#f0f921"
             ]
            ]
           }
          ],
          "surface": [
           {
            "type": "surface",
            "colorbar": {
             "outlinewidth": 0,
             "ticks": ""
            },
            "colorscale": [
             [
              0.0,
              "#0d0887"
             ],
             [
              0.1111111111111111,
              "#46039f"
             ],
             [
              0.2222222222222222,
              "#7201a8"
             ],
             [
              0.3333333333333333,
              "#9c179e"
             ],
             [
              0.4444444444444444,
              "#bd3786"
             ],
             [
              0.5555555555555556,
              "#d8576b"
             ],
             [
              0.6666666666666666,
              "#ed7953"
             ],
             [
              0.7777777777777778,
              "#fb9f3a"
             ],
             [
              0.8888888888888888,
              "#fdca26"
             ],
             [
              1.0,
              "#f0f921"
             ]
            ]
           }
          ],
          "mesh3d": [
           {
            "type": "mesh3d",
            "colorbar": {
             "outlinewidth": 0,
             "ticks": ""
            }
           }
          ],
          "scatter": [
           {
            "marker": {
             "line": {
              "color": "#283442"
             }
            },
            "type": "scatter"
           }
          ],
          "parcoords": [
           {
            "type": "parcoords",
            "line": {
             "colorbar": {
              "outlinewidth": 0,
              "ticks": ""
             }
            }
           }
          ],
          "scatterpolargl": [
           {
            "type": "scatterpolargl",
            "marker": {
             "colorbar": {
              "outlinewidth": 0,
              "ticks": ""
             }
            }
           }
          ],
          "bar": [
           {
            "error_x": {
             "color": "#f2f5fa"
            },
            "error_y": {
             "color": "#f2f5fa"
            },
            "marker": {
             "line": {
              "color": "rgb(17,17,17)",
              "width": 0.5
             },
             "pattern": {
              "fillmode": "overlay",
              "size": 10,
              "solidity": 0.2
             }
            },
            "type": "bar"
           }
          ],
          "scattergeo": [
           {
            "type": "scattergeo",
            "marker": {
             "colorbar": {
              "outlinewidth": 0,
              "ticks": ""
             }
            }
           }
          ],
          "scatterpolar": [
           {
            "type": "scatterpolar",
            "marker": {
             "colorbar": {
              "outlinewidth": 0,
              "ticks": ""
             }
            }
           }
          ],
          "histogram": [
           {
            "marker": {
             "pattern": {
              "fillmode": "overlay",
              "size": 10,
              "solidity": 0.2
             }
            },
            "type": "histogram"
           }
          ],
          "scattergl": [
           {
            "marker": {
             "line": {
              "color": "#283442"
             }
            },
            "type": "scattergl"
           }
          ],
          "scatter3d": [
           {
            "type": "scatter3d",
            "line": {
             "colorbar": {
              "outlinewidth": 0,
              "ticks": ""
             }
            },
            "marker": {
             "colorbar": {
              "outlinewidth": 0,
              "ticks": ""
             }
            }
           }
          ],
          "scattermapbox": [
           {
            "type": "scattermapbox",
            "marker": {
             "colorbar": {
              "outlinewidth": 0,
              "ticks": ""
             }
            }
           }
          ],
          "scatterternary": [
           {
            "type": "scatterternary",
            "marker": {
             "colorbar": {
              "outlinewidth": 0,
              "ticks": ""
             }
            }
           }
          ],
          "scattercarpet": [
           {
            "type": "scattercarpet",
            "marker": {
             "colorbar": {
              "outlinewidth": 0,
              "ticks": ""
             }
            }
           }
          ],
          "carpet": [
           {
            "aaxis": {
             "endlinecolor": "#A2B1C6",
             "gridcolor": "#506784",
             "linecolor": "#506784",
             "minorgridcolor": "#506784",
             "startlinecolor": "#A2B1C6"
            },
            "baxis": {
             "endlinecolor": "#A2B1C6",
             "gridcolor": "#506784",
             "linecolor": "#506784",
             "minorgridcolor": "#506784",
             "startlinecolor": "#A2B1C6"
            },
            "type": "carpet"
           }
          ],
          "table": [
           {
            "cells": {
             "fill": {
              "color": "#506784"
             },
             "line": {
              "color": "rgb(17,17,17)"
             }
            },
            "header": {
             "fill": {
              "color": "#2a3f5f"
             },
             "line": {
              "color": "rgb(17,17,17)"
             }
            },
            "type": "table"
           }
          ],
          "barpolar": [
           {
            "marker": {
             "line": {
              "color": "rgb(17,17,17)",
              "width": 0.5
             },
             "pattern": {
              "fillmode": "overlay",
              "size": 10,
              "solidity": 0.2
             }
            },
            "type": "barpolar"
           }
          ],
          "pie": [
           {
            "automargin": true,
            "type": "pie"
           }
          ]
         },
         "layout": {
          "autotypenumbers": "strict",
          "colorway": [
           "#636efa",
           "#EF553B",
           "#00cc96",
           "#ab63fa",
           "#FFA15A",
           "#19d3f3",
           "#FF6692",
           "#B6E880",
           "#FF97FF",
           "#FECB52"
          ],
          "font": {
           "color": "#f2f5fa"
          },
          "hovermode": "closest",
          "hoverlabel": {
           "align": "left"
          },
          "paper_bgcolor": "rgb(17,17,17)",
          "plot_bgcolor": "rgb(17,17,17)",
          "polar": {
           "bgcolor": "rgb(17,17,17)",
           "angularaxis": {
            "gridcolor": "#506784",
            "linecolor": "#506784",
            "ticks": ""
           },
           "radialaxis": {
            "gridcolor": "#506784",
            "linecolor": "#506784",
            "ticks": ""
           }
          },
          "ternary": {
           "bgcolor": "rgb(17,17,17)",
           "aaxis": {
            "gridcolor": "#506784",
            "linecolor": "#506784",
            "ticks": ""
           },
           "baxis": {
            "gridcolor": "#506784",
            "linecolor": "#506784",
            "ticks": ""
           },
           "caxis": {
            "gridcolor": "#506784",
            "linecolor": "#506784",
            "ticks": ""
           }
          },
          "coloraxis": {
           "colorbar": {
            "outlinewidth": 0,
            "ticks": ""
           }
          },
          "colorscale": {
           "sequential": [
            [
             0.0,
             "#0d0887"
            ],
            [
             0.1111111111111111,
             "#46039f"
            ],
            [
             0.2222222222222222,
             "#7201a8"
            ],
            [
             0.3333333333333333,
             "#9c179e"
            ],
            [
             0.4444444444444444,
             "#bd3786"
            ],
            [
             0.5555555555555556,
             "#d8576b"
            ],
            [
             0.6666666666666666,
             "#ed7953"
            ],
            [
             0.7777777777777778,
             "#fb9f3a"
            ],
            [
             0.8888888888888888,
             "#fdca26"
            ],
            [
             1.0,
             "#f0f921"
            ]
           ],
           "sequentialminus": [
            [
             0.0,
             "#0d0887"
            ],
            [
             0.1111111111111111,
             "#46039f"
            ],
            [
             0.2222222222222222,
             "#7201a8"
            ],
            [
             0.3333333333333333,
             "#9c179e"
            ],
            [
             0.4444444444444444,
             "#bd3786"
            ],
            [
             0.5555555555555556,
             "#d8576b"
            ],
            [
             0.6666666666666666,
             "#ed7953"
            ],
            [
             0.7777777777777778,
             "#fb9f3a"
            ],
            [
             0.8888888888888888,
             "#fdca26"
            ],
            [
             1.0,
             "#f0f921"
            ]
           ],
           "diverging": [
            [
             0,
             "#8e0152"
            ],
            [
             0.1,
             "#c51b7d"
            ],
            [
             0.2,
             "#de77ae"
            ],
            [
             0.3,
             "#f1b6da"
            ],
            [
             0.4,
             "#fde0ef"
            ],
            [
             0.5,
             "#f7f7f7"
            ],
            [
             0.6,
             "#e6f5d0"
            ],
            [
             0.7,
             "#b8e186"
            ],
            [
             0.8,
             "#7fbc41"
            ],
            [
             0.9,
             "#4d9221"
            ],
            [
             1,
             "#276419"
            ]
           ]
          },
          "xaxis": {
           "gridcolor": "#283442",
           "linecolor": "#506784",
           "ticks": "",
           "title": {
            "standoff": 15
           },
           "zerolinecolor": "#283442",
           "automargin": true,
           "zerolinewidth": 2
          },
          "yaxis": {
           "gridcolor": "#283442",
           "linecolor": "#506784",
           "ticks": "",
           "title": {
            "standoff": 15
           },
           "zerolinecolor": "#283442",
           "automargin": true,
           "zerolinewidth": 2
          },
          "scene": {
           "xaxis": {
            "backgroundcolor": "rgb(17,17,17)",
            "gridcolor": "#506784",
            "linecolor": "#506784",
            "showbackground": true,
            "ticks": "",
            "zerolinecolor": "#C8D4E3",
            "gridwidth": 2
           },
           "yaxis": {
            "backgroundcolor": "rgb(17,17,17)",
            "gridcolor": "#506784",
            "linecolor": "#506784",
            "showbackground": true,
            "ticks": "",
            "zerolinecolor": "#C8D4E3",
            "gridwidth": 2
           },
           "zaxis": {
            "backgroundcolor": "rgb(17,17,17)",
            "gridcolor": "#506784",
            "linecolor": "#506784",
            "showbackground": true,
            "ticks": "",
            "zerolinecolor": "#C8D4E3",
            "gridwidth": 2
           }
          },
          "shapedefaults": {
           "line": {
            "color": "#f2f5fa"
           }
          },
          "annotationdefaults": {
           "arrowcolor": "#f2f5fa",
           "arrowhead": 0,
           "arrowwidth": 1
          },
          "geo": {
           "bgcolor": "rgb(17,17,17)",
           "landcolor": "rgb(17,17,17)",
           "subunitcolor": "#506784",
           "showland": true,
           "showlakes": true,
           "lakecolor": "rgb(17,17,17)"
          },
          "title": {
           "x": 0.05
          },
          "updatemenudefaults": {
           "bgcolor": "#506784",
           "borderwidth": 0
          },
          "sliderdefaults": {
           "bgcolor": "#C8D4E3",
           "borderwidth": 1,
           "bordercolor": "rgb(17,17,17)",
           "tickwidth": 0
          },
          "mapbox": {
           "style": "dark"
          }
         }
        },
        "xaxis": {
         "anchor": "y",
         "domain": [
          0.0,
          1.0
         ],
         "title": {
          "text": "Ano"
         }
        },
        "yaxis": {
         "anchor": "x",
         "domain": [
          0.0,
          1.0
         ],
         "title": {
          "text": "Quantidade de escolas"
         }
        },
        "legend": {
         "tracegroupgap": 0
        },
        "title": {
         "text": "QUANTIDADE DE ESCOLAS X ANO"
        },
        "barmode": "relative"
       },
       "config": {
        "plotlyServerURL": "https://plot.ly"
       }
      },
      "text/html": "<div>                            <div id=\"e466fb49-6fec-43a1-9319-280d00e62b7a\" class=\"plotly-graph-div\" style=\"height:525px; width:100%;\"></div>            <script type=\"text/javascript\">                require([\"plotly\"], function(Plotly) {                    window.PLOTLYENV=window.PLOTLYENV || {};                                    if (document.getElementById(\"e466fb49-6fec-43a1-9319-280d00e62b7a\")) {                    Plotly.newPlot(                        \"e466fb49-6fec-43a1-9319-280d00e62b7a\",                        [{\"alignmentgroup\":\"True\",\"hovertemplate\":\"Ano=%{x}<br>Quantidade de escolas=%{y}<extra></extra>\",\"legendgroup\":\"\",\"marker\":{\"color\":\"#636efa\",\"pattern\":{\"shape\":\"\"}},\"name\":\"\",\"offsetgroup\":\"\",\"orientation\":\"v\",\"showlegend\":false,\"textposition\":\"auto\",\"x\":[2016,2017,2018,2019,2020,2021,2022],\"xaxis\":\"x\",\"y\":[237506,236481,236460,228521,224229,221140,224649],\"yaxis\":\"y\",\"type\":\"bar\"}],                        {\"template\":{\"data\":{\"histogram2dcontour\":[{\"type\":\"histogram2dcontour\",\"colorbar\":{\"outlinewidth\":0,\"ticks\":\"\"},\"colorscale\":[[0.0,\"#0d0887\"],[0.1111111111111111,\"#46039f\"],[0.2222222222222222,\"#7201a8\"],[0.3333333333333333,\"#9c179e\"],[0.4444444444444444,\"#bd3786\"],[0.5555555555555556,\"#d8576b\"],[0.6666666666666666,\"#ed7953\"],[0.7777777777777778,\"#fb9f3a\"],[0.8888888888888888,\"#fdca26\"],[1.0,\"#f0f921\"]]}],\"choropleth\":[{\"type\":\"choropleth\",\"colorbar\":{\"outlinewidth\":0,\"ticks\":\"\"}}],\"histogram2d\":[{\"type\":\"histogram2d\",\"colorbar\":{\"outlinewidth\":0,\"ticks\":\"\"},\"colorscale\":[[0.0,\"#0d0887\"],[0.1111111111111111,\"#46039f\"],[0.2222222222222222,\"#7201a8\"],[0.3333333333333333,\"#9c179e\"],[0.4444444444444444,\"#bd3786\"],[0.5555555555555556,\"#d8576b\"],[0.6666666666666666,\"#ed7953\"],[0.7777777777777778,\"#fb9f3a\"],[0.8888888888888888,\"#fdca26\"],[1.0,\"#f0f921\"]]}],\"heatmap\":[{\"type\":\"heatmap\",\"colorbar\":{\"outlinewidth\":0,\"ticks\":\"\"},\"colorscale\":[[0.0,\"#0d0887\"],[0.1111111111111111,\"#46039f\"],[0.2222222222222222,\"#7201a8\"],[0.3333333333333333,\"#9c179e\"],[0.4444444444444444,\"#bd3786\"],[0.5555555555555556,\"#d8576b\"],[0.6666666666666666,\"#ed7953\"],[0.7777777777777778,\"#fb9f3a\"],[0.8888888888888888,\"#fdca26\"],[1.0,\"#f0f921\"]]}],\"heatmapgl\":[{\"type\":\"heatmapgl\",\"colorbar\":{\"outlinewidth\":0,\"ticks\":\"\"},\"colorscale\":[[0.0,\"#0d0887\"],[0.1111111111111111,\"#46039f\"],[0.2222222222222222,\"#7201a8\"],[0.3333333333333333,\"#9c179e\"],[0.4444444444444444,\"#bd3786\"],[0.5555555555555556,\"#d8576b\"],[0.6666666666666666,\"#ed7953\"],[0.7777777777777778,\"#fb9f3a\"],[0.8888888888888888,\"#fdca26\"],[1.0,\"#f0f921\"]]}],\"contourcarpet\":[{\"type\":\"contourcarpet\",\"colorbar\":{\"outlinewidth\":0,\"ticks\":\"\"}}],\"contour\":[{\"type\":\"contour\",\"colorbar\":{\"outlinewidth\":0,\"ticks\":\"\"},\"colorscale\":[[0.0,\"#0d0887\"],[0.1111111111111111,\"#46039f\"],[0.2222222222222222,\"#7201a8\"],[0.3333333333333333,\"#9c179e\"],[0.4444444444444444,\"#bd3786\"],[0.5555555555555556,\"#d8576b\"],[0.6666666666666666,\"#ed7953\"],[0.7777777777777778,\"#fb9f3a\"],[0.8888888888888888,\"#fdca26\"],[1.0,\"#f0f921\"]]}],\"surface\":[{\"type\":\"surface\",\"colorbar\":{\"outlinewidth\":0,\"ticks\":\"\"},\"colorscale\":[[0.0,\"#0d0887\"],[0.1111111111111111,\"#46039f\"],[0.2222222222222222,\"#7201a8\"],[0.3333333333333333,\"#9c179e\"],[0.4444444444444444,\"#bd3786\"],[0.5555555555555556,\"#d8576b\"],[0.6666666666666666,\"#ed7953\"],[0.7777777777777778,\"#fb9f3a\"],[0.8888888888888888,\"#fdca26\"],[1.0,\"#f0f921\"]]}],\"mesh3d\":[{\"type\":\"mesh3d\",\"colorbar\":{\"outlinewidth\":0,\"ticks\":\"\"}}],\"scatter\":[{\"marker\":{\"line\":{\"color\":\"#283442\"}},\"type\":\"scatter\"}],\"parcoords\":[{\"type\":\"parcoords\",\"line\":{\"colorbar\":{\"outlinewidth\":0,\"ticks\":\"\"}}}],\"scatterpolargl\":[{\"type\":\"scatterpolargl\",\"marker\":{\"colorbar\":{\"outlinewidth\":0,\"ticks\":\"\"}}}],\"bar\":[{\"error_x\":{\"color\":\"#f2f5fa\"},\"error_y\":{\"color\":\"#f2f5fa\"},\"marker\":{\"line\":{\"color\":\"rgb(17,17,17)\",\"width\":0.5},\"pattern\":{\"fillmode\":\"overlay\",\"size\":10,\"solidity\":0.2}},\"type\":\"bar\"}],\"scattergeo\":[{\"type\":\"scattergeo\",\"marker\":{\"colorbar\":{\"outlinewidth\":0,\"ticks\":\"\"}}}],\"scatterpolar\":[{\"type\":\"scatterpolar\",\"marker\":{\"colorbar\":{\"outlinewidth\":0,\"ticks\":\"\"}}}],\"histogram\":[{\"marker\":{\"pattern\":{\"fillmode\":\"overlay\",\"size\":10,\"solidity\":0.2}},\"type\":\"histogram\"}],\"scattergl\":[{\"marker\":{\"line\":{\"color\":\"#283442\"}},\"type\":\"scattergl\"}],\"scatter3d\":[{\"type\":\"scatter3d\",\"line\":{\"colorbar\":{\"outlinewidth\":0,\"ticks\":\"\"}},\"marker\":{\"colorbar\":{\"outlinewidth\":0,\"ticks\":\"\"}}}],\"scattermapbox\":[{\"type\":\"scattermapbox\",\"marker\":{\"colorbar\":{\"outlinewidth\":0,\"ticks\":\"\"}}}],\"scatterternary\":[{\"type\":\"scatterternary\",\"marker\":{\"colorbar\":{\"outlinewidth\":0,\"ticks\":\"\"}}}],\"scattercarpet\":[{\"type\":\"scattercarpet\",\"marker\":{\"colorbar\":{\"outlinewidth\":0,\"ticks\":\"\"}}}],\"carpet\":[{\"aaxis\":{\"endlinecolor\":\"#A2B1C6\",\"gridcolor\":\"#506784\",\"linecolor\":\"#506784\",\"minorgridcolor\":\"#506784\",\"startlinecolor\":\"#A2B1C6\"},\"baxis\":{\"endlinecolor\":\"#A2B1C6\",\"gridcolor\":\"#506784\",\"linecolor\":\"#506784\",\"minorgridcolor\":\"#506784\",\"startlinecolor\":\"#A2B1C6\"},\"type\":\"carpet\"}],\"table\":[{\"cells\":{\"fill\":{\"color\":\"#506784\"},\"line\":{\"color\":\"rgb(17,17,17)\"}},\"header\":{\"fill\":{\"color\":\"#2a3f5f\"},\"line\":{\"color\":\"rgb(17,17,17)\"}},\"type\":\"table\"}],\"barpolar\":[{\"marker\":{\"line\":{\"color\":\"rgb(17,17,17)\",\"width\":0.5},\"pattern\":{\"fillmode\":\"overlay\",\"size\":10,\"solidity\":0.2}},\"type\":\"barpolar\"}],\"pie\":[{\"automargin\":true,\"type\":\"pie\"}]},\"layout\":{\"autotypenumbers\":\"strict\",\"colorway\":[\"#636efa\",\"#EF553B\",\"#00cc96\",\"#ab63fa\",\"#FFA15A\",\"#19d3f3\",\"#FF6692\",\"#B6E880\",\"#FF97FF\",\"#FECB52\"],\"font\":{\"color\":\"#f2f5fa\"},\"hovermode\":\"closest\",\"hoverlabel\":{\"align\":\"left\"},\"paper_bgcolor\":\"rgb(17,17,17)\",\"plot_bgcolor\":\"rgb(17,17,17)\",\"polar\":{\"bgcolor\":\"rgb(17,17,17)\",\"angularaxis\":{\"gridcolor\":\"#506784\",\"linecolor\":\"#506784\",\"ticks\":\"\"},\"radialaxis\":{\"gridcolor\":\"#506784\",\"linecolor\":\"#506784\",\"ticks\":\"\"}},\"ternary\":{\"bgcolor\":\"rgb(17,17,17)\",\"aaxis\":{\"gridcolor\":\"#506784\",\"linecolor\":\"#506784\",\"ticks\":\"\"},\"baxis\":{\"gridcolor\":\"#506784\",\"linecolor\":\"#506784\",\"ticks\":\"\"},\"caxis\":{\"gridcolor\":\"#506784\",\"linecolor\":\"#506784\",\"ticks\":\"\"}},\"coloraxis\":{\"colorbar\":{\"outlinewidth\":0,\"ticks\":\"\"}},\"colorscale\":{\"sequential\":[[0.0,\"#0d0887\"],[0.1111111111111111,\"#46039f\"],[0.2222222222222222,\"#7201a8\"],[0.3333333333333333,\"#9c179e\"],[0.4444444444444444,\"#bd3786\"],[0.5555555555555556,\"#d8576b\"],[0.6666666666666666,\"#ed7953\"],[0.7777777777777778,\"#fb9f3a\"],[0.8888888888888888,\"#fdca26\"],[1.0,\"#f0f921\"]],\"sequentialminus\":[[0.0,\"#0d0887\"],[0.1111111111111111,\"#46039f\"],[0.2222222222222222,\"#7201a8\"],[0.3333333333333333,\"#9c179e\"],[0.4444444444444444,\"#bd3786\"],[0.5555555555555556,\"#d8576b\"],[0.6666666666666666,\"#ed7953\"],[0.7777777777777778,\"#fb9f3a\"],[0.8888888888888888,\"#fdca26\"],[1.0,\"#f0f921\"]],\"diverging\":[[0,\"#8e0152\"],[0.1,\"#c51b7d\"],[0.2,\"#de77ae\"],[0.3,\"#f1b6da\"],[0.4,\"#fde0ef\"],[0.5,\"#f7f7f7\"],[0.6,\"#e6f5d0\"],[0.7,\"#b8e186\"],[0.8,\"#7fbc41\"],[0.9,\"#4d9221\"],[1,\"#276419\"]]},\"xaxis\":{\"gridcolor\":\"#283442\",\"linecolor\":\"#506784\",\"ticks\":\"\",\"title\":{\"standoff\":15},\"zerolinecolor\":\"#283442\",\"automargin\":true,\"zerolinewidth\":2},\"yaxis\":{\"gridcolor\":\"#283442\",\"linecolor\":\"#506784\",\"ticks\":\"\",\"title\":{\"standoff\":15},\"zerolinecolor\":\"#283442\",\"automargin\":true,\"zerolinewidth\":2},\"scene\":{\"xaxis\":{\"backgroundcolor\":\"rgb(17,17,17)\",\"gridcolor\":\"#506784\",\"linecolor\":\"#506784\",\"showbackground\":true,\"ticks\":\"\",\"zerolinecolor\":\"#C8D4E3\",\"gridwidth\":2},\"yaxis\":{\"backgroundcolor\":\"rgb(17,17,17)\",\"gridcolor\":\"#506784\",\"linecolor\":\"#506784\",\"showbackground\":true,\"ticks\":\"\",\"zerolinecolor\":\"#C8D4E3\",\"gridwidth\":2},\"zaxis\":{\"backgroundcolor\":\"rgb(17,17,17)\",\"gridcolor\":\"#506784\",\"linecolor\":\"#506784\",\"showbackground\":true,\"ticks\":\"\",\"zerolinecolor\":\"#C8D4E3\",\"gridwidth\":2}},\"shapedefaults\":{\"line\":{\"color\":\"#f2f5fa\"}},\"annotationdefaults\":{\"arrowcolor\":\"#f2f5fa\",\"arrowhead\":0,\"arrowwidth\":1},\"geo\":{\"bgcolor\":\"rgb(17,17,17)\",\"landcolor\":\"rgb(17,17,17)\",\"subunitcolor\":\"#506784\",\"showland\":true,\"showlakes\":true,\"lakecolor\":\"rgb(17,17,17)\"},\"title\":{\"x\":0.05},\"updatemenudefaults\":{\"bgcolor\":\"#506784\",\"borderwidth\":0},\"sliderdefaults\":{\"bgcolor\":\"#C8D4E3\",\"borderwidth\":1,\"bordercolor\":\"rgb(17,17,17)\",\"tickwidth\":0},\"mapbox\":{\"style\":\"dark\"}}},\"xaxis\":{\"anchor\":\"y\",\"domain\":[0.0,1.0],\"title\":{\"text\":\"Ano\"}},\"yaxis\":{\"anchor\":\"x\",\"domain\":[0.0,1.0],\"title\":{\"text\":\"Quantidade de escolas\"}},\"legend\":{\"tracegroupgap\":0},\"title\":{\"text\":\"QUANTIDADE DE ESCOLAS X ANO\"},\"barmode\":\"relative\"},                        {\"responsive\": true}                    ).then(function(){\n                            \nvar gd = document.getElementById('e466fb49-6fec-43a1-9319-280d00e62b7a');\nvar x = new MutationObserver(function (mutations, observer) {{\n        var display = window.getComputedStyle(gd).display;\n        if (!display || display === 'none') {{\n            console.log([gd, 'removed!']);\n            Plotly.purge(gd);\n            observer.disconnect();\n        }}\n}});\n\n// Listen for the removal of the full notebook cells\nvar notebookContainer = gd.closest('#notebook-container');\nif (notebookContainer) {{\n    x.observe(notebookContainer, {childList: true});\n}}\n\n// Listen for the clearing of the current output cell\nvar outputEl = gd.closest('.output');\nif (outputEl) {{\n    x.observe(outputEl, {childList: true});\n}}\n\n                        })                };                });            </script>        </div>"
     },
     "metadata": {},
     "output_type": "display_data"
    }
   ],
   "source": [
    "# Quantidade de escolas\n",
    "dimension = \"Ano\"\n",
    "quantidade_escolas = con.execute(f\"\"\"\n",
    "                select\n",
    "                    {DIMENSIONS[dimension]} as '{dimension}',\n",
    "                    count(CO_ENTIDADE) as 'Quantidade de escolas'\n",
    "                from microdados\n",
    "                group by {DIMENSIONS[dimension]}\n",
    "                order by 1\n",
    "            \"\"\"\n",
    "                                 ).df()\n",
    "px.bar(\n",
    "        quantidade_escolas,\n",
    "        x=dimension,\n",
    "        y='Quantidade de escolas',\n",
    "        title=f\"QUANTIDADE DE ESCOLAS X {dimension.upper()}\"\n",
    "    )"
   ],
   "metadata": {
    "collapsed": false
   }
  },
  {
   "cell_type": "code",
   "execution_count": 2,
   "outputs": [],
   "source": [
    "with open(\"../geojs-100-mun.json\") as f:\n",
    "    geojson = json.load(f)"
   ],
   "metadata": {
    "collapsed": false
   }
  },
  {
   "cell_type": "code",
   "execution_count": 115,
   "outputs": [
    {
     "data": {
      "text/plain": "     Ano        Região  Rede Pública  Poço artesiano  Cacimba/Cisterna/Poço  \\\n0   2016  Centro-Oeste         0.747           0.161                  0.030   \n1   2016      Nordeste         0.461           0.120                  0.128   \n2   2016         Norte         0.257           0.264                  0.113   \n3   2016       Sudeste         0.715           0.056                  0.031   \n4   2016           Sul         0.767           0.102                  0.023   \n5   2017  Centro-Oeste         0.749           0.158                  0.028   \n6   2017      Nordeste         0.458           0.122                  0.127   \n7   2017         Norte         0.258           0.270                  0.105   \n8   2017       Sudeste         0.734           0.048                  0.028   \n9   2017           Sul         0.771           0.099                  0.021   \n10  2018  Centro-Oeste         0.747           0.152                  0.027   \n11  2018      Nordeste         0.458           0.120                  0.123   \n12  2018         Norte         0.260           0.279                  0.096   \n13  2018       Sudeste         0.726           0.055                  0.030   \n14  2018           Sul         0.779           0.095                  0.019   \n15  2019  Centro-Oeste         0.783           0.166                  0.027   \n16  2019      Nordeste         0.493           0.130                  0.133   \n17  2019         Norte         0.271           0.306                  0.100   \n18  2019       Sudeste         0.735           0.055                  0.025   \n19  2019           Sul         0.792           0.096                  0.018   \n20  2020  Centro-Oeste         0.782           0.169                  0.026   \n21  2020      Nordeste         0.508           0.135                  0.138   \n22  2020         Norte         0.277           0.318                  0.098   \n23  2020       Sudeste         0.740           0.055                  0.025   \n24  2020           Sul         0.802           0.095                  0.018   \n25  2021  Centro-Oeste         0.774           0.168                  0.023   \n26  2021      Nordeste         0.525           0.140                  0.139   \n27  2021         Norte         0.282           0.319                  0.097   \n28  2021       Sudeste         0.737           0.055                  0.025   \n29  2021           Sul         0.805           0.094                  0.018   \n30  2022  Centro-Oeste         0.888           0.316                  0.163   \n31  2022      Nordeste         0.767           0.384                  0.383   \n32  2022         Norte         0.437           0.475                  0.246   \n33  2022       Sudeste         0.936           0.259                  0.229   \n34  2022           Sul         0.916           0.202                  0.125   \n\n    Fonte/Rio/Igarapé/Riacho/Córrego  Não há abastecimento de água  \\\n0                              0.017                         0.005   \n1                              0.021                         0.052   \n2                              0.177                         0.064   \n3                              0.021                         0.002   \n4                              0.016                         0.002   \n5                              0.016                         0.004   \n6                              0.019                         0.042   \n7                              0.176                         0.060   \n8                              0.017                         0.002   \n9                              0.016                         0.003   \n10                             0.015                         0.003   \n11                             0.018                         0.034   \n12                             0.166                         0.061   \n13                             0.017                         0.002   \n14                             0.014                         0.002   \n15                             0.015                         0.003   \n16                             0.018                         0.027   \n17                             0.168                         0.049   \n18                             0.016                         0.002   \n19                             0.014                         0.001   \n20                             0.014                         0.002   \n21                             0.017                         0.024   \n22                             0.167                         0.048   \n23                             0.015                         0.002   \n24                             0.014                         0.001   \n25                             0.014                         0.002   \n26                             0.017                         0.025   \n27                             0.168                         0.055   \n28                             0.014                         0.002   \n29                             0.012                         0.001   \n30                             0.155                         0.143   \n31                             0.265                         0.271   \n32                             0.317                         0.200   \n33                             0.219                         0.206   \n34                             0.119                         0.110   \n\n    Sem informações  \n0             0.117  \n1             0.263  \n2             0.176  \n3             0.205  \n4             0.121  \n5             0.118  \n6             0.279  \n7             0.181  \n8             0.198  \n9             0.122  \n10            0.128  \n11            0.296  \n12            0.190  \n13            0.202  \n14            0.122  \n15            0.091  \n16            0.261  \n17            0.172  \n18            0.196  \n19            0.114  \n20            0.095  \n21            0.245  \n22            0.159  \n23            0.193  \n24            0.107  \n25            0.106  \n26            0.226  \n27            0.151  \n28            0.198  \n29            0.107  \n30            0.000  \n31            0.000  \n32            0.000  \n33            0.000  \n34            0.000  ",
      "text/html": "<div>\n<style scoped>\n    .dataframe tbody tr th:only-of-type {\n        vertical-align: middle;\n    }\n\n    .dataframe tbody tr th {\n        vertical-align: top;\n    }\n\n    .dataframe thead th {\n        text-align: right;\n    }\n</style>\n<table border=\"1\" class=\"dataframe\">\n  <thead>\n    <tr style=\"text-align: right;\">\n      <th></th>\n      <th>Ano</th>\n      <th>Região</th>\n      <th>Rede Pública</th>\n      <th>Poço artesiano</th>\n      <th>Cacimba/Cisterna/Poço</th>\n      <th>Fonte/Rio/Igarapé/Riacho/Córrego</th>\n      <th>Não há abastecimento de água</th>\n      <th>Sem informações</th>\n    </tr>\n  </thead>\n  <tbody>\n    <tr>\n      <th>0</th>\n      <td>2016</td>\n      <td>Centro-Oeste</td>\n      <td>0.747</td>\n      <td>0.161</td>\n      <td>0.030</td>\n      <td>0.017</td>\n      <td>0.005</td>\n      <td>0.117</td>\n    </tr>\n    <tr>\n      <th>1</th>\n      <td>2016</td>\n      <td>Nordeste</td>\n      <td>0.461</td>\n      <td>0.120</td>\n      <td>0.128</td>\n      <td>0.021</td>\n      <td>0.052</td>\n      <td>0.263</td>\n    </tr>\n    <tr>\n      <th>2</th>\n      <td>2016</td>\n      <td>Norte</td>\n      <td>0.257</td>\n      <td>0.264</td>\n      <td>0.113</td>\n      <td>0.177</td>\n      <td>0.064</td>\n      <td>0.176</td>\n    </tr>\n    <tr>\n      <th>3</th>\n      <td>2016</td>\n      <td>Sudeste</td>\n      <td>0.715</td>\n      <td>0.056</td>\n      <td>0.031</td>\n      <td>0.021</td>\n      <td>0.002</td>\n      <td>0.205</td>\n    </tr>\n    <tr>\n      <th>4</th>\n      <td>2016</td>\n      <td>Sul</td>\n      <td>0.767</td>\n      <td>0.102</td>\n      <td>0.023</td>\n      <td>0.016</td>\n      <td>0.002</td>\n      <td>0.121</td>\n    </tr>\n    <tr>\n      <th>5</th>\n      <td>2017</td>\n      <td>Centro-Oeste</td>\n      <td>0.749</td>\n      <td>0.158</td>\n      <td>0.028</td>\n      <td>0.016</td>\n      <td>0.004</td>\n      <td>0.118</td>\n    </tr>\n    <tr>\n      <th>6</th>\n      <td>2017</td>\n      <td>Nordeste</td>\n      <td>0.458</td>\n      <td>0.122</td>\n      <td>0.127</td>\n      <td>0.019</td>\n      <td>0.042</td>\n      <td>0.279</td>\n    </tr>\n    <tr>\n      <th>7</th>\n      <td>2017</td>\n      <td>Norte</td>\n      <td>0.258</td>\n      <td>0.270</td>\n      <td>0.105</td>\n      <td>0.176</td>\n      <td>0.060</td>\n      <td>0.181</td>\n    </tr>\n    <tr>\n      <th>8</th>\n      <td>2017</td>\n      <td>Sudeste</td>\n      <td>0.734</td>\n      <td>0.048</td>\n      <td>0.028</td>\n      <td>0.017</td>\n      <td>0.002</td>\n      <td>0.198</td>\n    </tr>\n    <tr>\n      <th>9</th>\n      <td>2017</td>\n      <td>Sul</td>\n      <td>0.771</td>\n      <td>0.099</td>\n      <td>0.021</td>\n      <td>0.016</td>\n      <td>0.003</td>\n      <td>0.122</td>\n    </tr>\n    <tr>\n      <th>10</th>\n      <td>2018</td>\n      <td>Centro-Oeste</td>\n      <td>0.747</td>\n      <td>0.152</td>\n      <td>0.027</td>\n      <td>0.015</td>\n      <td>0.003</td>\n      <td>0.128</td>\n    </tr>\n    <tr>\n      <th>11</th>\n      <td>2018</td>\n      <td>Nordeste</td>\n      <td>0.458</td>\n      <td>0.120</td>\n      <td>0.123</td>\n      <td>0.018</td>\n      <td>0.034</td>\n      <td>0.296</td>\n    </tr>\n    <tr>\n      <th>12</th>\n      <td>2018</td>\n      <td>Norte</td>\n      <td>0.260</td>\n      <td>0.279</td>\n      <td>0.096</td>\n      <td>0.166</td>\n      <td>0.061</td>\n      <td>0.190</td>\n    </tr>\n    <tr>\n      <th>13</th>\n      <td>2018</td>\n      <td>Sudeste</td>\n      <td>0.726</td>\n      <td>0.055</td>\n      <td>0.030</td>\n      <td>0.017</td>\n      <td>0.002</td>\n      <td>0.202</td>\n    </tr>\n    <tr>\n      <th>14</th>\n      <td>2018</td>\n      <td>Sul</td>\n      <td>0.779</td>\n      <td>0.095</td>\n      <td>0.019</td>\n      <td>0.014</td>\n      <td>0.002</td>\n      <td>0.122</td>\n    </tr>\n    <tr>\n      <th>15</th>\n      <td>2019</td>\n      <td>Centro-Oeste</td>\n      <td>0.783</td>\n      <td>0.166</td>\n      <td>0.027</td>\n      <td>0.015</td>\n      <td>0.003</td>\n      <td>0.091</td>\n    </tr>\n    <tr>\n      <th>16</th>\n      <td>2019</td>\n      <td>Nordeste</td>\n      <td>0.493</td>\n      <td>0.130</td>\n      <td>0.133</td>\n      <td>0.018</td>\n      <td>0.027</td>\n      <td>0.261</td>\n    </tr>\n    <tr>\n      <th>17</th>\n      <td>2019</td>\n      <td>Norte</td>\n      <td>0.271</td>\n      <td>0.306</td>\n      <td>0.100</td>\n      <td>0.168</td>\n      <td>0.049</td>\n      <td>0.172</td>\n    </tr>\n    <tr>\n      <th>18</th>\n      <td>2019</td>\n      <td>Sudeste</td>\n      <td>0.735</td>\n      <td>0.055</td>\n      <td>0.025</td>\n      <td>0.016</td>\n      <td>0.002</td>\n      <td>0.196</td>\n    </tr>\n    <tr>\n      <th>19</th>\n      <td>2019</td>\n      <td>Sul</td>\n      <td>0.792</td>\n      <td>0.096</td>\n      <td>0.018</td>\n      <td>0.014</td>\n      <td>0.001</td>\n      <td>0.114</td>\n    </tr>\n    <tr>\n      <th>20</th>\n      <td>2020</td>\n      <td>Centro-Oeste</td>\n      <td>0.782</td>\n      <td>0.169</td>\n      <td>0.026</td>\n      <td>0.014</td>\n      <td>0.002</td>\n      <td>0.095</td>\n    </tr>\n    <tr>\n      <th>21</th>\n      <td>2020</td>\n      <td>Nordeste</td>\n      <td>0.508</td>\n      <td>0.135</td>\n      <td>0.138</td>\n      <td>0.017</td>\n      <td>0.024</td>\n      <td>0.245</td>\n    </tr>\n    <tr>\n      <th>22</th>\n      <td>2020</td>\n      <td>Norte</td>\n      <td>0.277</td>\n      <td>0.318</td>\n      <td>0.098</td>\n      <td>0.167</td>\n      <td>0.048</td>\n      <td>0.159</td>\n    </tr>\n    <tr>\n      <th>23</th>\n      <td>2020</td>\n      <td>Sudeste</td>\n      <td>0.740</td>\n      <td>0.055</td>\n      <td>0.025</td>\n      <td>0.015</td>\n      <td>0.002</td>\n      <td>0.193</td>\n    </tr>\n    <tr>\n      <th>24</th>\n      <td>2020</td>\n      <td>Sul</td>\n      <td>0.802</td>\n      <td>0.095</td>\n      <td>0.018</td>\n      <td>0.014</td>\n      <td>0.001</td>\n      <td>0.107</td>\n    </tr>\n    <tr>\n      <th>25</th>\n      <td>2021</td>\n      <td>Centro-Oeste</td>\n      <td>0.774</td>\n      <td>0.168</td>\n      <td>0.023</td>\n      <td>0.014</td>\n      <td>0.002</td>\n      <td>0.106</td>\n    </tr>\n    <tr>\n      <th>26</th>\n      <td>2021</td>\n      <td>Nordeste</td>\n      <td>0.525</td>\n      <td>0.140</td>\n      <td>0.139</td>\n      <td>0.017</td>\n      <td>0.025</td>\n      <td>0.226</td>\n    </tr>\n    <tr>\n      <th>27</th>\n      <td>2021</td>\n      <td>Norte</td>\n      <td>0.282</td>\n      <td>0.319</td>\n      <td>0.097</td>\n      <td>0.168</td>\n      <td>0.055</td>\n      <td>0.151</td>\n    </tr>\n    <tr>\n      <th>28</th>\n      <td>2021</td>\n      <td>Sudeste</td>\n      <td>0.737</td>\n      <td>0.055</td>\n      <td>0.025</td>\n      <td>0.014</td>\n      <td>0.002</td>\n      <td>0.198</td>\n    </tr>\n    <tr>\n      <th>29</th>\n      <td>2021</td>\n      <td>Sul</td>\n      <td>0.805</td>\n      <td>0.094</td>\n      <td>0.018</td>\n      <td>0.012</td>\n      <td>0.001</td>\n      <td>0.107</td>\n    </tr>\n    <tr>\n      <th>30</th>\n      <td>2022</td>\n      <td>Centro-Oeste</td>\n      <td>0.888</td>\n      <td>0.316</td>\n      <td>0.163</td>\n      <td>0.155</td>\n      <td>0.143</td>\n      <td>0.000</td>\n    </tr>\n    <tr>\n      <th>31</th>\n      <td>2022</td>\n      <td>Nordeste</td>\n      <td>0.767</td>\n      <td>0.384</td>\n      <td>0.383</td>\n      <td>0.265</td>\n      <td>0.271</td>\n      <td>0.000</td>\n    </tr>\n    <tr>\n      <th>32</th>\n      <td>2022</td>\n      <td>Norte</td>\n      <td>0.437</td>\n      <td>0.475</td>\n      <td>0.246</td>\n      <td>0.317</td>\n      <td>0.200</td>\n      <td>0.000</td>\n    </tr>\n    <tr>\n      <th>33</th>\n      <td>2022</td>\n      <td>Sudeste</td>\n      <td>0.936</td>\n      <td>0.259</td>\n      <td>0.229</td>\n      <td>0.219</td>\n      <td>0.206</td>\n      <td>0.000</td>\n    </tr>\n    <tr>\n      <th>34</th>\n      <td>2022</td>\n      <td>Sul</td>\n      <td>0.916</td>\n      <td>0.202</td>\n      <td>0.125</td>\n      <td>0.119</td>\n      <td>0.110</td>\n      <td>0.000</td>\n    </tr>\n  </tbody>\n</table>\n</div>"
     },
     "execution_count": 115,
     "metadata": {},
     "output_type": "execute_result"
    }
   ],
   "source": [
    "# agua\n",
    "df = con.execute(f\"\"\"\n",
    "                select\n",
    "                    NU_ANO_CENSO as 'Ano',\n",
    "                    NO_REGIAO as 'Região',\n",
    "                    round(cast(count(*) filter (where IN_AGUA_REDE_PUBLICA) as float) / count(*), 3) as 'Rede Pública',\n",
    "                    round(cast(count(*) filter (where IN_AGUA_POCO_ARTESIANO) as float) / count(*), 3) as 'Poço artesiano',\n",
    "                    round(cast(count(*) filter (where IN_AGUA_CACIMBA) as float) / count(*), 3) as 'Cacimba/Cisterna/Poço',\n",
    "                    round(cast(count(*) filter (where IN_AGUA_FONTE_RIO) as float) / count(*), 3) as 'Fonte/Rio/Igarapé/Riacho/Córrego',\n",
    "                    round(cast(count(*) filter (where IN_AGUA_INEXISTENTE) as float) / count(*), 3) as 'Não há abastecimento de água',\n",
    "                    round(\n",
    "                        cast(count(*) filter\n",
    "                            (where not (IN_AGUA_REDE_PUBLICA or IN_AGUA_POCO_ARTESIANO or IN_AGUA_CACIMBA or IN_AGUA_FONTE_RIO or IN_AGUA_INEXISTENTE ))\n",
    "                            as float)\n",
    "                        / count(*)\n",
    "                    , 3) as 'Sem informações'\n",
    "                from microdados\n",
    "                group by NU_ANO_CENSO, NO_REGIAO\n",
    "                order by 1, 2\n",
    "            \"\"\"\n",
    ").df()\n",
    "df"
   ],
   "metadata": {
    "collapsed": false
   }
  },
  {
   "cell_type": "code",
   "execution_count": 116,
   "outputs": [
    {
     "data": {
      "text/plain": "      Ano        Região          Serviço  Taxa de acesso\n0    2016  Centro-Oeste     Rede Pública           0.747\n1    2016      Nordeste     Rede Pública           0.461\n2    2016         Norte     Rede Pública           0.257\n3    2016       Sudeste     Rede Pública           0.715\n4    2016           Sul     Rede Pública           0.767\n..    ...           ...              ...             ...\n205  2022  Centro-Oeste  Sem informações           0.000\n206  2022      Nordeste  Sem informações           0.000\n207  2022         Norte  Sem informações           0.000\n208  2022       Sudeste  Sem informações           0.000\n209  2022           Sul  Sem informações           0.000\n\n[210 rows x 4 columns]",
      "text/html": "<div>\n<style scoped>\n    .dataframe tbody tr th:only-of-type {\n        vertical-align: middle;\n    }\n\n    .dataframe tbody tr th {\n        vertical-align: top;\n    }\n\n    .dataframe thead th {\n        text-align: right;\n    }\n</style>\n<table border=\"1\" class=\"dataframe\">\n  <thead>\n    <tr style=\"text-align: right;\">\n      <th></th>\n      <th>Ano</th>\n      <th>Região</th>\n      <th>Serviço</th>\n      <th>Taxa de acesso</th>\n    </tr>\n  </thead>\n  <tbody>\n    <tr>\n      <th>0</th>\n      <td>2016</td>\n      <td>Centro-Oeste</td>\n      <td>Rede Pública</td>\n      <td>0.747</td>\n    </tr>\n    <tr>\n      <th>1</th>\n      <td>2016</td>\n      <td>Nordeste</td>\n      <td>Rede Pública</td>\n      <td>0.461</td>\n    </tr>\n    <tr>\n      <th>2</th>\n      <td>2016</td>\n      <td>Norte</td>\n      <td>Rede Pública</td>\n      <td>0.257</td>\n    </tr>\n    <tr>\n      <th>3</th>\n      <td>2016</td>\n      <td>Sudeste</td>\n      <td>Rede Pública</td>\n      <td>0.715</td>\n    </tr>\n    <tr>\n      <th>4</th>\n      <td>2016</td>\n      <td>Sul</td>\n      <td>Rede Pública</td>\n      <td>0.767</td>\n    </tr>\n    <tr>\n      <th>...</th>\n      <td>...</td>\n      <td>...</td>\n      <td>...</td>\n      <td>...</td>\n    </tr>\n    <tr>\n      <th>205</th>\n      <td>2022</td>\n      <td>Centro-Oeste</td>\n      <td>Sem informações</td>\n      <td>0.000</td>\n    </tr>\n    <tr>\n      <th>206</th>\n      <td>2022</td>\n      <td>Nordeste</td>\n      <td>Sem informações</td>\n      <td>0.000</td>\n    </tr>\n    <tr>\n      <th>207</th>\n      <td>2022</td>\n      <td>Norte</td>\n      <td>Sem informações</td>\n      <td>0.000</td>\n    </tr>\n    <tr>\n      <th>208</th>\n      <td>2022</td>\n      <td>Sudeste</td>\n      <td>Sem informações</td>\n      <td>0.000</td>\n    </tr>\n    <tr>\n      <th>209</th>\n      <td>2022</td>\n      <td>Sul</td>\n      <td>Sem informações</td>\n      <td>0.000</td>\n    </tr>\n  </tbody>\n</table>\n<p>210 rows × 4 columns</p>\n</div>"
     },
     "execution_count": 116,
     "metadata": {},
     "output_type": "execute_result"
    }
   ],
   "source": [
    "df = df.melt(\n",
    "        id_vars=df.columns[:2],\n",
    "        var_name=\"Serviço\",\n",
    "        value_name=\"Taxa de acesso\",\n",
    "        value_vars=df.columns[2:]\n",
    "    )\n",
    "\n",
    "df"
   ],
   "metadata": {
    "collapsed": false
   }
  },
  {
   "cell_type": "code",
   "execution_count": 117,
   "outputs": [],
   "source": [
    "df[\"dimensão | serviço\"] = df.iloc[:, 1] + \" | \" + df.iloc[:, 2]"
   ],
   "metadata": {
    "collapsed": false
   }
  },
  {
   "cell_type": "code",
   "execution_count": 118,
   "outputs": [
    {
     "data": {
      "text/plain": "      Ano        Região          Serviço  Taxa de acesso  \\\n0    2016  Centro-Oeste     Rede Pública           0.747   \n1    2016      Nordeste     Rede Pública           0.461   \n2    2016         Norte     Rede Pública           0.257   \n3    2016       Sudeste     Rede Pública           0.715   \n4    2016           Sul     Rede Pública           0.767   \n..    ...           ...              ...             ...   \n205  2022  Centro-Oeste  Sem informações           0.000   \n206  2022      Nordeste  Sem informações           0.000   \n207  2022         Norte  Sem informações           0.000   \n208  2022       Sudeste  Sem informações           0.000   \n209  2022           Sul  Sem informações           0.000   \n\n                 dimensão | serviço  \n0       Centro-Oeste | Rede Pública  \n1           Nordeste | Rede Pública  \n2              Norte | Rede Pública  \n3            Sudeste | Rede Pública  \n4                Sul | Rede Pública  \n..                              ...  \n205  Centro-Oeste | Sem informações  \n206      Nordeste | Sem informações  \n207         Norte | Sem informações  \n208       Sudeste | Sem informações  \n209           Sul | Sem informações  \n\n[210 rows x 5 columns]",
      "text/html": "<div>\n<style scoped>\n    .dataframe tbody tr th:only-of-type {\n        vertical-align: middle;\n    }\n\n    .dataframe tbody tr th {\n        vertical-align: top;\n    }\n\n    .dataframe thead th {\n        text-align: right;\n    }\n</style>\n<table border=\"1\" class=\"dataframe\">\n  <thead>\n    <tr style=\"text-align: right;\">\n      <th></th>\n      <th>Ano</th>\n      <th>Região</th>\n      <th>Serviço</th>\n      <th>Taxa de acesso</th>\n      <th>dimensão | serviço</th>\n    </tr>\n  </thead>\n  <tbody>\n    <tr>\n      <th>0</th>\n      <td>2016</td>\n      <td>Centro-Oeste</td>\n      <td>Rede Pública</td>\n      <td>0.747</td>\n      <td>Centro-Oeste | Rede Pública</td>\n    </tr>\n    <tr>\n      <th>1</th>\n      <td>2016</td>\n      <td>Nordeste</td>\n      <td>Rede Pública</td>\n      <td>0.461</td>\n      <td>Nordeste | Rede Pública</td>\n    </tr>\n    <tr>\n      <th>2</th>\n      <td>2016</td>\n      <td>Norte</td>\n      <td>Rede Pública</td>\n      <td>0.257</td>\n      <td>Norte | Rede Pública</td>\n    </tr>\n    <tr>\n      <th>3</th>\n      <td>2016</td>\n      <td>Sudeste</td>\n      <td>Rede Pública</td>\n      <td>0.715</td>\n      <td>Sudeste | Rede Pública</td>\n    </tr>\n    <tr>\n      <th>4</th>\n      <td>2016</td>\n      <td>Sul</td>\n      <td>Rede Pública</td>\n      <td>0.767</td>\n      <td>Sul | Rede Pública</td>\n    </tr>\n    <tr>\n      <th>...</th>\n      <td>...</td>\n      <td>...</td>\n      <td>...</td>\n      <td>...</td>\n      <td>...</td>\n    </tr>\n    <tr>\n      <th>205</th>\n      <td>2022</td>\n      <td>Centro-Oeste</td>\n      <td>Sem informações</td>\n      <td>0.000</td>\n      <td>Centro-Oeste | Sem informações</td>\n    </tr>\n    <tr>\n      <th>206</th>\n      <td>2022</td>\n      <td>Nordeste</td>\n      <td>Sem informações</td>\n      <td>0.000</td>\n      <td>Nordeste | Sem informações</td>\n    </tr>\n    <tr>\n      <th>207</th>\n      <td>2022</td>\n      <td>Norte</td>\n      <td>Sem informações</td>\n      <td>0.000</td>\n      <td>Norte | Sem informações</td>\n    </tr>\n    <tr>\n      <th>208</th>\n      <td>2022</td>\n      <td>Sudeste</td>\n      <td>Sem informações</td>\n      <td>0.000</td>\n      <td>Sudeste | Sem informações</td>\n    </tr>\n    <tr>\n      <th>209</th>\n      <td>2022</td>\n      <td>Sul</td>\n      <td>Sem informações</td>\n      <td>0.000</td>\n      <td>Sul | Sem informações</td>\n    </tr>\n  </tbody>\n</table>\n<p>210 rows × 5 columns</p>\n</div>"
     },
     "execution_count": 118,
     "metadata": {},
     "output_type": "execute_result"
    }
   ],
   "source": [
    "df"
   ],
   "metadata": {
    "collapsed": false
   }
  },
  {
   "cell_type": "code",
   "execution_count": 90,
   "outputs": [
    {
     "data": {
      "text/plain": "     Ano        Região  Rede Pública  Gerador movido a combustível fóssil  \\\n0   2016  Centro-Oeste         0.869                                0.000   \n1   2016      Nordeste         0.718                                0.000   \n2   2016         Norte         0.580                                0.000   \n3   2016       Sudeste         0.794                                0.000   \n4   2016           Sul         0.878                                0.000   \n5   2017  Centro-Oeste         0.868                                0.000   \n6   2017      Nordeste         0.706                                0.000   \n7   2017         Norte         0.588                                0.000   \n8   2017       Sudeste         0.799                                0.000   \n9   2017           Sul         0.876                                0.000   \n10  2018  Centro-Oeste         0.861                                0.000   \n11  2018      Nordeste         0.693                                0.000   \n12  2018         Norte         0.594                                0.000   \n13  2018       Sudeste         0.797                                0.000   \n14  2018           Sul         0.877                                0.000   \n15  2019  Centro-Oeste         0.899                                0.004   \n16  2019      Nordeste         0.730                                0.001   \n17  2019         Norte         0.624                                0.059   \n18  2019       Sudeste         0.802                                0.001   \n19  2019           Sul         0.885                                0.001   \n20  2020  Centro-Oeste         0.896                                0.004   \n21  2020      Nordeste         0.747                                0.001   \n22  2020         Norte         0.639                                0.064   \n23  2020       Sudeste         0.806                                0.001   \n24  2020           Sul         0.893                                0.001   \n25  2021  Centro-Oeste         0.886                                0.004   \n26  2021      Nordeste         0.766                                0.001   \n27  2021         Norte         0.656                                0.068   \n28  2021       Sudeste         0.800                                0.001   \n29  2021           Sul         0.892                                0.001   \n30  2022  Centro-Oeste         0.991                                0.147   \n31  2022      Nordeste         0.994                                0.250   \n32  2022         Norte         0.815                                0.216   \n33  2022       Sudeste         0.998                                0.206   \n34  2022           Sul         0.998                                0.110   \n\n    Fontes de energia renováveis ou alternativas  Não há energia elétrica  \\\n0                                          0.000                    0.006   \n1                                          0.000                    0.014   \n2                                          0.000                    0.150   \n3                                          0.000                    0.001   \n4                                          0.000                    0.000   \n5                                          0.000                    0.005   \n6                                          0.000                    0.011   \n7                                          0.000                    0.137   \n8                                          0.000                    0.000   \n9                                          0.000                    0.001   \n10                                         0.000                    0.004   \n11                                         0.000                    0.008   \n12                                         0.000                    0.125   \n13                                         0.000                    0.000   \n14                                         0.000                    0.000   \n15                                         0.008                    0.004   \n16                                         0.004                    0.006   \n17                                         0.018                    0.133   \n18                                         0.004                    0.000   \n19                                         0.003                    0.000   \n20                                         0.011                    0.003   \n21                                         0.005                    0.006   \n22                                         0.020                    0.124   \n23                                         0.005                    0.000   \n24                                         0.005                    0.000   \n25                                         0.016                    0.002   \n26                                         0.007                    0.005   \n27                                         0.019                    0.115   \n28                                         0.006                    0.000   \n29                                         0.008                    0.000   \n30                                         0.166                    0.144   \n31                                         0.258                    0.252   \n32                                         0.176                    0.257   \n33                                         0.213                    0.206   \n34                                         0.123                    0.109   \n\n    Sem informações  \n0             0.125  \n1             0.268  \n2             0.270  \n3             0.206  \n4             0.121  \n5             0.127  \n6             0.283  \n7             0.274  \n8             0.201  \n9             0.123  \n10            0.136  \n11            0.299  \n12            0.281  \n13            0.203  \n14            0.123  \n15            0.091  \n16            0.261  \n17            0.172  \n18            0.196  \n19            0.114  \n20            0.095  \n21            0.245  \n22            0.159  \n23            0.193  \n24            0.107  \n25            0.106  \n26            0.226  \n27            0.151  \n28            0.198  \n29            0.107  \n30            0.000  \n31            0.000  \n32            0.000  \n33            0.000  \n34            0.000  ",
      "text/html": "<div>\n<style scoped>\n    .dataframe tbody tr th:only-of-type {\n        vertical-align: middle;\n    }\n\n    .dataframe tbody tr th {\n        vertical-align: top;\n    }\n\n    .dataframe thead th {\n        text-align: right;\n    }\n</style>\n<table border=\"1\" class=\"dataframe\">\n  <thead>\n    <tr style=\"text-align: right;\">\n      <th></th>\n      <th>Ano</th>\n      <th>Região</th>\n      <th>Rede Pública</th>\n      <th>Gerador movido a combustível fóssil</th>\n      <th>Fontes de energia renováveis ou alternativas</th>\n      <th>Não há energia elétrica</th>\n      <th>Sem informações</th>\n    </tr>\n  </thead>\n  <tbody>\n    <tr>\n      <th>0</th>\n      <td>2016</td>\n      <td>Centro-Oeste</td>\n      <td>0.869</td>\n      <td>0.000</td>\n      <td>0.000</td>\n      <td>0.006</td>\n      <td>0.125</td>\n    </tr>\n    <tr>\n      <th>1</th>\n      <td>2016</td>\n      <td>Nordeste</td>\n      <td>0.718</td>\n      <td>0.000</td>\n      <td>0.000</td>\n      <td>0.014</td>\n      <td>0.268</td>\n    </tr>\n    <tr>\n      <th>2</th>\n      <td>2016</td>\n      <td>Norte</td>\n      <td>0.580</td>\n      <td>0.000</td>\n      <td>0.000</td>\n      <td>0.150</td>\n      <td>0.270</td>\n    </tr>\n    <tr>\n      <th>3</th>\n      <td>2016</td>\n      <td>Sudeste</td>\n      <td>0.794</td>\n      <td>0.000</td>\n      <td>0.000</td>\n      <td>0.001</td>\n      <td>0.206</td>\n    </tr>\n    <tr>\n      <th>4</th>\n      <td>2016</td>\n      <td>Sul</td>\n      <td>0.878</td>\n      <td>0.000</td>\n      <td>0.000</td>\n      <td>0.000</td>\n      <td>0.121</td>\n    </tr>\n    <tr>\n      <th>5</th>\n      <td>2017</td>\n      <td>Centro-Oeste</td>\n      <td>0.868</td>\n      <td>0.000</td>\n      <td>0.000</td>\n      <td>0.005</td>\n      <td>0.127</td>\n    </tr>\n    <tr>\n      <th>6</th>\n      <td>2017</td>\n      <td>Nordeste</td>\n      <td>0.706</td>\n      <td>0.000</td>\n      <td>0.000</td>\n      <td>0.011</td>\n      <td>0.283</td>\n    </tr>\n    <tr>\n      <th>7</th>\n      <td>2017</td>\n      <td>Norte</td>\n      <td>0.588</td>\n      <td>0.000</td>\n      <td>0.000</td>\n      <td>0.137</td>\n      <td>0.274</td>\n    </tr>\n    <tr>\n      <th>8</th>\n      <td>2017</td>\n      <td>Sudeste</td>\n      <td>0.799</td>\n      <td>0.000</td>\n      <td>0.000</td>\n      <td>0.000</td>\n      <td>0.201</td>\n    </tr>\n    <tr>\n      <th>9</th>\n      <td>2017</td>\n      <td>Sul</td>\n      <td>0.876</td>\n      <td>0.000</td>\n      <td>0.000</td>\n      <td>0.001</td>\n      <td>0.123</td>\n    </tr>\n    <tr>\n      <th>10</th>\n      <td>2018</td>\n      <td>Centro-Oeste</td>\n      <td>0.861</td>\n      <td>0.000</td>\n      <td>0.000</td>\n      <td>0.004</td>\n      <td>0.136</td>\n    </tr>\n    <tr>\n      <th>11</th>\n      <td>2018</td>\n      <td>Nordeste</td>\n      <td>0.693</td>\n      <td>0.000</td>\n      <td>0.000</td>\n      <td>0.008</td>\n      <td>0.299</td>\n    </tr>\n    <tr>\n      <th>12</th>\n      <td>2018</td>\n      <td>Norte</td>\n      <td>0.594</td>\n      <td>0.000</td>\n      <td>0.000</td>\n      <td>0.125</td>\n      <td>0.281</td>\n    </tr>\n    <tr>\n      <th>13</th>\n      <td>2018</td>\n      <td>Sudeste</td>\n      <td>0.797</td>\n      <td>0.000</td>\n      <td>0.000</td>\n      <td>0.000</td>\n      <td>0.203</td>\n    </tr>\n    <tr>\n      <th>14</th>\n      <td>2018</td>\n      <td>Sul</td>\n      <td>0.877</td>\n      <td>0.000</td>\n      <td>0.000</td>\n      <td>0.000</td>\n      <td>0.123</td>\n    </tr>\n    <tr>\n      <th>15</th>\n      <td>2019</td>\n      <td>Centro-Oeste</td>\n      <td>0.899</td>\n      <td>0.004</td>\n      <td>0.008</td>\n      <td>0.004</td>\n      <td>0.091</td>\n    </tr>\n    <tr>\n      <th>16</th>\n      <td>2019</td>\n      <td>Nordeste</td>\n      <td>0.730</td>\n      <td>0.001</td>\n      <td>0.004</td>\n      <td>0.006</td>\n      <td>0.261</td>\n    </tr>\n    <tr>\n      <th>17</th>\n      <td>2019</td>\n      <td>Norte</td>\n      <td>0.624</td>\n      <td>0.059</td>\n      <td>0.018</td>\n      <td>0.133</td>\n      <td>0.172</td>\n    </tr>\n    <tr>\n      <th>18</th>\n      <td>2019</td>\n      <td>Sudeste</td>\n      <td>0.802</td>\n      <td>0.001</td>\n      <td>0.004</td>\n      <td>0.000</td>\n      <td>0.196</td>\n    </tr>\n    <tr>\n      <th>19</th>\n      <td>2019</td>\n      <td>Sul</td>\n      <td>0.885</td>\n      <td>0.001</td>\n      <td>0.003</td>\n      <td>0.000</td>\n      <td>0.114</td>\n    </tr>\n    <tr>\n      <th>20</th>\n      <td>2020</td>\n      <td>Centro-Oeste</td>\n      <td>0.896</td>\n      <td>0.004</td>\n      <td>0.011</td>\n      <td>0.003</td>\n      <td>0.095</td>\n    </tr>\n    <tr>\n      <th>21</th>\n      <td>2020</td>\n      <td>Nordeste</td>\n      <td>0.747</td>\n      <td>0.001</td>\n      <td>0.005</td>\n      <td>0.006</td>\n      <td>0.245</td>\n    </tr>\n    <tr>\n      <th>22</th>\n      <td>2020</td>\n      <td>Norte</td>\n      <td>0.639</td>\n      <td>0.064</td>\n      <td>0.020</td>\n      <td>0.124</td>\n      <td>0.159</td>\n    </tr>\n    <tr>\n      <th>23</th>\n      <td>2020</td>\n      <td>Sudeste</td>\n      <td>0.806</td>\n      <td>0.001</td>\n      <td>0.005</td>\n      <td>0.000</td>\n      <td>0.193</td>\n    </tr>\n    <tr>\n      <th>24</th>\n      <td>2020</td>\n      <td>Sul</td>\n      <td>0.893</td>\n      <td>0.001</td>\n      <td>0.005</td>\n      <td>0.000</td>\n      <td>0.107</td>\n    </tr>\n    <tr>\n      <th>25</th>\n      <td>2021</td>\n      <td>Centro-Oeste</td>\n      <td>0.886</td>\n      <td>0.004</td>\n      <td>0.016</td>\n      <td>0.002</td>\n      <td>0.106</td>\n    </tr>\n    <tr>\n      <th>26</th>\n      <td>2021</td>\n      <td>Nordeste</td>\n      <td>0.766</td>\n      <td>0.001</td>\n      <td>0.007</td>\n      <td>0.005</td>\n      <td>0.226</td>\n    </tr>\n    <tr>\n      <th>27</th>\n      <td>2021</td>\n      <td>Norte</td>\n      <td>0.656</td>\n      <td>0.068</td>\n      <td>0.019</td>\n      <td>0.115</td>\n      <td>0.151</td>\n    </tr>\n    <tr>\n      <th>28</th>\n      <td>2021</td>\n      <td>Sudeste</td>\n      <td>0.800</td>\n      <td>0.001</td>\n      <td>0.006</td>\n      <td>0.000</td>\n      <td>0.198</td>\n    </tr>\n    <tr>\n      <th>29</th>\n      <td>2021</td>\n      <td>Sul</td>\n      <td>0.892</td>\n      <td>0.001</td>\n      <td>0.008</td>\n      <td>0.000</td>\n      <td>0.107</td>\n    </tr>\n    <tr>\n      <th>30</th>\n      <td>2022</td>\n      <td>Centro-Oeste</td>\n      <td>0.991</td>\n      <td>0.147</td>\n      <td>0.166</td>\n      <td>0.144</td>\n      <td>0.000</td>\n    </tr>\n    <tr>\n      <th>31</th>\n      <td>2022</td>\n      <td>Nordeste</td>\n      <td>0.994</td>\n      <td>0.250</td>\n      <td>0.258</td>\n      <td>0.252</td>\n      <td>0.000</td>\n    </tr>\n    <tr>\n      <th>32</th>\n      <td>2022</td>\n      <td>Norte</td>\n      <td>0.815</td>\n      <td>0.216</td>\n      <td>0.176</td>\n      <td>0.257</td>\n      <td>0.000</td>\n    </tr>\n    <tr>\n      <th>33</th>\n      <td>2022</td>\n      <td>Sudeste</td>\n      <td>0.998</td>\n      <td>0.206</td>\n      <td>0.213</td>\n      <td>0.206</td>\n      <td>0.000</td>\n    </tr>\n    <tr>\n      <th>34</th>\n      <td>2022</td>\n      <td>Sul</td>\n      <td>0.998</td>\n      <td>0.110</td>\n      <td>0.123</td>\n      <td>0.109</td>\n      <td>0.000</td>\n    </tr>\n  </tbody>\n</table>\n</div>"
     },
     "execution_count": 90,
     "metadata": {},
     "output_type": "execute_result"
    }
   ],
   "source": [
    "# energia\n",
    "df = con.execute(f\"\"\"\n",
    "                select\n",
    "                    NU_ANO_CENSO as 'Ano',\n",
    "                    NO_REGIAO as 'Região',\n",
    "                    round(cast(count(*) filter (where IN_ENERGIA_REDE_PUBLICA) as float) / count(*), 3) as 'Rede Pública',\n",
    "                    round(cast(count(*) filter (where IN_ENERGIA_GERADOR_FOSSIL) as float) / count(*), 3) as 'Gerador movido a combustível fóssil',\n",
    "                    round(cast(count(*) filter (where IN_ENERGIA_RENOVAVEL) as float) / count(*), 3) as 'Fontes de energia renováveis ou alternativas',\n",
    "                    round(cast(count(*) filter (where IN_ENERGIA_INEXISTENTE) as float) / count(*), 3) as 'Não há energia elétrica',\n",
    "                    round(\n",
    "                        cast(count(*) filter\n",
    "                            (where not (IN_ENERGIA_REDE_PUBLICA or IN_ENERGIA_GERADOR_FOSSIL or IN_ENERGIA_RENOVAVEL or IN_ENERGIA_INEXISTENTE))\n",
    "                            as float)\n",
    "                        / count(*)\n",
    "                    , 3) as 'Sem informações'\n",
    "                from microdados\n",
    "                group by NU_ANO_CENSO, NO_REGIAO\n",
    "                order by 1, 2\n",
    "            \"\"\"\n",
    ").df()\n",
    "df"
   ],
   "metadata": {
    "collapsed": false
   }
  },
  {
   "cell_type": "code",
   "execution_count": 109,
   "outputs": [
    {
     "name": "stderr",
     "output_type": "stream",
     "text": [
      "/tmp/ipykernel_13485/1262673022.py:1: FutureWarning: This dataframe has a column name that matches the 'value_name' column name of the resulting Dataframe. In the future this will raise an error, please set the 'value_name' parameter of DataFrame.melt to a unique name.\n",
      "  df = df.melt(\n"
     ]
    }
   ],
   "source": [
    "df = df.melt(\n",
    "    id_vars=df.columns[:2],\n",
    "    var_name=\"Serviço\",\n",
    "    value_name=\"Taxa de acesso\",\n",
    "    value_vars=df.columns[2:]\n",
    ")"
   ],
   "metadata": {
    "collapsed": false
   }
  },
  {
   "cell_type": "code",
   "execution_count": null,
   "outputs": [],
   "source": [
    "df[\"dimensão | serviço\"] = df[\"Região\"] + \" | \" + df"
   ],
   "metadata": {
    "collapsed": false
   }
  },
  {
   "cell_type": "code",
   "execution_count": 91,
   "outputs": [
    {
     "data": {
      "text/plain": "     Ano        Região  Rede Pública  Fossa Séptica  Fossa rudimentar/comum  \\\n0   2016  Centro-Oeste         0.398          0.000                   0.000   \n1   2016      Nordeste         0.207          0.000                   0.000   \n2   2016         Norte         0.069          0.000                   0.000   \n3   2016       Sudeste         0.689          0.000                   0.000   \n4   2016           Sul         0.494          0.000                   0.000   \n5   2017  Centro-Oeste         0.402          0.000                   0.000   \n6   2017      Nordeste         0.209          0.000                   0.000   \n7   2017         Norte         0.072          0.000                   0.000   \n8   2017       Sudeste         0.688          0.000                   0.000   \n9   2017           Sul         0.498          0.000                   0.000   \n10  2018  Centro-Oeste         0.414          0.000                   0.000   \n11  2018      Nordeste         0.211          0.000                   0.000   \n12  2018         Norte         0.075          0.000                   0.000   \n13  2018       Sudeste         0.690          0.000                   0.000   \n14  2018           Sul         0.508          0.000                   0.000   \n15  2019  Centro-Oeste         0.495          0.248                   0.163   \n16  2019      Nordeste         0.286          0.223                   0.192   \n17  2019         Norte         0.112          0.266                   0.274   \n18  2019       Sudeste         0.710          0.063                   0.027   \n19  2019           Sul         0.560          0.219                   0.133   \n20  2020  Centro-Oeste         0.495          0.244                   0.167   \n21  2020      Nordeste         0.289          0.234                   0.200   \n22  2020         Norte         0.113          0.277                   0.288   \n23  2020       Sudeste         0.714          0.064                   0.029   \n24  2020           Sul         0.574          0.229                   0.122   \n25  2021  Centro-Oeste         0.491          0.242                   0.170   \n26  2021      Nordeste         0.296          0.240                   0.212   \n27  2021         Norte         0.113          0.280                   0.305   \n28  2021       Sudeste         0.709          0.063                   0.029   \n29  2021           Sul         0.576          0.232                   0.120   \n30  2022  Centro-Oeste         0.619          0.378                   0.301   \n31  2022      Nordeste         0.535          0.490                   0.457   \n32  2022         Norte         0.263          0.423                   0.477   \n33  2022       Sudeste         0.910          0.265                   0.234   \n34  2022           Sul         0.691          0.341                   0.222   \n\n    Fossa  Não há esgotamento sanitário  Sem informações  \n0   0.499                         0.010            0.117  \n1   0.507                         0.038            0.263  \n2   0.591                         0.176            0.176  \n3   0.108                         0.003            0.205  \n4   0.420                         0.003            0.121  \n5   0.493                         0.008            0.118  \n6   0.495                         0.034            0.279  \n7   0.582                         0.177            0.181  \n8   0.116                         0.003            0.198  \n9   0.415                         0.004            0.122  \n10  0.477                         0.006            0.128  \n11  0.480                         0.028            0.296  \n12  0.581                         0.168            0.190  \n13  0.109                         0.004            0.202  \n14  0.406                         0.002            0.122  \n15  0.411                         0.019            0.091  \n16  0.414                         0.049            0.261  \n17  0.540                         0.183            0.172  \n18  0.090                         0.006            0.196  \n19  0.352                         0.003            0.114  \n20  0.412                         0.015            0.095  \n21  0.434                         0.044            0.245  \n22  0.565                         0.171            0.159  \n23  0.093                         0.004            0.193  \n24  0.351                         0.002            0.107  \n25  0.412                         0.011            0.106  \n26  0.452                         0.040            0.226  \n27  0.585                         0.160            0.151  \n28  0.093                         0.004            0.198  \n29  0.352                         0.002            0.107  \n30  0.536                         0.152            0.000  \n31  0.698                         0.282            0.000  \n32  0.750                         0.299            0.000  \n33  0.295                         0.208            0.000  \n34  0.455                         0.111            0.000  ",
      "text/html": "<div>\n<style scoped>\n    .dataframe tbody tr th:only-of-type {\n        vertical-align: middle;\n    }\n\n    .dataframe tbody tr th {\n        vertical-align: top;\n    }\n\n    .dataframe thead th {\n        text-align: right;\n    }\n</style>\n<table border=\"1\" class=\"dataframe\">\n  <thead>\n    <tr style=\"text-align: right;\">\n      <th></th>\n      <th>Ano</th>\n      <th>Região</th>\n      <th>Rede Pública</th>\n      <th>Fossa Séptica</th>\n      <th>Fossa rudimentar/comum</th>\n      <th>Fossa</th>\n      <th>Não há esgotamento sanitário</th>\n      <th>Sem informações</th>\n    </tr>\n  </thead>\n  <tbody>\n    <tr>\n      <th>0</th>\n      <td>2016</td>\n      <td>Centro-Oeste</td>\n      <td>0.398</td>\n      <td>0.000</td>\n      <td>0.000</td>\n      <td>0.499</td>\n      <td>0.010</td>\n      <td>0.117</td>\n    </tr>\n    <tr>\n      <th>1</th>\n      <td>2016</td>\n      <td>Nordeste</td>\n      <td>0.207</td>\n      <td>0.000</td>\n      <td>0.000</td>\n      <td>0.507</td>\n      <td>0.038</td>\n      <td>0.263</td>\n    </tr>\n    <tr>\n      <th>2</th>\n      <td>2016</td>\n      <td>Norte</td>\n      <td>0.069</td>\n      <td>0.000</td>\n      <td>0.000</td>\n      <td>0.591</td>\n      <td>0.176</td>\n      <td>0.176</td>\n    </tr>\n    <tr>\n      <th>3</th>\n      <td>2016</td>\n      <td>Sudeste</td>\n      <td>0.689</td>\n      <td>0.000</td>\n      <td>0.000</td>\n      <td>0.108</td>\n      <td>0.003</td>\n      <td>0.205</td>\n    </tr>\n    <tr>\n      <th>4</th>\n      <td>2016</td>\n      <td>Sul</td>\n      <td>0.494</td>\n      <td>0.000</td>\n      <td>0.000</td>\n      <td>0.420</td>\n      <td>0.003</td>\n      <td>0.121</td>\n    </tr>\n    <tr>\n      <th>5</th>\n      <td>2017</td>\n      <td>Centro-Oeste</td>\n      <td>0.402</td>\n      <td>0.000</td>\n      <td>0.000</td>\n      <td>0.493</td>\n      <td>0.008</td>\n      <td>0.118</td>\n    </tr>\n    <tr>\n      <th>6</th>\n      <td>2017</td>\n      <td>Nordeste</td>\n      <td>0.209</td>\n      <td>0.000</td>\n      <td>0.000</td>\n      <td>0.495</td>\n      <td>0.034</td>\n      <td>0.279</td>\n    </tr>\n    <tr>\n      <th>7</th>\n      <td>2017</td>\n      <td>Norte</td>\n      <td>0.072</td>\n      <td>0.000</td>\n      <td>0.000</td>\n      <td>0.582</td>\n      <td>0.177</td>\n      <td>0.181</td>\n    </tr>\n    <tr>\n      <th>8</th>\n      <td>2017</td>\n      <td>Sudeste</td>\n      <td>0.688</td>\n      <td>0.000</td>\n      <td>0.000</td>\n      <td>0.116</td>\n      <td>0.003</td>\n      <td>0.198</td>\n    </tr>\n    <tr>\n      <th>9</th>\n      <td>2017</td>\n      <td>Sul</td>\n      <td>0.498</td>\n      <td>0.000</td>\n      <td>0.000</td>\n      <td>0.415</td>\n      <td>0.004</td>\n      <td>0.122</td>\n    </tr>\n    <tr>\n      <th>10</th>\n      <td>2018</td>\n      <td>Centro-Oeste</td>\n      <td>0.414</td>\n      <td>0.000</td>\n      <td>0.000</td>\n      <td>0.477</td>\n      <td>0.006</td>\n      <td>0.128</td>\n    </tr>\n    <tr>\n      <th>11</th>\n      <td>2018</td>\n      <td>Nordeste</td>\n      <td>0.211</td>\n      <td>0.000</td>\n      <td>0.000</td>\n      <td>0.480</td>\n      <td>0.028</td>\n      <td>0.296</td>\n    </tr>\n    <tr>\n      <th>12</th>\n      <td>2018</td>\n      <td>Norte</td>\n      <td>0.075</td>\n      <td>0.000</td>\n      <td>0.000</td>\n      <td>0.581</td>\n      <td>0.168</td>\n      <td>0.190</td>\n    </tr>\n    <tr>\n      <th>13</th>\n      <td>2018</td>\n      <td>Sudeste</td>\n      <td>0.690</td>\n      <td>0.000</td>\n      <td>0.000</td>\n      <td>0.109</td>\n      <td>0.004</td>\n      <td>0.202</td>\n    </tr>\n    <tr>\n      <th>14</th>\n      <td>2018</td>\n      <td>Sul</td>\n      <td>0.508</td>\n      <td>0.000</td>\n      <td>0.000</td>\n      <td>0.406</td>\n      <td>0.002</td>\n      <td>0.122</td>\n    </tr>\n    <tr>\n      <th>15</th>\n      <td>2019</td>\n      <td>Centro-Oeste</td>\n      <td>0.495</td>\n      <td>0.248</td>\n      <td>0.163</td>\n      <td>0.411</td>\n      <td>0.019</td>\n      <td>0.091</td>\n    </tr>\n    <tr>\n      <th>16</th>\n      <td>2019</td>\n      <td>Nordeste</td>\n      <td>0.286</td>\n      <td>0.223</td>\n      <td>0.192</td>\n      <td>0.414</td>\n      <td>0.049</td>\n      <td>0.261</td>\n    </tr>\n    <tr>\n      <th>17</th>\n      <td>2019</td>\n      <td>Norte</td>\n      <td>0.112</td>\n      <td>0.266</td>\n      <td>0.274</td>\n      <td>0.540</td>\n      <td>0.183</td>\n      <td>0.172</td>\n    </tr>\n    <tr>\n      <th>18</th>\n      <td>2019</td>\n      <td>Sudeste</td>\n      <td>0.710</td>\n      <td>0.063</td>\n      <td>0.027</td>\n      <td>0.090</td>\n      <td>0.006</td>\n      <td>0.196</td>\n    </tr>\n    <tr>\n      <th>19</th>\n      <td>2019</td>\n      <td>Sul</td>\n      <td>0.560</td>\n      <td>0.219</td>\n      <td>0.133</td>\n      <td>0.352</td>\n      <td>0.003</td>\n      <td>0.114</td>\n    </tr>\n    <tr>\n      <th>20</th>\n      <td>2020</td>\n      <td>Centro-Oeste</td>\n      <td>0.495</td>\n      <td>0.244</td>\n      <td>0.167</td>\n      <td>0.412</td>\n      <td>0.015</td>\n      <td>0.095</td>\n    </tr>\n    <tr>\n      <th>21</th>\n      <td>2020</td>\n      <td>Nordeste</td>\n      <td>0.289</td>\n      <td>0.234</td>\n      <td>0.200</td>\n      <td>0.434</td>\n      <td>0.044</td>\n      <td>0.245</td>\n    </tr>\n    <tr>\n      <th>22</th>\n      <td>2020</td>\n      <td>Norte</td>\n      <td>0.113</td>\n      <td>0.277</td>\n      <td>0.288</td>\n      <td>0.565</td>\n      <td>0.171</td>\n      <td>0.159</td>\n    </tr>\n    <tr>\n      <th>23</th>\n      <td>2020</td>\n      <td>Sudeste</td>\n      <td>0.714</td>\n      <td>0.064</td>\n      <td>0.029</td>\n      <td>0.093</td>\n      <td>0.004</td>\n      <td>0.193</td>\n    </tr>\n    <tr>\n      <th>24</th>\n      <td>2020</td>\n      <td>Sul</td>\n      <td>0.574</td>\n      <td>0.229</td>\n      <td>0.122</td>\n      <td>0.351</td>\n      <td>0.002</td>\n      <td>0.107</td>\n    </tr>\n    <tr>\n      <th>25</th>\n      <td>2021</td>\n      <td>Centro-Oeste</td>\n      <td>0.491</td>\n      <td>0.242</td>\n      <td>0.170</td>\n      <td>0.412</td>\n      <td>0.011</td>\n      <td>0.106</td>\n    </tr>\n    <tr>\n      <th>26</th>\n      <td>2021</td>\n      <td>Nordeste</td>\n      <td>0.296</td>\n      <td>0.240</td>\n      <td>0.212</td>\n      <td>0.452</td>\n      <td>0.040</td>\n      <td>0.226</td>\n    </tr>\n    <tr>\n      <th>27</th>\n      <td>2021</td>\n      <td>Norte</td>\n      <td>0.113</td>\n      <td>0.280</td>\n      <td>0.305</td>\n      <td>0.585</td>\n      <td>0.160</td>\n      <td>0.151</td>\n    </tr>\n    <tr>\n      <th>28</th>\n      <td>2021</td>\n      <td>Sudeste</td>\n      <td>0.709</td>\n      <td>0.063</td>\n      <td>0.029</td>\n      <td>0.093</td>\n      <td>0.004</td>\n      <td>0.198</td>\n    </tr>\n    <tr>\n      <th>29</th>\n      <td>2021</td>\n      <td>Sul</td>\n      <td>0.576</td>\n      <td>0.232</td>\n      <td>0.120</td>\n      <td>0.352</td>\n      <td>0.002</td>\n      <td>0.107</td>\n    </tr>\n    <tr>\n      <th>30</th>\n      <td>2022</td>\n      <td>Centro-Oeste</td>\n      <td>0.619</td>\n      <td>0.378</td>\n      <td>0.301</td>\n      <td>0.536</td>\n      <td>0.152</td>\n      <td>0.000</td>\n    </tr>\n    <tr>\n      <th>31</th>\n      <td>2022</td>\n      <td>Nordeste</td>\n      <td>0.535</td>\n      <td>0.490</td>\n      <td>0.457</td>\n      <td>0.698</td>\n      <td>0.282</td>\n      <td>0.000</td>\n    </tr>\n    <tr>\n      <th>32</th>\n      <td>2022</td>\n      <td>Norte</td>\n      <td>0.263</td>\n      <td>0.423</td>\n      <td>0.477</td>\n      <td>0.750</td>\n      <td>0.299</td>\n      <td>0.000</td>\n    </tr>\n    <tr>\n      <th>33</th>\n      <td>2022</td>\n      <td>Sudeste</td>\n      <td>0.910</td>\n      <td>0.265</td>\n      <td>0.234</td>\n      <td>0.295</td>\n      <td>0.208</td>\n      <td>0.000</td>\n    </tr>\n    <tr>\n      <th>34</th>\n      <td>2022</td>\n      <td>Sul</td>\n      <td>0.691</td>\n      <td>0.341</td>\n      <td>0.222</td>\n      <td>0.455</td>\n      <td>0.111</td>\n      <td>0.000</td>\n    </tr>\n  </tbody>\n</table>\n</div>"
     },
     "execution_count": 91,
     "metadata": {},
     "output_type": "execute_result"
    }
   ],
   "source": [
    "# esgoto\n",
    "df = con.execute(f\"\"\"\n",
    "                select\n",
    "                    NU_ANO_CENSO as 'Ano',\n",
    "                    NO_REGIAO as 'Região',\n",
    "                    round(cast(count(*) filter (where IN_ESGOTO_REDE_PUBLICA) as float) / count(*), 3) as 'Rede Pública',\n",
    "                    round(cast(count(*) filter (where IN_ESGOTO_FOSSA_SEPTICA) as float) / count(*), 3) as 'Fossa Séptica',\n",
    "                    round(cast(count(*) filter (where IN_ESGOTO_FOSSA_COMUM) as float) / count(*), 3) as 'Fossa rudimentar/comum',\n",
    "                    round(cast(count(*) filter (where IN_ESGOTO_FOSSA) as float) / count(*), 3) as 'Fossa',\n",
    "                    round(cast(count(*) filter (where IN_ESGOTO_INEXISTENTE) as float) / count(*), 3) as 'Não há esgotamento sanitário',\n",
    "                    round(\n",
    "                        cast(count(*) filter\n",
    "                            (where not (IN_ESGOTO_REDE_PUBLICA or IN_ESGOTO_FOSSA_SEPTICA or IN_ESGOTO_FOSSA_COMUM or IN_ESGOTO_FOSSA or IN_ESGOTO_INEXISTENTE ))\n",
    "                            as float)\n",
    "                        / count(*)\n",
    "                    , 3) as 'Sem informações'\n",
    "                from microdados\n",
    "                group by NU_ANO_CENSO, NO_REGIAO\n",
    "                order by 1, 2\n",
    "            \"\"\"\n",
    ").df()\n",
    "df\n"
   ],
   "metadata": {
    "collapsed": false
   }
  },
  {
   "cell_type": "code",
   "execution_count": 94,
   "outputs": [
    {
     "data": {
      "text/plain": "     Ano        Região  Servico de coleta  Queima  Enterra  \\\n0   2016  Centro-Oeste              0.798   0.082    0.024   \n1   2016      Nordeste              0.454   0.260    0.009   \n2   2016         Norte              0.358   0.444    0.049   \n3   2016       Sudeste              0.750   0.048    0.002   \n4   2016           Sul              0.842   0.049    0.038   \n5   2017  Centro-Oeste              0.800   0.079    0.023   \n6   2017      Nordeste              0.460   0.242    0.009   \n7   2017         Norte              0.363   0.429    0.047   \n8   2017       Sudeste              0.760   0.045    0.002   \n9   2017           Sul              0.844   0.044    0.035   \n10  2018  Centro-Oeste              0.796   0.073    0.021   \n11  2018      Nordeste              0.467   0.222    0.008   \n12  2018         Norte              0.371   0.417    0.047   \n13  2018       Sudeste              0.762   0.039    0.002   \n14  2018           Sul              0.846   0.041    0.030   \n15  2019  Centro-Oeste              0.836   0.067    0.027   \n16  2019      Nordeste              0.511   0.230    0.012   \n17  2019         Norte              0.388   0.427    0.065   \n18  2019       Sudeste              0.770   0.035    0.003   \n19  2019           Sul              0.861   0.035    0.029   \n20  2020  Centro-Oeste              0.839   0.057    0.025   \n21  2020      Nordeste              0.528   0.227    0.013   \n22  2020         Norte              0.398   0.430    0.070   \n23  2020       Sudeste              0.773   0.034    0.003   \n24  2020           Sul              0.869   0.031    0.028   \n25  2021  Centro-Oeste              0.829   0.056    0.025   \n26  2021      Nordeste              0.551   0.223    0.013   \n27  2021         Norte              0.408   0.422    0.076   \n28  2021       Sudeste              0.504   0.032    0.003   \n29  2021           Sul              0.869   0.028    0.026   \n30  2022  Centro-Oeste              0.934   0.202    0.168   \n31  2022      Nordeste              0.793   0.454    0.262   \n32  2022         Norte              0.563   0.565    0.229   \n33  2022       Sudeste              0.965   0.235    0.208   \n34  2022           Sul              0.977   0.136    0.132   \n\n    Leva a uma destinação final financiada pelo poder público  \\\n0                                               0.000           \n1                                               0.000           \n2                                               0.000           \n3                                               0.000           \n4                                               0.000           \n5                                               0.000           \n6                                               0.000           \n7                                               0.000           \n8                                               0.000           \n9                                               0.000           \n10                                              0.000           \n11                                              0.000           \n12                                              0.000           \n13                                              0.000           \n14                                              0.000           \n15                                              0.013           \n16                                              0.015           \n17                                              0.006           \n18                                              0.008           \n19                                              0.014           \n20                                              0.008           \n21                                              0.018           \n22                                              0.007           \n23                                              0.011           \n24                                              0.016           \n25                                              0.009           \n26                                              0.020           \n27                                              0.007           \n28                                              0.291           \n29                                              0.019           \n30                                              0.156           \n31                                              0.270           \n32                                              0.158           \n33                                              0.226           \n34                                              0.128           \n\n    Destinação do lixo - Descarta em outra área  Sem informações  \n0                                         0.000            0.129  \n1                                         0.000            0.297  \n2                                         0.000            0.222  \n3                                         0.000            0.209  \n4                                         0.000            0.126  \n5                                         0.000            0.130  \n6                                         0.000            0.308  \n7                                         0.000            0.228  \n8                                         0.000            0.202  \n9                                         0.000            0.128  \n10                                        0.000            0.139  \n11                                        0.000            0.320  \n12                                        0.000            0.234  \n13                                        0.000            0.205  \n14                                        0.000            0.128  \n15                                        0.010            0.091  \n16                                        0.014            0.261  \n17                                        0.111            0.172  \n18                                        0.003            0.196  \n19                                        0.003            0.114  \n20                                        0.009            0.095  \n21                                        0.018            0.245  \n22                                        0.126            0.159  \n23                                        0.008            0.193  \n24                                        0.004            0.107  \n25                                        0.009            0.106  \n26                                        0.019            0.226  \n27                                        0.130            0.151  \n28                                        0.004            0.198  \n29                                        0.004            0.107  \n30                                        0.153            0.000  \n31                                        0.268            0.000  \n32                                        0.302            0.000  \n33                                        0.209            0.000  \n34                                        0.112            0.000  ",
      "text/html": "<div>\n<style scoped>\n    .dataframe tbody tr th:only-of-type {\n        vertical-align: middle;\n    }\n\n    .dataframe tbody tr th {\n        vertical-align: top;\n    }\n\n    .dataframe thead th {\n        text-align: right;\n    }\n</style>\n<table border=\"1\" class=\"dataframe\">\n  <thead>\n    <tr style=\"text-align: right;\">\n      <th></th>\n      <th>Ano</th>\n      <th>Região</th>\n      <th>Servico de coleta</th>\n      <th>Queima</th>\n      <th>Enterra</th>\n      <th>Leva a uma destinação final financiada pelo poder público</th>\n      <th>Destinação do lixo - Descarta em outra área</th>\n      <th>Sem informações</th>\n    </tr>\n  </thead>\n  <tbody>\n    <tr>\n      <th>0</th>\n      <td>2016</td>\n      <td>Centro-Oeste</td>\n      <td>0.798</td>\n      <td>0.082</td>\n      <td>0.024</td>\n      <td>0.000</td>\n      <td>0.000</td>\n      <td>0.129</td>\n    </tr>\n    <tr>\n      <th>1</th>\n      <td>2016</td>\n      <td>Nordeste</td>\n      <td>0.454</td>\n      <td>0.260</td>\n      <td>0.009</td>\n      <td>0.000</td>\n      <td>0.000</td>\n      <td>0.297</td>\n    </tr>\n    <tr>\n      <th>2</th>\n      <td>2016</td>\n      <td>Norte</td>\n      <td>0.358</td>\n      <td>0.444</td>\n      <td>0.049</td>\n      <td>0.000</td>\n      <td>0.000</td>\n      <td>0.222</td>\n    </tr>\n    <tr>\n      <th>3</th>\n      <td>2016</td>\n      <td>Sudeste</td>\n      <td>0.750</td>\n      <td>0.048</td>\n      <td>0.002</td>\n      <td>0.000</td>\n      <td>0.000</td>\n      <td>0.209</td>\n    </tr>\n    <tr>\n      <th>4</th>\n      <td>2016</td>\n      <td>Sul</td>\n      <td>0.842</td>\n      <td>0.049</td>\n      <td>0.038</td>\n      <td>0.000</td>\n      <td>0.000</td>\n      <td>0.126</td>\n    </tr>\n    <tr>\n      <th>5</th>\n      <td>2017</td>\n      <td>Centro-Oeste</td>\n      <td>0.800</td>\n      <td>0.079</td>\n      <td>0.023</td>\n      <td>0.000</td>\n      <td>0.000</td>\n      <td>0.130</td>\n    </tr>\n    <tr>\n      <th>6</th>\n      <td>2017</td>\n      <td>Nordeste</td>\n      <td>0.460</td>\n      <td>0.242</td>\n      <td>0.009</td>\n      <td>0.000</td>\n      <td>0.000</td>\n      <td>0.308</td>\n    </tr>\n    <tr>\n      <th>7</th>\n      <td>2017</td>\n      <td>Norte</td>\n      <td>0.363</td>\n      <td>0.429</td>\n      <td>0.047</td>\n      <td>0.000</td>\n      <td>0.000</td>\n      <td>0.228</td>\n    </tr>\n    <tr>\n      <th>8</th>\n      <td>2017</td>\n      <td>Sudeste</td>\n      <td>0.760</td>\n      <td>0.045</td>\n      <td>0.002</td>\n      <td>0.000</td>\n      <td>0.000</td>\n      <td>0.202</td>\n    </tr>\n    <tr>\n      <th>9</th>\n      <td>2017</td>\n      <td>Sul</td>\n      <td>0.844</td>\n      <td>0.044</td>\n      <td>0.035</td>\n      <td>0.000</td>\n      <td>0.000</td>\n      <td>0.128</td>\n    </tr>\n    <tr>\n      <th>10</th>\n      <td>2018</td>\n      <td>Centro-Oeste</td>\n      <td>0.796</td>\n      <td>0.073</td>\n      <td>0.021</td>\n      <td>0.000</td>\n      <td>0.000</td>\n      <td>0.139</td>\n    </tr>\n    <tr>\n      <th>11</th>\n      <td>2018</td>\n      <td>Nordeste</td>\n      <td>0.467</td>\n      <td>0.222</td>\n      <td>0.008</td>\n      <td>0.000</td>\n      <td>0.000</td>\n      <td>0.320</td>\n    </tr>\n    <tr>\n      <th>12</th>\n      <td>2018</td>\n      <td>Norte</td>\n      <td>0.371</td>\n      <td>0.417</td>\n      <td>0.047</td>\n      <td>0.000</td>\n      <td>0.000</td>\n      <td>0.234</td>\n    </tr>\n    <tr>\n      <th>13</th>\n      <td>2018</td>\n      <td>Sudeste</td>\n      <td>0.762</td>\n      <td>0.039</td>\n      <td>0.002</td>\n      <td>0.000</td>\n      <td>0.000</td>\n      <td>0.205</td>\n    </tr>\n    <tr>\n      <th>14</th>\n      <td>2018</td>\n      <td>Sul</td>\n      <td>0.846</td>\n      <td>0.041</td>\n      <td>0.030</td>\n      <td>0.000</td>\n      <td>0.000</td>\n      <td>0.128</td>\n    </tr>\n    <tr>\n      <th>15</th>\n      <td>2019</td>\n      <td>Centro-Oeste</td>\n      <td>0.836</td>\n      <td>0.067</td>\n      <td>0.027</td>\n      <td>0.013</td>\n      <td>0.010</td>\n      <td>0.091</td>\n    </tr>\n    <tr>\n      <th>16</th>\n      <td>2019</td>\n      <td>Nordeste</td>\n      <td>0.511</td>\n      <td>0.230</td>\n      <td>0.012</td>\n      <td>0.015</td>\n      <td>0.014</td>\n      <td>0.261</td>\n    </tr>\n    <tr>\n      <th>17</th>\n      <td>2019</td>\n      <td>Norte</td>\n      <td>0.388</td>\n      <td>0.427</td>\n      <td>0.065</td>\n      <td>0.006</td>\n      <td>0.111</td>\n      <td>0.172</td>\n    </tr>\n    <tr>\n      <th>18</th>\n      <td>2019</td>\n      <td>Sudeste</td>\n      <td>0.770</td>\n      <td>0.035</td>\n      <td>0.003</td>\n      <td>0.008</td>\n      <td>0.003</td>\n      <td>0.196</td>\n    </tr>\n    <tr>\n      <th>19</th>\n      <td>2019</td>\n      <td>Sul</td>\n      <td>0.861</td>\n      <td>0.035</td>\n      <td>0.029</td>\n      <td>0.014</td>\n      <td>0.003</td>\n      <td>0.114</td>\n    </tr>\n    <tr>\n      <th>20</th>\n      <td>2020</td>\n      <td>Centro-Oeste</td>\n      <td>0.839</td>\n      <td>0.057</td>\n      <td>0.025</td>\n      <td>0.008</td>\n      <td>0.009</td>\n      <td>0.095</td>\n    </tr>\n    <tr>\n      <th>21</th>\n      <td>2020</td>\n      <td>Nordeste</td>\n      <td>0.528</td>\n      <td>0.227</td>\n      <td>0.013</td>\n      <td>0.018</td>\n      <td>0.018</td>\n      <td>0.245</td>\n    </tr>\n    <tr>\n      <th>22</th>\n      <td>2020</td>\n      <td>Norte</td>\n      <td>0.398</td>\n      <td>0.430</td>\n      <td>0.070</td>\n      <td>0.007</td>\n      <td>0.126</td>\n      <td>0.159</td>\n    </tr>\n    <tr>\n      <th>23</th>\n      <td>2020</td>\n      <td>Sudeste</td>\n      <td>0.773</td>\n      <td>0.034</td>\n      <td>0.003</td>\n      <td>0.011</td>\n      <td>0.008</td>\n      <td>0.193</td>\n    </tr>\n    <tr>\n      <th>24</th>\n      <td>2020</td>\n      <td>Sul</td>\n      <td>0.869</td>\n      <td>0.031</td>\n      <td>0.028</td>\n      <td>0.016</td>\n      <td>0.004</td>\n      <td>0.107</td>\n    </tr>\n    <tr>\n      <th>25</th>\n      <td>2021</td>\n      <td>Centro-Oeste</td>\n      <td>0.829</td>\n      <td>0.056</td>\n      <td>0.025</td>\n      <td>0.009</td>\n      <td>0.009</td>\n      <td>0.106</td>\n    </tr>\n    <tr>\n      <th>26</th>\n      <td>2021</td>\n      <td>Nordeste</td>\n      <td>0.551</td>\n      <td>0.223</td>\n      <td>0.013</td>\n      <td>0.020</td>\n      <td>0.019</td>\n      <td>0.226</td>\n    </tr>\n    <tr>\n      <th>27</th>\n      <td>2021</td>\n      <td>Norte</td>\n      <td>0.408</td>\n      <td>0.422</td>\n      <td>0.076</td>\n      <td>0.007</td>\n      <td>0.130</td>\n      <td>0.151</td>\n    </tr>\n    <tr>\n      <th>28</th>\n      <td>2021</td>\n      <td>Sudeste</td>\n      <td>0.504</td>\n      <td>0.032</td>\n      <td>0.003</td>\n      <td>0.291</td>\n      <td>0.004</td>\n      <td>0.198</td>\n    </tr>\n    <tr>\n      <th>29</th>\n      <td>2021</td>\n      <td>Sul</td>\n      <td>0.869</td>\n      <td>0.028</td>\n      <td>0.026</td>\n      <td>0.019</td>\n      <td>0.004</td>\n      <td>0.107</td>\n    </tr>\n    <tr>\n      <th>30</th>\n      <td>2022</td>\n      <td>Centro-Oeste</td>\n      <td>0.934</td>\n      <td>0.202</td>\n      <td>0.168</td>\n      <td>0.156</td>\n      <td>0.153</td>\n      <td>0.000</td>\n    </tr>\n    <tr>\n      <th>31</th>\n      <td>2022</td>\n      <td>Nordeste</td>\n      <td>0.793</td>\n      <td>0.454</td>\n      <td>0.262</td>\n      <td>0.270</td>\n      <td>0.268</td>\n      <td>0.000</td>\n    </tr>\n    <tr>\n      <th>32</th>\n      <td>2022</td>\n      <td>Norte</td>\n      <td>0.563</td>\n      <td>0.565</td>\n      <td>0.229</td>\n      <td>0.158</td>\n      <td>0.302</td>\n      <td>0.000</td>\n    </tr>\n    <tr>\n      <th>33</th>\n      <td>2022</td>\n      <td>Sudeste</td>\n      <td>0.965</td>\n      <td>0.235</td>\n      <td>0.208</td>\n      <td>0.226</td>\n      <td>0.209</td>\n      <td>0.000</td>\n    </tr>\n    <tr>\n      <th>34</th>\n      <td>2022</td>\n      <td>Sul</td>\n      <td>0.977</td>\n      <td>0.136</td>\n      <td>0.132</td>\n      <td>0.128</td>\n      <td>0.112</td>\n      <td>0.000</td>\n    </tr>\n  </tbody>\n</table>\n</div>"
     },
     "execution_count": 94,
     "metadata": {},
     "output_type": "execute_result"
    }
   ],
   "source": [
    "# esgoto\n",
    "df = con.execute(f\"\"\"\n",
    "                select\n",
    "                    NU_ANO_CENSO as 'Ano',\n",
    "                    NO_REGIAO as 'Região',\n",
    "                    round(cast(count(*) filter (where IN_LIXO_SERVICO_COLETA) as float) / count(*), 3) as 'Servico de coleta',\n",
    "                    round(cast(count(*) filter (where IN_LIXO_QUEIMA) as float) / count(*), 3) as 'Queima',\n",
    "                    round(cast(count(*) filter (where IN_LIXO_ENTERRA) as float) / count(*), 3) as 'Enterra',\n",
    "                    round(\n",
    "                            cast(count(*) filter (where IN_LIXO_DESTINO_FINAL_PUBLICO) as float)\n",
    "                            / count(*),\n",
    "                        3)\n",
    "                        as 'Leva a uma destinação final financiada pelo poder público',\n",
    "                    round(\n",
    "                            cast(count(*) filter (where IN_LIXO_DESCARTA_OUTRA_AREA) as float)\n",
    "                            / count(*),\n",
    "                        3)\n",
    "                        as 'Destinação do lixo - Descarta em outra área',\n",
    "                    round(\n",
    "                        cast(count(*) filter\n",
    "                            (where not (IN_LIXO_SERVICO_COLETA or IN_LIXO_QUEIMA or IN_LIXO_ENTERRA or IN_LIXO_DESTINO_FINAL_PUBLICO or IN_LIXO_DESCARTA_OUTRA_AREA ))\n",
    "                            as float)\n",
    "                        / count(*)\n",
    "                    , 3) as 'Sem informações'\n",
    "                from microdados\n",
    "                group by NU_ANO_CENSO, NO_REGIAO\n",
    "                order by 1, 2\n",
    "            \"\"\"\n",
    ").df()\n",
    "df"
   ],
   "metadata": {
    "collapsed": false
   }
  },
  {
   "cell_type": "code",
   "execution_count": 95,
   "outputs": [
    {
     "data": {
      "text/plain": "array([1.032999973744154, 1.0199999772012234, 1.0730000175535679,\n       1.0090000068303198, 1.0550000071525574, 1.0320000108331442,\n       1.0190000049769878, 1.0669999942183495, 1.0089999993797392,\n       1.0509999878704548, 1.0290000010281801, 1.0170000037178397,\n       1.068999983370304, 1.0080000234302133, 1.045000022277236,\n       1.0440000258386135, 1.0429999893531203, 1.1690000025555491,\n       1.0149999763816595, 1.0560000012628734, 1.0329999858513474,\n       1.0489999987185001, 1.1900000059977174, 1.0220000077970326,\n       1.0550000197254121, 1.0339999962598085, 1.0519999992102385,\n       1.1939999694004655, 1.0320000173524022, 1.0530000193975866,\n       1.6130000203847885, 2.046999990940094, 1.8170000165700912,\n       1.84299997985363, 1.4850000143051147], dtype=object)"
     },
     "execution_count": 95,
     "metadata": {},
     "output_type": "execute_result"
    }
   ],
   "source": [
    "df.values[:, 2:].sum(axis=1)"
   ],
   "metadata": {
    "collapsed": false
   }
  },
  {
   "cell_type": "code",
   "execution_count": 97,
   "outputs": [
    {
     "data": {
      "text/plain": "     Ano        Região  Acesso a internet\n0   2016  Centro-Oeste              0.795\n1   2016      Nordeste              0.380\n2   2016         Norte              0.307\n3   2016       Sudeste              0.687\n4   2016           Sul              0.802\n5   2017  Centro-Oeste              0.793\n6   2017      Nordeste              0.390\n7   2017         Norte              0.308\n8   2017       Sudeste              0.637\n9   2017           Sul              0.809\n10  2018  Centro-Oeste              0.799\n11  2018      Nordeste              0.403\n12  2018         Norte              0.316\n13  2018       Sudeste              0.720\n14  2018           Sul              0.816\n15  2019  Centro-Oeste              0.867\n16  2019      Nordeste              0.484\n17  2019         Norte              0.359\n18  2019       Sudeste              0.686\n19  2019           Sul              0.851\n20  2020  Centro-Oeste              0.874\n21  2020      Nordeste              0.512\n22  2020         Norte              0.401\n23  2020       Sudeste              0.754\n24  2020           Sul              0.865\n25  2021  Centro-Oeste              0.872\n26  2021      Nordeste              0.576\n27  2021         Norte              0.422\n28  2021       Sudeste              0.759\n29  2021           Sul              0.871\n30  2022  Centro-Oeste              0.983\n31  2022      Nordeste              0.878\n32  2022         Norte              0.626\n33  2022       Sudeste              0.969\n34  2022           Sul              0.984",
      "text/html": "<div>\n<style scoped>\n    .dataframe tbody tr th:only-of-type {\n        vertical-align: middle;\n    }\n\n    .dataframe tbody tr th {\n        vertical-align: top;\n    }\n\n    .dataframe thead th {\n        text-align: right;\n    }\n</style>\n<table border=\"1\" class=\"dataframe\">\n  <thead>\n    <tr style=\"text-align: right;\">\n      <th></th>\n      <th>Ano</th>\n      <th>Região</th>\n      <th>Acesso a internet</th>\n    </tr>\n  </thead>\n  <tbody>\n    <tr>\n      <th>0</th>\n      <td>2016</td>\n      <td>Centro-Oeste</td>\n      <td>0.795</td>\n    </tr>\n    <tr>\n      <th>1</th>\n      <td>2016</td>\n      <td>Nordeste</td>\n      <td>0.380</td>\n    </tr>\n    <tr>\n      <th>2</th>\n      <td>2016</td>\n      <td>Norte</td>\n      <td>0.307</td>\n    </tr>\n    <tr>\n      <th>3</th>\n      <td>2016</td>\n      <td>Sudeste</td>\n      <td>0.687</td>\n    </tr>\n    <tr>\n      <th>4</th>\n      <td>2016</td>\n      <td>Sul</td>\n      <td>0.802</td>\n    </tr>\n    <tr>\n      <th>5</th>\n      <td>2017</td>\n      <td>Centro-Oeste</td>\n      <td>0.793</td>\n    </tr>\n    <tr>\n      <th>6</th>\n      <td>2017</td>\n      <td>Nordeste</td>\n      <td>0.390</td>\n    </tr>\n    <tr>\n      <th>7</th>\n      <td>2017</td>\n      <td>Norte</td>\n      <td>0.308</td>\n    </tr>\n    <tr>\n      <th>8</th>\n      <td>2017</td>\n      <td>Sudeste</td>\n      <td>0.637</td>\n    </tr>\n    <tr>\n      <th>9</th>\n      <td>2017</td>\n      <td>Sul</td>\n      <td>0.809</td>\n    </tr>\n    <tr>\n      <th>10</th>\n      <td>2018</td>\n      <td>Centro-Oeste</td>\n      <td>0.799</td>\n    </tr>\n    <tr>\n      <th>11</th>\n      <td>2018</td>\n      <td>Nordeste</td>\n      <td>0.403</td>\n    </tr>\n    <tr>\n      <th>12</th>\n      <td>2018</td>\n      <td>Norte</td>\n      <td>0.316</td>\n    </tr>\n    <tr>\n      <th>13</th>\n      <td>2018</td>\n      <td>Sudeste</td>\n      <td>0.720</td>\n    </tr>\n    <tr>\n      <th>14</th>\n      <td>2018</td>\n      <td>Sul</td>\n      <td>0.816</td>\n    </tr>\n    <tr>\n      <th>15</th>\n      <td>2019</td>\n      <td>Centro-Oeste</td>\n      <td>0.867</td>\n    </tr>\n    <tr>\n      <th>16</th>\n      <td>2019</td>\n      <td>Nordeste</td>\n      <td>0.484</td>\n    </tr>\n    <tr>\n      <th>17</th>\n      <td>2019</td>\n      <td>Norte</td>\n      <td>0.359</td>\n    </tr>\n    <tr>\n      <th>18</th>\n      <td>2019</td>\n      <td>Sudeste</td>\n      <td>0.686</td>\n    </tr>\n    <tr>\n      <th>19</th>\n      <td>2019</td>\n      <td>Sul</td>\n      <td>0.851</td>\n    </tr>\n    <tr>\n      <th>20</th>\n      <td>2020</td>\n      <td>Centro-Oeste</td>\n      <td>0.874</td>\n    </tr>\n    <tr>\n      <th>21</th>\n      <td>2020</td>\n      <td>Nordeste</td>\n      <td>0.512</td>\n    </tr>\n    <tr>\n      <th>22</th>\n      <td>2020</td>\n      <td>Norte</td>\n      <td>0.401</td>\n    </tr>\n    <tr>\n      <th>23</th>\n      <td>2020</td>\n      <td>Sudeste</td>\n      <td>0.754</td>\n    </tr>\n    <tr>\n      <th>24</th>\n      <td>2020</td>\n      <td>Sul</td>\n      <td>0.865</td>\n    </tr>\n    <tr>\n      <th>25</th>\n      <td>2021</td>\n      <td>Centro-Oeste</td>\n      <td>0.872</td>\n    </tr>\n    <tr>\n      <th>26</th>\n      <td>2021</td>\n      <td>Nordeste</td>\n      <td>0.576</td>\n    </tr>\n    <tr>\n      <th>27</th>\n      <td>2021</td>\n      <td>Norte</td>\n      <td>0.422</td>\n    </tr>\n    <tr>\n      <th>28</th>\n      <td>2021</td>\n      <td>Sudeste</td>\n      <td>0.759</td>\n    </tr>\n    <tr>\n      <th>29</th>\n      <td>2021</td>\n      <td>Sul</td>\n      <td>0.871</td>\n    </tr>\n    <tr>\n      <th>30</th>\n      <td>2022</td>\n      <td>Centro-Oeste</td>\n      <td>0.983</td>\n    </tr>\n    <tr>\n      <th>31</th>\n      <td>2022</td>\n      <td>Nordeste</td>\n      <td>0.878</td>\n    </tr>\n    <tr>\n      <th>32</th>\n      <td>2022</td>\n      <td>Norte</td>\n      <td>0.626</td>\n    </tr>\n    <tr>\n      <th>33</th>\n      <td>2022</td>\n      <td>Sudeste</td>\n      <td>0.969</td>\n    </tr>\n    <tr>\n      <th>34</th>\n      <td>2022</td>\n      <td>Sul</td>\n      <td>0.984</td>\n    </tr>\n  </tbody>\n</table>\n</div>"
     },
     "execution_count": 97,
     "metadata": {},
     "output_type": "execute_result"
    }
   ],
   "source": [
    "# internet\n",
    "# esgoto\n",
    "df = con.execute(f\"\"\"\n",
    "                select\n",
    "                    NU_ANO_CENSO as 'Ano',\n",
    "                    NO_REGIAO as 'Região',\n",
    "                    round(cast(count(*) filter (where IN_INTERNET) as float) / count(*), 3) as 'Acesso a internet',\n",
    "--                     round(cast(count(*) filter (where IN_INTERNET_ALUNOS) as float) / count(*), 3) as 'Para uso do alunos',\n",
    "--                     round(cast(count(*) filter (where IN_INTERNET_ADMINISTRATIVO) as float) / count(*), 3) as 'Para uso adiministrativo',\n",
    "--                     round(\n",
    "--                         cast(count(*) filter (where IN_INTERNET_APRENDIZAGEM) as float)\n",
    "--                         / count(*),\n",
    "--                         3)\n",
    "--                         as 'Para uso nos processos de ensino e aprendizagem',\n",
    "--                     round(cast(count(*) filter (where IN_INTERNET_COMUNIDADE) as float) / count(*), 3) as 'Para uso da comunidade'\n",
    "                from microdados\n",
    "                group by NU_ANO_CENSO, NO_REGIAO\n",
    "                order by 1, 2\n",
    "            \"\"\"\n",
    "                 ).df()\n",
    "df"
   ],
   "metadata": {
    "collapsed": false
   }
  },
  {
   "cell_type": "code",
   "execution_count": null,
   "outputs": [],
   "source": [],
   "metadata": {
    "collapsed": false
   }
  }
 ],
 "metadata": {
  "kernelspec": {
   "display_name": "Python 3",
   "language": "python",
   "name": "python3"
  },
  "language_info": {
   "codemirror_mode": {
    "name": "ipython",
    "version": 2
   },
   "file_extension": ".py",
   "mimetype": "text/x-python",
   "name": "python",
   "nbconvert_exporter": "python",
   "pygments_lexer": "ipython2",
   "version": "2.7.6"
  }
 },
 "nbformat": 4,
 "nbformat_minor": 0
}
