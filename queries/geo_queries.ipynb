{
 "cells": [
  {
   "cell_type": "code",
   "execution_count": 2,
   "metadata": {
    "execution": {
     "iopub.execute_input": "2023-03-25T16:58:54.109299Z",
     "iopub.status.busy": "2023-03-25T16:58:54.109136Z",
     "iopub.status.idle": "2023-03-25T16:58:54.124108Z",
     "shell.execute_reply": "2023-03-25T16:58:54.123628Z",
     "shell.execute_reply.started": "2023-03-25T16:58:54.109286Z"
    },
    "tags": []
   },
   "outputs": [
    {
     "data": {
      "text/plain": "<duckdb.DuckDBPyConnection at 0x7f211c2e6f70>"
     },
     "execution_count": 2,
     "metadata": {},
     "output_type": "execute_result"
    }
   ],
   "source": [
    "import pyarrow.dataset as ds\n",
    "import duckdb\n",
    "import plotly.express as px\n",
    "import json\n",
    "\n",
    "from plotly.graph_objs import Figure\n",
    "import numpy as np\n",
    "\n",
    "DIMENSIONS = {\n",
    "    \"Região geográfica\": \"CO_REGIAO\",\n",
    "    \"Sigla da Unidade da Federeção\": \"SG_UF\",\n",
    "    \"Unidade da Federação\": \"CO_UF\",\n",
    "    \"Mesorregião\": \"CO_MESORREGIAO\",\n",
    "    \"Microrregião\": \"CO_MICRORREGIAO\",\n",
    "    \"Município\": \"NO_MUNICIPIO\"\n",
    "}\n",
    "\n",
    "con = duckdb.connect('../file.db')\n",
    "\n",
    "microdados = ds.dataset(\"../data/transformed/microdados.parquet\", format=\"parquet\", partitioning=\"hive\")\n",
    "con.register(\"microdados\", microdados)\n",
    "\n",
    "# indicadores = {}\n",
    "# for indicador in INDICADORES:\n",
    "#     indicadores[indicador] = ds.dataset(f\"../data/transformed/indicadores/{indicador}.parquet\", format=\"parquet\", partitioning=\"hive\")\n",
    "#     con.register(indicador, indicadores[indicador])"
   ]
  },
  {
   "cell_type": "code",
   "execution_count": 38,
   "metadata": {
    "collapsed": false,
    "execution": {
     "iopub.execute_input": "2023-03-25T17:13:55.216009Z",
     "iopub.status.busy": "2023-03-25T17:13:55.215846Z",
     "iopub.status.idle": "2023-03-25T17:13:55.259673Z",
     "shell.execute_reply": "2023-03-25T17:13:55.259000Z",
     "shell.execute_reply.started": "2023-03-25T17:13:55.215996Z"
    },
    "jupyter": {
     "outputs_hidden": false
    },
    "tags": []
   },
   "outputs": [],
   "source": [
    "dimension = \"Município\"\n",
    "df = con.execute(f\"\"\"\n",
    "                select\n",
    "                    NU_ANO_CENSO as 'Ano',\n",
    "                    CO_MUNICIPIO as 'Código do Município',\n",
    "                    NO_MUNICIPIO as 'Nome do Município',\n",
    "                    round(cast(count(*) filter (where IN_AGUA_REDE_PUBLICA) as float) / count(*) * 100, 2) as 'Nível de acesso em %',\n",
    "                    --round(cast(count(*) filter (where IN_AGUA_POCO_ARTESIANO) as float) / count(*), 3) as 'Poço artesiano',\n",
    "                    --round(cast(count(*) filter (where IN_AGUA_CACIMBA) as float) / count(*), 3) as 'Cacimba/Cisterna/Poço',\n",
    "                    --round(cast(count(*) filter (where IN_AGUA_FONTE_RIO) as float) / count(*), 3) as 'Fonte/Rio/Igarapé/Riacho/Córrego',\n",
    "                    --round(cast(count(*) filter (where IN_AGUA_INEXISTENTE) as float) / count(*), 3) as 'Não há abastecimento de água',\n",
    "--                     round(\n",
    "--                         cast(count(*) filter\n",
    "--                             (where not (IN_AGUA_REDE_PUBLICA or IN_AGUA_POCO_ARTESIANO or IN_AGUA_CACIMBA or IN_AGUA_FONTE_RIO or IN_AGUA_INEXISTENTE ))\n",
    "--                             as float)\n",
    "--                         / count(*)\n",
    "--                     , 3) as 'Sem informações'\n",
    "                from microdados\n",
    "                group by 1, 2, 3\n",
    "                order by 1, 2, 3\n",
    "            \"\"\"\n",
    ").df()"
   ]
  },
  {
   "cell_type": "code",
   "execution_count": 39,
   "metadata": {
    "collapsed": false,
    "execution": {
     "iopub.execute_input": "2023-03-25T17:13:55.715312Z",
     "iopub.status.busy": "2023-03-25T17:13:55.715131Z",
     "iopub.status.idle": "2023-03-25T17:13:55.722135Z",
     "shell.execute_reply": "2023-03-25T17:13:55.721661Z",
     "shell.execute_reply.started": "2023-03-25T17:13:55.715297Z"
    },
    "jupyter": {
     "outputs_hidden": false
    },
    "tags": []
   },
   "outputs": [
    {
     "data": {
      "text/html": [
       "<div>\n",
       "<style scoped>\n",
       "    .dataframe tbody tr th:only-of-type {\n",
       "        vertical-align: middle;\n",
       "    }\n",
       "\n",
       "    .dataframe tbody tr th {\n",
       "        vertical-align: top;\n",
       "    }\n",
       "\n",
       "    .dataframe thead th {\n",
       "        text-align: right;\n",
       "    }\n",
       "</style>\n",
       "<table border=\"1\" class=\"dataframe\">\n",
       "  <thead>\n",
       "    <tr style=\"text-align: right;\">\n",
       "      <th></th>\n",
       "      <th>Ano</th>\n",
       "      <th>Código do Município</th>\n",
       "      <th>Nome do Município</th>\n",
       "      <th>Nível de acesso em %</th>\n",
       "    </tr>\n",
       "  </thead>\n",
       "  <tbody>\n",
       "    <tr>\n",
       "      <th>0</th>\n",
       "      <td>2016</td>\n",
       "      <td>1100015</td>\n",
       "      <td>Alta Floresta D'Oeste</td>\n",
       "      <td>13.110000</td>\n",
       "    </tr>\n",
       "    <tr>\n",
       "      <th>1</th>\n",
       "      <td>2016</td>\n",
       "      <td>1100023</td>\n",
       "      <td>Ariquemes</td>\n",
       "      <td>40.000000</td>\n",
       "    </tr>\n",
       "    <tr>\n",
       "      <th>2</th>\n",
       "      <td>2016</td>\n",
       "      <td>1100031</td>\n",
       "      <td>Cabixi</td>\n",
       "      <td>44.439999</td>\n",
       "    </tr>\n",
       "    <tr>\n",
       "      <th>3</th>\n",
       "      <td>2016</td>\n",
       "      <td>1100049</td>\n",
       "      <td>Cacoal</td>\n",
       "      <td>56.060001</td>\n",
       "    </tr>\n",
       "    <tr>\n",
       "      <th>4</th>\n",
       "      <td>2016</td>\n",
       "      <td>1100056</td>\n",
       "      <td>Cerejeiras</td>\n",
       "      <td>55.560001</td>\n",
       "    </tr>\n",
       "    <tr>\n",
       "      <th>...</th>\n",
       "      <td>...</td>\n",
       "      <td>...</td>\n",
       "      <td>...</td>\n",
       "      <td>...</td>\n",
       "    </tr>\n",
       "    <tr>\n",
       "      <th>38985</th>\n",
       "      <td>2022</td>\n",
       "      <td>5222005</td>\n",
       "      <td>Vianópolis</td>\n",
       "      <td>92.860001</td>\n",
       "    </tr>\n",
       "    <tr>\n",
       "      <th>38986</th>\n",
       "      <td>2022</td>\n",
       "      <td>5222054</td>\n",
       "      <td>Vicentinópolis</td>\n",
       "      <td>100.000000</td>\n",
       "    </tr>\n",
       "    <tr>\n",
       "      <th>38987</th>\n",
       "      <td>2022</td>\n",
       "      <td>5222203</td>\n",
       "      <td>Vila Boa</td>\n",
       "      <td>71.430000</td>\n",
       "    </tr>\n",
       "    <tr>\n",
       "      <th>38988</th>\n",
       "      <td>2022</td>\n",
       "      <td>5222302</td>\n",
       "      <td>Vila Propício</td>\n",
       "      <td>71.430000</td>\n",
       "    </tr>\n",
       "    <tr>\n",
       "      <th>38989</th>\n",
       "      <td>2022</td>\n",
       "      <td>5300108</td>\n",
       "      <td>Brasília</td>\n",
       "      <td>96.709999</td>\n",
       "    </tr>\n",
       "  </tbody>\n",
       "</table>\n",
       "<p>38990 rows × 4 columns</p>\n",
       "</div>"
      ],
      "text/plain": [
       "        Ano  Código do Município      Nome do Município  Nível de acesso em %\n",
       "0      2016              1100015  Alta Floresta D'Oeste             13.110000\n",
       "1      2016              1100023              Ariquemes             40.000000\n",
       "2      2016              1100031                 Cabixi             44.439999\n",
       "3      2016              1100049                 Cacoal             56.060001\n",
       "4      2016              1100056             Cerejeiras             55.560001\n",
       "...     ...                  ...                    ...                   ...\n",
       "38985  2022              5222005             Vianópolis             92.860001\n",
       "38986  2022              5222054         Vicentinópolis            100.000000\n",
       "38987  2022              5222203               Vila Boa             71.430000\n",
       "38988  2022              5222302          Vila Propício             71.430000\n",
       "38989  2022              5300108               Brasília             96.709999\n",
       "\n",
       "[38990 rows x 4 columns]"
      ]
     },
     "execution_count": 39,
     "metadata": {},
     "output_type": "execute_result"
    }
   ],
   "source": [
    "df"
   ]
  },
  {
   "cell_type": "code",
   "execution_count": 52,
   "metadata": {
    "collapsed": false,
    "execution": {
     "iopub.execute_input": "2023-03-25T17:22:38.729622Z",
     "iopub.status.busy": "2023-03-25T17:22:38.729231Z",
     "iopub.status.idle": "2023-03-25T17:22:41.781120Z",
     "shell.execute_reply": "2023-03-25T17:22:41.780537Z",
     "shell.execute_reply.started": "2023-03-25T17:22:38.729590Z"
    },
    "jupyter": {
     "outputs_hidden": false
    },
    "tags": []
   },
   "outputs": [],
   "source": [
    "def transform_geojson(geojson: dict) -> dict:\n",
    "    features = geojson[\"features\"]\n",
    "    transformed_features = []\n",
    "    for feature in features:\n",
    "        properties = feature[\"properties\"]\n",
    "        properties[\"GEOCODIGO\"] = int(properties[\"GEOCODIGO\"])\n",
    "\n",
    "        transformed_features.append(\n",
    "            {\n",
    "                \"type\": feature[\"type\"],\n",
    "                \"geometry\": feature[\"geometry\"],\n",
    "                \"properties\": properties\n",
    "            }\n",
    "        )\n",
    "\n",
    "        geojson[\"features\"] = features\n",
    "    return geojson\n",
    "\n",
    "for geoname in [\"uf\", \"municipio\", \"microrregiao\", \"mesorregiao\"]:\n",
    "    with open(f\"../data/geo/{geoname}.json\", encoding=\"latin1\") as f:\n",
    "        geojson = json.load(f)\n",
    "\n",
    "    geojson = transform_geojson(geojson)\n",
    "    with open(f\"../data/geo/{geoname}.json\", \"w\") as file:\n",
    "        json.dump(geojson, file)\n",
    "\n",
    "\n",
    "\n"
   ]
  },
  {
   "cell_type": "code",
   "execution_count": 6,
   "outputs": [],
   "source": [
    "with open(f\"../data/geo/uf.json\", encoding=\"latin1\") as f:\n",
    "        geojson = json.load(f)"
   ],
   "metadata": {
    "collapsed": false
   }
  },
  {
   "cell_type": "code",
   "execution_count": 11,
   "outputs": [
    {
     "data": {
      "text/plain": "['Acre',\n 'Alagoas',\n 'Amazonas',\n 'Amapá',\n 'Bahia',\n 'Ceará',\n 'DF',\n 'Espírito Santo',\n 'Goiás',\n 'Maranhão',\n 'Minas Gerais',\n 'Mato Grosso do Sul',\n 'Mato Grosso',\n 'Pará',\n 'Paraíba',\n 'Pernambuco',\n 'Piauí',\n 'Paraná',\n 'Rio de Janeiro',\n 'Rio Grande do Norte',\n 'Rondônia',\n 'Roraima',\n 'Rio Grande do Sul',\n 'Santa Catarina',\n 'Sergipe',\n 'São Paulo',\n 'Tocantins']"
     },
     "execution_count": 11,
     "metadata": {},
     "output_type": "execute_result"
    }
   ],
   "source": [
    "[a[\"properties\"][\"NOME_UF\"] for a in geojson[\"features\"]]"
   ],
   "metadata": {
    "collapsed": false
   }
  },
  {
   "cell_type": "code",
   "execution_count": 45,
   "metadata": {
    "collapsed": false,
    "execution": {
     "iopub.execute_input": "2023-03-25T17:15:22.778168Z",
     "iopub.status.busy": "2023-03-25T17:15:22.777937Z",
     "iopub.status.idle": "2023-03-25T17:15:27.007285Z",
     "shell.execute_reply": "2023-03-25T17:15:27.006689Z",
     "shell.execute_reply.started": "2023-03-25T17:15:22.778146Z"
    },
    "jupyter": {
     "outputs_hidden": false
    },
    "tags": []
   },
   "outputs": [],
   "source": [
    "fig = px.choropleth_mapbox(\n",
    "    df,\n",
    "    geojson=geojson,\n",
    "    color=\"Nível de acesso em %\",\n",
    "    locations=df.columns[2],\n",
    "    range_color=(0, 100),\n",
    "    mapbox_style = \"white-bg\",\n",
    "    #featureidkey=\"properties.NOME\",\n",
    "    featureidkey=\"properties.GEOCODIGO\",\n",
    "    center = {\"lat\": -12, \"lon\": -53},\n",
    "    #animation_frame=\"Ano\",\n",
    "    hover_name=df.columns[1],\n",
    "    hover_data=df.columns,\n",
    "    zoom=4,\n",
    "    width=750,\n",
    "    height=750\n",
    ")"
   ]
  },
  {
   "cell_type": "code",
   "execution_count": 35,
   "metadata": {
    "collapsed": false,
    "execution": {
     "iopub.execute_input": "2023-03-25T17:09:16.024023Z",
     "iopub.status.busy": "2023-03-25T17:09:16.023817Z",
     "iopub.status.idle": "2023-03-25T17:09:16.026618Z",
     "shell.execute_reply": "2023-03-25T17:09:16.026124Z",
     "shell.execute_reply.started": "2023-03-25T17:09:16.024006Z"
    },
    "jupyter": {
     "outputs_hidden": false
    },
    "pycharm": {
     "is_executing": true
    },
    "tags": []
   },
   "outputs": [],
   "source": [
    "#fig.write_html(\"nome.html\")"
   ]
  },
  {
   "cell_type": "code",
   "execution_count": 46,
   "metadata": {
    "collapsed": false,
    "execution": {
     "iopub.execute_input": "2023-03-25T17:15:28.800749Z",
     "iopub.status.busy": "2023-03-25T17:15:28.800314Z",
     "iopub.status.idle": "2023-03-25T17:15:31.441728Z",
     "shell.execute_reply": "2023-03-25T17:15:31.441077Z",
     "shell.execute_reply.started": "2023-03-25T17:15:28.800710Z"
    },
    "jupyter": {
     "outputs_hidden": false
    },
    "tags": []
   },
   "outputs": [],
   "source": [
    "fig.write_html(\"codigo2.html\")"
   ]
  },
  {
   "cell_type": "code",
   "execution_count": null,
   "metadata": {},
   "outputs": [],
   "source": []
  }
 ],
 "metadata": {
  "kernelspec": {
   "display_name": "Python 3 (ipykernel)",
   "language": "python",
   "name": "python3"
  },
  "language_info": {
   "codemirror_mode": {
    "name": "ipython",
    "version": 3
   },
   "file_extension": ".py",
   "mimetype": "text/x-python",
   "name": "python",
   "nbconvert_exporter": "python",
   "pygments_lexer": "ipython3",
   "version": "3.10.6"
  }
 },
 "nbformat": 4,
 "nbformat_minor": 4
}
