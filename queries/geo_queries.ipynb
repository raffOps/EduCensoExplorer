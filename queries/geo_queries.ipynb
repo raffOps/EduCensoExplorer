{
 "cells": [
  {
   "cell_type": "code",
   "execution_count": 69,
   "metadata": {
    "collapsed": true
   },
   "outputs": [
    {
     "data": {
      "text/plain": "<duckdb.DuckDBPyConnection at 0x7f9cc90c86f0>"
     },
     "execution_count": 69,
     "metadata": {},
     "output_type": "execute_result"
    }
   ],
   "source": [
    "from collections import Counter\n",
    "import random\n",
    "\n",
    "import numpy as np\n",
    "import pyarrow.dataset as ds\n",
    "import duckdb\n",
    "import pandas as pd\n",
    "import numpy as np\n",
    "import seaborn as sns\n",
    "import plotly as pl\n",
    "import plotly.express as px\n",
    "import json\n",
    "\n",
    "from plotly.graph_objs import Figure\n",
    "\n",
    "DIMENSIONS = {\n",
    "    \"Região geográfica\": \"NO_REGIAO\",\n",
    "    \"Sigla da Unidade da Federeção\": \"SG_UF\",\n",
    "    \"Unidade da Federação\": \"NO_UF\",\n",
    "    \"Mesorregião\": \"NO_MESORREGIAO\",\n",
    "    \"Microrregião\": \"NO_MICRORREGIAO\",\n",
    "    \"Município\": \"NO_MUNICIPIO\"\n",
    "}\n",
    "\n",
    "con = duckdb.connect('../file.db')\n",
    "\n",
    "microdados = ds.dataset(\"../data/transformed/microdados.parquet\", format=\"parquet\", partitioning=\"hive\")\n",
    "con.register(\"microdados\", microdados)\n",
    "\n",
    "# indicadores = {}\n",
    "# for indicador in INDICADORES:\n",
    "#     indicadores[indicador] = ds.dataset(f\"../data/transformed/indicadores/{indicador}.parquet\", format=\"parquet\", partitioning=\"hive\")\n",
    "#     con.register(indicador, indicadores[indicador])"
   ]
  },
  {
   "cell_type": "code",
   "execution_count": 70,
   "outputs": [],
   "source": [
    "dimension = \"Município\"\n",
    "df = con.execute(f\"\"\"\n",
    "                select\n",
    "                    NU_ANO_CENSO as 'Ano',\n",
    "                    {DIMENSIONS[dimension]} as '{dimension}',\n",
    "                    round(cast(count(*) filter (where IN_AGUA_REDE_PUBLICA) as float) / count(*) * 100, 3) as 'Nível de acesso em %',\n",
    "                    --round(cast(count(*) filter (where IN_AGUA_POCO_ARTESIANO) as float) / count(*), 3) as 'Poço artesiano',\n",
    "                    --round(cast(count(*) filter (where IN_AGUA_CACIMBA) as float) / count(*), 3) as 'Cacimba/Cisterna/Poço',\n",
    "                    --round(cast(count(*) filter (where IN_AGUA_FONTE_RIO) as float) / count(*), 3) as 'Fonte/Rio/Igarapé/Riacho/Córrego',\n",
    "                    --round(cast(count(*) filter (where IN_AGUA_INEXISTENTE) as float) / count(*), 3) as 'Não há abastecimento de água',\n",
    "--                     round(\n",
    "--                         cast(count(*) filter\n",
    "--                             (where not (IN_AGUA_REDE_PUBLICA or IN_AGUA_POCO_ARTESIANO or IN_AGUA_CACIMBA or IN_AGUA_FONTE_RIO or IN_AGUA_INEXISTENTE ))\n",
    "--                             as float)\n",
    "--                         / count(*)\n",
    "--                     , 3) as 'Sem informações'\n",
    "                from microdados\n",
    "                group by NU_ANO_CENSO, {DIMENSIONS[dimension]}\n",
    "                order by 1, 2\n",
    "            \"\"\"\n",
    ").df()"
   ],
   "metadata": {
    "collapsed": false
   }
  },
  {
   "cell_type": "code",
   "execution_count": 71,
   "outputs": [
    {
     "data": {
      "text/plain": "    Ano            Município  Nível de acesso em %\n0  2016      Abadia de Goiás             88.889000\n1  2016  Abadia dos Dourados             55.556000\n2  2016            Abadiânia             47.826000\n3  2016           Abaetetuba              4.587000\n4  2016               Abaeté             72.726997",
      "text/html": "<div>\n<style scoped>\n    .dataframe tbody tr th:only-of-type {\n        vertical-align: middle;\n    }\n\n    .dataframe tbody tr th {\n        vertical-align: top;\n    }\n\n    .dataframe thead th {\n        text-align: right;\n    }\n</style>\n<table border=\"1\" class=\"dataframe\">\n  <thead>\n    <tr style=\"text-align: right;\">\n      <th></th>\n      <th>Ano</th>\n      <th>Município</th>\n      <th>Nível de acesso em %</th>\n    </tr>\n  </thead>\n  <tbody>\n    <tr>\n      <th>0</th>\n      <td>2016</td>\n      <td>Abadia de Goiás</td>\n      <td>88.889000</td>\n    </tr>\n    <tr>\n      <th>1</th>\n      <td>2016</td>\n      <td>Abadia dos Dourados</td>\n      <td>55.556000</td>\n    </tr>\n    <tr>\n      <th>2</th>\n      <td>2016</td>\n      <td>Abadiânia</td>\n      <td>47.826000</td>\n    </tr>\n    <tr>\n      <th>3</th>\n      <td>2016</td>\n      <td>Abaetetuba</td>\n      <td>4.587000</td>\n    </tr>\n    <tr>\n      <th>4</th>\n      <td>2016</td>\n      <td>Abaeté</td>\n      <td>72.726997</td>\n    </tr>\n  </tbody>\n</table>\n</div>"
     },
     "execution_count": 71,
     "metadata": {},
     "output_type": "execute_result"
    }
   ],
   "source": [
    "df.head()"
   ],
   "metadata": {
    "collapsed": false
   }
  },
  {
   "cell_type": "code",
   "execution_count": 67,
   "outputs": [],
   "source": [
    "with open(\"../data/geo/municipio.json\", encoding=\"latin1\") as f:\n",
    "    uf_json = json.load(f)"
   ],
   "metadata": {
    "collapsed": false
   }
  },
  {
   "cell_type": "code",
   "execution_count": 68,
   "outputs": [
    {
     "data": {
      "text/plain": "{'GEOCODIGO': 1200336.0,\n 'NOME': 'Mâncio Lima',\n 'UF': 'AC',\n 'ID_UF': 12.0,\n 'REGIAO': 'Norte',\n 'MESOREGIAO': 'VALE DO JURUA',\n 'MICROREGIA': 'CRUZEIRO DO SUL',\n 'LATITUDE': '-7.614',\n 'LONGITUDE': '-72.896'}"
     },
     "execution_count": 68,
     "metadata": {},
     "output_type": "execute_result"
    }
   ],
   "source": [
    "uf_json[\"features\"][0][\"properties\"]"
   ],
   "metadata": {
    "collapsed": false
   }
  },
  {
   "cell_type": "code",
   "execution_count": 72,
   "outputs": [],
   "source": [
    "fig = px.choropleth_mapbox(\n",
    "    df,\n",
    "    geojson=uf_json,\n",
    "    color=\"Nível de acesso em %\",\n",
    "    locations=dimension,\n",
    "    range_color=(0, 100),\n",
    "    mapbox_style = \"white-bg\",\n",
    "    featureidkey=\"properties.NOME\",\n",
    "    center = {\"lat\": -14, \"lon\": -55},\n",
    "    animation_frame=\"Ano\",\n",
    "    zoom=3,\n",
    "    width=750,\n",
    "    height=750\n",
    ")"
   ],
   "metadata": {
    "collapsed": false
   }
  },
  {
   "cell_type": "code",
   "execution_count": 37,
   "outputs": [],
   "source": [
    "fig.show()"
   ],
   "metadata": {
    "collapsed": false
   }
  },
  {
   "cell_type": "code",
   "execution_count": 73,
   "outputs": [],
   "source": [
    "fig.write_html(\"test.html\")"
   ],
   "metadata": {
    "collapsed": false
   }
  },
  {
   "cell_type": "code",
   "execution_count": 40,
   "outputs": [
    {
     "data": {
      "text/plain": "Ano                                 2016\nMesorregião             Agreste Alagoano\nNível de acesso em %              50.112\nName: 0, dtype: object"
     },
     "execution_count": 40,
     "metadata": {},
     "output_type": "execute_result"
    }
   ],
   "source": [
    "df.iloc[0]"
   ],
   "metadata": {
    "collapsed": false
   }
  },
  {
   "cell_type": "code",
   "execution_count": null,
   "outputs": [],
   "source": [],
   "metadata": {
    "collapsed": false
   }
  }
 ],
 "metadata": {
  "kernelspec": {
   "display_name": "Python 3",
   "language": "python",
   "name": "python3"
  },
  "language_info": {
   "codemirror_mode": {
    "name": "ipython",
    "version": 2
   },
   "file_extension": ".py",
   "mimetype": "text/x-python",
   "name": "python",
   "nbconvert_exporter": "python",
   "pygments_lexer": "ipython2",
   "version": "2.7.6"
  }
 },
 "nbformat": 4,
 "nbformat_minor": 0
}
